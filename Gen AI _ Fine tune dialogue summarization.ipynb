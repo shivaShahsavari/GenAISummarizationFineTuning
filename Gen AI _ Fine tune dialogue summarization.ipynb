{
 "cells": [
  {
   "cell_type": "markdown",
   "metadata": {
    "application/vnd.databricks.v1+cell": {
     "cellMetadata": {},
     "inputWidgets": {},
     "nuid": "b94c1520-afcb-4f26-ac8a-db14b969461c",
     "showTitle": false,
     "title": ""
    }
   },
   "source": [
    "### 1. Installing needed libraries"
   ]
  },
  {
   "cell_type": "code",
   "execution_count": 0,
   "metadata": {
    "application/vnd.databricks.v1+cell": {
     "cellMetadata": {
      "byteLimit": 2048000,
      "rowLimit": 10000
     },
     "collapsed": true,
     "inputWidgets": {},
     "nuid": "834eb2e1-9ba8-4f26-85dd-fed768d9e818",
     "showTitle": false,
     "title": ""
    }
   },
   "outputs": [
    {
     "output_type": "display_data",
     "data": {
      "text/html": [
       "<style scoped>\n",
       "  .ansiout {\n",
       "    display: block;\n",
       "    unicode-bidi: embed;\n",
       "    white-space: pre-wrap;\n",
       "    word-wrap: break-word;\n",
       "    word-break: break-all;\n",
       "    font-family: \"Menlo\", \"Monaco\", \"Consolas\", \"Ubuntu Mono\", \"Source Code Pro\", monospace;\n",
       "    font-size: 13px;\n",
       "    color: #555;\n",
       "    margin-left: 4px;\n",
       "    line-height: 19px;\n",
       "  }\n",
       "</style>\n",
       "<div class=\"ansiout\">pyreadr not found\n",
       "</div>"
      ]
     },
     "metadata": {
      "application/vnd.databricks.v1+output": {
       "addedWidgets": {},
       "arguments": {},
       "data": "<div class=\"ansiout\">pyreadr not found\n</div>",
       "datasetInfos": [],
       "metadata": {},
       "removedWidgets": [],
       "type": "html"
      }
     },
     "output_type": "display_data"
    },
    {
     "output_type": "display_data",
     "data": {
      "text/html": [
       "<style scoped>\n",
       "  .ansiout {\n",
       "    display: block;\n",
       "    unicode-bidi: embed;\n",
       "    white-space: pre-wrap;\n",
       "    word-wrap: break-word;\n",
       "    word-break: break-all;\n",
       "    font-family: \"Menlo\", \"Monaco\", \"Consolas\", \"Ubuntu Mono\", \"Source Code Pro\", monospace;\n",
       "    font-size: 13px;\n",
       "    color: #555;\n",
       "    margin-left: 4px;\n",
       "    line-height: 19px;\n",
       "  }\n",
       "</style>\n",
       "<div class=\"ansiout\">openpyxl not found\n",
       "Collecting openpyxl==3.0.10\n",
       "  Downloading openpyxl-3.0.10-py2.py3-none-any.whl (242 kB)\n",
       "Collecting et-xmlfile\n",
       "  Downloading et_xmlfile-1.1.0-py3-none-any.whl (4.7 kB)\n",
       "Installing collected packages: et-xmlfile, openpyxl\n",
       "Successfully installed et-xmlfile-1.1.0 openpyxl-3.0.10\n",
       "WARNING: You are using pip version 21.0.1; however, version 24.1.2 is available.\n",
       "You should consider upgrading via the &#39;/databricks/python3/bin/python -m pip install --upgrade pip&#39; command.\n",
       "</div>"
      ]
     },
     "metadata": {
      "application/vnd.databricks.v1+output": {
       "addedWidgets": {},
       "arguments": {},
       "data": "<div class=\"ansiout\">openpyxl not found\nCollecting openpyxl==3.0.10\n  Downloading openpyxl-3.0.10-py2.py3-none-any.whl (242 kB)\nCollecting et-xmlfile\n  Downloading et_xmlfile-1.1.0-py3-none-any.whl (4.7 kB)\nInstalling collected packages: et-xmlfile, openpyxl\nSuccessfully installed et-xmlfile-1.1.0 openpyxl-3.0.10\nWARNING: You are using pip version 21.0.1; however, version 24.1.2 is available.\nYou should consider upgrading via the &#39;/databricks/python3/bin/python -m pip install --upgrade pip&#39; command.\n</div>",
       "datasetInfos": [],
       "metadata": {},
       "removedWidgets": [],
       "type": "html"
      }
     },
     "output_type": "display_data"
    },
    {
     "output_type": "display_data",
     "data": {
      "text/html": [
       "<style scoped>\n",
       "  .ansiout {\n",
       "    display: block;\n",
       "    unicode-bidi: embed;\n",
       "    white-space: pre-wrap;\n",
       "    word-wrap: break-word;\n",
       "    word-break: break-all;\n",
       "    font-family: \"Menlo\", \"Monaco\", \"Consolas\", \"Ubuntu Mono\", \"Source Code Pro\", monospace;\n",
       "    font-size: 13px;\n",
       "    color: #555;\n",
       "    margin-left: 4px;\n",
       "    line-height: 19px;\n",
       "  }\n",
       "</style>\n",
       "<div class=\"ansiout\"></div>"
      ]
     },
     "metadata": {
      "application/vnd.databricks.v1+output": {
       "addedWidgets": {},
       "arguments": {},
       "data": "<div class=\"ansiout\"></div>",
       "datasetInfos": [],
       "metadata": {},
       "removedWidgets": [],
       "type": "html"
      }
     },
     "output_type": "display_data"
    },
    {
     "output_type": "display_data",
     "data": {
      "text/html": [
       "<style scoped>\n",
       "  .ansiout {\n",
       "    display: block;\n",
       "    unicode-bidi: embed;\n",
       "    white-space: pre-wrap;\n",
       "    word-wrap: break-word;\n",
       "    word-break: break-all;\n",
       "    font-family: \"Menlo\", \"Monaco\", \"Consolas\", \"Ubuntu Mono\", \"Source Code Pro\", monospace;\n",
       "    font-size: 13px;\n",
       "    color: #555;\n",
       "    margin-left: 4px;\n",
       "    line-height: 19px;\n",
       "  }\n",
       "</style>\n",
       "<div class=\"ansiout\"></div>"
      ]
     },
     "metadata": {
      "application/vnd.databricks.v1+output": {
       "addedWidgets": {},
       "arguments": {},
       "data": "<div class=\"ansiout\"></div>",
       "datasetInfos": [],
       "metadata": {},
       "removedWidgets": [],
       "type": "html"
      }
     },
     "output_type": "display_data"
    },
    {
     "output_type": "display_data",
     "data": {
      "text/html": [
       "<style scoped>\n",
       "  .ansiout {\n",
       "    display: block;\n",
       "    unicode-bidi: embed;\n",
       "    white-space: pre-wrap;\n",
       "    word-wrap: break-word;\n",
       "    word-break: break-all;\n",
       "    font-family: \"Menlo\", \"Monaco\", \"Consolas\", \"Ubuntu Mono\", \"Source Code Pro\", monospace;\n",
       "    font-size: 13px;\n",
       "    color: #555;\n",
       "    margin-left: 4px;\n",
       "    line-height: 19px;\n",
       "  }\n",
       "</style>\n",
       "<div class=\"ansiout\"></div>"
      ]
     },
     "metadata": {
      "application/vnd.databricks.v1+output": {
       "addedWidgets": {},
       "arguments": {},
       "data": "<div class=\"ansiout\"></div>",
       "datasetInfos": [],
       "metadata": {},
       "removedWidgets": [],
       "type": "html"
      }
     },
     "output_type": "display_data"
    }
   ],
   "source": [
    "%run utils/Python/storageaccount"
   ]
  },
  {
   "cell_type": "code",
   "execution_count": 0,
   "metadata": {
    "application/vnd.databricks.v1+cell": {
     "cellMetadata": {
      "byteLimit": 2048000,
      "rowLimit": 10000
     },
     "collapsed": true,
     "inputWidgets": {},
     "nuid": "3dce933f-3f25-4049-8623-e863eca9d5bc",
     "showTitle": false,
     "title": ""
    }
   },
   "outputs": [
    {
     "output_type": "display_data",
     "data": {
      "text/html": [
       "<style scoped>\n",
       "  .ansiout {\n",
       "    display: block;\n",
       "    unicode-bidi: embed;\n",
       "    white-space: pre-wrap;\n",
       "    word-wrap: break-word;\n",
       "    word-break: break-all;\n",
       "    font-family: \"Menlo\", \"Monaco\", \"Consolas\", \"Ubuntu Mono\", \"Source Code Pro\", monospace;\n",
       "    font-size: 13px;\n",
       "    color: #555;\n",
       "    margin-left: 4px;\n",
       "    line-height: 19px;\n",
       "  }\n",
       "</style>\n",
       "<div class=\"ansiout\">Collecting torch\r\n",
       "  Downloading torch-2.3.1-cp38-cp38-manylinux1_x86_64.whl (779.1 MB)\r\n",
       "                                | 10 kB 17.3 MB/s eta 0:00:46\r     |                                | 20 kB 11.2 MB/s eta 0:01:10\r     |                                | 30 kB 15.6 MB/s eta 0:00:50\r     |                                | 40 kB 13.4 MB/s eta 0:00:59\r     |                                | 51 kB 11.4 MB/s eta 0:01:09\r     |                                | 61 kB 13.3 MB/s eta 0:00:59\r     |                                | 71 kB 15.0 MB/s eta 0:00:52\r     |                                | 81 kB 16.7 MB/s eta 0:00:47\r     |                                | 92 kB 16.1 MB/s eta 0:00:49\r     |                                | 102 kB 17.4 MB/s eta 0:00:45\r     |                                | 112 kB 17.4 MB/s eta 0:00:45\r     |                                | 122 kB 17.4 MB/s eta 0:00:45\r     |                                | 133 kB 17.4 MB/s eta 0:00:45\r     |                                | 143 kB 17.4 MB/s eta 0:00:45\r     |                                | 153 kB 17.4 MB/s eta 0:00:45\r     |                                | 163 kB 17.4 MB/s eta 0:00:45\r     |                                | 174 kB 17.4 MB/s eta 0:00:45\r     |                                | 184 kB 17.4 MB/s eta 0:00:45\r     |                                | 194 kB 17.4 MB/s eta 0:00:45\r     |                                | 204 kB 17.4 MB/s eta 0:00:45\r     |                                | 215 kB 17.4 MB/s eta 0:00:45\r     |                                | 225 kB 17.4 MB/s eta 0:00:45\r     |                                | 235 kB 17.4 MB/s eta 0:00:45\r     |                                | 245 kB 17.4 MB/s eta 0:00:45\r     |                                | 256 kB 17.4 MB/s eta 0:00:45\r     |                                | 266 kB 17.4 MB/s eta 0:00:45\r     |                                | 276 kB 17.4 MB/s eta 0:00:45\r     |                                | 286 kB 17.4 MB/s eta 0:00:45\r     |                                | 296 kB 17.4 MB/s eta 0:00:45\r     |                                | 307 kB 17.4 MB/s eta 0:00:45\r     |                                | 317 kB 17.4 MB/s eta 0:00:45\r     |                                | 327 kB 17.4 MB/s eta 0:00:45\r     |                                | 337 kB 17.4 MB/s eta 0:00:45\r     |                                | 348 kB 17.4 MB/s eta 0:00:45\r     |                                | 358 kB 17.4 MB/s eta 0:00:45\r     |                                | 368 kB 17.4 MB/s eta 0:00:45\r     |                                | 378 kB 17.4 MB/s eta 0:00:45\r     |                                | 389 kB 17.4 MB/s eta 0:00:45\r     |                                | 399 kB 17.4 MB/s eta 0:00:45\r     |                                | 409 kB 17.4 MB/s eta 0:00:45\r     |                                | 419 kB 17.4 MB/s eta 0:00:45\r     |                                | 430 kB 17.4 MB/s eta 0:00:45\r     |                                | 440 kB 17.4 MB/s eta 0:00:45\r     |                                | 450 kB 17.4 MB/s eta 0:00:45\r     |                                | 460 kB 17.4 MB/s eta 0:00:45\r     |                                | 471 kB 17.4 MB/s eta 0:00:45\r     |                                | 481 kB 17.4 MB/s eta 0:00:45\r     |                                | 491 kB 17.4 MB/s eta 0:00:45\r     |                                | 501 kB 17.4 MB/s eta 0:00:45\r     |                                | 512 kB 17.4 MB/s eta 0:00:45\r     |                                | 522 kB 17.4 MB/s eta 0:00:45\r     |                                | 532 kB 17.4 MB/s eta 0:00:45\r     |                                | 542 kB 17.4 MB/s eta 0:00:45\r     |                                | 552 kB 17.4 MB/s eta 0:00:45\r     |                                | 563 kB 17.4 MB/s eta 0:00:45\r     |                                | 573 kB 17.4 MB/s eta 0:00:45\r     |                                | 583 kB 17.4 MB/s eta 0:00:45\r     |                                | 593 kB 17.4 MB/s eta 0:00:45\r     |                                | 604 kB 17.4 MB/s eta 0:00:45\r     |                                | 614 kB 17.4 MB/s eta 0:00:45\r     |                                | 624 kB 17.4 MB/s eta 0:00:45\r     |                                | 634 kB 17.4 MB/s eta 0:00:45\r     |                                | 645 kB 17.4 MB/s eta 0:00:45\r     |                                | 655 kB 17.4 MB/s eta 0:00:45\r     |                                | 665 kB 17.4 MB/s eta 0:00:45\r     |                                | 675 kB 17.4 MB/s eta 0:00:45\r     |                                | 686 kB 17.4 MB/s eta 0:00:45\r     |                                | 696 kB 17.4 MB/s eta 0:00:45\r     |                                | 706 kB 17.4 MB/s eta 0:00:45\r     |                                | 716 kB 17.4 MB/s eta 0:00:45\r     |                                | 727 kB 17.4 MB/s eta 0:00:45\r     |                                | 737 kB 17.4 MB/s eta 0:00:45\r     |                                | 747 kB 17.4 MB/s eta 0:00:45\r     |                                | 757 kB 17.4 MB/s eta 0:00:45\r     |                                | 768 kB 17.4 MB/s eta 0:00:45\r     |                                | 778 kB 17.4 MB/s eta 0:00:45\r     |                                | 788 kB 17.4 MB/s eta 0:00:45\r     |                                | 798 kB 17.4 MB/s eta 0:00:45\r     |                                | 808 kB 17.4 MB/s eta 0:00:45\r     |                                | 819 kB 17.4 MB/s eta 0:00:45\r     |                                | 829 kB 17.4 MB/s eta 0:00:45\r     |                                | 839 kB 17.4 MB/s eta 0:00:45\r     |                                | 849 kB 17.4 MB/s eta 0:00:45\r     |                                | 860 kB 17.4 MB/s eta 0:00:45\r     |                                | 870 kB 17.4 MB/s eta 0:00:45\r     |                                | 880 kB 17.4 MB/s eta 0:00:45\r     |                                | 890 kB 17.4 MB/s eta 0:00:45\r     |                                | 901 kB 17.4 MB/s eta 0:00:45\r     |                                | 911 kB 17.4 MB/s eta 0:00:45\r     |                                | 921 kB 17.4 MB/s eta 0:00:45\r     |                                | 931 kB 17.4 MB/s eta 0:00:45\r     |                                | 942 kB 17.4 MB/s eta 0:00:45\r     |                                | 952 kB 17.4 MB/s eta 0:00:45\r     |                                | 962 kB 17.4 MB/s eta 0:00:45\r     |                                | 972 kB 17.4 MB/s eta 0:00:45\r     |                                | 983 kB 17.4 MB/s eta 0:00:45\r     |                                | 993 kB 17.4 MB/s eta 0:00:45\r     |                                | 1.0 MB 17.4 MB/s eta 0:00:45\r     |                                | 1.0 MB 17.4 MB/s eta 0:00:45\r     |                                | 1.0 MB 17.4 MB/s eta 0:00:45\r     |                                | 1.0 MB 17.4 MB/s eta 0:00:45\r     |                                | 1.0 MB 17.4 MB/s eta 0:00:45\r     |                                | 1.1 MB 17.4 MB/s eta 0:00:45\r     |                                | 1.1 MB 17.4 MB/s eta 0:00:45\r     |                                | 1.1 MB 17.4 MB/s eta 0:00:45\r     |                                | 1.1 MB 17.4 MB/s eta 0:00:45\r     |                                | 1.1 MB 17.4 MB/s eta 0:00:45\r     |                                | 1.1 MB 17.4 MB/s eta 0:00:45\r     |                                | 1.1 MB 17.4 MB/s eta 0:00:45\r     |                                | 1.1 MB 17.4 MB/s eta 0:00:45\r     |                                | 1.1 MB 17.4 MB/s eta 0:00:45\r     |                                | 1.1 MB 17.4 MB/s eta 0:00:45\r     |                                | 1.2 MB 17.4 MB/s eta 0:00:45\r     |                                | 1.2 MB 17.4 MB/s eta 0:00:45\r     |                                | 1.2 MB 17.4 MB/s eta 0:00:45\r     |                                | 1.2 MB 17.4 MB/s eta 0:00:45\r     |                                | 1.2 MB 17.4 MB/s eta 0:00:45\r     |                                | 1.2 MB 17.4 MB/s eta 0:00:45\r     |                                | 1.2 MB 17.4 MB/s eta 0:00:45\r     |                                | 1.2 MB 17.4 MB/s eta 0:00:45\r     |                                | 1.2 MB 17.4 MB/s eta 0:00:45\r     |                                | 1.2 MB 17.4 MB/s eta 0:00:45\r     |                                | 1.3 MB 17.4 MB/s eta 0:00:45\r     |                                | 1.3 MB 17.4 MB/s eta 0:00:45\r     |                                | 1.3 MB 17.4 MB/s eta 0:00:45\r     |                                | 1.3 MB 17.4 MB/s eta 0:00:45\r     |                                | 1.3 MB 17.4 MB/s eta 0:00:45\r     |                                | 1.3 MB 17.4 MB/s eta 0:00:45\r     |                                | 1.3 MB 17.4 MB/s eta 0:00:45\r     |                                | 1.3 MB 17.4 MB/s eta 0:00:45\r     |                                | 1.3 MB 17.4 MB/s eta 0:00:45\r     |                                | 1.4 MB 17.4 MB/s eta 0:00:45\r     |                                | 1.4 MB 17.4 MB/s eta 0:00:45\r     |                                | 1.4 MB 17.4 MB/s eta 0:00:45\r     |                                | 1.4 MB 17.4 MB/s eta 0:00:45\r     |                                | 1.4 MB 17.4 MB/s eta 0:00:45\r     |                                | 1.4 MB 17.4 MB/s eta 0:00:45\r     |                                | 1.4 MB 17.4 MB/s eta 0:00:45\r     |                                | 1.4 MB 17.4 MB/s eta 0:00:45\r     |                                | 1.4 MB 17.4 MB/s eta 0:00:45\r     |                                | 1.4 MB 17.4 MB/s eta 0:00:45\r     |                                | 1.5 MB 17.4 MB/s eta 0:00:45\r     |                                | 1.5 MB 17.4 MB/s eta 0:00:45\r     |                                | 1.5 MB 17.4 MB/s eta 0:00:45\r     |                                | 1.5 MB 17.4 MB/s eta 0:00:45\r     |                                | 1.5 MB 17.4 MB/s eta 0:00:45\r     |                                | 1.5 MB 17.4 MB/s eta 0:00:45\r     |                                | 1.5 MB 17.4 MB/s eta 0:00:45\r     |                                | 1.5 MB 17.4 MB/s eta 0:00:45\r     |                                | 1.5 MB 17.4 MB/s eta 0:00:45\r     |                                | 1.5 MB 17.4 MB/s eta 0:00:45\r     |                                | 1.6 MB 17.4 MB/s eta 0:00:45\r     |                                | 1.6 MB 17.4 MB/s eta 0:00:45\r     |                                | 1.6 MB 17.4 MB/s eta 0:00:45\r     |                                | 1.6 MB 17.4 MB/s eta 0:00:45\r     |                                | 1.6 MB 17.4 MB/s eta 0:00:45\r     |                                | 1.6 MB 17.4 MB/s eta 0:00:45\r     |                                | 1.6 MB 17.4 MB/s eta 0:00:45\r     |                                | 1.6 MB 17.4 MB/s eta 0:00:45\r     |                                | 1.6 MB 17.4 MB/s eta 0:00:45\r     |                                | 1.6 MB 17.4 MB/s eta 0:00:45\r     |                                | 1.7 MB 17.4 MB/s eta 0:00:45\r     |                                | 1.7 MB 17.4 MB/s eta 0:00:45\r     |                                | 1.7 MB 17.4 MB/s eta 0:00:45\r     |                                | 1.7 MB 17.4 MB/s eta 0:00:45\r     |                                | 1.7 MB 17.4 MB/s eta 0:00:45\r     |                                | 1.7 MB 17.4 MB/s eta 0:00:45\r     |                                | 1.7 MB 17.4 MB/s eta 0:00:45\r     |                                | 1.7 MB 17.4 MB/s eta 0:00:45\r     |                                | 1.7 MB 17.4 MB/s eta 0:00:45\r     |                                | 1.8 MB 17.4 MB/s eta 0:00:45\r     |                                | 1.8 MB 17.4 MB/s eta 0:00:45\r     |                                | 1.8 MB 17.4 MB/s eta 0:00:45\r     |                                | 1.8 MB 17.4 MB/s eta 0:00:45\r     |                                | 1.8 MB 17.4 MB/s eta 0:00:45\r     |                                | 1.8 MB 17.4 MB/s eta 0:00:45\r     |                                | 1.8 MB 17.4 MB/s eta 0:00:45\r     |                                | 1.8 MB 17.4 MB/s eta 0:00:45\r     |                                | 1.8 MB 17.4 MB/s eta 0:00:45\r     |                                | 1.8 MB 17.4 MB/s eta 0:00:45\r     |                                | 1.9 MB 17.4 MB/s eta 0:00:45\r     |                                | 1.9 MB 17.4 MB/s eta 0:00:45\r     |                                | 1.9 MB 17.4 MB/s eta 0:00:45\r     |                                | 1.9 MB 17.4 MB/s eta 0:00:45\r     |                                | 1.9 MB 17.4 MB/s eta 0:00:45\r     |                                | 1.9 MB 17.4 MB/s eta 0:00:45\r     |                                | 1.9 MB 17.4 MB/s eta 0:00:45\r     |                                | 1.9 MB 17.4 MB/s eta 0:00:45\r     |                                | 1.9 MB 17.4 MB/s eta 0:00:45\r     |                                | 1.9 MB 17.4 MB/s eta 0:00:45\r     |                                | 2.0 MB 17.4 MB/s eta 0:00:45\r     |                                | 2.0 MB 17.4 MB/s eta 0:00:45\r     |                                | 2.0 MB 17.4 MB/s eta 0:00:45\r     |                                | 2.0 MB 17.4 MB/s eta 0:00:45\r     |                                | 2.0 MB 17.4 MB/s eta 0:00:45\r     |                                | 2.0 MB 17.4 MB/s eta 0:00:45\r     |                                | 2.0 MB 17.4 MB/s eta 0:00:45\r     |                                | 2.0 MB 17.4 MB/s eta 0:00:45\r     |                                | 2.0 MB 17.4 MB/s eta 0:00:45\r     |                                | 2.0 MB 17.4 MB/s eta 0:00:45\r     |                                | 2.1 MB 17.4 MB/s eta 0:00:45\r     |                                | 2.1 MB 17.4 MB/s eta 0:00:45\r     |                                | 2.1 MB 17.4 MB/s eta 0:00:45\r     |                                | 2.1 MB 17.4 MB/s eta 0:00:45\r     |                                | 2.1 MB 17.4 MB/s eta 0:00:45\r     |                                | 2.1 MB 17.4 MB/s eta 0:00:45\r     |                                | 2.1 MB 17.4 MB/s eta 0:00:45\r     |                                | 2.1 MB 17.4 MB/s eta 0:00:45\r     |                                | 2.1 MB 17.4 MB/s eta 0:00:45\r     |                                | 2.2 MB 17.4 MB/s eta 0:00:45\r     |                                | 2.2 MB 17.4 MB/s eta 0:00:45\r     |                                | 2.2 MB 17.4 MB/s eta 0:00:45\r     |                                | 2.2 MB 17.4 MB/s eta 0:00:45\r     |                                | 2.2 MB 17.4 MB/s eta 0:00:45\r     |                                | 2.2 MB 17.4 MB/s eta 0:00:45\r     |                                | 2.2 MB 17.4 MB/s eta 0:00:45\r     |                                | 2.2 MB 17.4 MB/s eta 0:00:45\r     |                                | 2.2 MB 17.4 MB/s eta 0:00:45\r     |                                | 2.2 MB 17.4 MB/s eta 0:00:45\r     |                                | 2.3 MB 17.4 MB/s eta 0:00:45\r     |                                | 2.3 MB 17.4 MB/s eta 0:00:45\r     |                                | 2.3 MB 17.4 MB/s eta 0:00:45\r     |                                | 2.3 MB 17.4 MB/s eta 0:00:45\r     |                                | 2.3 MB 17.4 MB/s eta 0:00:45\r     |                                | 2.3 MB 17.4 MB/s eta 0:00:45\r     |                                | 2.3 MB 17.4 MB/s eta 0:00:45\r     |                                | 2.3 MB 17.4 MB/s eta 0:00:45\r     |                                | 2.3 MB 17.4 MB/s eta 0:00:45\r     |                                | 2.3 MB 17.4 MB/s eta 0:00:45\r     |                                | 2.4 MB 17.4 MB/s eta 0:00:45\r     |                                | 2.4 MB 17.4 MB/s eta 0:00:45\r     |                                | 2.4 MB 17.4 MB/s eta 0:00:45\r     |                                | 2.4 MB 17.4 MB/s eta 0:00:45\r     |                                | 2.4 MB 17.4 MB/s eta 0:00:45\r     |                                | 2.4 MB 17.4 MB/s eta 0:00:45\r     |                                | 2.4 MB 17.4 MB/s eta 0:00:45\r     |                                | 2.4 MB 17.4 MB/s eta 0:00:45\r     |                                | 2.4 MB 17.4 MB/s eta 0:00:45\r     |                                | 2.4 MB 17.4 MB/s eta 0:00:45\r     |                                | 2.5 MB 17.4 MB/s eta 0:00:45\r     |                                | 2.5 MB 17.4 MB/s eta 0:00:45\r     |                                | 2.5 MB 17.4 MB/s eta 0:00:45\r     |                                | 2.5 MB 17.4 MB/s eta 0:00:45\r     |                                | 2.5 MB 17.4 MB/s eta 0:00:45\r     |                                | 2.5 MB 17.4 MB/s eta 0:00:45\r     |                                | 2.5 MB 17.4 MB/s eta 0:00:45\r     |                                | 2.5 MB 17.4 MB/s eta 0:00:45\r     |                                | 2.5 MB 17.4 MB/s eta 0:00:45\r     |                                | 2.5 MB 17.4 MB/s eta 0:00:45\r     |                                | 2.6 MB 17.4 MB/s eta 0:00:45\r     |                                | 2.6 MB 17.4 MB/s eta 0:00:45\r     |                                | 2.6 MB 17.4 MB/s eta 0:00:45\r     |                                | 2.6 MB 17.4 MB/s eta 0:00:45\r     |                                | 2.6 MB 17.4 MB/s eta 0:00:45\r     |                                | 2.6 MB 17.4 MB/s eta 0:00:45\r     |                                | 2.6 MB 17.4 MB/s eta 0:00:45\r     |                                | 2.6 MB 17.4 MB/s eta 0:00:45\r     |                                | 2.6 MB 17.4 MB/s eta 0:00:45\r     |                                | 2.7 MB 17.4 MB/s eta 0:00:45\r     |                                | 2.7 MB 17.4 MB/s eta 0:00:45\r     |                                | 2.7 MB 17.4 MB/s eta 0:00:45\r     |                                | 2.7 MB 17.4 MB/s eta 0:00:45\r     |                                | 2.7 MB 17.4 MB/s eta 0:00:45\r     |                                | 2.7 MB 17.4 MB/s eta 0:00:45\r     |▏                               | 2.7 MB 17.4 MB/s eta 0:00:45\r     |▏                               | 2.7 MB 17.4 MB/s eta 0:00:45\r     |▏                               | 2.7 MB 17.4 MB/s eta 0:00:45\r     |▏                               | 2.7 MB 17.4 MB/s eta 0:00:45\r     |▏                               | 2.8 MB 17.4 MB/s eta 0:00:45\r     |▏                               | 2.8 MB 17.4 MB/s eta 0:00:45\r     |▏                               | 2.8 MB 17.4 MB/s eta 0:00:45\r     |▏                               | 2.8 MB 17.4 MB/s eta 0:00:45\r     |▏                               | 2.8 MB 17.4 MB/s eta 0:00:45\r     |▏                               | 2.8 MB 17.4 MB/s eta 0:00:45\r     |▏                               | 2.8 MB 17.4 MB/s eta 0:00:45\r     |▏                               | 2.8 MB 17.4 MB/s eta 0:00:45\r     |▏                               | 2.8 MB 17.4 MB/s eta 0:00:45\r     |▏                               | 2.8 MB 17.4 MB/s eta 0:00:45\r     |▏                               | 2.9 MB 17.4 MB/s eta 0:00:45\r     |▏                               | 2.9 MB 17.4 MB/s eta 0:00:45\r     |▏                               | 2.9 MB 17.4 MB/s eta 0:00:45\r     |▏                               | 2.9 MB 17.4 MB/s eta 0:00:45\r     |▏                               | 2.9 MB 17.4 MB/s eta 0:00:45\r     |▏                               | 2.9 MB 17.4 MB/s eta 0:00:45\r     |▏                               | 2.9 MB 17.4 MB/s eta 0:00:45\r     |▏                               | 2.9 MB 17.4 MB/s eta 0:00:45\r     |▏                               | 2.9 MB 17.4 MB/s eta 0:00:45\r     |▏                               | 2.9 MB 17.4 MB/s eta 0:00:45\r     |▏                               | 3.0 MB 17.4 MB/s eta 0:00:45\r     |▏                               | 3.0 MB 17.4 MB/s eta 0:00:45\r     |▏                               | 3.0 MB 17.4 MB/s eta 0:00:45\r     |▏                               | 3.0 MB 17.4 MB/s eta 0:00:45\r     |▏                               | 3.0 MB 17.4 MB/s eta 0:00:45\r     |▏                               | 3.0 MB 17.4 MB/s eta 0:00:45\r     |▏                               | 3.0 MB 17.4 MB/s eta 0:00:45\r     |▏                               | 3.0 MB 17.4 MB/s eta 0:00:45\r     |▏                               | 3.0 MB 17.4 MB/s eta 0:00:45\r     |▏                               | 3.1 MB 17.4 MB/s eta 0:00:45\r     |▏                               | 3.1 MB 17.4 MB/s eta 0:00:45\r     |▏                               | 3.1 MB 17.4 MB/s eta 0:00:45\r     |▏                               | 3.1 MB 17.4 MB/s eta 0:00:45\r     |▏                               | 3.1 MB 17.4 MB/s eta 0:00:45\r     |▏                               | 3.1 MB 17.4 MB/s eta 0:00:45\r     |▏                               | 3.1 MB 17.4 MB/s eta 0:00:45\r     |▏                               | 3.1 MB 17.4 MB/s eta 0:00:45\r     |▏                               | 3.1 MB 17.4 MB/s eta 0:00:45\r     |▏                               | 3.1 MB 17.4 MB/s eta 0:00:45\r     |▏                               | 3.2 MB 17.4 MB/s eta 0:00:45\r     |▏                               | 3.2 MB 17.4 MB/s eta 0:00:45\r     |▏                               | 3.2 MB 17.4 MB/s eta 0:00:45\r     |▏                               | 3.2 MB 17.4 MB/s eta 0:00:45\r     |▏                               | 3.2 MB 17.4 MB/s eta 0:00:45\r     |▏                               | 3.2 MB 17.4 MB/s eta 0:00:45\r     |▏                               | 3.2 MB 17.4 MB/s eta 0:00:45\r     |▏                               | 3.2 MB 17.4 MB/s eta 0:00:45\r     |▏                               | 3.2 MB 17.4 MB/s eta 0:00:45\r     |▏                               | 3.2 MB 17.4 MB/s eta 0:00:45\r     |▏                               | 3.3 MB 17.4 MB/s eta 0:00:45\r     |▏                               | 3.3 MB 17.4 MB/s eta 0:00:45\r     |▏                               | 3.3 MB 17.4 MB/s eta 0:00:45\r     |▏                               | 3.3 MB 17.4 MB/s eta 0:00:45\r     |▏                               | 3.3 MB 17.4 MB/s eta 0:00:45\r     |▏                               | 3.3 MB 17.4 MB/s eta 0:00:45\r     |▏                               | 3.3 MB 17.4 MB/s eta 0:00:45\r     |▏                               | 3.3 MB 17.4 MB/s eta 0:00:45\r     |▏                               | 3.3 MB 17.4 MB/s eta 0:00:45\r     |▏                               | 3.3 MB 17.4 MB/s eta 0:00:45\r     |▏                               | 3.4 MB 17.4 MB/s eta 0:00:45\r     |▏                               | 3.4 MB 17.4 MB/s eta 0:00:45\r     |▏                               | 3.4 MB 17.4 MB/s eta 0:00:45\r     |▏                               | 3.4 MB 17.4 MB/s eta 0:00:45\r     |▏                               | 3.4 MB 17.4 MB/s eta 0:00:45\r     |▏                               | 3.4 MB 17.4 MB/s eta 0:00:45\r     |▏                               | 3.4 MB 17.4 MB/s eta 0:00:45\r     |▏                               | 3.4 MB 17.4 MB/s eta 0:00:45\r     |▏                               | 3.4 MB 17.4 MB/s eta 0:00:45\r     |▏                               | 3.5 MB 17.4 MB/s eta 0:00:45\r     |▏                               | 3.5 MB 17.4 MB/s eta 0:00:45\r     |▏                               | 3.5 MB 17.4 MB/s eta 0:00:45\r     |▏                               | 3.5 MB 17.4 MB/s eta 0:00:45\r     |▏                               | 3.5 MB 17.4 MB/s eta 0:00:45\r     |▏                               | 3.5 MB 17.4 MB/s eta 0:00:45\r     |▏                               | 3.5 MB 17.4 MB/s eta 0:00:45\r     |▏                               | 3.5 MB 17.4 MB/s eta 0:00:45\r     |▏                               | 3.5 MB 17.4 MB/s eta 0:00:45\r     |▏                               | 3.5 MB 17.4 MB/s eta 0:00:45\r     |▏                               | 3.6 MB 17.4 MB/s eta 0:00:45\r     |▏                               | 3.6 MB 17.4 MB/s eta 0:00:45\r     |▏                               | 3.6 MB 17.4 MB/s eta 0:00:45\r     |▏                               | 3.6 MB 17.4 MB/s eta 0:00:45\r     |▏                               | 3.6 MB 17.4 MB/s eta 0:00:45\r     |▏                               | 3.6 MB 17.4 MB/s eta 0:00:45\r     |▏                               | 3.6 MB 17.4 MB/s eta 0:00:45\r     |▏                               | 3.6 MB 17.4 MB/s eta 0:00:45\r     |▏                               | 3.6 MB 17.4 MB/s eta 0:00:45\r     |▏                               | 3.6 MB 17.4 MB/s eta 0:00:45\r     |▏                               | 3.7 MB 17.4 MB/s eta 0:00:45\r     |▏                               | 3.7 MB 17.4 MB/s eta 0:00:45\r     |▏                               | 3.7 MB 17.4 MB/s eta 0:00:45\r     |▏                               | 3.7 MB 17.4 MB/s eta 0:00:45\r     |▏                               | 3.7 MB 17.4 MB/s eta 0:00:45\r     |▏                               | 3.7 MB 17.4 MB/s eta 0:00:45\r     |▏                               | 3.7 MB 17.4 MB/s eta 0:00:45\r     |▏                               | 3.7 MB 17.4 MB/s eta 0:00:45\r     |▏                               | 3.7 MB 17.4 MB/s eta 0:00:45\r     |▏                               | 3.7 MB 17.4 MB/s eta 0:00:45\r     |▏                               | 3.8 MB 17.4 MB/s eta 0:00:45\r     |▏                               | 3.8 MB 17.4 MB/s eta 0:00:45\r     |▏                               | 3.8 MB 17.4 MB/s eta 0:00:45\r     |▏                               | 3.8 MB 17.4 MB/s eta 0:00:45\r     |▏                               | 3.8 MB 17.4 MB/s eta 0:00:45\r     |▏                               | 3.8 MB 17.4 MB/s eta 0:00:45\r     |▏                               | 3.8 MB 17.4 MB/s eta 0:00:45\r     |▏                               | 3.8 MB 17.4 MB/s eta 0:00:45\r     |▏                               | 3.8 MB 17.4 MB/s eta 0:00:45\r     |▏                               | 3.9 MB 17.4 MB/s eta 0:00:45\r     |▏                               | 3.9 MB 17.4 MB/s eta 0:00:45\r     |▏                               | 3.9 MB 17.4 MB/s eta 0:00:45\r     |▏                               | 3.9 MB 17.4 MB/s eta 0:00:45\r     |▏                               | 3.9 MB 17.4 MB/s eta 0:00:45\r     |▏                               | 3.9 MB 17.4 MB/s eta 0:00:45\r     |▏                               | 3.9 MB 17.4 MB/s eta 0:00:45\r     |▏                               | 3.9 MB 17.4 MB/s eta 0:00:45\r     |▏                               | 3.9 MB 17.4 MB/s eta 0:00:45\r     |▏                               | 3.9 MB 17.4 MB/s eta 0:00:45\r     |▏                               | 4.0 MB 17.4 MB/s eta 0:00:45\r     |▏                               | 4.0 MB 17.4 MB/s eta 0:00:45\r     |▏                               | 4.0 MB 17.4 MB/s eta 0:00:45\r     |▏                               | 4.0 MB 17.4 MB/s eta 0:00:45\r     |▏                               | 4.0 MB 17.4 MB/s eta 0:00:45\r     |▏                               | 4.0 MB 17.4 MB/s eta 0:00:45\r     |▏                               | 4.0 MB 17.4 MB/s eta 0:00:45\r     |▏                               | 4.0 MB 17.4 MB/s eta 0:00:45\r     |▏                               | 4.0 MB 17.4 MB/s eta 0:00:45\r     |▏                               | 4.0 MB 17.4 MB/s eta 0:00:45\r     |▏                               | 4.1 MB 17.4 MB/s eta 0:00:45\r     |▏                               | 4.1 MB 17.4 MB/s eta 0:00:45\r     |▏                               | 4.1 MB 17.4 MB/s eta 0:00:45\r     |▏                               | 4.1 MB 17.4 MB/s eta 0:00:45\r     |▏                               | 4.1 MB 17.4 MB/s eta 0:00:45\r     |▏                               | 4.1 MB 17.4 MB/s eta 0:00:45\r     |▏                               | 4.1 MB 17.4 MB/s eta 0:00:45\r     |▏                               | 4.1 MB 17.4 MB/s eta 0:00:45\r     |▏                               | 4.1 MB 17.4 MB/s eta 0:00:45\r     |▏                               | 4.1 MB 17.4 MB/s eta 0:00:45\r     |▏                               | 4.2 MB 17.4 MB/s eta 0:00:45\r     |▏                               | 4.2 MB 17.4 MB/s eta 0:00:45\r     |▏                               | 4.2 MB 17.4 MB/s eta 0:00:45\r     |▏                               | 4.2 MB 17.4 MB/s eta 0:00:45\r     |▏                               | 4.2 MB 17.4 MB/s eta 0:00:45\r     |▏                               | 4.2 MB 17.4 MB/s eta 0:00:45\r     |▏                               | 4.2 MB 17.4 MB/s eta 0:00:45\r     |▏                               | 4.2 MB 17.4 MB/s eta 0:00:45\r     |▏                               | 4.2 MB 17.4 MB/s eta 0:00:45\r     |▏                               | 4.2 MB 17.4 MB/s eta 0:00:45\r     |▏                               | 4.3 MB 17.4 MB/s eta 0:00:45\r     |▏                               | 4.3 MB 17.4 MB/s eta 0:00:45\r     |▏                               | 4.3 MB 17.4 MB/s eta 0:00:45\r     |▏                               | 4.3 MB 17.4 MB/s eta 0:00:45\r     |▏                               | 4.3 MB 17.4 MB/s eta 0:00:45\r     |▏                               | 4.3 MB 17.4 MB/s eta 0:00:45\r     |▏                               | 4.3 MB 17.4 MB/s eta 0:00:45\r     |▏                               | 4.3 MB 17.4 MB/s eta 0:00:45\r     |▏                               | 4.3 MB 17.4 MB/s eta 0:00:45\r     |▏                               | 4.4 MB 17.4 MB/s eta 0:00:45\r     |▏                               | 4.4 MB 17.4 MB/s eta 0:00:45\r     |▏                               | 4.4 MB 17.4 MB/s eta 0:00:45\r     |▏                               | 4.4 MB 17.4 MB/s eta 0:00:45\r     |▏                               | 4.4 MB 17.4 MB/s eta 0:00:45\r     |▏                               | 4.4 MB 17.4 MB/s eta 0:00:45\r     |▏                               | 4.4 MB 17.4 MB/s eta 0:00:45\r     |▏                               | 4.4 MB 17.4 MB/s eta 0:00:45\r     |▏                               | 4.4 MB 17.4 MB/s eta 0:00:45\r     |▏                               | 4.4 MB 17.4 MB/s eta 0:00:45\r     |▏                               | 4.5 MB 17.4 MB/s eta 0:00:45\r     |▏                               | 4.5 MB 17.4 MB/s eta 0:00:45\r     |▏                               | 4.5 MB 17.4 MB/s eta 0:00:45\r     |▏                               | 4.5 MB 17.4 MB/s eta 0:00:45\r     |▏                               | 4.5 MB 17.4 MB/s eta 0:00:45\r     |▏                               | 4.5 MB 17.4 MB/s eta 0:00:45\r     |▏                               | 4.5 MB 17.4 MB/s eta 0:00:45\r     |▏                               | 4.5 MB 17.4 MB/s eta 0:00:45\r     |▏                               | 4.5 MB 17.4 MB/s eta 0:00:45\r     |▏                               | 4.5 MB 17.4 MB/s eta 0:00:45\r     |▏                               | 4.6 MB 17.4 MB/s eta 0:00:45\r     |▏                               | 4.6 MB 17.4 MB/s eta 0:00:45\r     |▏                               | 4.6 MB 17.4 MB/s eta 0:00:45\r     |▏                               | 4.6 MB 17.4 MB/s eta 0:00:45\r     |▏                               | 4.6 MB 17.4 MB/s eta 0:00:45\r     |▏                               | 4.6 MB 17.4 MB/s eta 0:00:45\r     |▏                               | 4.6 MB 17.4 MB/s eta 0:00:45\r     |▏                               | 4.6 MB 17.4 MB/s eta 0:00:45\r     |▏                               | 4.6 MB 17.4 MB/s eta 0:00:45\r     |▏                               | 4.6 MB 17.4 MB/s eta 0:00:45\r     |▏                               | 4.7 MB 17.4 MB/s eta 0:00:45\r     |▏                               | 4.7 MB 17.4 MB/s eta 0:00:45\r     |▏                               | 4.7 MB 17.4 MB/s eta 0:00:45\r     |▏                               | 4.7 MB 17.4 MB/s eta 0:00:45\r     |▏                               | 4.7 MB 17.4 MB/s eta 0:00:45\r     |▏                               | 4.7 MB 17.4 MB/s eta 0:00:45\r     |▏                               | 4.7 MB 17.4 MB/s eta 0:00:45\r     |▏                               | 4.7 MB 17.4 MB/s eta 0:00:45\r     |▏                               | 4.7 MB 17.4 MB/s eta 0:00:45\r     |▏                               | 4.8 MB 17.4 MB/s eta 0:00:45\r     |▏                               | 4.8 MB 17.4 MB/s eta 0:00:45\r     |▏                               | 4.8 MB 17.4 MB/s eta 0:00:45\r     |▏                               | 4.8 MB 17.4 MB/s eta 0:00:45\r     |▏                               | 4.8 MB 17.4 MB/s eta 0:00:45\r     |▏                               | 4.8 MB 17.4 MB/s eta 0:00:45\r     |▏                               | 4.8 MB 17.4 MB/s eta 0:00:45\r     |▏                               | 4.8 MB 17.4 MB/s eta 0:00:45\r     |▏                               | 4.8 MB 17.4 MB/s eta 0:00:45\r     |▏                               | 4.8 MB 17.4 MB/s eta 0:00:45\r     |▏                               | 4.9 MB 17.4 MB/s eta 0:00:45\r     |▏                               | 4.9 MB 17.4 MB/s eta 0:00:45\r     |▏                               | 4.9 MB 17.4 MB/s eta 0:00:45\r     |▏                               | 4.9 MB 17.4 MB/s eta 0:00:45\r     |▏                               | 4.9 MB 17.4 MB/s eta 0:00:45\r     |▏                               | 4.9 MB 17.4 MB/s eta 0:00:45\r     |▏                               | 4.9 MB 17.4 MB/s eta 0:00:45\r     |▏                               | 4.9 MB 17.4 MB/s eta 0:00:45\r     |▏                               | 4.9 MB 17.4 MB/s eta 0:00:45\r     |▏                               | 4.9 MB 17.4 MB/s eta 0:00:45\r     |▏                               | 5.0 MB 17.4 MB/s eta 0:00:45\r     |▏                               | 5.0 MB 17.4 MB/s eta 0:00:45\r     |▏                               | 5.0 MB 17.4 MB/s eta 0:00:45\r     |▏                               | 5.0 MB 17.4 MB/s eta 0:00:45\r     |▏                               | 5.0 MB 17.4 MB/s eta 0:00:45\r     |▏                               | 5.0 MB 17.4 MB/s eta 0:00:45\r     |▏                               | 5.0 MB 17.4 MB/s eta 0:00:45\r     |▏                               | 5.0 MB 17.4 MB/s eta 0:00:45\r     |▏                               | 5.0 MB 17.4 MB/s eta 0:00:45\r     |▏                               | 5.0 MB 17.4 MB/s eta 0:00:45\r     |▏                               | 5.1 MB 17.4 MB/s eta 0:00:45\r     |▏                               | 5.1 MB 17.4 MB/s eta 0:00:45\r     |▏                               | 5.1 MB 17.4 MB/s eta 0:00:45\r     |▏                               | 5.1 MB 17.4 MB/s eta 0:00:45\r     |▏                               | 5.1 MB 17.4 MB/s eta 0:00:45\r     |▏                               | 5.1 MB 17.4 MB/s eta 0:00:45\r     |▏                               | 5.1 MB 17.4 MB/s eta 0:00:45\r     |▏                               | 5.1 MB 17.4 MB/s eta 0:00:45\r     |▏                               | 5.1 MB 17.4 MB/s eta 0:00:45\r     |▏                               | 5.2 MB 17.4 MB/s eta 0:00:45\r     |▏                               | 5.2 MB 17.4 MB/s eta 0:00:45\r     |▏                               | 5.2 MB 17.4 MB/s eta 0:00:45\r     |▏                               | 5.2 MB 17.4 MB/s eta 0:00:45\r     |▏                               | 5.2 MB 17.4 MB/s eta 0:00:45\r     |▏                               | 5.2 MB 17.4 MB/s eta 0:00:45\r     |▏                               | 5.2 MB 17.4 MB/s eta 0:00:45\r     |▏                               | 5.2 MB 17.4 MB/s eta 0:00:45\r     |▏                               | 5.2 MB 17.4 MB/s eta 0:00:45\r     |▏                               | 5.2 MB 17.4 MB/s eta 0:00:45\r     |▏                               | 5.3 MB 17.4 MB/s eta 0:00:45\r     |▏                               | 5.3 MB 17.4 MB/s eta 0:00:45\r     |▏                               | 5.3 MB 17.4 MB/s eta 0:00:45\r     |▏                               | 5.3 MB 17.4 MB/s eta 0:00:45\r     |▏                               | 5.3 MB 17.4 MB/s eta 0:00:45\r     |▏                               | 5.3 MB 17.4 MB/s eta 0:00:45\r     |▏                               | 5.3 MB 17.4 MB/s eta 0:00:45\r     |▏                               | 5.3 MB 17.4 MB/s eta 0:00:45\r     |▏                               | 5.3 MB 17.4 MB/s eta 0:00:45\r     |▏                               | 5.3 MB 17.4 MB/s eta 0:00:45\r     |▏                               | 5.4 MB 17.4 MB/s eta 0:00:45\r     |▏                               | 5.4 MB 17.4 MB/s eta 0:00:45\r     |▏                               | 5.4 MB 17.4 MB/s eta 0:00:45\r     |▏                               | 5.4 MB 17.4 MB/s eta 0:00:45\r     |▏                               | 5.4 MB 17.4 MB/s eta 0:00:45\r     |▏                               | 5.4 MB 17.4 MB/s eta 0:00:45\r     |▎                               | 5.4 MB 17.4 MB/s eta 0:00:45\r     |▎                               | 5.4 MB 17.4 MB/s eta 0:00:45\r     |▎                               | 5.4 MB 17.4 MB/s eta 0:00:45\r     |▎                               | 5.4 MB 17.4 MB/s eta 0:00:45\r     |▎                               | 5.5 MB 17.4 MB/s eta 0:00:45\r     |▎                               | 5.5 MB 17.4 MB/s eta 0:00:45\r     |▎                               | 5.5 MB 17.4 MB/s eta 0:00:45\r     |▎                               | 5.5 MB 17.4 MB/s eta 0:00:45\r     |▎                               | 5.5 MB 17.4 MB/s eta 0:00:45\r     |▎                               | 5.5 MB 17.4 MB/s eta 0:00:45\r     |▎                               | 5.5 MB 17.4 MB/s eta 0:00:45\r     |▎                               | 5.5 MB 17.4 MB/s eta 0:00:45\r     |▎                               | 5.5 MB 17.4 MB/s eta 0:00:45\r     |▎                               | 5.6 MB 17.4 MB/s eta 0:00:45\r     |▎                               | 5.6 MB 17.4 MB/s eta 0:00:45\r     |▎                               | 5.6 MB 17.4 MB/s eta 0:00:45\r     |▎                               | 5.6 MB 17.4 MB/s eta 0:00:45\r     |▎                               | 5.6 MB 17.4 MB/s eta 0:00:45\r     |▎                               | 5.6 MB 17.4 MB/s eta 0:00:45\r     |▎                               | 5.6 MB 17.4 MB/s eta 0:00:45\r     |▎                               | 5.6 MB 17.4 MB/s eta 0:00:45\r     |▎                               | 5.6 MB 17.4 MB/s eta 0:00:45\r     |▎                               | 5.6 MB 17.4 MB/s eta 0:00:45\r     |▎                               | 5.7 MB 17.4 MB/s eta 0:00:45\r     |▎                               | 5.7 MB 17.4 MB/s eta 0:00:45\r     |▎                               | 5.7 MB 17.4 MB/s eta 0:00:45\r     |▎                               | 5.7 MB 17.4 MB/s eta 0:00:45\r     |▎                               | 5.7 MB 17.4 MB/s eta 0:00:45\r     |▎                               | 5.7 MB 17.4 MB/s eta 0:00:45\r     |▎                               | 5.7 MB 17.4 MB/s eta 0:00:45\r     |▎                               | 5.7 MB 17.4 MB/s eta 0:00:45\r     |▎                               | 5.7 MB 17.4 MB/s eta 0:00:45\r     |▎                               | 5.7 MB 17.4 MB/s eta 0:00:45\r     |▎                               | 5.8 MB 17.4 MB/s eta 0:00:45\r     |▎                               | 5.8 MB 17.4 MB/s eta 0:00:45\r     |▎                               | 5.8 MB 17.4 MB/s eta 0:00:45\r     |▎                               | 5.8 MB 17.4 MB/s eta 0:00:45\r     |▎                               | 5.8 MB 17.4 MB/s eta 0:00:45\r     |▎                               | 5.8 MB 17.4 MB/s eta 0:00:45\r     |▎                               | 5.8 MB 17.4 MB/s eta 0:00:45\r     |▎                               | 5.8 MB 17.4 MB/s eta 0:00:45\r     |▎                               | 5.8 MB 17.4 MB/s eta 0:00:45\r     |▎                               | 5.8 MB 17.4 MB/s eta 0:00:45\r     |▎                               | 5.9 MB 17.4 MB/s eta 0:00:45\r     |▎                               | 5.9 MB 17.4 MB/s eta 0:00:45\r     |▎                               | 5.9 MB 17.4 MB/s eta 0:00:45\r     |▎                               | 5.9 MB 17.4 MB/s eta 0:00:45\r     |▎                               | 5.9 MB 17.4 MB/s eta 0:00:45\r     |▎                               | 5.9 MB 17.4 MB/s eta 0:00:45\r     |▎                               | 5.9 MB 17.4 MB/s eta 0:00:45\r     |▎                               | 5.9 MB 17.4 MB/s eta 0:00:45\r     |▎                               | 5.9 MB 17.4 MB/s eta 0:00:45\r     |▎                               | 5.9 MB 17.4 MB/s eta 0:00:45\r     |▎                               | 6.0 MB 17.4 MB/s eta 0:00:45\r     |▎                               | 6.0 MB 17.4 MB/s eta 0:00:45\r     |▎                               | 6.0 MB 17.4 MB/s eta 0:00:45\r     |▎                               | 6.0 MB 17.4 MB/s eta 0:00:45\r     |▎                               | 6.0 MB 17.4 MB/s eta 0:00:45\r     |▎                               | 6.0 MB 17.4 MB/s eta 0:00:45\r     |▎                               | 6.0 MB 17.4 MB/s eta 0:00:45\r     |▎                               | 6.0 MB 17.4 MB/s eta 0:00:45\r     |▎                               | 6.0 MB 17.4 MB/s eta 0:00:45\r     |▎                               | 6.1 MB 17.4 MB/s eta 0:00:45\r     |▎                               | 6.1 MB 17.4 MB/s eta 0:00:45\r     |▎                               | 6.1 MB 17.4 MB/s eta 0:00:45\r     |▎                               | 6.1 MB 17.4 MB/s eta 0:00:45\r     |▎                               | 6.1 MB 17.4 MB/s eta 0:00:45\r     |▎                               | 6.1 MB 17.4 MB/s eta 0:00:45\r     |▎                               | 6.1 MB 17.4 MB/s eta 0:00:45\r     |▎                               | 6.1 MB 17.4 MB/s eta 0:00:45\r     |▎                               | 6.1 MB 17.4 MB/s eta 0:00:45\r     |▎                               | 6.1 MB 17.4 MB/s eta 0:00:45\r     |▎                               | 6.2 MB 17.4 MB/s eta 0:00:45\r     |▎                               | 6.2 MB 17.4 MB/s eta 0:00:45\r     |▎                               | 6.2 MB 17.4 MB/s eta 0:00:45\r     |▎                               | 6.2 MB 17.4 MB/s eta 0:00:45\r     |▎                               | 6.2 MB 17.4 MB/s eta 0:00:45\r     |▎                               | 6.2 MB 17.4 MB/s eta 0:00:45\r     |▎                               | 6.2 MB 17.4 MB/s eta 0:00:45\r     |▎                               | 6.2 MB 17.4 MB/s eta 0:00:45\r     |▎                               | 6.2 MB 17.4 MB/s eta 0:00:45\r     |▎                               | 6.2 MB 17.4 MB/s eta 0:00:45\r     |▎                               | 6.3 MB 17.4 MB/s eta 0:00:45\r     |▎                               | 6.3 MB 17.4 MB/s eta 0:00:45\r     |▎                               | 6.3 MB 17.4 MB/s eta 0:00:45\r     |▎                               | 6.3 MB 17.4 MB/s eta 0:00:45\r     |▎                               | 6.3 MB 17.4 MB/s eta 0:00:45\r     |▎                               | 6.3 MB 17.4 MB/s eta 0:00:45\r     |▎                               | 6.3 MB 17.4 MB/s eta 0:00:45\r     |▎                               | 6.3 MB 17.4 MB/s eta 0:00:45\r     |▎                               | 6.3 MB 17.4 MB/s eta 0:00:45\r     |▎                               | 6.3 MB 17.4 MB/s eta 0:00:45\r     |▎                               | 6.4 MB 17.4 MB/s eta 0:00:45\r     |▎                               | 6.4 MB 17.4 MB/s eta 0:00:45\r     |▎                               | 6.4 MB 17.4 MB/s eta 0:00:45\r     |▎                               | 6.4 MB 17.4 MB/s eta 0:00:45\r     |▎                               | 6.4 MB 17.4 MB/s eta 0:00:45\r     |▎                               | 6.4 MB 17.4 MB/s eta 0:00:45\r     |▎                               | 6.4 MB 17.4 MB/s eta 0:00:45\r     |▎                               | 6.4 MB 17.4 MB/s eta 0:00:45\r     |▎                               | 6.4 MB 17.4 MB/s eta 0:00:45\r     |▎                               | 6.5 MB 17.4 MB/s eta 0:00:45\r     |▎                               | 6.5 MB 17.4 MB/s eta 0:00:45\r     |▎                               | 6.5 MB 17.4 MB/s eta 0:00:45\r     |▎                               | 6.5 MB 17.4 MB/s eta 0:00:45\r     |▎                               | 6.5 MB 17.4 MB/s eta 0:00:45\r     |▎                               | 6.5 MB 17.4 MB/s eta 0:00:45\r     |▎                               | 6.5 MB 17.4 MB/s eta 0:00:45\r     |▎                               | 6.5 MB 17.4 MB/s eta 0:00:45\r     |▎                               | 6.5 MB 17.4 MB/s eta 0:00:45\r     |▎                               | 6.5 MB 17.4 MB/s eta 0:00:45\r     |▎                               | 6.6 MB 17.4 MB/s eta 0:00:45\r     |▎                               | 6.6 MB 17.4 MB/s eta 0:00:45\r     |▎                               | 6.6 MB 17.4 MB/s eta 0:00:45\r     |▎                               | 6.6 MB 17.4 MB/s eta 0:00:45\r     |▎                               | 6.6 MB 17.4 MB/s eta 0:00:45\r     |▎                               | 6.6 MB 17.4 MB/s eta 0:00:45\r     |▎                               | 6.6 MB 17.4 MB/s eta 0:00:45\r     |▎                               | 6.6 MB 17.4 MB/s eta 0:00:45\r     |▎                               | 6.6 MB 17.4 MB/s eta 0:00:45\r     |▎                               | 6.6 MB 17.4 MB/s eta 0:00:45\r     |▎                               | 6.7 MB 17.4 MB/s eta 0:00:45\r     |▎                               | 6.7 MB 17.4 MB/s eta 0:00:45\r     |▎                               | 6.7 MB 17.4 MB/s eta 0:00:45\r     |▎                               | 6.7 MB 17.4 MB/s eta 0:00:45\r     |▎                               | 6.7 MB 17.4 MB/s eta 0:00:45\r     |▎                               | 6.7 MB 17.4 MB/s eta 0:00:45\r     |▎                               | 6.7 MB 17.4 MB/s eta 0:00:45\r     |▎                               | 6.7 MB 17.4 MB/s eta 0:00:45\r     |▎                               | 6.7 MB 17.4 MB/s eta 0:00:45\r     |▎                               | 6.7 MB 17.4 MB/s eta 0:00:45\r     |▎                               | 6.8 MB 17.4 MB/s eta 0:00:45\r     |▎                               | 6.8 MB 17.4 MB/s eta 0:00:45\r     |▎                               | 6.8 MB 17.4 MB/s eta 0:00:45\r     |▎                               | 6.8 MB 17.4 MB/s eta 0:00:45\r     |▎                               | 6.8 MB 17.4 MB/s eta 0:00:45\r     |▎                               | 6.8 MB 17.4 MB/s eta 0:00:45\r     |▎                               | 6.8 MB 17.4 MB/s eta 0:00:45\r     |▎                               | 6.8 MB 17.4 MB/s eta 0:00:45\r     |▎                               | 6.8 MB 17.4 MB/s eta 0:00:45\r     |▎                               | 6.9 MB 17.4 MB/s eta 0:00:45\r     |▎                               | 6.9 MB 17.4 MB/s eta 0:00:45\r     |▎                               | 6.9 MB 17.4 MB/s eta 0:00:45\r     |▎                               | 6.9 MB 17.4 MB/s eta 0:00:45\r     |▎                               | 6.9 MB 17.4 MB/s eta 0:00:45\r     |▎                               | 6.9 MB 17.4 MB/s eta 0:00:45\r     |▎                               | 6.9 MB 17.4 MB/s eta 0:00:45\r     |▎                               | 6.9 MB 17.4 MB/s eta 0:00:45\r     |▎                               | 6.9 MB 17.4 MB/s eta 0:00:45\r     |▎                               | 6.9 MB 17.4 MB/s eta 0:00:45\r     |▎                               | 7.0 MB 17.4 MB/s eta 0:00:45\r     |▎                               | 7.0 MB 17.4 MB/s eta 0:00:45\r     |▎                               | 7.0 MB 17.4 MB/s eta 0:00:45\r     |▎                               | 7.0 MB 17.4 MB/s eta 0:00:45\r     |▎                               | 7.0 MB 17.4 MB/s eta 0:00:45\r     |▎                               | 7.0 MB 17.4 MB/s eta 0:00:45\r     |▎                               | 7.0 MB 17.4 MB/s eta 0:00:45\r     |▎                               | 7.0 MB 17.4 MB/s eta 0:00:45\r     |▎                               | 7.0 MB 17.4 MB/s eta 0:00:45\r     |▎                               | 7.0 MB 17.4 MB/s eta 0:00:45\r     |▎                               | 7.1 MB 17.4 MB/s eta 0:00:45\r     |▎                               | 7.1 MB 17.4 MB/s eta 0:00:45\r     |▎                               | 7.1 MB 17.4 MB/s eta 0:00:45\r     |▎                               | 7.1 MB 17.4 MB/s eta 0:00:45\r     |▎                               | 7.1 MB 17.4 MB/s eta 0:00:45\r     |▎        \n",
       "*** WARNING: skipped 20343800 bytes of output ***\n",
       "\n",
       "████████████████████████████████| 4.7 MB 12.3 MB/s \r\n",
       "Requirement already satisfied: requests in /databricks/python3/lib/python3.8/site-packages (from torchdata) (2.25.1)\r\n",
       "Requirement already satisfied: torch&gt;=2 in /databricks/python3/lib/python3.8/site-packages (from torchdata) (2.3.1)\r\n",
       "Requirement already satisfied: urllib3&gt;=1.25 in /databricks/python3/lib/python3.8/site-packages (from torchdata) (1.25.11)\r\n",
       "Requirement already satisfied: nvidia-cuda-nvrtc-cu12==12.1.105 in /databricks/python3/lib/python3.8/site-packages (from torch&gt;=2-&gt;torchdata) (12.1.105)\r\n",
       "Requirement already satisfied: networkx in /databricks/python3/lib/python3.8/site-packages (from torch&gt;=2-&gt;torchdata) (3.1)\r\n",
       "Requirement already satisfied: nvidia-nvtx-cu12==12.1.105 in /databricks/python3/lib/python3.8/site-packages (from torch&gt;=2-&gt;torchdata) (12.1.105)\r\n",
       "Requirement already satisfied: nvidia-cufft-cu12==11.0.2.54 in /databricks/python3/lib/python3.8/site-packages (from torch&gt;=2-&gt;torchdata) (11.0.2.54)\r\n",
       "Requirement already satisfied: fsspec in /databricks/python3/lib/python3.8/site-packages (from torch&gt;=2-&gt;torchdata) (2024.6.1)\r\n",
       "Requirement already satisfied: nvidia-cusolver-cu12==11.4.5.107 in /databricks/python3/lib/python3.8/site-packages (from torch&gt;=2-&gt;torchdata) (11.4.5.107)\r\n",
       "Requirement already satisfied: triton==2.3.1 in /databricks/python3/lib/python3.8/site-packages (from torch&gt;=2-&gt;torchdata) (2.3.1)\r\n",
       "Requirement already satisfied: jinja2 in /databricks/python3/lib/python3.8/site-packages (from torch&gt;=2-&gt;torchdata) (2.11.3)\r\n",
       "Requirement already satisfied: nvidia-curand-cu12==10.3.2.106 in /databricks/python3/lib/python3.8/site-packages (from torch&gt;=2-&gt;torchdata) (10.3.2.106)\r\n",
       "Requirement already satisfied: nvidia-cuda-runtime-cu12==12.1.105 in /databricks/python3/lib/python3.8/site-packages (from torch&gt;=2-&gt;torchdata) (12.1.105)\r\n",
       "Requirement already satisfied: nvidia-nccl-cu12==2.20.5 in /databricks/python3/lib/python3.8/site-packages (from torch&gt;=2-&gt;torchdata) (2.20.5)\r\n",
       "Requirement already satisfied: nvidia-cuda-cupti-cu12==12.1.105 in /databricks/python3/lib/python3.8/site-packages (from torch&gt;=2-&gt;torchdata) (12.1.105)\r\n",
       "Requirement already satisfied: filelock in /usr/local/lib/python3.8/dist-packages (from torch&gt;=2-&gt;torchdata) (3.0.12)\r\n",
       "Requirement already satisfied: nvidia-cudnn-cu12==8.9.2.26 in /databricks/python3/lib/python3.8/site-packages (from torch&gt;=2-&gt;torchdata) (8.9.2.26)\r\n",
       "Requirement already satisfied: nvidia-cusparse-cu12==12.1.0.106 in /databricks/python3/lib/python3.8/site-packages (from torch&gt;=2-&gt;torchdata) (12.1.0.106)\r\n",
       "Requirement already satisfied: typing-extensions&gt;=4.8.0 in /databricks/python3/lib/python3.8/site-packages (from torch&gt;=2-&gt;torchdata) (4.12.2)\r\n",
       "Requirement already satisfied: nvidia-cublas-cu12==12.1.3.1 in /databricks/python3/lib/python3.8/site-packages (from torch&gt;=2-&gt;torchdata) (12.1.3.1)\r\n",
       "Requirement already satisfied: sympy in /databricks/python3/lib/python3.8/site-packages (from torch&gt;=2-&gt;torchdata) (1.13.0)\r\n",
       "Requirement already satisfied: nvidia-nvjitlink-cu12 in /databricks/python3/lib/python3.8/site-packages (from nvidia-cusolver-cu12==11.4.5.107-&gt;torch&gt;=2-&gt;torchdata) (12.5.82)\r\n",
       "Requirement already satisfied: MarkupSafe&gt;=0.23 in /databricks/python3/lib/python3.8/site-packages (from jinja2-&gt;torch&gt;=2-&gt;torchdata) (1.1.1)\r\n",
       "Requirement already satisfied: idna&lt;3,&gt;=2.5 in /databricks/python3/lib/python3.8/site-packages (from requests-&gt;torchdata) (2.10)\r\n",
       "Requirement already satisfied: certifi&gt;=2017.4.17 in /databricks/python3/lib/python3.8/site-packages (from requests-&gt;torchdata) (2020.12.5)\r\n",
       "Requirement already satisfied: chardet&lt;5,&gt;=3.0.2 in /databricks/python3/lib/python3.8/site-packages (from requests-&gt;torchdata) (4.0.0)\r\n",
       "Requirement already satisfied: mpmath&lt;1.4,&gt;=1.1.0 in /databricks/python3/lib/python3.8/site-packages (from sympy-&gt;torch&gt;=2-&gt;torchdata) (1.3.0)\r\n",
       "Installing collected packages: torchdata\r\n",
       "Successfully installed torchdata-0.7.1\r\n",
       "</div>"
      ]
     },
     "metadata": {
      "application/vnd.databricks.v1+output": {
       "addedWidgets": {},
       "arguments": {},
       "data": "<div class=\"ansiout\">Collecting torch\r\n  Downloading torch-2.3.1-cp38-cp38-manylinux1_x86_64.whl (779.1 MB)\r\n\r     |                                | 10 kB 17.3 MB/s eta 0:00:46\r     |                                | 20 kB 11.2 MB/s eta 0:01:10\r     |                                | 30 kB 15.6 MB/s eta 0:00:50\r     |                                | 40 kB 13.4 MB/s eta 0:00:59\r     |                                | 51 kB 11.4 MB/s eta 0:01:09\r     |                                | 61 kB 13.3 MB/s eta 0:00:59\r     |                                | 71 kB 15.0 MB/s eta 0:00:52\r     |                                | 81 kB 16.7 MB/s eta 0:00:47\r     |                                | 92 kB 16.1 MB/s eta 0:00:49\r     |                                | 102 kB 17.4 MB/s eta 0:00:45\r     |                                | 112 kB 17.4 MB/s eta 0:00:45\r     |                                | 122 kB 17.4 MB/s eta 0:00:45\r     |                                | 133 kB 17.4 MB/s eta 0:00:45\r     |                                | 143 kB 17.4 MB/s eta 0:00:45\r     |                                | 153 kB 17.4 MB/s eta 0:00:45\r     |                                | 163 kB 17.4 MB/s eta 0:00:45\r     |                                | 174 kB 17.4 MB/s eta 0:00:45\r     |                                | 184 kB 17.4 MB/s eta 0:00:45\r     |                                | 194 kB 17.4 MB/s eta 0:00:45\r     |                                | 204 kB 17.4 MB/s eta 0:00:45\r     |                                | 215 kB 17.4 MB/s eta 0:00:45\r     |                                | 225 kB 17.4 MB/s eta 0:00:45\r     |                                | 235 kB 17.4 MB/s eta 0:00:45\r     |                                | 245 kB 17.4 MB/s eta 0:00:45\r     |                                | 256 kB 17.4 MB/s eta 0:00:45\r     |                                | 266 kB 17.4 MB/s eta 0:00:45\r     |                                | 276 kB 17.4 MB/s eta 0:00:45\r     |                                | 286 kB 17.4 MB/s eta 0:00:45\r     |                                | 296 kB 17.4 MB/s eta 0:00:45\r     |                                | 307 kB 17.4 MB/s eta 0:00:45\r     |                                | 317 kB 17.4 MB/s eta 0:00:45\r     |                                | 327 kB 17.4 MB/s eta 0:00:45\r     |                                | 337 kB 17.4 MB/s eta 0:00:45\r     |                                | 348 kB 17.4 MB/s eta 0:00:45\r     |                                | 358 kB 17.4 MB/s eta 0:00:45\r     |                                | 368 kB 17.4 MB/s eta 0:00:45\r     |                                | 378 kB 17.4 MB/s eta 0:00:45\r     |                                | 389 kB 17.4 MB/s eta 0:00:45\r     |                                | 399 kB 17.4 MB/s eta 0:00:45\r     |                                | 409 kB 17.4 MB/s eta 0:00:45\r     |                                | 419 kB 17.4 MB/s eta 0:00:45\r     |                                | 430 kB 17.4 MB/s eta 0:00:45\r     |                                | 440 kB 17.4 MB/s eta 0:00:45\r     |                                | 450 kB 17.4 MB/s eta 0:00:45\r     |                                | 460 kB 17.4 MB/s eta 0:00:45\r     |                                | 471 kB 17.4 MB/s eta 0:00:45\r     |                                | 481 kB 17.4 MB/s eta 0:00:45\r     |                                | 491 kB 17.4 MB/s eta 0:00:45\r     |                                | 501 kB 17.4 MB/s eta 0:00:45\r     |                                | 512 kB 17.4 MB/s eta 0:00:45\r     |                                | 522 kB 17.4 MB/s eta 0:00:45\r     |                                | 532 kB 17.4 MB/s eta 0:00:45\r     |                                | 542 kB 17.4 MB/s eta 0:00:45\r     |                                | 552 kB 17.4 MB/s eta 0:00:45\r     |                                | 563 kB 17.4 MB/s eta 0:00:45\r     |                                | 573 kB 17.4 MB/s eta 0:00:45\r     |                                | 583 kB 17.4 MB/s eta 0:00:45\r     |                                | 593 kB 17.4 MB/s eta 0:00:45\r     |                                | 604 kB 17.4 MB/s eta 0:00:45\r     |                                | 614 kB 17.4 MB/s eta 0:00:45\r     |                                | 624 kB 17.4 MB/s eta 0:00:45\r     |                                | 634 kB 17.4 MB/s eta 0:00:45\r     |                                | 645 kB 17.4 MB/s eta 0:00:45\r     |                                | 655 kB 17.4 MB/s eta 0:00:45\r     |                                | 665 kB 17.4 MB/s eta 0:00:45\r     |                                | 675 kB 17.4 MB/s eta 0:00:45\r     |                                | 686 kB 17.4 MB/s eta 0:00:45\r     |                                | 696 kB 17.4 MB/s eta 0:00:45\r     |                                | 706 kB 17.4 MB/s eta 0:00:45\r     |                                | 716 kB 17.4 MB/s eta 0:00:45\r     |                                | 727 kB 17.4 MB/s eta 0:00:45\r     |                                | 737 kB 17.4 MB/s eta 0:00:45\r     |                                | 747 kB 17.4 MB/s eta 0:00:45\r     |                                | 757 kB 17.4 MB/s eta 0:00:45\r     |                                | 768 kB 17.4 MB/s eta 0:00:45\r     |                                | 778 kB 17.4 MB/s eta 0:00:45\r     |                                | 788 kB 17.4 MB/s eta 0:00:45\r     |                                | 798 kB 17.4 MB/s eta 0:00:45\r     |                                | 808 kB 17.4 MB/s eta 0:00:45\r     |                                | 819 kB 17.4 MB/s eta 0:00:45\r     |                                | 829 kB 17.4 MB/s eta 0:00:45\r     |                                | 839 kB 17.4 MB/s eta 0:00:45\r     |                                | 849 kB 17.4 MB/s eta 0:00:45\r     |                                | 860 kB 17.4 MB/s eta 0:00:45\r     |                                | 870 kB 17.4 MB/s eta 0:00:45\r     |                                | 880 kB 17.4 MB/s eta 0:00:45\r     |                                | 890 kB 17.4 MB/s eta 0:00:45\r     |                                | 901 kB 17.4 MB/s eta 0:00:45\r     |                                | 911 kB 17.4 MB/s eta 0:00:45\r     |                                | 921 kB 17.4 MB/s eta 0:00:45\r     |                                | 931 kB 17.4 MB/s eta 0:00:45\r     |                                | 942 kB 17.4 MB/s eta 0:00:45\r     |                                | 952 kB 17.4 MB/s eta 0:00:45\r     |                                | 962 kB 17.4 MB/s eta 0:00:45\r     |                                | 972 kB 17.4 MB/s eta 0:00:45\r     |                                | 983 kB 17.4 MB/s eta 0:00:45\r     |                                | 993 kB 17.4 MB/s eta 0:00:45\r     |                                | 1.0 MB 17.4 MB/s eta 0:00:45\r     |                                | 1.0 MB 17.4 MB/s eta 0:00:45\r     |                                | 1.0 MB 17.4 MB/s eta 0:00:45\r     |                                | 1.0 MB 17.4 MB/s eta 0:00:45\r     |                                | 1.0 MB 17.4 MB/s eta 0:00:45\r     |                                | 1.1 MB 17.4 MB/s eta 0:00:45\r     |                                | 1.1 MB 17.4 MB/s eta 0:00:45\r     |                                | 1.1 MB 17.4 MB/s eta 0:00:45\r     |                                | 1.1 MB 17.4 MB/s eta 0:00:45\r     |                                | 1.1 MB 17.4 MB/s eta 0:00:45\r     |                                | 1.1 MB 17.4 MB/s eta 0:00:45\r     |                                | 1.1 MB 17.4 MB/s eta 0:00:45\r     |                                | 1.1 MB 17.4 MB/s eta 0:00:45\r     |                                | 1.1 MB 17.4 MB/s eta 0:00:45\r     |                                | 1.1 MB 17.4 MB/s eta 0:00:45\r     |                                | 1.2 MB 17.4 MB/s eta 0:00:45\r     |                                | 1.2 MB 17.4 MB/s eta 0:00:45\r     |                                | 1.2 MB 17.4 MB/s eta 0:00:45\r     |                                | 1.2 MB 17.4 MB/s eta 0:00:45\r     |                                | 1.2 MB 17.4 MB/s eta 0:00:45\r     |                                | 1.2 MB 17.4 MB/s eta 0:00:45\r     |                                | 1.2 MB 17.4 MB/s eta 0:00:45\r     |                                | 1.2 MB 17.4 MB/s eta 0:00:45\r     |                                | 1.2 MB 17.4 MB/s eta 0:00:45\r     |                                | 1.2 MB 17.4 MB/s eta 0:00:45\r     |                                | 1.3 MB 17.4 MB/s eta 0:00:45\r     |                                | 1.3 MB 17.4 MB/s eta 0:00:45\r     |                                | 1.3 MB 17.4 MB/s eta 0:00:45\r     |                                | 1.3 MB 17.4 MB/s eta 0:00:45\r     |                                | 1.3 MB 17.4 MB/s eta 0:00:45\r     |                                | 1.3 MB 17.4 MB/s eta 0:00:45\r     |                                | 1.3 MB 17.4 MB/s eta 0:00:45\r     |                                | 1.3 MB 17.4 MB/s eta 0:00:45\r     |                                | 1.3 MB 17.4 MB/s eta 0:00:45\r     |                                | 1.4 MB 17.4 MB/s eta 0:00:45\r     |                                | 1.4 MB 17.4 MB/s eta 0:00:45\r     |                                | 1.4 MB 17.4 MB/s eta 0:00:45\r     |                                | 1.4 MB 17.4 MB/s eta 0:00:45\r     |                                | 1.4 MB 17.4 MB/s eta 0:00:45\r     |                                | 1.4 MB 17.4 MB/s eta 0:00:45\r     |                                | 1.4 MB 17.4 MB/s eta 0:00:45\r     |                                | 1.4 MB 17.4 MB/s eta 0:00:45\r     |                                | 1.4 MB 17.4 MB/s eta 0:00:45\r     |                                | 1.4 MB 17.4 MB/s eta 0:00:45\r     |                                | 1.5 MB 17.4 MB/s eta 0:00:45\r     |                                | 1.5 MB 17.4 MB/s eta 0:00:45\r     |                                | 1.5 MB 17.4 MB/s eta 0:00:45\r     |                                | 1.5 MB 17.4 MB/s eta 0:00:45\r     |                                | 1.5 MB 17.4 MB/s eta 0:00:45\r     |                                | 1.5 MB 17.4 MB/s eta 0:00:45\r     |                                | 1.5 MB 17.4 MB/s eta 0:00:45\r     |                                | 1.5 MB 17.4 MB/s eta 0:00:45\r     |                                | 1.5 MB 17.4 MB/s eta 0:00:45\r     |                                | 1.5 MB 17.4 MB/s eta 0:00:45\r     |                                | 1.6 MB 17.4 MB/s eta 0:00:45\r     |                                | 1.6 MB 17.4 MB/s eta 0:00:45\r     |                                | 1.6 MB 17.4 MB/s eta 0:00:45\r     |                                | 1.6 MB 17.4 MB/s eta 0:00:45\r     |                                | 1.6 MB 17.4 MB/s eta 0:00:45\r     |                                | 1.6 MB 17.4 MB/s eta 0:00:45\r     |                                | 1.6 MB 17.4 MB/s eta 0:00:45\r     |                                | 1.6 MB 17.4 MB/s eta 0:00:45\r     |                                | 1.6 MB 17.4 MB/s eta 0:00:45\r     |                                | 1.6 MB 17.4 MB/s eta 0:00:45\r     |                                | 1.7 MB 17.4 MB/s eta 0:00:45\r     |                                | 1.7 MB 17.4 MB/s eta 0:00:45\r     |                                | 1.7 MB 17.4 MB/s eta 0:00:45\r     |                                | 1.7 MB 17.4 MB/s eta 0:00:45\r     |                                | 1.7 MB 17.4 MB/s eta 0:00:45\r     |                                | 1.7 MB 17.4 MB/s eta 0:00:45\r     |                                | 1.7 MB 17.4 MB/s eta 0:00:45\r     |                                | 1.7 MB 17.4 MB/s eta 0:00:45\r     |                                | 1.7 MB 17.4 MB/s eta 0:00:45\r     |                                | 1.8 MB 17.4 MB/s eta 0:00:45\r     |                                | 1.8 MB 17.4 MB/s eta 0:00:45\r     |                                | 1.8 MB 17.4 MB/s eta 0:00:45\r     |                                | 1.8 MB 17.4 MB/s eta 0:00:45\r     |                                | 1.8 MB 17.4 MB/s eta 0:00:45\r     |                                | 1.8 MB 17.4 MB/s eta 0:00:45\r     |                                | 1.8 MB 17.4 MB/s eta 0:00:45\r     |                                | 1.8 MB 17.4 MB/s eta 0:00:45\r     |                                | 1.8 MB 17.4 MB/s eta 0:00:45\r     |                                | 1.8 MB 17.4 MB/s eta 0:00:45\r     |                                | 1.9 MB 17.4 MB/s eta 0:00:45\r     |                                | 1.9 MB 17.4 MB/s eta 0:00:45\r     |                                | 1.9 MB 17.4 MB/s eta 0:00:45\r     |                                | 1.9 MB 17.4 MB/s eta 0:00:45\r     |                                | 1.9 MB 17.4 MB/s eta 0:00:45\r     |                                | 1.9 MB 17.4 MB/s eta 0:00:45\r     |                                | 1.9 MB 17.4 MB/s eta 0:00:45\r     |                                | 1.9 MB 17.4 MB/s eta 0:00:45\r     |                                | 1.9 MB 17.4 MB/s eta 0:00:45\r     |                                | 1.9 MB 17.4 MB/s eta 0:00:45\r     |                                | 2.0 MB 17.4 MB/s eta 0:00:45\r     |                                | 2.0 MB 17.4 MB/s eta 0:00:45\r     |                                | 2.0 MB 17.4 MB/s eta 0:00:45\r     |                                | 2.0 MB 17.4 MB/s eta 0:00:45\r     |                                | 2.0 MB 17.4 MB/s eta 0:00:45\r     |                                | 2.0 MB 17.4 MB/s eta 0:00:45\r     |                                | 2.0 MB 17.4 MB/s eta 0:00:45\r     |                                | 2.0 MB 17.4 MB/s eta 0:00:45\r     |                                | 2.0 MB 17.4 MB/s eta 0:00:45\r     |                                | 2.0 MB 17.4 MB/s eta 0:00:45\r     |                                | 2.1 MB 17.4 MB/s eta 0:00:45\r     |                                | 2.1 MB 17.4 MB/s eta 0:00:45\r     |                                | 2.1 MB 17.4 MB/s eta 0:00:45\r     |                                | 2.1 MB 17.4 MB/s eta 0:00:45\r     |                                | 2.1 MB 17.4 MB/s eta 0:00:45\r     |                                | 2.1 MB 17.4 MB/s eta 0:00:45\r     |                                | 2.1 MB 17.4 MB/s eta 0:00:45\r     |                                | 2.1 MB 17.4 MB/s eta 0:00:45\r     |                                | 2.1 MB 17.4 MB/s eta 0:00:45\r     |                                | 2.2 MB 17.4 MB/s eta 0:00:45\r     |                                | 2.2 MB 17.4 MB/s eta 0:00:45\r     |                                | 2.2 MB 17.4 MB/s eta 0:00:45\r     |                                | 2.2 MB 17.4 MB/s eta 0:00:45\r     |                                | 2.2 MB 17.4 MB/s eta 0:00:45\r     |                                | 2.2 MB 17.4 MB/s eta 0:00:45\r     |                                | 2.2 MB 17.4 MB/s eta 0:00:45\r     |                                | 2.2 MB 17.4 MB/s eta 0:00:45\r     |                                | 2.2 MB 17.4 MB/s eta 0:00:45\r     |                                | 2.2 MB 17.4 MB/s eta 0:00:45\r     |                                | 2.3 MB 17.4 MB/s eta 0:00:45\r     |                                | 2.3 MB 17.4 MB/s eta 0:00:45\r     |                                | 2.3 MB 17.4 MB/s eta 0:00:45\r     |                                | 2.3 MB 17.4 MB/s eta 0:00:45\r     |                                | 2.3 MB 17.4 MB/s eta 0:00:45\r     |                                | 2.3 MB 17.4 MB/s eta 0:00:45\r     |                                | 2.3 MB 17.4 MB/s eta 0:00:45\r     |                                | 2.3 MB 17.4 MB/s eta 0:00:45\r     |                                | 2.3 MB 17.4 MB/s eta 0:00:45\r     |                                | 2.3 MB 17.4 MB/s eta 0:00:45\r     |                                | 2.4 MB 17.4 MB/s eta 0:00:45\r     |                                | 2.4 MB 17.4 MB/s eta 0:00:45\r     |                                | 2.4 MB 17.4 MB/s eta 0:00:45\r     |                                | 2.4 MB 17.4 MB/s eta 0:00:45\r     |                                | 2.4 MB 17.4 MB/s eta 0:00:45\r     |                                | 2.4 MB 17.4 MB/s eta 0:00:45\r     |                                | 2.4 MB 17.4 MB/s eta 0:00:45\r     |                                | 2.4 MB 17.4 MB/s eta 0:00:45\r     |                                | 2.4 MB 17.4 MB/s eta 0:00:45\r     |                                | 2.4 MB 17.4 MB/s eta 0:00:45\r     |                                | 2.5 MB 17.4 MB/s eta 0:00:45\r     |                                | 2.5 MB 17.4 MB/s eta 0:00:45\r     |                                | 2.5 MB 17.4 MB/s eta 0:00:45\r     |                                | 2.5 MB 17.4 MB/s eta 0:00:45\r     |                                | 2.5 MB 17.4 MB/s eta 0:00:45\r     |                                | 2.5 MB 17.4 MB/s eta 0:00:45\r     |                                | 2.5 MB 17.4 MB/s eta 0:00:45\r     |                                | 2.5 MB 17.4 MB/s eta 0:00:45\r     |                                | 2.5 MB 17.4 MB/s eta 0:00:45\r     |                                | 2.5 MB 17.4 MB/s eta 0:00:45\r     |                                | 2.6 MB 17.4 MB/s eta 0:00:45\r     |                                | 2.6 MB 17.4 MB/s eta 0:00:45\r     |                                | 2.6 MB 17.4 MB/s eta 0:00:45\r     |                                | 2.6 MB 17.4 MB/s eta 0:00:45\r     |                                | 2.6 MB 17.4 MB/s eta 0:00:45\r     |                                | 2.6 MB 17.4 MB/s eta 0:00:45\r     |                                | 2.6 MB 17.4 MB/s eta 0:00:45\r     |                                | 2.6 MB 17.4 MB/s eta 0:00:45\r     |                                | 2.6 MB 17.4 MB/s eta 0:00:45\r     |                                | 2.7 MB 17.4 MB/s eta 0:00:45\r     |                                | 2.7 MB 17.4 MB/s eta 0:00:45\r     |                                | 2.7 MB 17.4 MB/s eta 0:00:45\r     |                                | 2.7 MB 17.4 MB/s eta 0:00:45\r     |                                | 2.7 MB 17.4 MB/s eta 0:00:45\r     |                                | 2.7 MB 17.4 MB/s eta 0:00:45\r     |▏                               | 2.7 MB 17.4 MB/s eta 0:00:45\r     |▏                               | 2.7 MB 17.4 MB/s eta 0:00:45\r     |▏                               | 2.7 MB 17.4 MB/s eta 0:00:45\r     |▏                               | 2.7 MB 17.4 MB/s eta 0:00:45\r     |▏                               | 2.8 MB 17.4 MB/s eta 0:00:45\r     |▏                               | 2.8 MB 17.4 MB/s eta 0:00:45\r     |▏                               | 2.8 MB 17.4 MB/s eta 0:00:45\r     |▏                               | 2.8 MB 17.4 MB/s eta 0:00:45\r     |▏                               | 2.8 MB 17.4 MB/s eta 0:00:45\r     |▏                               | 2.8 MB 17.4 MB/s eta 0:00:45\r     |▏                               | 2.8 MB 17.4 MB/s eta 0:00:45\r     |▏                               | 2.8 MB 17.4 MB/s eta 0:00:45\r     |▏                               | 2.8 MB 17.4 MB/s eta 0:00:45\r     |▏                               | 2.8 MB 17.4 MB/s eta 0:00:45\r     |▏                               | 2.9 MB 17.4 MB/s eta 0:00:45\r     |▏                               | 2.9 MB 17.4 MB/s eta 0:00:45\r     |▏                               | 2.9 MB 17.4 MB/s eta 0:00:45\r     |▏                               | 2.9 MB 17.4 MB/s eta 0:00:45\r     |▏                               | 2.9 MB 17.4 MB/s eta 0:00:45\r     |▏                               | 2.9 MB 17.4 MB/s eta 0:00:45\r     |▏                               | 2.9 MB 17.4 MB/s eta 0:00:45\r     |▏                               | 2.9 MB 17.4 MB/s eta 0:00:45\r     |▏                               | 2.9 MB 17.4 MB/s eta 0:00:45\r     |▏                               | 2.9 MB 17.4 MB/s eta 0:00:45\r     |▏                               | 3.0 MB 17.4 MB/s eta 0:00:45\r     |▏                               | 3.0 MB 17.4 MB/s eta 0:00:45\r     |▏                               | 3.0 MB 17.4 MB/s eta 0:00:45\r     |▏                               | 3.0 MB 17.4 MB/s eta 0:00:45\r     |▏                               | 3.0 MB 17.4 MB/s eta 0:00:45\r     |▏                               | 3.0 MB 17.4 MB/s eta 0:00:45\r     |▏                               | 3.0 MB 17.4 MB/s eta 0:00:45\r     |▏                               | 3.0 MB 17.4 MB/s eta 0:00:45\r     |▏                               | 3.0 MB 17.4 MB/s eta 0:00:45\r     |▏                               | 3.1 MB 17.4 MB/s eta 0:00:45\r     |▏                               | 3.1 MB 17.4 MB/s eta 0:00:45\r     |▏                               | 3.1 MB 17.4 MB/s eta 0:00:45\r     |▏                               | 3.1 MB 17.4 MB/s eta 0:00:45\r     |▏                               | 3.1 MB 17.4 MB/s eta 0:00:45\r     |▏                               | 3.1 MB 17.4 MB/s eta 0:00:45\r     |▏                               | 3.1 MB 17.4 MB/s eta 0:00:45\r     |▏                               | 3.1 MB 17.4 MB/s eta 0:00:45\r     |▏                               | 3.1 MB 17.4 MB/s eta 0:00:45\r     |▏                               | 3.1 MB 17.4 MB/s eta 0:00:45\r     |▏                               | 3.2 MB 17.4 MB/s eta 0:00:45\r     |▏                               | 3.2 MB 17.4 MB/s eta 0:00:45\r     |▏                               | 3.2 MB 17.4 MB/s eta 0:00:45\r     |▏                               | 3.2 MB 17.4 MB/s eta 0:00:45\r     |▏                               | 3.2 MB 17.4 MB/s eta 0:00:45\r     |▏                               | 3.2 MB 17.4 MB/s eta 0:00:45\r     |▏                               | 3.2 MB 17.4 MB/s eta 0:00:45\r     |▏                               | 3.2 MB 17.4 MB/s eta 0:00:45\r     |▏                               | 3.2 MB 17.4 MB/s eta 0:00:45\r     |▏                               | 3.2 MB 17.4 MB/s eta 0:00:45\r     |▏                               | 3.3 MB 17.4 MB/s eta 0:00:45\r     |▏                               | 3.3 MB 17.4 MB/s eta 0:00:45\r     |▏                               | 3.3 MB 17.4 MB/s eta 0:00:45\r     |▏                               | 3.3 MB 17.4 MB/s eta 0:00:45\r     |▏                               | 3.3 MB 17.4 MB/s eta 0:00:45\r     |▏                               | 3.3 MB 17.4 MB/s eta 0:00:45\r     |▏                               | 3.3 MB 17.4 MB/s eta 0:00:45\r     |▏                               | 3.3 MB 17.4 MB/s eta 0:00:45\r     |▏                               | 3.3 MB 17.4 MB/s eta 0:00:45\r     |▏                               | 3.3 MB 17.4 MB/s eta 0:00:45\r     |▏                               | 3.4 MB 17.4 MB/s eta 0:00:45\r     |▏                               | 3.4 MB 17.4 MB/s eta 0:00:45\r     |▏                               | 3.4 MB 17.4 MB/s eta 0:00:45\r     |▏                               | 3.4 MB 17.4 MB/s eta 0:00:45\r     |▏                               | 3.4 MB 17.4 MB/s eta 0:00:45\r     |▏                               | 3.4 MB 17.4 MB/s eta 0:00:45\r     |▏                               | 3.4 MB 17.4 MB/s eta 0:00:45\r     |▏                               | 3.4 MB 17.4 MB/s eta 0:00:45\r     |▏                               | 3.4 MB 17.4 MB/s eta 0:00:45\r     |▏                               | 3.5 MB 17.4 MB/s eta 0:00:45\r     |▏                               | 3.5 MB 17.4 MB/s eta 0:00:45\r     |▏                               | 3.5 MB 17.4 MB/s eta 0:00:45\r     |▏                               | 3.5 MB 17.4 MB/s eta 0:00:45\r     |▏                               | 3.5 MB 17.4 MB/s eta 0:00:45\r     |▏                               | 3.5 MB 17.4 MB/s eta 0:00:45\r     |▏                               | 3.5 MB 17.4 MB/s eta 0:00:45\r     |▏                               | 3.5 MB 17.4 MB/s eta 0:00:45\r     |▏                               | 3.5 MB 17.4 MB/s eta 0:00:45\r     |▏                               | 3.5 MB 17.4 MB/s eta 0:00:45\r     |▏                               | 3.6 MB 17.4 MB/s eta 0:00:45\r     |▏                               | 3.6 MB 17.4 MB/s eta 0:00:45\r     |▏                               | 3.6 MB 17.4 MB/s eta 0:00:45\r     |▏                               | 3.6 MB 17.4 MB/s eta 0:00:45\r     |▏                               | 3.6 MB 17.4 MB/s eta 0:00:45\r     |▏                               | 3.6 MB 17.4 MB/s eta 0:00:45\r     |▏                               | 3.6 MB 17.4 MB/s eta 0:00:45\r     |▏                               | 3.6 MB 17.4 MB/s eta 0:00:45\r     |▏                               | 3.6 MB 17.4 MB/s eta 0:00:45\r     |▏                               | 3.6 MB 17.4 MB/s eta 0:00:45\r     |▏                               | 3.7 MB 17.4 MB/s eta 0:00:45\r     |▏                               | 3.7 MB 17.4 MB/s eta 0:00:45\r     |▏                               | 3.7 MB 17.4 MB/s eta 0:00:45\r     |▏                               | 3.7 MB 17.4 MB/s eta 0:00:45\r     |▏                               | 3.7 MB 17.4 MB/s eta 0:00:45\r     |▏                               | 3.7 MB 17.4 MB/s eta 0:00:45\r     |▏                               | 3.7 MB 17.4 MB/s eta 0:00:45\r     |▏                               | 3.7 MB 17.4 MB/s eta 0:00:45\r     |▏                               | 3.7 MB 17.4 MB/s eta 0:00:45\r     |▏                               | 3.7 MB 17.4 MB/s eta 0:00:45\r     |▏                               | 3.8 MB 17.4 MB/s eta 0:00:45\r     |▏                               | 3.8 MB 17.4 MB/s eta 0:00:45\r     |▏                               | 3.8 MB 17.4 MB/s eta 0:00:45\r     |▏                               | 3.8 MB 17.4 MB/s eta 0:00:45\r     |▏                               | 3.8 MB 17.4 MB/s eta 0:00:45\r     |▏                               | 3.8 MB 17.4 MB/s eta 0:00:45\r     |▏                               | 3.8 MB 17.4 MB/s eta 0:00:45\r     |▏                               | 3.8 MB 17.4 MB/s eta 0:00:45\r     |▏                               | 3.8 MB 17.4 MB/s eta 0:00:45\r     |▏                               | 3.9 MB 17.4 MB/s eta 0:00:45\r     |▏                               | 3.9 MB 17.4 MB/s eta 0:00:45\r     |▏                               | 3.9 MB 17.4 MB/s eta 0:00:45\r     |▏                               | 3.9 MB 17.4 MB/s eta 0:00:45\r     |▏                               | 3.9 MB 17.4 MB/s eta 0:00:45\r     |▏                               | 3.9 MB 17.4 MB/s eta 0:00:45\r     |▏                               | 3.9 MB 17.4 MB/s eta 0:00:45\r     |▏                               | 3.9 MB 17.4 MB/s eta 0:00:45\r     |▏                               | 3.9 MB 17.4 MB/s eta 0:00:45\r     |▏                               | 3.9 MB 17.4 MB/s eta 0:00:45\r     |▏                               | 4.0 MB 17.4 MB/s eta 0:00:45\r     |▏                               | 4.0 MB 17.4 MB/s eta 0:00:45\r     |▏                               | 4.0 MB 17.4 MB/s eta 0:00:45\r     |▏                               | 4.0 MB 17.4 MB/s eta 0:00:45\r     |▏                               | 4.0 MB 17.4 MB/s eta 0:00:45\r     |▏                               | 4.0 MB 17.4 MB/s eta 0:00:45\r     |▏                               | 4.0 MB 17.4 MB/s eta 0:00:45\r     |▏                               | 4.0 MB 17.4 MB/s eta 0:00:45\r     |▏                               | 4.0 MB 17.4 MB/s eta 0:00:45\r     |▏                               | 4.0 MB 17.4 MB/s eta 0:00:45\r     |▏                               | 4.1 MB 17.4 MB/s eta 0:00:45\r     |▏                               | 4.1 MB 17.4 MB/s eta 0:00:45\r     |▏                               | 4.1 MB 17.4 MB/s eta 0:00:45\r     |▏                               | 4.1 MB 17.4 MB/s eta 0:00:45\r     |▏                               | 4.1 MB 17.4 MB/s eta 0:00:45\r     |▏                               | 4.1 MB 17.4 MB/s eta 0:00:45\r     |▏                               | 4.1 MB 17.4 MB/s eta 0:00:45\r     |▏                               | 4.1 MB 17.4 MB/s eta 0:00:45\r     |▏                               | 4.1 MB 17.4 MB/s eta 0:00:45\r     |▏                               | 4.1 MB 17.4 MB/s eta 0:00:45\r     |▏                               | 4.2 MB 17.4 MB/s eta 0:00:45\r     |▏                               | 4.2 MB 17.4 MB/s eta 0:00:45\r     |▏                               | 4.2 MB 17.4 MB/s eta 0:00:45\r     |▏                               | 4.2 MB 17.4 MB/s eta 0:00:45\r     |▏                               | 4.2 MB 17.4 MB/s eta 0:00:45\r     |▏                               | 4.2 MB 17.4 MB/s eta 0:00:45\r     |▏                               | 4.2 MB 17.4 MB/s eta 0:00:45\r     |▏                               | 4.2 MB 17.4 MB/s eta 0:00:45\r     |▏                               | 4.2 MB 17.4 MB/s eta 0:00:45\r     |▏                               | 4.2 MB 17.4 MB/s eta 0:00:45\r     |▏                               | 4.3 MB 17.4 MB/s eta 0:00:45\r     |▏                               | 4.3 MB 17.4 MB/s eta 0:00:45\r     |▏                               | 4.3 MB 17.4 MB/s eta 0:00:45\r     |▏                               | 4.3 MB 17.4 MB/s eta 0:00:45\r     |▏                               | 4.3 MB 17.4 MB/s eta 0:00:45\r     |▏                               | 4.3 MB 17.4 MB/s eta 0:00:45\r     |▏                               | 4.3 MB 17.4 MB/s eta 0:00:45\r     |▏                               | 4.3 MB 17.4 MB/s eta 0:00:45\r     |▏                               | 4.3 MB 17.4 MB/s eta 0:00:45\r     |▏                               | 4.4 MB 17.4 MB/s eta 0:00:45\r     |▏                               | 4.4 MB 17.4 MB/s eta 0:00:45\r     |▏                               | 4.4 MB 17.4 MB/s eta 0:00:45\r     |▏                               | 4.4 MB 17.4 MB/s eta 0:00:45\r     |▏                               | 4.4 MB 17.4 MB/s eta 0:00:45\r     |▏                               | 4.4 MB 17.4 MB/s eta 0:00:45\r     |▏                               | 4.4 MB 17.4 MB/s eta 0:00:45\r     |▏                               | 4.4 MB 17.4 MB/s eta 0:00:45\r     |▏                               | 4.4 MB 17.4 MB/s eta 0:00:45\r     |▏                               | 4.4 MB 17.4 MB/s eta 0:00:45\r     |▏                               | 4.5 MB 17.4 MB/s eta 0:00:45\r     |▏                               | 4.5 MB 17.4 MB/s eta 0:00:45\r     |▏                               | 4.5 MB 17.4 MB/s eta 0:00:45\r     |▏                               | 4.5 MB 17.4 MB/s eta 0:00:45\r     |▏                               | 4.5 MB 17.4 MB/s eta 0:00:45\r     |▏                               | 4.5 MB 17.4 MB/s eta 0:00:45\r     |▏                               | 4.5 MB 17.4 MB/s eta 0:00:45\r     |▏                               | 4.5 MB 17.4 MB/s eta 0:00:45\r     |▏                               | 4.5 MB 17.4 MB/s eta 0:00:45\r     |▏                               | 4.5 MB 17.4 MB/s eta 0:00:45\r     |▏                               | 4.6 MB 17.4 MB/s eta 0:00:45\r     |▏                               | 4.6 MB 17.4 MB/s eta 0:00:45\r     |▏                               | 4.6 MB 17.4 MB/s eta 0:00:45\r     |▏                               | 4.6 MB 17.4 MB/s eta 0:00:45\r     |▏                               | 4.6 MB 17.4 MB/s eta 0:00:45\r     |▏                               | 4.6 MB 17.4 MB/s eta 0:00:45\r     |▏                               | 4.6 MB 17.4 MB/s eta 0:00:45\r     |▏                               | 4.6 MB 17.4 MB/s eta 0:00:45\r     |▏                               | 4.6 MB 17.4 MB/s eta 0:00:45\r     |▏                               | 4.6 MB 17.4 MB/s eta 0:00:45\r     |▏                               | 4.7 MB 17.4 MB/s eta 0:00:45\r     |▏                               | 4.7 MB 17.4 MB/s eta 0:00:45\r     |▏                               | 4.7 MB 17.4 MB/s eta 0:00:45\r     |▏                               | 4.7 MB 17.4 MB/s eta 0:00:45\r     |▏                               | 4.7 MB 17.4 MB/s eta 0:00:45\r     |▏                               | 4.7 MB 17.4 MB/s eta 0:00:45\r     |▏                               | 4.7 MB 17.4 MB/s eta 0:00:45\r     |▏                               | 4.7 MB 17.4 MB/s eta 0:00:45\r     |▏                               | 4.7 MB 17.4 MB/s eta 0:00:45\r     |▏                               | 4.8 MB 17.4 MB/s eta 0:00:45\r     |▏                               | 4.8 MB 17.4 MB/s eta 0:00:45\r     |▏                               | 4.8 MB 17.4 MB/s eta 0:00:45\r     |▏                               | 4.8 MB 17.4 MB/s eta 0:00:45\r     |▏                               | 4.8 MB 17.4 MB/s eta 0:00:45\r     |▏                               | 4.8 MB 17.4 MB/s eta 0:00:45\r     |▏                               | 4.8 MB 17.4 MB/s eta 0:00:45\r     |▏                               | 4.8 MB 17.4 MB/s eta 0:00:45\r     |▏                               | 4.8 MB 17.4 MB/s eta 0:00:45\r     |▏                               | 4.8 MB 17.4 MB/s eta 0:00:45\r     |▏                               | 4.9 MB 17.4 MB/s eta 0:00:45\r     |▏                               | 4.9 MB 17.4 MB/s eta 0:00:45\r     |▏                               | 4.9 MB 17.4 MB/s eta 0:00:45\r     |▏                               | 4.9 MB 17.4 MB/s eta 0:00:45\r     |▏                               | 4.9 MB 17.4 MB/s eta 0:00:45\r     |▏                               | 4.9 MB 17.4 MB/s eta 0:00:45\r     |▏                               | 4.9 MB 17.4 MB/s eta 0:00:45\r     |▏                               | 4.9 MB 17.4 MB/s eta 0:00:45\r     |▏                               | 4.9 MB 17.4 MB/s eta 0:00:45\r     |▏                               | 4.9 MB 17.4 MB/s eta 0:00:45\r     |▏                               | 5.0 MB 17.4 MB/s eta 0:00:45\r     |▏                               | 5.0 MB 17.4 MB/s eta 0:00:45\r     |▏                               | 5.0 MB 17.4 MB/s eta 0:00:45\r     |▏                               | 5.0 MB 17.4 MB/s eta 0:00:45\r     |▏                               | 5.0 MB 17.4 MB/s eta 0:00:45\r     |▏                               | 5.0 MB 17.4 MB/s eta 0:00:45\r     |▏                               | 5.0 MB 17.4 MB/s eta 0:00:45\r     |▏                               | 5.0 MB 17.4 MB/s eta 0:00:45\r     |▏                               | 5.0 MB 17.4 MB/s eta 0:00:45\r     |▏                               | 5.0 MB 17.4 MB/s eta 0:00:45\r     |▏                               | 5.1 MB 17.4 MB/s eta 0:00:45\r     |▏                               | 5.1 MB 17.4 MB/s eta 0:00:45\r     |▏                               | 5.1 MB 17.4 MB/s eta 0:00:45\r     |▏                               | 5.1 MB 17.4 MB/s eta 0:00:45\r     |▏                               | 5.1 MB 17.4 MB/s eta 0:00:45\r     |▏                               | 5.1 MB 17.4 MB/s eta 0:00:45\r     |▏                               | 5.1 MB 17.4 MB/s eta 0:00:45\r     |▏                               | 5.1 MB 17.4 MB/s eta 0:00:45\r     |▏                               | 5.1 MB 17.4 MB/s eta 0:00:45\r     |▏                               | 5.2 MB 17.4 MB/s eta 0:00:45\r     |▏                               | 5.2 MB 17.4 MB/s eta 0:00:45\r     |▏                               | 5.2 MB 17.4 MB/s eta 0:00:45\r     |▏                               | 5.2 MB 17.4 MB/s eta 0:00:45\r     |▏                               | 5.2 MB 17.4 MB/s eta 0:00:45\r     |▏                               | 5.2 MB 17.4 MB/s eta 0:00:45\r     |▏                               | 5.2 MB 17.4 MB/s eta 0:00:45\r     |▏                               | 5.2 MB 17.4 MB/s eta 0:00:45\r     |▏                               | 5.2 MB 17.4 MB/s eta 0:00:45\r     |▏                               | 5.2 MB 17.4 MB/s eta 0:00:45\r     |▏                               | 5.3 MB 17.4 MB/s eta 0:00:45\r     |▏                               | 5.3 MB 17.4 MB/s eta 0:00:45\r     |▏                               | 5.3 MB 17.4 MB/s eta 0:00:45\r     |▏                               | 5.3 MB 17.4 MB/s eta 0:00:45\r     |▏                               | 5.3 MB 17.4 MB/s eta 0:00:45\r     |▏                               | 5.3 MB 17.4 MB/s eta 0:00:45\r     |▏                               | 5.3 MB 17.4 MB/s eta 0:00:45\r     |▏                               | 5.3 MB 17.4 MB/s eta 0:00:45\r     |▏                               | 5.3 MB 17.4 MB/s eta 0:00:45\r     |▏                               | 5.3 MB 17.4 MB/s eta 0:00:45\r     |▏                               | 5.4 MB 17.4 MB/s eta 0:00:45\r     |▏                               | 5.4 MB 17.4 MB/s eta 0:00:45\r     |▏                               | 5.4 MB 17.4 MB/s eta 0:00:45\r     |▏                               | 5.4 MB 17.4 MB/s eta 0:00:45\r     |▏                               | 5.4 MB 17.4 MB/s eta 0:00:45\r     |▏                               | 5.4 MB 17.4 MB/s eta 0:00:45\r     |▎                               | 5.4 MB 17.4 MB/s eta 0:00:45\r     |▎                               | 5.4 MB 17.4 MB/s eta 0:00:45\r     |▎                               | 5.4 MB 17.4 MB/s eta 0:00:45\r     |▎                               | 5.4 MB 17.4 MB/s eta 0:00:45\r     |▎                               | 5.5 MB 17.4 MB/s eta 0:00:45\r     |▎                               | 5.5 MB 17.4 MB/s eta 0:00:45\r     |▎                               | 5.5 MB 17.4 MB/s eta 0:00:45\r     |▎                               | 5.5 MB 17.4 MB/s eta 0:00:45\r     |▎                               | 5.5 MB 17.4 MB/s eta 0:00:45\r     |▎                               | 5.5 MB 17.4 MB/s eta 0:00:45\r     |▎                               | 5.5 MB 17.4 MB/s eta 0:00:45\r     |▎                               | 5.5 MB 17.4 MB/s eta 0:00:45\r     |▎                               | 5.5 MB 17.4 MB/s eta 0:00:45\r     |▎                               | 5.6 MB 17.4 MB/s eta 0:00:45\r     |▎                               | 5.6 MB 17.4 MB/s eta 0:00:45\r     |▎                               | 5.6 MB 17.4 MB/s eta 0:00:45\r     |▎                               | 5.6 MB 17.4 MB/s eta 0:00:45\r     |▎                               | 5.6 MB 17.4 MB/s eta 0:00:45\r     |▎                               | 5.6 MB 17.4 MB/s eta 0:00:45\r     |▎                               | 5.6 MB 17.4 MB/s eta 0:00:45\r     |▎                               | 5.6 MB 17.4 MB/s eta 0:00:45\r     |▎                               | 5.6 MB 17.4 MB/s eta 0:00:45\r     |▎                               | 5.6 MB 17.4 MB/s eta 0:00:45\r     |▎                               | 5.7 MB 17.4 MB/s eta 0:00:45\r     |▎                               | 5.7 MB 17.4 MB/s eta 0:00:45\r     |▎                               | 5.7 MB 17.4 MB/s eta 0:00:45\r     |▎                               | 5.7 MB 17.4 MB/s eta 0:00:45\r     |▎                               | 5.7 MB 17.4 MB/s eta 0:00:45\r     |▎                               | 5.7 MB 17.4 MB/s eta 0:00:45\r     |▎                               | 5.7 MB 17.4 MB/s eta 0:00:45\r     |▎                               | 5.7 MB 17.4 MB/s eta 0:00:45\r     |▎                               | 5.7 MB 17.4 MB/s eta 0:00:45\r     |▎                               | 5.7 MB 17.4 MB/s eta 0:00:45\r     |▎                               | 5.8 MB 17.4 MB/s eta 0:00:45\r     |▎                               | 5.8 MB 17.4 MB/s eta 0:00:45\r     |▎                               | 5.8 MB 17.4 MB/s eta 0:00:45\r     |▎                               | 5.8 MB 17.4 MB/s eta 0:00:45\r     |▎                               | 5.8 MB 17.4 MB/s eta 0:00:45\r     |▎                               | 5.8 MB 17.4 MB/s eta 0:00:45\r     |▎                               | 5.8 MB 17.4 MB/s eta 0:00:45\r     |▎                               | 5.8 MB 17.4 MB/s eta 0:00:45\r     |▎                               | 5.8 MB 17.4 MB/s eta 0:00:45\r     |▎                               | 5.8 MB 17.4 MB/s eta 0:00:45\r     |▎                               | 5.9 MB 17.4 MB/s eta 0:00:45\r     |▎                               | 5.9 MB 17.4 MB/s eta 0:00:45\r     |▎                               | 5.9 MB 17.4 MB/s eta 0:00:45\r     |▎                               | 5.9 MB 17.4 MB/s eta 0:00:45\r     |▎                               | 5.9 MB 17.4 MB/s eta 0:00:45\r     |▎                               | 5.9 MB 17.4 MB/s eta 0:00:45\r     |▎                               | 5.9 MB 17.4 MB/s eta 0:00:45\r     |▎                               | 5.9 MB 17.4 MB/s eta 0:00:45\r     |▎                               | 5.9 MB 17.4 MB/s eta 0:00:45\r     |▎                               | 5.9 MB 17.4 MB/s eta 0:00:45\r     |▎                               | 6.0 MB 17.4 MB/s eta 0:00:45\r     |▎                               | 6.0 MB 17.4 MB/s eta 0:00:45\r     |▎                               | 6.0 MB 17.4 MB/s eta 0:00:45\r     |▎                               | 6.0 MB 17.4 MB/s eta 0:00:45\r     |▎                               | 6.0 MB 17.4 MB/s eta 0:00:45\r     |▎                               | 6.0 MB 17.4 MB/s eta 0:00:45\r     |▎                               | 6.0 MB 17.4 MB/s eta 0:00:45\r     |▎                               | 6.0 MB 17.4 MB/s eta 0:00:45\r     |▎                               | 6.0 MB 17.4 MB/s eta 0:00:45\r     |▎                               | 6.1 MB 17.4 MB/s eta 0:00:45\r     |▎                               | 6.1 MB 17.4 MB/s eta 0:00:45\r     |▎                               | 6.1 MB 17.4 MB/s eta 0:00:45\r     |▎                               | 6.1 MB 17.4 MB/s eta 0:00:45\r     |▎                               | 6.1 MB 17.4 MB/s eta 0:00:45\r     |▎                               | 6.1 MB 17.4 MB/s eta 0:00:45\r     |▎                               | 6.1 MB 17.4 MB/s eta 0:00:45\r     |▎                               | 6.1 MB 17.4 MB/s eta 0:00:45\r     |▎                               | 6.1 MB 17.4 MB/s eta 0:00:45\r     |▎                               | 6.1 MB 17.4 MB/s eta 0:00:45\r     |▎                               | 6.2 MB 17.4 MB/s eta 0:00:45\r     |▎                               | 6.2 MB 17.4 MB/s eta 0:00:45\r     |▎                               | 6.2 MB 17.4 MB/s eta 0:00:45\r     |▎                               | 6.2 MB 17.4 MB/s eta 0:00:45\r     |▎                               | 6.2 MB 17.4 MB/s eta 0:00:45\r     |▎                               | 6.2 MB 17.4 MB/s eta 0:00:45\r     |▎                               | 6.2 MB 17.4 MB/s eta 0:00:45\r     |▎                               | 6.2 MB 17.4 MB/s eta 0:00:45\r     |▎                               | 6.2 MB 17.4 MB/s eta 0:00:45\r     |▎                               | 6.2 MB 17.4 MB/s eta 0:00:45\r     |▎                               | 6.3 MB 17.4 MB/s eta 0:00:45\r     |▎                               | 6.3 MB 17.4 MB/s eta 0:00:45\r     |▎                               | 6.3 MB 17.4 MB/s eta 0:00:45\r     |▎                               | 6.3 MB 17.4 MB/s eta 0:00:45\r     |▎                               | 6.3 MB 17.4 MB/s eta 0:00:45\r     |▎                               | 6.3 MB 17.4 MB/s eta 0:00:45\r     |▎                               | 6.3 MB 17.4 MB/s eta 0:00:45\r     |▎                               | 6.3 MB 17.4 MB/s eta 0:00:45\r     |▎                               | 6.3 MB 17.4 MB/s eta 0:00:45\r     |▎                               | 6.3 MB 17.4 MB/s eta 0:00:45\r     |▎                               | 6.4 MB 17.4 MB/s eta 0:00:45\r     |▎                               | 6.4 MB 17.4 MB/s eta 0:00:45\r     |▎                               | 6.4 MB 17.4 MB/s eta 0:00:45\r     |▎                               | 6.4 MB 17.4 MB/s eta 0:00:45\r     |▎                               | 6.4 MB 17.4 MB/s eta 0:00:45\r     |▎                               | 6.4 MB 17.4 MB/s eta 0:00:45\r     |▎                               | 6.4 MB 17.4 MB/s eta 0:00:45\r     |▎                               | 6.4 MB 17.4 MB/s eta 0:00:45\r     |▎                               | 6.4 MB 17.4 MB/s eta 0:00:45\r     |▎                               | 6.5 MB 17.4 MB/s eta 0:00:45\r     |▎                               | 6.5 MB 17.4 MB/s eta 0:00:45\r     |▎                               | 6.5 MB 17.4 MB/s eta 0:00:45\r     |▎                               | 6.5 MB 17.4 MB/s eta 0:00:45\r     |▎                               | 6.5 MB 17.4 MB/s eta 0:00:45\r     |▎                               | 6.5 MB 17.4 MB/s eta 0:00:45\r     |▎                               | 6.5 MB 17.4 MB/s eta 0:00:45\r     |▎                               | 6.5 MB 17.4 MB/s eta 0:00:45\r     |▎                               | 6.5 MB 17.4 MB/s eta 0:00:45\r     |▎                               | 6.5 MB 17.4 MB/s eta 0:00:45\r     |▎                               | 6.6 MB 17.4 MB/s eta 0:00:45\r     |▎                               | 6.6 MB 17.4 MB/s eta 0:00:45\r     |▎                               | 6.6 MB 17.4 MB/s eta 0:00:45\r     |▎                               | 6.6 MB 17.4 MB/s eta 0:00:45\r     |▎                               | 6.6 MB 17.4 MB/s eta 0:00:45\r     |▎                               | 6.6 MB 17.4 MB/s eta 0:00:45\r     |▎                               | 6.6 MB 17.4 MB/s eta 0:00:45\r     |▎                               | 6.6 MB 17.4 MB/s eta 0:00:45\r     |▎                               | 6.6 MB 17.4 MB/s eta 0:00:45\r     |▎                               | 6.6 MB 17.4 MB/s eta 0:00:45\r     |▎                               | 6.7 MB 17.4 MB/s eta 0:00:45\r     |▎                               | 6.7 MB 17.4 MB/s eta 0:00:45\r     |▎                               | 6.7 MB 17.4 MB/s eta 0:00:45\r     |▎                               | 6.7 MB 17.4 MB/s eta 0:00:45\r     |▎                               | 6.7 MB 17.4 MB/s eta 0:00:45\r     |▎                               | 6.7 MB 17.4 MB/s eta 0:00:45\r     |▎                               | 6.7 MB 17.4 MB/s eta 0:00:45\r     |▎                               | 6.7 MB 17.4 MB/s eta 0:00:45\r     |▎                               | 6.7 MB 17.4 MB/s eta 0:00:45\r     |▎                               | 6.7 MB 17.4 MB/s eta 0:00:45\r     |▎                               | 6.8 MB 17.4 MB/s eta 0:00:45\r     |▎                               | 6.8 MB 17.4 MB/s eta 0:00:45\r     |▎                               | 6.8 MB 17.4 MB/s eta 0:00:45\r     |▎                               | 6.8 MB 17.4 MB/s eta 0:00:45\r     |▎                               | 6.8 MB 17.4 MB/s eta 0:00:45\r     |▎                               | 6.8 MB 17.4 MB/s eta 0:00:45\r     |▎                               | 6.8 MB 17.4 MB/s eta 0:00:45\r     |▎                               | 6.8 MB 17.4 MB/s eta 0:00:45\r     |▎                               | 6.8 MB 17.4 MB/s eta 0:00:45\r     |▎                               | 6.9 MB 17.4 MB/s eta 0:00:45\r     |▎                               | 6.9 MB 17.4 MB/s eta 0:00:45\r     |▎                               | 6.9 MB 17.4 MB/s eta 0:00:45\r     |▎                               | 6.9 MB 17.4 MB/s eta 0:00:45\r     |▎                               | 6.9 MB 17.4 MB/s eta 0:00:45\r     |▎                               | 6.9 MB 17.4 MB/s eta 0:00:45\r     |▎                               | 6.9 MB 17.4 MB/s eta 0:00:45\r     |▎                               | 6.9 MB 17.4 MB/s eta 0:00:45\r     |▎                               | 6.9 MB 17.4 MB/s eta 0:00:45\r     |▎                               | 6.9 MB 17.4 MB/s eta 0:00:45\r     |▎                               | 7.0 MB 17.4 MB/s eta 0:00:45\r     |▎                               | 7.0 MB 17.4 MB/s eta 0:00:45\r     |▎                               | 7.0 MB 17.4 MB/s eta 0:00:45\r     |▎                               | 7.0 MB 17.4 MB/s eta 0:00:45\r     |▎                               | 7.0 MB 17.4 MB/s eta 0:00:45\r     |▎                               | 7.0 MB 17.4 MB/s eta 0:00:45\r     |▎                               | 7.0 MB 17.4 MB/s eta 0:00:45\r     |▎                               | 7.0 MB 17.4 MB/s eta 0:00:45\r     |▎                               | 7.0 MB 17.4 MB/s eta 0:00:45\r     |▎                               | 7.0 MB 17.4 MB/s eta 0:00:45\r     |▎                               | 7.1 MB 17.4 MB/s eta 0:00:45\r     |▎                               | 7.1 MB 17.4 MB/s eta 0:00:45\r     |▎                               | 7.1 MB 17.4 MB/s eta 0:00:45\r     |▎                               | 7.1 MB 17.4 MB/s eta 0:00:45\r     |▎                               | 7.1 MB 17.4 MB/s eta 0:00:45\r     |▎        \n*** WARNING: skipped 20343800 bytes of output ***\n\n\r     |████████████████████████████████| 4.7 MB 12.3 MB/s \r\nRequirement already satisfied: requests in /databricks/python3/lib/python3.8/site-packages (from torchdata) (2.25.1)\r\nRequirement already satisfied: torch&gt;=2 in /databricks/python3/lib/python3.8/site-packages (from torchdata) (2.3.1)\r\nRequirement already satisfied: urllib3&gt;=1.25 in /databricks/python3/lib/python3.8/site-packages (from torchdata) (1.25.11)\r\nRequirement already satisfied: nvidia-cuda-nvrtc-cu12==12.1.105 in /databricks/python3/lib/python3.8/site-packages (from torch&gt;=2-&gt;torchdata) (12.1.105)\r\nRequirement already satisfied: networkx in /databricks/python3/lib/python3.8/site-packages (from torch&gt;=2-&gt;torchdata) (3.1)\r\nRequirement already satisfied: nvidia-nvtx-cu12==12.1.105 in /databricks/python3/lib/python3.8/site-packages (from torch&gt;=2-&gt;torchdata) (12.1.105)\r\nRequirement already satisfied: nvidia-cufft-cu12==11.0.2.54 in /databricks/python3/lib/python3.8/site-packages (from torch&gt;=2-&gt;torchdata) (11.0.2.54)\r\nRequirement already satisfied: fsspec in /databricks/python3/lib/python3.8/site-packages (from torch&gt;=2-&gt;torchdata) (2024.6.1)\r\nRequirement already satisfied: nvidia-cusolver-cu12==11.4.5.107 in /databricks/python3/lib/python3.8/site-packages (from torch&gt;=2-&gt;torchdata) (11.4.5.107)\r\nRequirement already satisfied: triton==2.3.1 in /databricks/python3/lib/python3.8/site-packages (from torch&gt;=2-&gt;torchdata) (2.3.1)\r\nRequirement already satisfied: jinja2 in /databricks/python3/lib/python3.8/site-packages (from torch&gt;=2-&gt;torchdata) (2.11.3)\r\nRequirement already satisfied: nvidia-curand-cu12==10.3.2.106 in /databricks/python3/lib/python3.8/site-packages (from torch&gt;=2-&gt;torchdata) (10.3.2.106)\r\nRequirement already satisfied: nvidia-cuda-runtime-cu12==12.1.105 in /databricks/python3/lib/python3.8/site-packages (from torch&gt;=2-&gt;torchdata) (12.1.105)\r\nRequirement already satisfied: nvidia-nccl-cu12==2.20.5 in /databricks/python3/lib/python3.8/site-packages (from torch&gt;=2-&gt;torchdata) (2.20.5)\r\nRequirement already satisfied: nvidia-cuda-cupti-cu12==12.1.105 in /databricks/python3/lib/python3.8/site-packages (from torch&gt;=2-&gt;torchdata) (12.1.105)\r\nRequirement already satisfied: filelock in /usr/local/lib/python3.8/dist-packages (from torch&gt;=2-&gt;torchdata) (3.0.12)\r\nRequirement already satisfied: nvidia-cudnn-cu12==8.9.2.26 in /databricks/python3/lib/python3.8/site-packages (from torch&gt;=2-&gt;torchdata) (8.9.2.26)\r\nRequirement already satisfied: nvidia-cusparse-cu12==12.1.0.106 in /databricks/python3/lib/python3.8/site-packages (from torch&gt;=2-&gt;torchdata) (12.1.0.106)\r\nRequirement already satisfied: typing-extensions&gt;=4.8.0 in /databricks/python3/lib/python3.8/site-packages (from torch&gt;=2-&gt;torchdata) (4.12.2)\r\nRequirement already satisfied: nvidia-cublas-cu12==12.1.3.1 in /databricks/python3/lib/python3.8/site-packages (from torch&gt;=2-&gt;torchdata) (12.1.3.1)\r\nRequirement already satisfied: sympy in /databricks/python3/lib/python3.8/site-packages (from torch&gt;=2-&gt;torchdata) (1.13.0)\r\nRequirement already satisfied: nvidia-nvjitlink-cu12 in /databricks/python3/lib/python3.8/site-packages (from nvidia-cusolver-cu12==11.4.5.107-&gt;torch&gt;=2-&gt;torchdata) (12.5.82)\r\nRequirement already satisfied: MarkupSafe&gt;=0.23 in /databricks/python3/lib/python3.8/site-packages (from jinja2-&gt;torch&gt;=2-&gt;torchdata) (1.1.1)\r\nRequirement already satisfied: idna&lt;3,&gt;=2.5 in /databricks/python3/lib/python3.8/site-packages (from requests-&gt;torchdata) (2.10)\r\nRequirement already satisfied: certifi&gt;=2017.4.17 in /databricks/python3/lib/python3.8/site-packages (from requests-&gt;torchdata) (2020.12.5)\r\nRequirement already satisfied: chardet&lt;5,&gt;=3.0.2 in /databricks/python3/lib/python3.8/site-packages (from requests-&gt;torchdata) (4.0.0)\r\nRequirement already satisfied: mpmath&lt;1.4,&gt;=1.1.0 in /databricks/python3/lib/python3.8/site-packages (from sympy-&gt;torch&gt;=2-&gt;torchdata) (1.3.0)\r\nInstalling collected packages: torchdata\r\nSuccessfully installed torchdata-0.7.1\r\n</div>",
       "datasetInfos": [],
       "metadata": {},
       "removedWidgets": [],
       "type": "html"
      }
     },
     "output_type": "display_data"
    },
    {
     "output_type": "display_data",
     "data": {
      "text/html": [
       "<style scoped>\n",
       "  .ansiout {\n",
       "    display: block;\n",
       "    unicode-bidi: embed;\n",
       "    white-space: pre-wrap;\n",
       "    word-wrap: break-word;\n",
       "    word-break: break-all;\n",
       "    font-family: \"Menlo\", \"Monaco\", \"Consolas\", \"Ubuntu Mono\", \"Source Code Pro\", monospace;\n",
       "    font-size: 13px;\n",
       "    color: #555;\n",
       "    margin-left: 4px;\n",
       "    line-height: 19px;\n",
       "  }\n",
       "</style>\n",
       "<div class=\"ansiout\"></div>"
      ]
     },
     "metadata": {
      "application/vnd.databricks.v1+output": {
       "addedWidgets": {},
       "arguments": {},
       "data": "<div class=\"ansiout\"></div>",
       "datasetInfos": [],
       "metadata": {},
       "removedWidgets": [],
       "type": "html"
      }
     },
     "output_type": "display_data"
    },
    {
     "output_type": "display_data",
     "data": {
      "text/html": [
       "<style scoped>\n",
       "  .ansiout {\n",
       "    display: block;\n",
       "    unicode-bidi: embed;\n",
       "    white-space: pre-wrap;\n",
       "    word-wrap: break-word;\n",
       "    word-break: break-all;\n",
       "    font-family: \"Menlo\", \"Monaco\", \"Consolas\", \"Ubuntu Mono\", \"Source Code Pro\", monospace;\n",
       "    font-size: 13px;\n",
       "    color: #555;\n",
       "    margin-left: 4px;\n",
       "    line-height: 19px;\n",
       "  }\n",
       "</style>\n",
       "<div class=\"ansiout\"></div>"
      ]
     },
     "metadata": {
      "application/vnd.databricks.v1+output": {
       "addedWidgets": {},
       "arguments": {},
       "data": "<div class=\"ansiout\"></div>",
       "datasetInfos": [],
       "metadata": {},
       "removedWidgets": [],
       "type": "html"
      }
     },
     "output_type": "display_data"
    },
    {
     "output_type": "display_data",
     "data": {
      "text/html": [
       "<style scoped>\n",
       "  .ansiout {\n",
       "    display: block;\n",
       "    unicode-bidi: embed;\n",
       "    white-space: pre-wrap;\n",
       "    word-wrap: break-word;\n",
       "    word-break: break-all;\n",
       "    font-family: \"Menlo\", \"Monaco\", \"Consolas\", \"Ubuntu Mono\", \"Source Code Pro\", monospace;\n",
       "    font-size: 13px;\n",
       "    color: #555;\n",
       "    margin-left: 4px;\n",
       "    line-height: 19px;\n",
       "  }\n",
       "</style>\n",
       "<div class=\"ansiout\"></div>"
      ]
     },
     "metadata": {
      "application/vnd.databricks.v1+output": {
       "addedWidgets": {},
       "arguments": {},
       "data": "<div class=\"ansiout\"></div>",
       "datasetInfos": [],
       "metadata": {},
       "removedWidgets": [],
       "type": "html"
      }
     },
     "output_type": "display_data"
    },
    {
     "output_type": "display_data",
     "data": {
      "text/html": [
       "<style scoped>\n",
       "  .ansiout {\n",
       "    display: block;\n",
       "    unicode-bidi: embed;\n",
       "    white-space: pre-wrap;\n",
       "    word-wrap: break-word;\n",
       "    word-break: break-all;\n",
       "    font-family: \"Menlo\", \"Monaco\", \"Consolas\", \"Ubuntu Mono\", \"Source Code Pro\", monospace;\n",
       "    font-size: 13px;\n",
       "    color: #555;\n",
       "    margin-left: 4px;\n",
       "    line-height: 19px;\n",
       "  }\n",
       "</style>\n",
       "<div class=\"ansiout\"></div>"
      ]
     },
     "metadata": {
      "application/vnd.databricks.v1+output": {
       "addedWidgets": {},
       "arguments": {},
       "data": "<div class=\"ansiout\"></div>",
       "datasetInfos": [],
       "metadata": {},
       "removedWidgets": [],
       "type": "html"
      }
     },
     "output_type": "display_data"
    },
    {
     "output_type": "display_data",
     "data": {
      "text/html": [
       "<style scoped>\n",
       "  .ansiout {\n",
       "    display: block;\n",
       "    unicode-bidi: embed;\n",
       "    white-space: pre-wrap;\n",
       "    word-wrap: break-word;\n",
       "    word-break: break-all;\n",
       "    font-family: \"Menlo\", \"Monaco\", \"Consolas\", \"Ubuntu Mono\", \"Source Code Pro\", monospace;\n",
       "    font-size: 13px;\n",
       "    color: #555;\n",
       "    margin-left: 4px;\n",
       "    line-height: 19px;\n",
       "  }\n",
       "</style>\n",
       "<div class=\"ansiout\"></div>"
      ]
     },
     "metadata": {
      "application/vnd.databricks.v1+output": {
       "addedWidgets": {},
       "arguments": {},
       "data": "<div class=\"ansiout\"></div>",
       "datasetInfos": [],
       "metadata": {},
       "removedWidgets": [],
       "type": "html"
      }
     },
     "output_type": "display_data"
    }
   ],
   "source": [
    "!pip install --disable-pip-version-check torch\n",
    "!pip install --disable-pip-version-check torchdata"
   ]
  },
  {
   "cell_type": "code",
   "execution_count": 0,
   "metadata": {
    "application/vnd.databricks.v1+cell": {
     "cellMetadata": {
      "byteLimit": 2048000,
      "rowLimit": 10000
     },
     "collapsed": true,
     "inputWidgets": {},
     "nuid": "35f0c137-36a0-47f7-80cc-00225cf64daa",
     "showTitle": false,
     "title": ""
    }
   },
   "outputs": [
    {
     "output_type": "display_data",
     "data": {
      "text/html": [
       "<style scoped>\n",
       "  .ansiout {\n",
       "    display: block;\n",
       "    unicode-bidi: embed;\n",
       "    white-space: pre-wrap;\n",
       "    word-wrap: break-word;\n",
       "    word-break: break-all;\n",
       "    font-family: \"Menlo\", \"Monaco\", \"Consolas\", \"Ubuntu Mono\", \"Source Code Pro\", monospace;\n",
       "    font-size: 13px;\n",
       "    color: #555;\n",
       "    margin-left: 4px;\n",
       "    line-height: 19px;\n",
       "  }\n",
       "</style>\n",
       "<div class=\"ansiout\">Collecting transformers\r\n",
       "  Downloading transformers-4.42.4-py3-none-any.whl (9.3 MB)\r\n",
       "                                | 10 kB 19.9 MB/s eta 0:00:01\r     |                                | 20 kB 26.7 MB/s eta 0:00:01\r     |                                | 30 kB 33.2 MB/s eta 0:00:01\r     |▏                               | 40 kB 23.2 MB/s eta 0:00:01\r     |▏                               | 51 kB 24.5 MB/s eta 0:00:01\r     |▏                               | 61 kB 27.7 MB/s eta 0:00:01\r     |▎                               | 71 kB 20.5 MB/s eta 0:00:01\r     |▎                               | 81 kB 22.6 MB/s eta 0:00:01\r     |▎                               | 92 kB 24.5 MB/s eta 0:00:01\r     |▍                               | 102 kB 21.9 MB/s eta 0:00:01\r     |▍                               | 112 kB 21.9 MB/s eta 0:00:01\r     |▍                               | 122 kB 21.9 MB/s eta 0:00:01\r     |▌                               | 133 kB 21.9 MB/s eta 0:00:01\r     |▌                               | 143 kB 21.9 MB/s eta 0:00:01\r     |▌                               | 153 kB 21.9 MB/s eta 0:00:01\r     |▋                               | 163 kB 21.9 MB/s eta 0:00:01\r     |▋                               | 174 kB 21.9 MB/s eta 0:00:01\r     |▋                               | 184 kB 21.9 MB/s eta 0:00:01\r     |▊                               | 194 kB 21.9 MB/s eta 0:00:01\r     |▊                               | 204 kB 21.9 MB/s eta 0:00:01\r     |▊                               | 215 kB 21.9 MB/s eta 0:00:01\r     |▊                               | 225 kB 21.9 MB/s eta 0:00:01\r     |▉                               | 235 kB 21.9 MB/s eta 0:00:01\r     |▉                               | 245 kB 21.9 MB/s eta 0:00:01\r     |▉                               | 256 kB 21.9 MB/s eta 0:00:01\r     |█                               | 266 kB 21.9 MB/s eta 0:00:01\r     |█                               | 276 kB 21.9 MB/s eta 0:00:01\r     |█                               | 286 kB 21.9 MB/s eta 0:00:01\r     |█                               | 296 kB 21.9 MB/s eta 0:00:01\r     |█                               | 307 kB 21.9 MB/s eta 0:00:01\r     |█                               | 317 kB 21.9 MB/s eta 0:00:01\r     |█▏                              | 327 kB 21.9 MB/s eta 0:00:01\r     |█▏                              | 337 kB 21.9 MB/s eta 0:00:01\r     |█▏                              | 348 kB 21.9 MB/s eta 0:00:01\r     |█▎                              | 358 kB 21.9 MB/s eta 0:00:01\r     |█▎                              | 368 kB 21.9 MB/s eta 0:00:01\r     |█▎                              | 378 kB 21.9 MB/s eta 0:00:01\r     |█▍                              | 389 kB 21.9 MB/s eta 0:00:01\r     |█▍                              | 399 kB 21.9 MB/s eta 0:00:01\r     |█▍                              | 409 kB 21.9 MB/s eta 0:00:01\r     |█▍                              | 419 kB 21.9 MB/s eta 0:00:01\r     |█▌                              | 430 kB 21.9 MB/s eta 0:00:01\r     |█▌                              | 440 kB 21.9 MB/s eta 0:00:01\r     |█▌                              | 450 kB 21.9 MB/s eta 0:00:01\r     |█▋                              | 460 kB 21.9 MB/s eta 0:00:01\r     |█▋                              | 471 kB 21.9 MB/s eta 0:00:01\r     |█▋                              | 481 kB 21.9 MB/s eta 0:00:01\r     |█▊                              | 491 kB 21.9 MB/s eta 0:00:01\r     |█▊                              | 501 kB 21.9 MB/s eta 0:00:01\r     |█▊                              | 512 kB 21.9 MB/s eta 0:00:01\r     |█▉                              | 522 kB 21.9 MB/s eta 0:00:01\r     |█▉                              | 532 kB 21.9 MB/s eta 0:00:01\r     |█▉                              | 542 kB 21.9 MB/s eta 0:00:01\r     |██                              | 552 kB 21.9 MB/s eta 0:00:01\r     |██                              | 563 kB 21.9 MB/s eta 0:00:01\r     |██                              | 573 kB 21.9 MB/s eta 0:00:01\r     |██                              | 583 kB 21.9 MB/s eta 0:00:01\r     |██                              | 593 kB 21.9 MB/s eta 0:00:01\r     |██                              | 604 kB 21.9 MB/s eta 0:00:01\r     |██                              | 614 kB 21.9 MB/s eta 0:00:01\r     |██▏                             | 624 kB 21.9 MB/s eta 0:00:01\r     |██▏                             | 634 kB 21.9 MB/s eta 0:00:01\r     |██▏                             | 645 kB 21.9 MB/s eta 0:00:01\r     |██▎                             | 655 kB 21.9 MB/s eta 0:00:01\r     |██▎                             | 665 kB 21.9 MB/s eta 0:00:01\r     |██▎                             | 675 kB 21.9 MB/s eta 0:00:01\r     |██▍                             | 686 kB 21.9 MB/s eta 0:00:01\r     |██▍                             | 696 kB 21.9 MB/s eta 0:00:01\r     |██▍                             | 706 kB 21.9 MB/s eta 0:00:01\r     |██▌                             | 716 kB 21.9 MB/s eta 0:00:01\r     |██▌                             | 727 kB 21.9 MB/s eta 0:00:01\r     |██▌                             | 737 kB 21.9 MB/s eta 0:00:01\r     |██▋                             | 747 kB 21.9 MB/s eta 0:00:01\r     |██▋                             | 757 kB 21.9 MB/s eta 0:00:01\r     |██▋                             | 768 kB 21.9 MB/s eta 0:00:01\r     |██▊                             | 778 kB 21.9 MB/s eta 0:00:01\r     |██▊                             | 788 kB 21.9 MB/s eta 0:00:01\r     |██▊                             | 798 kB 21.9 MB/s eta 0:00:01\r     |██▊                             | 808 kB 21.9 MB/s eta 0:00:01\r     |██▉                             | 819 kB 21.9 MB/s eta 0:00:01\r     |██▉                             | 829 kB 21.9 MB/s eta 0:00:01\r     |██▉                             | 839 kB 21.9 MB/s eta 0:00:01\r     |███                             | 849 kB 21.9 MB/s eta 0:00:01\r     |███                             | 860 kB 21.9 MB/s eta 0:00:01\r     |███                             | 870 kB 21.9 MB/s eta 0:00:01\r     |███                             | 880 kB 21.9 MB/s eta 0:00:01\r     |███                             | 890 kB 21.9 MB/s eta 0:00:01\r     |███                             | 901 kB 21.9 MB/s eta 0:00:01\r     |███▏                            | 911 kB 21.9 MB/s eta 0:00:01\r     |███▏                            | 921 kB 21.9 MB/s eta 0:00:01\r     |███▏                            | 931 kB 21.9 MB/s eta 0:00:01\r     |███▎                            | 942 kB 21.9 MB/s eta 0:00:01\r     |███▎                            | 952 kB 21.9 MB/s eta 0:00:01\r     |███▎                            | 962 kB 21.9 MB/s eta 0:00:01\r     |███▍                            | 972 kB 21.9 MB/s eta 0:00:01\r     |███▍                            | 983 kB 21.9 MB/s eta 0:00:01\r     |███▍                            | 993 kB 21.9 MB/s eta 0:00:01\r     |███▍                            | 1.0 MB 21.9 MB/s eta 0:00:01\r     |███▌                            | 1.0 MB 21.9 MB/s eta 0:00:01\r     |███▌                            | 1.0 MB 21.9 MB/s eta 0:00:01\r     |███▌                            | 1.0 MB 21.9 MB/s eta 0:00:01\r     |███▋                            | 1.0 MB 21.9 MB/s eta 0:00:01\r     |███▋                            | 1.1 MB 21.9 MB/s eta 0:00:01\r     |███▋                            | 1.1 MB 21.9 MB/s eta 0:00:01\r     |███▊                            | 1.1 MB 21.9 MB/s eta 0:00:01\r     |███▊                            | 1.1 MB 21.9 MB/s eta 0:00:01\r     |███▊                            | 1.1 MB 21.9 MB/s eta 0:00:01\r     |███▉                            | 1.1 MB 21.9 MB/s eta 0:00:01\r     |███▉                            | 1.1 MB 21.9 MB/s eta 0:00:01\r     |███▉                            | 1.1 MB 21.9 MB/s eta 0:00:01\r     |████                            | 1.1 MB 21.9 MB/s eta 0:00:01\r     |████                            | 1.1 MB 21.9 MB/s eta 0:00:01\r     |████                            | 1.2 MB 21.9 MB/s eta 0:00:01\r     |████                            | 1.2 MB 21.9 MB/s eta 0:00:01\r     |████                            | 1.2 MB 21.9 MB/s eta 0:00:01\r     |████                            | 1.2 MB 21.9 MB/s eta 0:00:01\r     |████                            | 1.2 MB 21.9 MB/s eta 0:00:01\r     |████▏                           | 1.2 MB 21.9 MB/s eta 0:00:01\r     |████▏                           | 1.2 MB 21.9 MB/s eta 0:00:01\r     |████▏                           | 1.2 MB 21.9 MB/s eta 0:00:01\r     |████▎                           | 1.2 MB 21.9 MB/s eta 0:00:01\r     |████▎                           | 1.2 MB 21.9 MB/s eta 0:00:01\r     |████▎                           | 1.3 MB 21.9 MB/s eta 0:00:01\r     |████▍                           | 1.3 MB 21.9 MB/s eta 0:00:01\r     |████▍                           | 1.3 MB 21.9 MB/s eta 0:00:01\r     |████▍                           | 1.3 MB 21.9 MB/s eta 0:00:01\r     |████▌                           | 1.3 MB 21.9 MB/s eta 0:00:01\r     |████▌                           | 1.3 MB 21.9 MB/s eta 0:00:01\r     |████▌                           | 1.3 MB 21.9 MB/s eta 0:00:01\r     |████▋                           | 1.3 MB 21.9 MB/s eta 0:00:01\r     |████▋                           | 1.3 MB 21.9 MB/s eta 0:00:01\r     |████▋                           | 1.4 MB 21.9 MB/s eta 0:00:01\r     |████▊                           | 1.4 MB 21.9 MB/s eta 0:00:01\r     |████▊                           | 1.4 MB 21.9 MB/s eta 0:00:01\r     |████▊                           | 1.4 MB 21.9 MB/s eta 0:00:01\r     |████▊                           | 1.4 MB 21.9 MB/s eta 0:00:01\r     |████▉                           | 1.4 MB 21.9 MB/s eta 0:00:01\r     |████▉                           | 1.4 MB 21.9 MB/s eta 0:00:01\r     |████▉                           | 1.4 MB 21.9 MB/s eta 0:00:01\r     |█████                           | 1.4 MB 21.9 MB/s eta 0:00:01\r     |█████                           | 1.4 MB 21.9 MB/s eta 0:00:01\r     |█████                           | 1.5 MB 21.9 MB/s eta 0:00:01\r     |█████                           | 1.5 MB 21.9 MB/s eta 0:00:01\r     |█████                           | 1.5 MB 21.9 MB/s eta 0:00:01\r     |█████                           | 1.5 MB 21.9 MB/s eta 0:00:01\r     |█████▏                          | 1.5 MB 21.9 MB/s eta 0:00:01\r     |█████▏                          | 1.5 MB 21.9 MB/s eta 0:00:01\r     |█████▏                          | 1.5 MB 21.9 MB/s eta 0:00:01\r     |█████▎                          | 1.5 MB 21.9 MB/s eta 0:00:01\r     |█████▎                          | 1.5 MB 21.9 MB/s eta 0:00:01\r     |█████▎                          | 1.5 MB 21.9 MB/s eta 0:00:01\r     |█████▍                          | 1.6 MB 21.9 MB/s eta 0:00:01\r     |█████▍                          | 1.6 MB 21.9 MB/s eta 0:00:01\r     |█████▍                          | 1.6 MB 21.9 MB/s eta 0:00:01\r     |█████▍                          | 1.6 MB 21.9 MB/s eta 0:00:01\r     |█████▌                          | 1.6 MB 21.9 MB/s eta 0:00:01\r     |█████▌                          | 1.6 MB 21.9 MB/s eta 0:00:01\r     |█████▌                          | 1.6 MB 21.9 MB/s eta 0:00:01\r     |█████▋                          | 1.6 MB 21.9 MB/s eta 0:00:01\r     |█████▋                          | 1.6 MB 21.9 MB/s eta 0:00:01\r     |█████▋                          | 1.6 MB 21.9 MB/s eta 0:00:01\r     |█████▊                          | 1.7 MB 21.9 MB/s eta 0:00:01\r     |█████▊                          | 1.7 MB 21.9 MB/s eta 0:00:01\r     |█████▊                          | 1.7 MB 21.9 MB/s eta 0:00:01\r     |█████▉                          | 1.7 MB 21.9 MB/s eta 0:00:01\r     |█████▉                          | 1.7 MB 21.9 MB/s eta 0:00:01\r     |█████▉                          | 1.7 MB 21.9 MB/s eta 0:00:01\r     |██████                          | 1.7 MB 21.9 MB/s eta 0:00:01\r     |██████                          | 1.7 MB 21.9 MB/s eta 0:00:01\r     |██████                          | 1.7 MB 21.9 MB/s eta 0:00:01\r     |██████                          | 1.8 MB 21.9 MB/s eta 0:00:01\r     |██████                          | 1.8 MB 21.9 MB/s eta 0:00:01\r     |██████                          | 1.8 MB 21.9 MB/s eta 0:00:01\r     |██████                          | 1.8 MB 21.9 MB/s eta 0:00:01\r     |██████▏                         | 1.8 MB 21.9 MB/s eta 0:00:01\r     |██████▏                         | 1.8 MB 21.9 MB/s eta 0:00:01\r     |██████▏                         | 1.8 MB 21.9 MB/s eta 0:00:01\r     |██████▎                         | 1.8 MB 21.9 MB/s eta 0:00:01\r     |██████▎                         | 1.8 MB 21.9 MB/s eta 0:00:01\r     |██████▎                         | 1.8 MB 21.9 MB/s eta 0:00:01\r     |██████▍                         | 1.9 MB 21.9 MB/s eta 0:00:01\r     |██████▍                         | 1.9 MB 21.9 MB/s eta 0:00:01\r     |██████▍                         | 1.9 MB 21.9 MB/s eta 0:00:01\r     |██████▌                         | 1.9 MB 21.9 MB/s eta 0:00:01\r     |██████▌                         | 1.9 MB 21.9 MB/s eta 0:00:01\r     |██████▌                         | 1.9 MB 21.9 MB/s eta 0:00:01\r     |██████▋                         | 1.9 MB 21.9 MB/s eta 0:00:01\r     |██████▋                         | 1.9 MB 21.9 MB/s eta 0:00:01\r     |██████▋                         | 1.9 MB 21.9 MB/s eta 0:00:01\r     |██████▊                         | 1.9 MB 21.9 MB/s eta 0:00:01\r     |██████▊                         | 2.0 MB 21.9 MB/s eta 0:00:01\r     |██████▊                         | 2.0 MB 21.9 MB/s eta 0:00:01\r     |██████▊                         | 2.0 MB 21.9 MB/s eta 0:00:01\r     |██████▉                         | 2.0 MB 21.9 MB/s eta 0:00:01\r     |██████▉                         | 2.0 MB 21.9 MB/s eta 0:00:01\r     |██████▉                         | 2.0 MB 21.9 MB/s eta 0:00:01\r     |███████                         | 2.0 MB 21.9 MB/s eta 0:00:01\r     |███████                         | 2.0 MB 21.9 MB/s eta 0:00:01\r     |███████                         | 2.0 MB 21.9 MB/s eta 0:00:01\r     |███████                         | 2.0 MB 21.9 MB/s eta 0:00:01\r     |███████                         | 2.1 MB 21.9 MB/s eta 0:00:01\r     |███████                         | 2.1 MB 21.9 MB/s eta 0:00:01\r     |███████▏                        | 2.1 MB 21.9 MB/s eta 0:00:01\r     |███████▏                        | 2.1 MB 21.9 MB/s eta 0:00:01\r     |███████▏                        | 2.1 MB 21.9 MB/s eta 0:00:01\r     |███████▎                        | 2.1 MB 21.9 MB/s eta 0:00:01\r     |███████▎                        | 2.1 MB 21.9 MB/s eta 0:00:01\r     |███████▎                        | 2.1 MB 21.9 MB/s eta 0:00:01\r     |███████▍                        | 2.1 MB 21.9 MB/s eta 0:00:01\r     |███████▍                        | 2.2 MB 21.9 MB/s eta 0:00:01\r     |███████▍                        | 2.2 MB 21.9 MB/s eta 0:00:01\r     |███████▍                        | 2.2 MB 21.9 MB/s eta 0:00:01\r     |███████▌                        | 2.2 MB 21.9 MB/s eta 0:00:01\r     |███████▌                        | 2.2 MB 21.9 MB/s eta 0:00:01\r     |███████▌                        | 2.2 MB 21.9 MB/s eta 0:00:01\r     |███████▋                        | 2.2 MB 21.9 MB/s eta 0:00:01\r     |███████▋                        | 2.2 MB 21.9 MB/s eta 0:00:01\r     |███████▋                        | 2.2 MB 21.9 MB/s eta 0:00:01\r     |███████▊                        | 2.2 MB 21.9 MB/s eta 0:00:01\r     |███████▊                        | 2.3 MB 21.9 MB/s eta 0:00:01\r     |███████▊                        | 2.3 MB 21.9 MB/s eta 0:00:01\r     |███████▉                        | 2.3 MB 21.9 MB/s eta 0:00:01\r     |███████▉                        | 2.3 MB 21.9 MB/s eta 0:00:01\r     |███████▉                        | 2.3 MB 21.9 MB/s eta 0:00:01\r     |████████                        | 2.3 MB 21.9 MB/s eta 0:00:01\r     |████████                        | 2.3 MB 21.9 MB/s eta 0:00:01\r     |████████                        | 2.3 MB 21.9 MB/s eta 0:00:01\r     |████████                        | 2.3 MB 21.9 MB/s eta 0:00:01\r     |████████                        | 2.3 MB 21.9 MB/s eta 0:00:01\r     |████████                        | 2.4 MB 21.9 MB/s eta 0:00:01\r     |████████                        | 2.4 MB 21.9 MB/s eta 0:00:01\r     |████████▏                       | 2.4 MB 21.9 MB/s eta 0:00:01\r     |████████▏                       | 2.4 MB 21.9 MB/s eta 0:00:01\r     |████████▏                       | 2.4 MB 21.9 MB/s eta 0:00:01\r     |████████▎                       | 2.4 MB 21.9 MB/s eta 0:00:01\r     |████████▎                       | 2.4 MB 21.9 MB/s eta 0:00:01\r     |████████▎                       | 2.4 MB 21.9 MB/s eta 0:00:01\r     |████████▍                       | 2.4 MB 21.9 MB/s eta 0:00:01\r     |████████▍                       | 2.4 MB 21.9 MB/s eta 0:00:01\r     |████████▍                       | 2.5 MB 21.9 MB/s eta 0:00:01\r     |████████▌                       | 2.5 MB 21.9 MB/s eta 0:00:01\r     |████████▌                       | 2.5 MB 21.9 MB/s eta 0:00:01\r     |████████▌                       | 2.5 MB 21.9 MB/s eta 0:00:01\r     |████████▋                       | 2.5 MB 21.9 MB/s eta 0:00:01\r     |████████▋                       | 2.5 MB 21.9 MB/s eta 0:00:01\r     |████████▋                       | 2.5 MB 21.9 MB/s eta 0:00:01\r     |████████▊                       | 2.5 MB 21.9 MB/s eta 0:00:01\r     |████████▊                       | 2.5 MB 21.9 MB/s eta 0:00:01\r     |████████▊                       | 2.5 MB 21.9 MB/s eta 0:00:01\r     |████████▊                       | 2.6 MB 21.9 MB/s eta 0:00:01\r     |████████▉                       | 2.6 MB 21.9 MB/s eta 0:00:01\r     |████████▉                       | 2.6 MB 21.9 MB/s eta 0:00:01\r     |████████▉                       | 2.6 MB 21.9 MB/s eta 0:00:01\r     |█████████                       | 2.6 MB 21.9 MB/s eta 0:00:01\r     |█████████                       | 2.6 MB 21.9 MB/s eta 0:00:01\r     |█████████                       | 2.6 MB 21.9 MB/s eta 0:00:01\r     |█████████                       | 2.6 MB 21.9 MB/s eta 0:00:01\r     |█████████                       | 2.6 MB 21.9 MB/s eta 0:00:01\r     |█████████                       | 2.7 MB 21.9 MB/s eta 0:00:01\r     |█████████▏                      | 2.7 MB 21.9 MB/s eta 0:00:01\r     |█████████▏                      | 2.7 MB 21.9 MB/s eta 0:00:01\r     |█████████▏                      | 2.7 MB 21.9 MB/s eta 0:00:01\r     |█████████▎                      | 2.7 MB 21.9 MB/s eta 0:00:01\r     |█████████▎                      | 2.7 MB 21.9 MB/s eta 0:00:01\r     |█████████▎                      | 2.7 MB 21.9 MB/s eta 0:00:01\r     |█████████▍                      | 2.7 MB 21.9 MB/s eta 0:00:01\r     |█████████▍                      | 2.7 MB 21.9 MB/s eta 0:00:01\r     |█████████▍                      | 2.7 MB 21.9 MB/s eta 0:00:01\r     |█████████▍                      | 2.8 MB 21.9 MB/s eta 0:00:01\r     |█████████▌                      | 2.8 MB 21.9 MB/s eta 0:00:01\r     |█████████▌                      | 2.8 MB 21.9 MB/s eta 0:00:01\r     |█████████▌                      | 2.8 MB 21.9 MB/s eta 0:00:01\r     |█████████▋                      | 2.8 MB 21.9 MB/s eta 0:00:01\r     |█████████▋                      | 2.8 MB 21.9 MB/s eta 0:00:01\r     |█████████▋                      | 2.8 MB 21.9 MB/s eta 0:00:01\r     |█████████▊                      | 2.8 MB 21.9 MB/s eta 0:00:01\r     |█████████▊                      | 2.8 MB 21.9 MB/s eta 0:00:01\r     |█████████▊                      | 2.8 MB 21.9 MB/s eta 0:00:01\r     |█████████▉                      | 2.9 MB 21.9 MB/s eta 0:00:01\r     |█████████▉                      | 2.9 MB 21.9 MB/s eta 0:00:01\r     |█████████▉                      | 2.9 MB 21.9 MB/s eta 0:00:01\r     |██████████                      | 2.9 MB 21.9 MB/s eta 0:00:01\r     |██████████                      | 2.9 MB 21.9 MB/s eta 0:00:01\r     |██████████                      | 2.9 MB 21.9 MB/s eta 0:00:01\r     |██████████                      | 2.9 MB 21.9 MB/s eta 0:00:01\r     |██████████                      | 2.9 MB 21.9 MB/s eta 0:00:01\r     |██████████                      | 2.9 MB 21.9 MB/s eta 0:00:01\r     |██████████                      | 2.9 MB 21.9 MB/s eta 0:00:01\r     |██████████▏                     | 3.0 MB 21.9 MB/s eta 0:00:01\r     |██████████▏                     | 3.0 MB 21.9 MB/s eta 0:00:01\r     |██████████▏                     | 3.0 MB 21.9 MB/s eta 0:00:01\r     |██████████▎                     | 3.0 MB 21.9 MB/s eta 0:00:01\r     |██████████▎                     | 3.0 MB 21.9 MB/s eta 0:00:01\r     |██████████▎                     | 3.0 MB 21.9 MB/s eta 0:00:01\r     |██████████▍                     | 3.0 MB 21.9 MB/s eta 0:00:01\r     |██████████▍                     | 3.0 MB 21.9 MB/s eta 0:00:01\r     |██████████▍                     | 3.0 MB 21.9 MB/s eta 0:00:01\r     |██████████▌                     | 3.1 MB 21.9 MB/s eta 0:00:01\r     |██████████▌                     | 3.1 MB 21.9 MB/s eta 0:00:01\r     |██████████▌                     | 3.1 MB 21.9 MB/s eta 0:00:01\r     |██████████▋                     | 3.1 MB 21.9 MB/s eta 0:00:01\r     |██████████▋                     | 3.1 MB 21.9 MB/s eta 0:00:01\r     |██████████▋                     | 3.1 MB 21.9 MB/s eta 0:00:01\r     |██████████▊                     | 3.1 MB 21.9 MB/s eta 0:00:01\r     |██████████▊                     | 3.1 MB 21.9 MB/s eta 0:00:01\r     |██████████▊                     | 3.1 MB 21.9 MB/s eta 0:00:01\r     |██████████▊                     | 3.1 MB 21.9 MB/s eta 0:00:01\r     |██████████▉                     | 3.2 MB 21.9 MB/s eta 0:00:01\r     |██████████▉                     | 3.2 MB 21.9 MB/s eta 0:00:01\r     |██████████▉                     | 3.2 MB 21.9 MB/s eta 0:00:01\r     |███████████                     | 3.2 MB 21.9 MB/s eta 0:00:01\r     |███████████                     | 3.2 MB 21.9 MB/s eta 0:00:01\r     |███████████                     | 3.2 MB 21.9 MB/s eta 0:00:01\r     |███████████                     | 3.2 MB 21.9 MB/s eta 0:00:01\r     |███████████                     | 3.2 MB 21.9 MB/s eta 0:00:01\r     |███████████                     | 3.2 MB 21.9 MB/s eta 0:00:01\r     |███████████▏                    | 3.2 MB 21.9 MB/s eta 0:00:01\r     |███████████▏                    | 3.3 MB 21.9 MB/s eta 0:00:01\r     |███████████▏                    | 3.3 MB 21.9 MB/s eta 0:00:01\r     |███████████▎                    | 3.3 MB 21.9 MB/s eta 0:00:01\r     |███████████▎                    | 3.3 MB 21.9 MB/s eta 0:00:01\r     |███████████▎                    | 3.3 MB 21.9 MB/s eta 0:00:01\r     |███████████▍                    | 3.3 MB 21.9 MB/s eta 0:00:01\r     |███████████▍                    | 3.3 MB 21.9 MB/s eta 0:00:01\r     |███████████▍                    | 3.3 MB 21.9 MB/s eta 0:00:01\r     |███████████▍                    | 3.3 MB 21.9 MB/s eta 0:00:01\r     |███████████▌                    | 3.3 MB 21.9 MB/s eta 0:00:01\r     |███████████▌                    | 3.4 MB 21.9 MB/s eta 0:00:01\r     |███████████▌                    | 3.4 MB 21.9 MB/s eta 0:00:01\r     |███████████▋                    | 3.4 MB 21.9 MB/s eta 0:00:01\r     |███████████▋                    | 3.4 MB 21.9 MB/s eta 0:00:01\r     |███████████▋                    | 3.4 MB 21.9 MB/s eta 0:00:01\r     |███████████▊                    | 3.4 MB 21.9 MB/s eta 0:00:01\r     |███████████▊                    | 3.4 MB 21.9 MB/s eta 0:00:01\r     |███████████▊                    | 3.4 MB 21.9 MB/s eta 0:00:01\r     |███████████▉                    | 3.4 MB 21.9 MB/s eta 0:00:01\r     |███████████▉                    | 3.5 MB 21.9 MB/s eta 0:00:01\r     |███████████▉                    | 3.5 MB 21.9 MB/s eta 0:00:01\r     |████████████                    | 3.5 MB 21.9 MB/s eta 0:00:01\r     |████████████                    | 3.5 MB 21.9 MB/s eta 0:00:01\r     |████████████                    | 3.5 MB 21.9 MB/s eta 0:00:01\r     |████████████                    | 3.5 MB 21.9 MB/s eta 0:00:01\r     |████████████                    | 3.5 MB 21.9 MB/s eta 0:00:01\r     |████████████                    | 3.5 MB 21.9 MB/s eta 0:00:01\r     |████████████                    | 3.5 MB 21.9 MB/s eta 0:00:01\r     |████████████▏                   | 3.5 MB 21.9 MB/s eta 0:00:01\r     |████████████▏                   | 3.6 MB 21.9 MB/s eta 0:00:01\r     |████████████▏                   | 3.6 MB 21.9 MB/s eta 0:00:01\r     |████████████▎                   | 3.6 MB 21.9 MB/s eta 0:00:01\r     |████████████▎                   | 3.6 MB 21.9 MB/s eta 0:00:01\r     |████████████▎                   | 3.6 MB 21.9 MB/s eta 0:00:01\r     |████████████▍                   | 3.6 MB 21.9 MB/s eta 0:00:01\r     |████████████▍                   | 3.6 MB 21.9 MB/s eta 0:00:01\r     |████████████▍                   | 3.6 MB 21.9 MB/s eta 0:00:01\r     |████████████▌                   | 3.6 MB 21.9 MB/s eta 0:00:01\r     |████████████▌                   | 3.6 MB 21.9 MB/s eta 0:00:01\r     |████████████▌                   | 3.7 MB 21.9 MB/s eta 0:00:01\r     |████████████▋                   | 3.7 MB 21.9 MB/s eta 0:00:01\r     |████████████▋                   | 3.7 MB 21.9 MB/s eta 0:00:01\r     |████████████▋                   | 3.7 MB 21.9 MB/s eta 0:00:01\r     |████████████▊                   | 3.7 MB 21.9 MB/s eta 0:00:01\r     |████████████▊                   | 3.7 MB 21.9 MB/s eta 0:00:01\r     |████████████▊                   | 3.7 MB 21.9 MB/s eta 0:00:01\r     |████████████▊                   | 3.7 MB 21.9 MB/s eta 0:00:01\r     |████████████▉                   | 3.7 MB 21.9 MB/s eta 0:00:01\r     |████████████▉                   | 3.7 MB 21.9 MB/s eta 0:00:01\r     |████████████▉                   | 3.8 MB 21.9 MB/s eta 0:00:01\r     |█████████████                   | 3.8 MB 21.9 MB/s eta 0:00:01\r     |█████████████                   | 3.8 MB 21.9 MB/s eta 0:00:01\r     |█████████████                   | 3.8 MB 21.9 MB/s eta 0:00:01\r     |█████████████                   | 3.8 MB 21.9 MB/s eta 0:00:01\r     |█████████████                   | 3.8 MB 21.9 MB/s eta 0:00:01\r     |█████████████                   | 3.8 MB 21.9 MB/s eta 0:00:01\r     |█████████████▏                  | 3.8 MB 21.9 MB/s eta 0:00:01\r     |█████████████▏                  | 3.8 MB 21.9 MB/s eta 0:00:01\r     |█████████████▏                  | 3.9 MB 21.9 MB/s eta 0:00:01\r     |█████████████▎                  | 3.9 MB 21.9 MB/s eta 0:00:01\r     |█████████████▎                  | 3.9 MB 21.9 MB/s eta 0:00:01\r     |█████████████▎                  | 3.9 MB 21.9 MB/s eta 0:00:01\r     |█████████████▍                  | 3.9 MB 21.9 MB/s eta 0:00:01\r     |█████████████▍                  | 3.9 MB 21.9 MB/s eta 0:00:01\r     |█████████████▍                  | 3.9 MB 21.9 MB/s eta 0:00:01\r     |█████████████▍                  | 3.9 MB 21.9 MB/s eta 0:00:01\r     |█████████████▌                  | 3.9 MB 21.9 MB/s eta 0:00:01\r     |█████████████▌                  | 3.9 MB 21.9 MB/s eta 0:00:01\r     |█████████████▌                  | 4.0 MB 21.9 MB/s eta 0:00:01\r     |█████████████▋                  | 4.0 MB 21.9 MB/s eta 0:00:01\r     |█████████████▋                  | 4.0 MB 21.9 MB/s eta 0:00:01\r     |█████████████▋                  | 4.0 MB 21.9 MB/s eta 0:00:01\r     |█████████████▊                  | 4.0 MB 21.9 MB/s eta 0:00:01\r     |█████████████▊                  | 4.0 MB 21.9 MB/s eta 0:00:01\r     |█████████████▊                  | 4.0 MB 21.9 MB/s eta 0:00:01\r     |█████████████▉                  | 4.0 MB 21.9 MB/s eta 0:00:01\r     |█████████████▉                  | 4.0 MB 21.9 MB/s eta 0:00:01\r     |█████████████▉                  | 4.0 MB 21.9 MB/s eta 0:00:01\r     |██████████████                  | 4.1 MB 21.9 MB/s eta 0:00:01\r     |██████████████                  | 4.1 MB 21.9 MB/s eta 0:00:01\r     |██████████████                  | 4.1 MB 21.9 MB/s eta 0:00:01\r     |██████████████                  | 4.1 MB 21.9 MB/s eta 0:00:01\r     |██████████████                  | 4.1 MB 21.9 MB/s eta 0:00:01\r     |██████████████                  | 4.1 MB 21.9 MB/s eta 0:00:01\r     |██████████████                  | 4.1 MB 21.9 MB/s eta 0:00:01\r     |██████████████▏                 | 4.1 MB 21.9 MB/s eta 0:00:01\r     |██████████████▏                 | 4.1 MB 21.9 MB/s eta 0:00:01\r     |██████████████▏                 | 4.1 MB 21.9 MB/s eta 0:00:01\r     |██████████████▎                 | 4.2 MB 21.9 MB/s eta 0:00:01\r     |██████████████▎                 | 4.2 MB 21.9 MB/s eta 0:00:01\r     |██████████████▎                 | 4.2 MB 21.9 MB/s eta 0:00:01\r     |██████████████▍                 | 4.2 MB 21.9 MB/s eta 0:00:01\r     |██████████████▍                 | 4.2 MB 21.9 MB/s eta 0:00:01\r     |██████████████▍                 | 4.2 MB 21.9 MB/s eta 0:00:01\r     |██████████████▌                 | 4.2 MB 21.9 MB/s eta 0:00:01\r     |██████████████▌                 | 4.2 MB 21.9 MB/s eta 0:00:01\r     |██████████████▌                 | 4.2 MB 21.9 MB/s eta 0:00:01\r     |██████████████▋                 | 4.2 MB 21.9 MB/s eta 0:00:01\r     |██████████████▋                 | 4.3 MB 21.9 MB/s eta 0:00:01\r     |██████████████▋                 | 4.3 MB 21.9 MB/s eta 0:00:01\r     |██████████████▊                 | 4.3 MB 21.9 MB/s eta 0:00:01\r     |██████████████▊                 | 4.3 MB 21.9 MB/s eta 0:00:01\r     |██████████████▊                 | 4.3 MB 21.9 MB/s eta 0:00:01\r     |██████████████▊                 | 4.3 MB 21.9 MB/s eta 0:00:01\r     |██████████████▉                 | 4.3 MB 21.9 MB/s eta 0:00:01\r     |██████████████▉                 | 4.3 MB 21.9 MB/s eta 0:00:01\r     |██████████████▉                 | 4.3 MB 21.9 MB/s eta 0:00:01\r     |███████████████                 | 4.4 MB 21.9 MB/s eta 0:00:01\r     |███████████████                 | 4.4 MB 21.9 MB/s eta 0:00:01\r     |███████████████                 | 4.4 MB 21.9 MB/s eta 0:00:01\r     |███████████████                 | 4.4 MB 21.9 MB/s eta 0:00:01\r     |███████████████                 | 4.4 MB 21.9 MB/s eta 0:00:01\r     |███████████████                 | 4.4 MB 21.9 MB/s eta 0:00:01\r     |███████████████▏                | 4.4 MB 21.9 MB/s eta 0:00:01\r     |███████████████▏                | 4.4 MB 21.9 MB/s eta 0:00:01\r     |███████████████▏                | 4.4 MB 21.9 MB/s eta 0:00:01\r     |███████████████▎                | 4.4 MB 21.9 MB/s eta 0:00:01\r     |███████████████▎                | 4.5 MB 21.9 MB/s eta 0:00:01\r     |███████████████▎                | 4.5 MB 21.9 MB/s eta 0:00:01\r     |███████████████▍                | 4.5 MB 21.9 MB/s eta 0:00:01\r     |███████████████▍                | 4.5 MB 21.9 MB/s eta 0:00:01\r     |███████████████▍                | 4.5 MB 21.9 MB/s eta 0:00:01\r     |███████████████▍                | 4.5 MB 21.9 MB/s eta 0:00:01\r     |███████████████▌                | 4.5 MB 21.9 MB/s eta 0:00:01\r     |███████████████▌                | 4.5 MB 21.9 MB/s eta 0:00:01\r     |███████████████▌                | 4.5 MB 21.9 MB/s eta 0:00:01\r     |███████████████▋                | 4.5 MB 21.9 MB/s eta 0:00:01\r     |███████████████▋                | 4.6 MB 21.9 MB/s eta 0:00:01\r     |███████████████▋                | 4.6 MB 21.9 MB/s eta 0:00:01\r     |███████████████▊                | 4.6 MB 21.9 MB/s eta 0:00:01\r     |███████████████▊                | 4.6 MB 21.9 MB/s eta 0:00:01\r     |███████████████▊                | 4.6 MB 21.9 MB/s eta 0:00:01\r     |███████████████▉                | 4.6 MB 21.9 MB/s eta 0:00:01\r     |███████████████▉                | 4.6 MB 21.9 MB/s eta 0:00:01\r     |███████████████▉                | 4.6 MB 21.9 MB/s eta 0:00:01\r     |████████████████                | 4.6 MB 21.9 MB/s eta 0:00:01\r     |████████████████                | 4.6 MB 21.9 MB/s eta 0:00:01\r     |████████████████                | 4.7 MB 21.9 MB/s eta 0:00:01\r     |████████████████                | 4.7 MB 21.9 MB/s eta 0:00:01\r     |████████████████                | 4.7 MB 21.9 MB/s eta 0:00:01\r     |████████████████                | 4.7 MB 21.9 MB/s eta 0:00:01\r     |████████████████                | 4.7 MB 21.9 MB/s eta 0:00:01\r     |████████████████▏               | 4.7 MB 21.9 MB/s eta 0:00:01\r     |████████████████▏               | 4.7 MB 21.9 MB/s eta 0:00:01\r     |████████████████▏               | 4.7 MB 21.9 MB/s eta 0:00:01\r     |████████████████▎               | 4.7 MB 21.9 MB/s eta 0:00:01\r     |████████████████▎               | 4.8 MB 21.9 MB/s eta 0:00:01\r     |████████████████▎               | 4.8 MB 21.9 MB/s eta 0:00:01\r     |████████████████▍               | 4.8 MB 21.9 MB/s eta 0:00:01\r     |████████████████▍               | 4.8 MB 21.9 MB/s eta 0:00:01\r     |████████████████▍               | 4.8 MB 21.9 MB/s eta 0:00:01\r     |████████████████▌               | 4.8 MB 21.9 MB/s eta 0:00:01\r     |████████████████▌               | 4.8 MB 21.9 MB/s eta 0:00:01\r     |████████████████▌               | 4.8 MB 21.9 MB/s eta 0:00:01\r     |████████████████▋               | 4.8 MB 21.9 MB/s eta 0:00:01\r     |████████████████▋               | 4.8 MB 21.9 MB/s eta 0:00:01\r     |████████████████▋               | 4.9 MB 21.9 MB/s eta 0:00:01\r     |████████████████▊               | 4.9 MB 21.9 MB/s eta 0:00:01\r     |████████████████▊               | 4.9 MB 21.9 MB/s eta 0:00:01\r     |████████████████▊               | 4.9 MB 21.9 MB/s eta 0:00:01\r     |████████████████▊               | 4.9 MB 21.9 MB/s eta 0:00:01\r     |████████████████▉               | 4.9 MB 21.9 MB/s eta 0:00:01\r     |████████████████▉               | 4.9 MB 21.9 MB/s eta 0:00:01\r     |████████████████▉               | 4.9 MB 21.9 MB/s eta 0:00:01\r     |█████████████████               | 4.9 MB 21.9 MB/s eta 0:00:01\r     |█████████████████               | 4.9 MB 21.9 MB/s eta 0:00:01\r     |█████████████████               | 5.0 MB 21.9 MB/s eta 0:00:01\r     |█████████████████               | 5.0 MB 21.9 MB/s eta 0:00:01\r     |█████████████████               | 5.0 MB 21.9 MB/s eta 0:00:01\r     |█████████████████               | 5.0 MB 21.9 MB/s eta 0:00:01\r     |█████████████████▏              | 5.0 MB 21.9 MB/s eta 0:00:01\r     |█████████████████▏              | 5.0 MB 21.9 MB/s eta 0:00:01\r     |█████████████████▏              | 5.0 MB 21.9 MB/s eta 0:00:01\r     |█████████████████▎              | 5.0 MB 21.9 MB/s eta 0:00:01\r     |█████████████████▎              | 5.0 MB 21.9 MB/s eta 0:00:01\r     |█████████████████▎              | 5.0 MB 21.9 MB/s eta 0:00:01\r     |█████████████████▍              | 5.1 MB 21.9 MB/s eta 0:00:01\r     |█████████████████▍              | 5.1 MB 21.9 MB/s eta 0:00:01\r     |█████████████████▍              | 5.1 MB 21.9 MB/s eta 0:00:01\r     |█████████████████▍              | 5.1 MB 21.9 MB/s eta 0:00:01\r     |█████████████████▌              | 5.1 MB 21.9 MB/s eta 0:00:01\r     |█████████████████▌              | 5.1 MB 21.9 MB/s eta 0:00:01\r     |█████████████████▌              | 5.1 MB 21.9 MB/s eta 0:00:01\r     |█████████████████▋              | 5.1 MB 21.9 MB/s eta 0:00:01\r     |█████████████████▋              | 5.1 MB 21.9 MB/s eta 0:00:01\r     |█████████████████▋              | 5.2 MB 21.9 MB/s eta 0:00:01\r     |█████████████████▊              | 5.2 MB 21.9 MB/s eta 0:00:01\r     |█████████████████▊              | 5.2 MB 21.9 MB/s eta 0:00:01\r     |█████████████████▊              | 5.2 MB 21.9 MB/s eta 0:00:01\r     |█████████████████▉              | 5.2 MB 21.9 MB/s eta 0:00:01\r     |█████████████████▉              | 5.2 MB 21.9 MB/s eta 0:00:01\r     |█████████████████▉              | 5.2 MB 21.9 MB/s eta 0:00:01\r     |██████████████████              | 5.2 MB 21.9 MB/s eta 0:00:01\r     |██████████████████              | 5.2 MB 21.9 MB/s eta 0:00:01\r     |██████████████████              | 5.2 MB 21.9 MB/s eta 0:00:01\r     |██████████████████              | 5.3 MB 21.9 MB/s eta 0:00:01\r     |██████████████████              | 5.3 MB 21.9 MB/s eta 0:00:01\r     |██████████████████              | 5.3 MB 21.9 MB/s eta 0:00:01\r     |██████████████████              | 5.3 MB 21.9 MB/s eta 0:00:01\r     |██████████████████▏             | 5.3 MB 21.9 MB/s eta 0:00:01\r     |██████████████████▏             | 5.3 MB 21.9 MB/s eta 0:00:01\r     |██████████████████▏             | 5.3 MB 21.9 MB/s eta 0:00:01\r     |██████████████████▎             | 5.3 MB 21.9 MB/s eta 0:00:01\r     |██████████████████▎             | 5.3 MB 21.9 MB/s eta 0:00:01\r     |██████████████████▎             | 5.3 MB 21.9 MB/s eta 0:00:01\r     |██████████████████▍             | 5.4 MB 21.9 MB/s eta 0:00:01\r     |██████████████████▍             | 5.4 MB 21.9 MB/s eta 0:00:01\r     |██████████████████▍             | 5.4 MB 21.9 MB/s eta 0:00:01\r     |██████████████████▌             | 5.4 MB 21.9 MB/s eta 0:00:01\r     |██████████████████▌             | 5.4 MB 21.9 MB/s eta 0:00:01\r     |██████████████████▌             | 5.4 MB 21.9 MB/s eta 0:00:01\r     |██████████████████▋             | 5.4 MB 21.9 MB/s eta 0:00:01\r     |██████████████████▋             | 5.4 MB 21.9 MB/s eta 0:00:01\r     |██████████████████▋             | 5.4 MB 21.9 MB/s eta 0:00:01\r     |██████████████████▊             | 5.4 MB 21.9 MB/s eta 0:00:01\r     |██████████████████▊             | 5.5 MB 21.9 MB/s eta 0:00:01\r     |██████████████████▊             | 5.5 MB 21.9 MB/s eta 0:00:01\r     |██████████████████▊             | 5.5 MB 21.9 MB/s eta 0:00:01\r     |██████████████████▉             | 5.5 MB 21.9 MB/s eta 0:00:01\r     |██████████████████▉             | 5.5 MB 21.9 MB/s eta 0:00:01\r     |██████████████████▉             | 5.5 MB 21.9 MB/s eta 0:00:01\r     |███████████████████             | 5.5 MB 21.9 MB/s eta 0:00:01\r     |███████████████████             | 5.5 MB 21.9 MB/s eta 0:00:01\r     |███████████████████             | 5.5 MB 21.9 MB/s eta 0:00:01\r     |███████████████████             | 5.6 MB 21.9 MB/s eta 0:00:01\r     |███████████████████             | 5.6 MB 21.9 MB/s eta 0:00:01\r     |███████████████████             | 5.6 MB 21.9 MB/s eta 0:00:01\r     |███████████████████▏            | 5.6 MB 21.9 MB/s eta 0:00:01\r     |███████████████████▏            | 5.6 MB 21.9 MB/s eta 0:00:01\r     |███████████████████▏            | 5.6 MB 21.9 MB/s eta 0:00:01\r     |███████████████████▎            | 5.6 MB 21.9 MB/s eta 0:00:01\r     |███████████████████▎            | 5.6 MB 21.9 MB/s eta 0:00:01\r     |███████████████████▎            | 5.6 MB 21.9 MB/s eta 0:00:01\r     |███████████████████▍            | 5.6 MB 21.9 MB/s eta 0:00:01\r     |███████████████████▍            | 5.7 MB 21.9 MB/s eta 0:00:01\r     |███████████████████▍            | 5.7 MB 21.9 MB/s eta 0:00:01\r     |███████████████████▍            | 5.7 MB 21.9 MB/s eta 0:00:01\r     |███████████████████▌            | 5.7 MB 21.9 MB/s eta 0:00:01\r     |███████████████████▌            | 5.7 MB 21.9 MB/s eta 0:00:01\r     |███████████████████▌            | 5.7 MB 21.9 MB/s eta 0:00:01\r     |███████████████████▋            | 5.7 MB 21.9 MB/s eta 0:00:01\r     |███████████████████▋            | 5.7 MB 21.9 MB/s eta 0:00:01\r     |███████████████████▋            | 5.7 MB 21.9 MB/s eta 0:00:01\r     |███████████████████▊            | 5.7 MB 21.9 MB/s eta 0:00:01\r     |███████████████████▊            | 5.8 MB 21.9 MB/s eta 0:00:01\r     |███████████████████▊            | 5.8 MB 21.9 MB/s eta 0:00:01\r     |███████████████████▉            | 5.8 MB 21.9 MB/s eta 0:00:01\r     |███████████████████▉            | 5.8 MB 21.9 MB/s eta 0:00:01\r     |███████████████████▉            | 5.8 MB 21.9 MB/s eta 0:00:01\r     |████████████████████            | 5.8 MB 21.9 MB/s eta 0:00:01\r     |████████████████████            | 5.8 MB 21.9 MB/s eta 0:00:01\r     |████████████████████            | 5.8 MB 21.9 MB/s eta 0:00:01\r     |████████████████████            | 5.8 MB 21.9 MB/s eta 0:00:01\r     |████████████████████            | 5.8 MB 21.9 MB/s eta 0:00:01\r     |████████████████████            | 5.9 MB 21.9 MB/s eta 0:00:01\r     |████████████████████            | 5.9 MB 21.9 MB/s eta 0:00:01\r     |████████████████████▏           | 5.9 MB 21.9 MB/s eta 0:00:01\r     |████████████████████▏           | 5.9 MB 21.9 MB/s eta 0:00:01\r     |████████████████████▏           | 5.9 MB 21.9 MB/s eta 0:00:01\r     |████████████████████▎           | 5.9 MB 21.9 MB/s eta 0:00:01\r     |████████████████████▎           | 5.9 MB 21.9 MB/s eta 0:00:01\r     |████████████████████▎           | 5.9 MB 21.9 MB/s eta 0:00:01\r     |████████████████████▍           | 5.9 MB 21.9 MB/s eta 0:00:01\r     |████████████████████▍           | 5.9 MB 21.9 MB/s eta 0:00:01\r     |████████████████████▍           | 6.0 MB 21.9 MB/s eta 0:00:01\r     |████████████████████▌           | 6.0 MB 21.9 MB/s eta 0:00:01\r     |████████████████████▌           | 6.0 MB 21.9 MB/s eta 0:00:01\r     |████████████████████▌           | 6.0 MB 21.9 MB/s eta 0:00:01\r     |████████████████████▋           | 6.0 MB 21.9 MB/s eta 0:00:01\r     |████████████████████▋           | 6.0 MB 21.9 MB/s eta 0:00:01\r     |████████████████████▋           | 6.0 MB 21.9 MB/s eta 0:00:01\r     |████████████████████▊           | 6.0 MB 21.9 MB/s eta 0:00:01\r     |████████████████████▊           | 6.0 MB 21.9 MB/s eta 0:00:01\r     |████████████████████▊           | 6.1 MB 21.9 MB/s eta 0:00:01\r     |████████████████████▊           | 6.1 MB 21.9 MB/s eta 0:00:01\r     |████████████████████▉           | 6.1 MB 21.9 MB/s eta 0:00:01\r     |████████████████████▉           | 6.1 MB 21.9 MB/s eta 0:00:01\r     |████████████████████▉           | 6.1 MB 21.9 MB/s eta 0:00:01\r     |█████████████████████           | 6.1 MB 21.9 MB/s eta 0:00:01\r     |█████████████████████           | 6.1 MB 21.9 MB/s eta 0:00:01\r     |█████████████████████           | 6.1 MB 21.9 MB/s eta 0:00:01\r     |█████████████████████           | 6.1 MB 21.9 MB/s eta 0:00:01\r     |█████████████████████           | 6.1 MB 21.9 MB/s eta 0:00:01\r     |█████████████████████           | 6.2 MB 21.9 MB/s eta 0:00:01\r     |█████████████████████▏          | 6.2 MB 21.9 MB/s eta 0:00:01\r     |█████████████████████▏          | 6.2 MB 21.9 MB/s eta 0:00:01\r     |█████████████████████▏          | 6.2 MB 21.9 MB/s eta 0:00:01\r     |█████████████████████▎          | 6.2 MB 21.9 MB/s eta 0:00:01\r     |█████████████████████▎          | 6.2 MB 21.9 MB/s eta 0:00:01\r     |█████████████████████▎          | 6.2 MB 21.9 MB/s eta 0:00:01\r     |█████████████████████▍          | 6.2 MB 21.9 MB/s eta 0:00:01\r     |█████████████████████▍          | 6.2 MB 21.9 MB/s eta 0:00:01\r     |█████████████████████▍          | 6.2 MB 21.9 MB/s eta 0:00:01\r     |█████████████████████▍          | 6.3 MB 21.9 MB/s eta 0:00:01\r     |█████████████████████▌          | 6.3 MB 21.9 MB/s eta 0:00:01\r     |█████████████████████▌          | 6.3 MB 21.9 MB/s eta 0:00:01\r     |█████████████████████▌          | 6.3 MB 21.9 MB/s eta 0:00:01\r     |█████████████████████▋          | 6.3 MB 21.9 MB/s eta 0:00:01\r     |█████████████████████▋          | 6.3 MB 21.9 MB/s eta 0:00:01\r     |█████████████████████▋          | 6.3 MB 21.9 MB/s eta 0:00:01\r     |█████████████████████▊          | 6.3 MB 21.9 MB/s eta 0:00:01\r     |█████████████████████▊          | 6.3 MB 21.9 MB/s eta 0:00:01\r     |█████████████████████▊          | 6.3 MB 21.9 MB/s eta 0:00:01\r     |█████████████████████▉          | 6.4 MB 21.9 MB/s eta 0:00:01\r     |█████████████████████▉          | 6.4 MB 21.9 MB/s eta 0:00:01\r     |█████████████████████▉          | 6.4 MB 21.9 MB/s eta 0:00:01\r     |██████████████████████          | 6.4 MB 21.9 MB/s eta 0:00:01\r     |██████████████████████          | 6.4 MB 21.9 MB/s eta 0:00:01\r     |██████████████████████          | 6.4 MB 21.9 MB/s eta 0:00:01\r     |██████████████████████          | 6.4 MB 21.9 MB/s eta 0:00:01\r     |██████████████████████          | 6.4 MB 21.9 MB/s eta 0:00:01\r     |██████████████████████          | 6.4 MB 21.9 MB/s eta 0:00:01\r     |██████████████████████          | 6.5 MB 21.9 MB/s eta 0:00:01\r     |██████████████████████▏         | 6.5 MB 21.9 MB/s eta 0:00:01\r     |██████████████████████▏         | 6.5 MB 21.9 MB/s eta 0:00:01\r     |██████████████████████▏         | 6.5 MB 21.9 MB/s eta 0:00:01\r     |██████████████████████▎         | 6.5 MB 21.9 MB/s eta 0:00:01\r     |██████████████████████▎         | 6.5 MB 21.9 MB/s eta 0:00:01\r     |██████████████████████▎         | 6.5 MB 21.9 MB/s eta 0:00:01\r     |██████████████████████▍         | 6.5 MB 21.9 MB/s eta 0:00:01\r     |██████████████████████▍         | 6.5 MB 21.9 MB/s eta 0:00:01\r     |██████████████████████▍         | 6.5 MB 21.9 MB/s eta 0:00:01\r     |██████████████████████▌         | 6.6 MB 21.9 MB/s eta 0:00:01\r     |██████████████████████▌         | 6.6 MB 21.9 MB/s eta 0:00:01\r     |██████████████████████▌         | 6.6 MB 21.9 MB/s eta 0:00:01\r     |██████████████████████▋         | 6.6 MB 21.9 MB/s eta 0:00:01\r     |██████████████████████▋         | 6.6 MB 21.9 MB/s eta 0:00:01\r     |██████████████████████▋         | 6.6 MB 21.9 MB/s eta 0:00:01\r     |██████████████████████▊         | 6.6 MB 21.9 MB/s eta 0:00:01\r     |██████████████████████▊         | 6.6 MB 21.9 MB/s eta 0:00:01\r     |██████████████████████▊         | 6.6 MB 21.9 MB/s eta 0:00:01\r     |██████████████████████▊         | 6.6 MB 21.9 MB/s eta 0:00:01\r     |██████████████████████▉         | 6.7 MB 21.9 MB/s eta 0:00:01\r     |██████████████████████▉         | 6.7 MB 21.9 MB/s eta 0:00:01\r     |██████████████████████▉         | 6.7 MB 21.9 MB/s eta 0:00:01\r     |███████████████████████         | 6.7 MB 21.9 MB/s eta 0:00:01\r     |███████████████████████         | 6.7 MB 21.9 MB/s eta 0:00:01\r     |███████████████████████         | 6.7 MB 21.9 MB/s eta 0:00:01\r     |███████████████████████         | 6.7 MB 21.9 MB/s eta 0:00:01\r     |███████████████████████         | 6.7 MB 21.9 MB/s eta 0:00:01\r     |███████████████████████         | 6.7 MB 21.9 MB/s eta 0:00:01\r     |███████████████████████▏        | 6.7 MB 21.9 MB/s eta 0:00:01\r     |███████████████████████▏        | 6.8 MB 21.9 MB/s eta 0:00:01\r     |███████████████████████▏        | 6.8 MB 21.9 MB/s eta 0:00:01\r     |███████████████████████▎        | 6.8 MB 21.9 MB/s eta 0:00:01\r     |███████████████████████▎        | 6.8 MB 21.9 MB/s eta 0:00:01\r     |███████████████████████▎        | 6.8 MB 21.9 MB/s eta 0:00:01\r     |███████████████████████▍        | 6.8 MB 21.9 MB/s eta 0:00:01\r     |███████████████████████▍        | 6.8 MB 21.9 MB/s eta 0:00:01\r     |███████████████████████▍        | 6.8 MB 21.9 MB/s eta 0:00:01\r     |███████████████████████▍        | 6.8 MB 21.9 MB/s eta 0:00:01\r     |███████████████████████▌        | 6.9 MB 21.9 MB/s eta 0:00:01\r     |███████████████████████▌        | 6.9 MB 21.9 MB/s eta 0:00:01\r     |███████████████████████▌        | 6.9 MB 21.9 MB/s eta 0:00:01\r     |███████████████████████▋        | 6.9 MB 21.9 MB/s eta 0:00:01\r     |███████████████████████▋        | 6.9 MB 21.9 MB/s eta 0:00:01\r     |███████████████████████▋        | 6.9 MB 21.9 MB/s eta 0:00:01\r     |███████████████████████▊        | 6.9 MB 21.9 MB/s eta 0:00:01\r     |███████████████████████▊        | 6.9 MB 21.9 MB/s eta 0:00:01\r     |███████████████████████▊        | 6.9 MB 21.9 MB/s eta 0:00:01\r     |███████████████████████▉        | 6.9 MB 21.9 MB/s eta 0:00:01\r     |███████████████████████▉        | 7.0 MB 21.9 MB/s eta 0:00:01\r     |███████████████████████▉        | 7.0 MB 21.9 MB/s eta 0:00:01\r     |████████████████████████        | 7.0 MB 21.9 MB/s eta 0:00:01\r     |████████████████████████        | 7.0 MB 21.9 MB/s eta 0:00:01\r     |████████████████████████        | 7.0 MB 21.9 MB/s eta 0:00:01\r     |████████████████████████        | 7.0 MB 21.9 MB/s eta 0:00:01\r     |████████████████████████        | 7.0 MB 21.9 MB/s eta 0:00:01\r     |████████████████████████        | 7.0 MB 21.9 MB/s eta 0:00:01\r     |████████████████████████        | 7.0 MB 21.9 MB/s eta 0:00:01\r     |████████████████████████▏       | 7.0 MB 21.9 MB/s eta 0:00:01\r     |████████████████████████▏       | 7.1 MB 21.9 MB/s eta 0:00:01\r     |████████████████████████▏       | 7.1 MB 21.9 MB/s eta 0:00:01\r     |████████████████████████▎       | 7.1 MB 21.9 MB/s eta 0:00:01\r     |████████████████████████▎       | 7.1 MB 21.9 MB/s eta 0:00:01\r     |████████████████████████▎       | 7.1 MB 21.9 MB/s eta 0:00:01\r     |███████████\n",
       "*** WARNING: skipped 42053 bytes of output ***\n",
       "\n",
       "Collecting safetensors&gt;=0.4.1\r\n",
       "  Downloading safetensors-0.4.3-cp38-cp38-manylinux_2_17_x86_64.manylinux2014_x86_64.whl (1.2 MB)\r\n",
       "▎                               | 10 kB 30.1 MB/s eta 0:00:01\r     |▌                               | 20 kB 34.4 MB/s eta 0:00:01\r     |▉                               | 30 kB 42.4 MB/s eta 0:00:01\r     |█                               | 40 kB 46.1 MB/s eta 0:00:01\r     |█▍                              | 51 kB 49.4 MB/s eta 0:00:01\r     |█▋                              | 61 kB 51.7 MB/s eta 0:00:01\r     |██                              | 71 kB 53.7 MB/s eta 0:00:01\r     |██▏                             | 81 kB 55.6 MB/s eta 0:00:01\r     |██▌                             | 92 kB 58.4 MB/s eta 0:00:01\r     |██▊                             | 102 kB 59.3 MB/s eta 0:00:01\r     |███                             | 112 kB 59.3 MB/s eta 0:00:01\r     |███▎                            | 122 kB 59.3 MB/s eta 0:00:01\r     |███▌                            | 133 kB 59.3 MB/s eta 0:00:01\r     |███▉                            | 143 kB 59.3 MB/s eta 0:00:01\r     |████                            | 153 kB 59.3 MB/s eta 0:00:01\r     |████▍                           | 163 kB 59.3 MB/s eta 0:00:01\r     |████▋                           | 174 kB 59.3 MB/s eta 0:00:01\r     |█████                           | 184 kB 59.3 MB/s eta 0:00:01\r     |█████▏                          | 194 kB 59.3 MB/s eta 0:00:01\r     |█████▍                          | 204 kB 59.3 MB/s eta 0:00:01\r     |█████▊                          | 215 kB 59.3 MB/s eta 0:00:01\r     |██████                          | 225 kB 59.3 MB/s eta 0:00:01\r     |██████▎                         | 235 kB 59.3 MB/s eta 0:00:01\r     |██████▌                         | 245 kB 59.3 MB/s eta 0:00:01\r     |██████▉                         | 256 kB 59.3 MB/s eta 0:00:01\r     |███████                         | 266 kB 59.3 MB/s eta 0:00:01\r     |███████▍                        | 276 kB 59.3 MB/s eta 0:00:01\r     |███████▋                        | 286 kB 59.3 MB/s eta 0:00:01\r     |████████                        | 296 kB 59.3 MB/s eta 0:00:01\r     |████████▏                       | 307 kB 59.3 MB/s eta 0:00:01\r     |████████▍                       | 317 kB 59.3 MB/s eta 0:00:01\r     |████████▊                       | 327 kB 59.3 MB/s eta 0:00:01\r     |█████████                       | 337 kB 59.3 MB/s eta 0:00:01\r     |█████████▎                      | 348 kB 59.3 MB/s eta 0:00:01\r     |█████████▌                      | 358 kB 59.3 MB/s eta 0:00:01\r     |█████████▉                      | 368 kB 59.3 MB/s eta 0:00:01\r     |██████████                      | 378 kB 59.3 MB/s eta 0:00:01\r     |██████████▍                     | 389 kB 59.3 MB/s eta 0:00:01\r     |██████████▋                     | 399 kB 59.3 MB/s eta 0:00:01\r     |██████████▉                     | 409 kB 59.3 MB/s eta 0:00:01\r     |███████████▏                    | 419 kB 59.3 MB/s eta 0:00:01\r     |███████████▍                    | 430 kB 59.3 MB/s eta 0:00:01\r     |███████████▊                    | 440 kB 59.3 MB/s eta 0:00:01\r     |████████████                    | 450 kB 59.3 MB/s eta 0:00:01\r     |████████████▎                   | 460 kB 59.3 MB/s eta 0:00:01\r     |████████████▌                   | 471 kB 59.3 MB/s eta 0:00:01\r     |████████████▉                   | 481 kB 59.3 MB/s eta 0:00:01\r     |█████████████                   | 491 kB 59.3 MB/s eta 0:00:01\r     |█████████████▎                  | 501 kB 59.3 MB/s eta 0:00:01\r     |█████████████▋                  | 512 kB 59.3 MB/s eta 0:00:01\r     |█████████████▉                  | 522 kB 59.3 MB/s eta 0:00:01\r     |██████████████▏                 | 532 kB 59.3 MB/s eta 0:00:01\r     |██████████████▍                 | 542 kB 59.3 MB/s eta 0:00:01\r     |██████████████▊                 | 552 kB 59.3 MB/s eta 0:00:01\r     |███████████████                 | 563 kB 59.3 MB/s eta 0:00:01\r     |███████████████▎                | 573 kB 59.3 MB/s eta 0:00:01\r     |███████████████▌                | 583 kB 59.3 MB/s eta 0:00:01\r     |███████████████▉                | 593 kB 59.3 MB/s eta 0:00:01\r     |████████████████                | 604 kB 59.3 MB/s eta 0:00:01\r     |████████████████▎               | 614 kB 59.3 MB/s eta 0:00:01\r     |████████████████▋               | 624 kB 59.3 MB/s eta 0:00:01\r     |████████████████▉               | 634 kB 59.3 MB/s eta 0:00:01\r     |█████████████████▏              | 645 kB 59.3 MB/s eta 0:00:01\r     |█████████████████▍              | 655 kB 59.3 MB/s eta 0:00:01\r     |█████████████████▊              | 665 kB 59.3 MB/s eta 0:00:01\r     |██████████████████              | 675 kB 59.3 MB/s eta 0:00:01\r     |██████████████████▎             | 686 kB 59.3 MB/s eta 0:00:01\r     |██████████████████▌             | 696 kB 59.3 MB/s eta 0:00:01\r     |██████████████████▊             | 706 kB 59.3 MB/s eta 0:00:01\r     |███████████████████             | 716 kB 59.3 MB/s eta 0:00:01\r     |███████████████████▎            | 727 kB 59.3 MB/s eta 0:00:01\r     |███████████████████▋            | 737 kB 59.3 MB/s eta 0:00:01\r     |███████████████████▉            | 747 kB 59.3 MB/s eta 0:00:01\r     |████████████████████▏           | 757 kB 59.3 MB/s eta 0:00:01\r     |████████████████████▍           | 768 kB 59.3 MB/s eta 0:00:01\r     |████████████████████▊           | 778 kB 59.3 MB/s eta 0:00:01\r     |█████████████████████           | 788 kB 59.3 MB/s eta 0:00:01\r     |█████████████████████▏          | 798 kB 59.3 MB/s eta 0:00:01\r     |█████████████████████▌          | 808 kB 59.3 MB/s eta 0:00:01\r     |█████████████████████▊          | 819 kB 59.3 MB/s eta 0:00:01\r     |██████████████████████          | 829 kB 59.3 MB/s eta 0:00:01\r     |██████████████████████▎         | 839 kB 59.3 MB/s eta 0:00:01\r     |██████████████████████▋         | 849 kB 59.3 MB/s eta 0:00:01\r     |██████████████████████▉         | 860 kB 59.3 MB/s eta 0:00:01\r     |███████████████████████▏        | 870 kB 59.3 MB/s eta 0:00:01\r     |███████████████████████▍        | 880 kB 59.3 MB/s eta 0:00:01\r     |███████████████████████▊        | 890 kB 59.3 MB/s eta 0:00:01\r     |████████████████████████        | 901 kB 59.3 MB/s eta 0:00:01\r     |████████████████████████▏       | 911 kB 59.3 MB/s eta 0:00:01\r     |████████████████████████▌       | 921 kB 59.3 MB/s eta 0:00:01\r     |████████████████████████▊       | 931 kB 59.3 MB/s eta 0:00:01\r     |█████████████████████████       | 942 kB 59.3 MB/s eta 0:00:01\r     |█████████████████████████▎      | 952 kB 59.3 MB/s eta 0:00:01\r     |█████████████████████████▋      | 962 kB 59.3 MB/s eta 0:00:01\r     |█████████████████████████▉      | 972 kB 59.3 MB/s eta 0:00:01\r     |██████████████████████████▏     | 983 kB 59.3 MB/s eta 0:00:01\r     |██████████████████████████▍     | 993 kB 59.3 MB/s eta 0:00:01\r     |██████████████████████████▋     | 1.0 MB 59.3 MB/s eta 0:00:01\r     |███████████████████████████     | 1.0 MB 59.3 MB/s eta 0:00:01\r     |███████████████████████████▏    | 1.0 MB 59.3 MB/s eta 0:00:01\r     |███████████████████████████▌    | 1.0 MB 59.3 MB/s eta 0:00:01\r     |███████████████████████████▊    | 1.0 MB 59.3 MB/s eta 0:00:01\r     |████████████████████████████    | 1.1 MB 59.3 MB/s eta 0:00:01\r     |████████████████████████████▎   | 1.1 MB 59.3 MB/s eta 0:00:01\r     |████████████████████████████▋   | 1.1 MB 59.3 MB/s eta 0:00:01\r     |████████████████████████████▉   | 1.1 MB 59.3 MB/s eta 0:00:01\r     |█████████████████████████████▏  | 1.1 MB 59.3 MB/s eta 0:00:01\r     |█████████████████████████████▍  | 1.1 MB 59.3 MB/s eta 0:00:01\r     |█████████████████████████████▋  | 1.1 MB 59.3 MB/s eta 0:00:01\r     |██████████████████████████████  | 1.1 MB 59.3 MB/s eta 0:00:01\r     |██████████████████████████████▏ | 1.1 MB 59.3 MB/s eta 0:00:01\r     |██████████████████████████████▌ | 1.1 MB 59.3 MB/s eta 0:00:01\r     |██████████████████████████████▊ | 1.2 MB 59.3 MB/s eta 0:00:01\r     |███████████████████████████████ | 1.2 MB 59.3 MB/s eta 0:00:01\r     |███████████████████████████████▎| 1.2 MB 59.3 MB/s eta 0:00:01\r     |███████████████████████████████▋| 1.2 MB 59.3 MB/s eta 0:00:01\r     |███████████████████████████████▉| 1.2 MB 59.3 MB/s eta 0:00:01\r     |████████████████████████████████| 1.2 MB 59.3 MB/s \r\n",
       "Requirement already satisfied: filelock in /usr/local/lib/python3.8/dist-packages (from transformers) (3.0.12)\r\n",
       "Collecting huggingface-hub&lt;1.0,&gt;=0.23.2\r\n",
       "  Downloading huggingface_hub-0.23.5-py3-none-any.whl (402 kB)\r\n",
       "▉                               | 10 kB 37.8 MB/s eta 0:00:01\r     |█▋                              | 20 kB 45.9 MB/s eta 0:00:01\r     |██▍                             | 30 kB 55.8 MB/s eta 0:00:01\r     |███▎                            | 40 kB 61.0 MB/s eta 0:00:01\r     |████                            | 51 kB 55.6 MB/s eta 0:00:01\r     |████▉                           | 61 kB 59.7 MB/s eta 0:00:01\r     |█████▊                          | 71 kB 59.7 MB/s eta 0:00:01\r     |██████▌                         | 81 kB 61.4 MB/s eta 0:00:01\r     |███████▎                        | 92 kB 63.8 MB/s eta 0:00:01\r     |████████▏                       | 102 kB 65.9 MB/s eta 0:00:01\r     |█████████                       | 112 kB 65.9 MB/s eta 0:00:01\r     |█████████▊                      | 122 kB 65.9 MB/s eta 0:00:01\r     |██████████▋                     | 133 kB 65.9 MB/s eta 0:00:01\r     |███████████▍                    | 143 kB 65.9 MB/s eta 0:00:01\r     |████████████▏                   | 153 kB 65.9 MB/s eta 0:00:01\r     |█████████████                   | 163 kB 65.9 MB/s eta 0:00:01\r     |█████████████▉                  | 174 kB 65.9 MB/s eta 0:00:01\r     |██████████████▋                 | 184 kB 65.9 MB/s eta 0:00:01\r     |███████████████▌                | 194 kB 65.9 MB/s eta 0:00:01\r     |████████████████▎               | 204 kB 65.9 MB/s eta 0:00:01\r     |█████████████████               | 215 kB 65.9 MB/s eta 0:00:01\r     |██████████████████              | 225 kB 65.9 MB/s eta 0:00:01\r     |██████████████████▊             | 235 kB 65.9 MB/s eta 0:00:01\r     |███████████████████▌            | 245 kB 65.9 MB/s eta 0:00:01\r     |████████████████████▍           | 256 kB 65.9 MB/s eta 0:00:01\r     |█████████████████████▏          | 266 kB 65.9 MB/s eta 0:00:01\r     |██████████████████████          | 276 kB 65.9 MB/s eta 0:00:01\r     |██████████████████████▉         | 286 kB 65.9 MB/s eta 0:00:01\r     |███████████████████████▋        | 296 kB 65.9 MB/s eta 0:00:01\r     |████████████████████████▍       | 307 kB 65.9 MB/s eta 0:00:01\r     |█████████████████████████▏      | 317 kB 65.9 MB/s eta 0:00:01\r     |██████████████████████████      | 327 kB 65.9 MB/s eta 0:00:01\r     |██████████████████████████▉     | 337 kB 65.9 MB/s eta 0:00:01\r     |███████████████████████████▋    | 348 kB 65.9 MB/s eta 0:00:01\r     |████████████████████████████▌   | 358 kB 65.9 MB/s eta 0:00:01\r     |█████████████████████████████▎  | 368 kB 65.9 MB/s eta 0:00:01\r     |██████████████████████████████  | 378 kB 65.9 MB/s eta 0:00:01\r     |███████████████████████████████ | 389 kB 65.9 MB/s eta 0:00:01\r     |███████████████████████████████▊| 399 kB 65.9 MB/s eta 0:00:01\r     |████████████████████████████████| 402 kB 65.9 MB/s \r\n",
       "Collecting regex!=2019.12.17\r\n",
       "  Downloading regex-2024.5.15-cp38-cp38-manylinux_2_17_x86_64.manylinux2014_x86_64.whl (776 kB)\r\n",
       "▍                               | 10 kB 24.6 MB/s eta 0:00:01\r     |▉                               | 20 kB 35.1 MB/s eta 0:00:01\r     |█▎                              | 30 kB 39.8 MB/s eta 0:00:01\r     |█▊                              | 40 kB 42.1 MB/s eta 0:00:01\r     |██                              | 51 kB 41.6 MB/s eta 0:00:01\r     |██▌                             | 61 kB 44.5 MB/s eta 0:00:01\r     |███                             | 71 kB 46.3 MB/s eta 0:00:01\r     |███▍                            | 81 kB 49.9 MB/s eta 0:00:01\r     |███▉                            | 92 kB 52.3 MB/s eta 0:00:01\r     |████▏                           | 102 kB 54.7 MB/s eta 0:00:01\r     |████▋                           | 112 kB 54.7 MB/s eta 0:00:01\r     |█████                           | 122 kB 54.7 MB/s eta 0:00:01\r     |█████▌                          | 133 kB 54.7 MB/s eta 0:00:01\r     |██████                          | 143 kB 54.7 MB/s eta 0:00:01\r     |██████▎                         | 153 kB 54.7 MB/s eta 0:00:01\r     |██████▊                         | 163 kB 54.7 MB/s eta 0:00:01\r     |███████▏                        | 174 kB 54.7 MB/s eta 0:00:01\r     |███████▋                        | 184 kB 54.7 MB/s eta 0:00:01\r     |████████                        | 194 kB 54.7 MB/s eta 0:00:01\r     |████████▍                       | 204 kB 54.7 MB/s eta 0:00:01\r     |████████▉                       | 215 kB 54.7 MB/s eta 0:00:01\r     |█████████▎                      | 225 kB 54.7 MB/s eta 0:00:01\r     |█████████▊                      | 235 kB 54.7 MB/s eta 0:00:01\r     |██████████▏                     | 245 kB 54.7 MB/s eta 0:00:01\r     |██████████▌                     | 256 kB 54.7 MB/s eta 0:00:01\r     |███████████                     | 266 kB 54.7 MB/s eta 0:00:01\r     |███████████▍                    | 276 kB 54.7 MB/s eta 0:00:01\r     |███████████▉                    | 286 kB 54.7 MB/s eta 0:00:01\r     |████████████▎                   | 296 kB 54.7 MB/s eta 0:00:01\r     |████████████▋                   | 307 kB 54.7 MB/s eta 0:00:01\r     |█████████████                   | 317 kB 54.7 MB/s eta 0:00:01\r     |█████████████▌                  | 327 kB 54.7 MB/s eta 0:00:01\r     |██████████████                  | 337 kB 54.7 MB/s eta 0:00:01\r     |██████████████▍                 | 348 kB 54.7 MB/s eta 0:00:01\r     |██████████████▊                 | 358 kB 54.7 MB/s eta 0:00:01\r     |███████████████▏                | 368 kB 54.7 MB/s eta 0:00:01\r     |███████████████▋                | 378 kB 54.7 MB/s eta 0:00:01\r     |████████████████                | 389 kB 54.7 MB/s eta 0:00:01\r     |████████████████▌               | 399 kB 54.7 MB/s eta 0:00:01\r     |████████████████▉               | 409 kB 54.7 MB/s eta 0:00:01\r     |█████████████████▎              | 419 kB 54.7 MB/s eta 0:00:01\r     |█████████████████▊              | 430 kB 54.7 MB/s eta 0:00:01\r     |██████████████████▏             | 440 kB 54.7 MB/s eta 0:00:01\r     |██████████████████▋             | 450 kB 54.7 MB/s eta 0:00:01\r     |███████████████████             | 460 kB 54.7 MB/s eta 0:00:01\r     |███████████████████▍            | 471 kB 54.7 MB/s eta 0:00:01\r     |███████████████████▉            | 481 kB 54.7 MB/s eta 0:00:01\r     |████████████████████▎           | 491 kB 54.7 MB/s eta 0:00:01\r     |████████████████████▊           | 501 kB 54.7 MB/s eta 0:00:01\r     |█████████████████████           | 512 kB 54.7 MB/s eta 0:00:01\r     |█████████████████████▌          | 522 kB 54.7 MB/s eta 0:00:01\r     |██████████████████████          | 532 kB 54.7 MB/s eta 0:00:01\r     |██████████████████████▍         | 542 kB 54.7 MB/s eta 0:00:01\r     |██████████████████████▉         | 552 kB 54.7 MB/s eta 0:00:01\r     |███████████████████████▏        | 563 kB 54.7 MB/s eta 0:00:01\r     |███████████████████████▋        | 573 kB 54.7 MB/s eta 0:00:01\r     |████████████████████████        | 583 kB 54.7 MB/s eta 0:00:01\r     |████████████████████████▌       | 593 kB 54.7 MB/s eta 0:00:01\r     |█████████████████████████       | 604 kB 54.7 MB/s eta 0:00:01\r     |█████████████████████████▎      | 614 kB 54.7 MB/s eta 0:00:01\r     |█████████████████████████▊      | 624 kB 54.7 MB/s eta 0:00:01\r     |██████████████████████████▏     | 634 kB 54.7 MB/s eta 0:00:01\r     |██████████████████████████▋     | 645 kB 54.7 MB/s eta 0:00:01\r     |███████████████████████████     | 655 kB 54.7 MB/s eta 0:00:01\r     |███████████████████████████▍    | 665 kB 54.7 MB/s eta 0:00:01\r     |███████████████████████████▉    | 675 kB 54.7 MB/s eta 0:00:01\r     |████████████████████████████▎   | 686 kB 54.7 MB/s eta 0:00:01\r     |████████████████████████████▊   | 696 kB 54.7 MB/s eta 0:00:01\r     |█████████████████████████████▏  | 706 kB 54.7 MB/s eta 0:00:01\r     |█████████████████████████████▌  | 716 kB 54.7 MB/s eta 0:00:01\r     |██████████████████████████████  | 727 kB 54.7 MB/s eta 0:00:01\r     |██████████████████████████████▍ | 737 kB 54.7 MB/s eta 0:00:01\r     |██████████████████████████████▉ | 747 kB 54.7 MB/s eta 0:00:01\r     |███████████████████████████████▎| 757 kB 54.7 MB/s eta 0:00:01\r     |███████████████████████████████▋| 768 kB 54.7 MB/s eta 0:00:01\r     |████████████████████████████████| 776 kB 54.7 MB/s \r\n",
       "Collecting pyyaml&gt;=5.1\r\n",
       "  Downloading PyYAML-6.0.1-cp38-cp38-manylinux_2_17_x86_64.manylinux2014_x86_64.whl (736 kB)\r\n",
       "▌                               | 10 kB 30.5 MB/s eta 0:00:01\r     |█                               | 20 kB 37.9 MB/s eta 0:00:01\r     |█▍                              | 30 kB 44.0 MB/s eta 0:00:01\r     |█▉                              | 40 kB 47.0 MB/s eta 0:00:01\r     |██▎                             | 51 kB 50.0 MB/s eta 0:00:01\r     |██▊                             | 61 kB 53.7 MB/s eta 0:00:01\r     |███▏                            | 71 kB 56.3 MB/s eta 0:00:01\r     |███▋                            | 81 kB 59.4 MB/s eta 0:00:01\r     |████                            | 92 kB 60.9 MB/s eta 0:00:01\r     |████▌                           | 102 kB 62.4 MB/s eta 0:00:01\r     |█████                           | 112 kB 62.4 MB/s eta 0:00:01\r     |█████▍                          | 122 kB 62.4 MB/s eta 0:00:01\r     |█████▉                          | 133 kB 62.4 MB/s eta 0:00:01\r     |██████▎                         | 143 kB 62.4 MB/s eta 0:00:01\r     |██████▊                         | 153 kB 62.4 MB/s eta 0:00:01\r     |███████▏                        | 163 kB 62.4 MB/s eta 0:00:01\r     |███████▋                        | 174 kB 62.4 MB/s eta 0:00:01\r     |████████                        | 184 kB 62.4 MB/s eta 0:00:01\r     |████████▌                       | 194 kB 62.4 MB/s eta 0:00:01\r     |█████████                       | 204 kB 62.4 MB/s eta 0:00:01\r     |█████████▍                      | 215 kB 62.4 MB/s eta 0:00:01\r     |█████████▉                      | 225 kB 62.4 MB/s eta 0:00:01\r     |██████████▎                     | 235 kB 62.4 MB/s eta 0:00:01\r     |██████████▊                     | 245 kB 62.4 MB/s eta 0:00:01\r     |███████████▏                    | 256 kB 62.4 MB/s eta 0:00:01\r     |███████████▋                    | 266 kB 62.4 MB/s eta 0:00:01\r     |████████████                    | 276 kB 62.4 MB/s eta 0:00:01\r     |████████████▌                   | 286 kB 62.4 MB/s eta 0:00:01\r     |█████████████                   | 296 kB 62.4 MB/s eta 0:00:01\r     |█████████████▍                  | 307 kB 62.4 MB/s eta 0:00:01\r     |█████████████▉                  | 317 kB 62.4 MB/s eta 0:00:01\r     |██████████████▎                 | 327 kB 62.4 MB/s eta 0:00:01\r     |██████████████▊                 | 337 kB 62.4 MB/s eta 0:00:01\r     |███████████████▏                | 348 kB 62.4 MB/s eta 0:00:01\r     |███████████████▋                | 358 kB 62.4 MB/s eta 0:00:01\r     |████████████████                | 368 kB 62.4 MB/s eta 0:00:01\r     |████████████████▌               | 378 kB 62.4 MB/s eta 0:00:01\r     |█████████████████               | 389 kB 62.4 MB/s eta 0:00:01\r     |█████████████████▍              | 399 kB 62.4 MB/s eta 0:00:01\r     |█████████████████▉              | 409 kB 62.4 MB/s eta 0:00:01\r     |██████████████████▎             | 419 kB 62.4 MB/s eta 0:00:01\r     |██████████████████▊             | 430 kB 62.4 MB/s eta 0:00:01\r     |███████████████████▏            | 440 kB 62.4 MB/s eta 0:00:01\r     |███████████████████▋            | 450 kB 62.4 MB/s eta 0:00:01\r     |████████████████████            | 460 kB 62.4 MB/s eta 0:00:01\r     |████████████████████▌           | 471 kB 62.4 MB/s eta 0:00:01\r     |█████████████████████           | 481 kB 62.4 MB/s eta 0:00:01\r     |█████████████████████▍          | 491 kB 62.4 MB/s eta 0:00:01\r     |█████████████████████▉          | 501 kB 62.4 MB/s eta 0:00:01\r     |██████████████████████▎         | 512 kB 62.4 MB/s eta 0:00:01\r     |██████████████████████▊         | 522 kB 62.4 MB/s eta 0:00:01\r     |███████████████████████▏        | 532 kB 62.4 MB/s eta 0:00:01\r     |███████████████████████▋        | 542 kB 62.4 MB/s eta 0:00:01\r     |████████████████████████        | 552 kB 62.4 MB/s eta 0:00:01\r     |████████████████████████▌       | 563 kB 62.4 MB/s eta 0:00:01\r     |█████████████████████████       | 573 kB 62.4 MB/s eta 0:00:01\r     |█████████████████████████▍      | 583 kB 62.4 MB/s eta 0:00:01\r     |█████████████████████████▉      | 593 kB 62.4 MB/s eta 0:00:01\r     |██████████████████████████▎     | 604 kB 62.4 MB/s eta 0:00:01\r     |██████████████████████████▊     | 614 kB 62.4 MB/s eta 0:00:01\r     |███████████████████████████▏    | 624 kB 62.4 MB/s eta 0:00:01\r     |███████████████████████████▋    | 634 kB 62.4 MB/s eta 0:00:01\r     |████████████████████████████    | 645 kB 62.4 MB/s eta 0:00:01\r     |████████████████████████████▌   | 655 kB 62.4 MB/s eta 0:00:01\r     |█████████████████████████████   | 665 kB 62.4 MB/s eta 0:00:01\r     |█████████████████████████████▍  | 675 kB 62.4 MB/s eta 0:00:01\r     |█████████████████████████████▉  | 686 kB 62.4 MB/s eta 0:00:01\r     |██████████████████████████████▎ | 696 kB 62.4 MB/s eta 0:00:01\r     |██████████████████████████████▊ | 706 kB 62.4 MB/s eta 0:00:01\r     |███████████████████████████████▏| 716 kB 62.4 MB/s eta 0:00:01\r     |███████████████████████████████▋| 727 kB 62.4 MB/s eta 0:00:01\r     |████████████████████████████████| 736 kB 62.4 MB/s \r\n",
       "Requirement already satisfied: requests in /databricks/python3/lib/python3.8/site-packages (from transformers) (2.25.1)\r\n",
       "Requirement already satisfied: packaging&gt;=20.0 in /databricks/python3/lib/python3.8/site-packages (from transformers) (20.9)\r\n",
       "Requirement already satisfied: typing-extensions&gt;=3.7.4.3 in /databricks/python3/lib/python3.8/site-packages (from huggingface-hub&lt;1.0,&gt;=0.23.2-&gt;transformers) (4.12.2)\r\n",
       "Requirement already satisfied: fsspec&gt;=2023.5.0 in /databricks/python3/lib/python3.8/site-packages (from huggingface-hub&lt;1.0,&gt;=0.23.2-&gt;transformers) (2024.6.1)\r\n",
       "Requirement already satisfied: pyparsing&gt;=2.0.2 in /databricks/python3/lib/python3.8/site-packages (from packaging&gt;=20.0-&gt;transformers) (2.4.7)\r\n",
       "Requirement already satisfied: idna&lt;3,&gt;=2.5 in /databricks/python3/lib/python3.8/site-packages (from requests-&gt;transformers) (2.10)\r\n",
       "Requirement already satisfied: certifi&gt;=2017.4.17 in /databricks/python3/lib/python3.8/site-packages (from requests-&gt;transformers) (2020.12.5)\r\n",
       "Requirement already satisfied: urllib3&lt;1.27,&gt;=1.21.1 in /databricks/python3/lib/python3.8/site-packages (from requests-&gt;transformers) (1.25.11)\r\n",
       "Requirement already satisfied: chardet&lt;5,&gt;=3.0.2 in /databricks/python3/lib/python3.8/site-packages (from requests-&gt;transformers) (4.0.0)\r\n",
       "Installing collected packages: tqdm, pyyaml, huggingface-hub, tokenizers, safetensors, regex, transformers\r\n",
       "Successfully installed huggingface-hub-0.23.5 pyyaml-6.0.1 regex-2024.5.15 safetensors-0.4.3 tokenizers-0.19.1 tqdm-4.66.4 transformers-4.42.4\r\n",
       "<span class=\"ansi-yellow-fg\">WARNING: You are using pip version 21.0.1; however, version 24.1.2 is available.\r\n",
       "You should consider upgrading via the &#39;/databricks/python3/bin/python -m pip install --upgrade pip&#39; command.</span>\r\n",
       "<span class=\"ansi-yellow-fg\">WARNING: You are using pip version 21.0.1; however, version 24.1.2 is available.\r\n",
       "You should consider upgrading via the &#39;/databricks/python3/bin/python -m pip install --upgrade pip&#39; command.</span>\r\n",
       "<span class=\"ansi-yellow-fg\">WARNING: You are using pip version 21.0.1; however, version 24.1.2 is available.\r\n",
       "You should consider upgrading via the &#39;/databricks/python3/bin/python -m pip install --upgrade pip&#39; command.</span>\r\n",
       "</div>"
      ]
     },
     "metadata": {
      "application/vnd.databricks.v1+output": {
       "addedWidgets": {},
       "arguments": {},
       "data": "<div class=\"ansiout\">Collecting transformers\r\n  Downloading transformers-4.42.4-py3-none-any.whl (9.3 MB)\r\n\r     |                                | 10 kB 19.9 MB/s eta 0:00:01\r     |                                | 20 kB 26.7 MB/s eta 0:00:01\r     |                                | 30 kB 33.2 MB/s eta 0:00:01\r     |▏                               | 40 kB 23.2 MB/s eta 0:00:01\r     |▏                               | 51 kB 24.5 MB/s eta 0:00:01\r     |▏                               | 61 kB 27.7 MB/s eta 0:00:01\r     |▎                               | 71 kB 20.5 MB/s eta 0:00:01\r     |▎                               | 81 kB 22.6 MB/s eta 0:00:01\r     |▎                               | 92 kB 24.5 MB/s eta 0:00:01\r     |▍                               | 102 kB 21.9 MB/s eta 0:00:01\r     |▍                               | 112 kB 21.9 MB/s eta 0:00:01\r     |▍                               | 122 kB 21.9 MB/s eta 0:00:01\r     |▌                               | 133 kB 21.9 MB/s eta 0:00:01\r     |▌                               | 143 kB 21.9 MB/s eta 0:00:01\r     |▌                               | 153 kB 21.9 MB/s eta 0:00:01\r     |▋                               | 163 kB 21.9 MB/s eta 0:00:01\r     |▋                               | 174 kB 21.9 MB/s eta 0:00:01\r     |▋                               | 184 kB 21.9 MB/s eta 0:00:01\r     |▊                               | 194 kB 21.9 MB/s eta 0:00:01\r     |▊                               | 204 kB 21.9 MB/s eta 0:00:01\r     |▊                               | 215 kB 21.9 MB/s eta 0:00:01\r     |▊                               | 225 kB 21.9 MB/s eta 0:00:01\r     |▉                               | 235 kB 21.9 MB/s eta 0:00:01\r     |▉                               | 245 kB 21.9 MB/s eta 0:00:01\r     |▉                               | 256 kB 21.9 MB/s eta 0:00:01\r     |█                               | 266 kB 21.9 MB/s eta 0:00:01\r     |█                               | 276 kB 21.9 MB/s eta 0:00:01\r     |█                               | 286 kB 21.9 MB/s eta 0:00:01\r     |█                               | 296 kB 21.9 MB/s eta 0:00:01\r     |█                               | 307 kB 21.9 MB/s eta 0:00:01\r     |█                               | 317 kB 21.9 MB/s eta 0:00:01\r     |█▏                              | 327 kB 21.9 MB/s eta 0:00:01\r     |█▏                              | 337 kB 21.9 MB/s eta 0:00:01\r     |█▏                              | 348 kB 21.9 MB/s eta 0:00:01\r     |█▎                              | 358 kB 21.9 MB/s eta 0:00:01\r     |█▎                              | 368 kB 21.9 MB/s eta 0:00:01\r     |█▎                              | 378 kB 21.9 MB/s eta 0:00:01\r     |█▍                              | 389 kB 21.9 MB/s eta 0:00:01\r     |█▍                              | 399 kB 21.9 MB/s eta 0:00:01\r     |█▍                              | 409 kB 21.9 MB/s eta 0:00:01\r     |█▍                              | 419 kB 21.9 MB/s eta 0:00:01\r     |█▌                              | 430 kB 21.9 MB/s eta 0:00:01\r     |█▌                              | 440 kB 21.9 MB/s eta 0:00:01\r     |█▌                              | 450 kB 21.9 MB/s eta 0:00:01\r     |█▋                              | 460 kB 21.9 MB/s eta 0:00:01\r     |█▋                              | 471 kB 21.9 MB/s eta 0:00:01\r     |█▋                              | 481 kB 21.9 MB/s eta 0:00:01\r     |█▊                              | 491 kB 21.9 MB/s eta 0:00:01\r     |█▊                              | 501 kB 21.9 MB/s eta 0:00:01\r     |█▊                              | 512 kB 21.9 MB/s eta 0:00:01\r     |█▉                              | 522 kB 21.9 MB/s eta 0:00:01\r     |█▉                              | 532 kB 21.9 MB/s eta 0:00:01\r     |█▉                              | 542 kB 21.9 MB/s eta 0:00:01\r     |██                              | 552 kB 21.9 MB/s eta 0:00:01\r     |██                              | 563 kB 21.9 MB/s eta 0:00:01\r     |██                              | 573 kB 21.9 MB/s eta 0:00:01\r     |██                              | 583 kB 21.9 MB/s eta 0:00:01\r     |██                              | 593 kB 21.9 MB/s eta 0:00:01\r     |██                              | 604 kB 21.9 MB/s eta 0:00:01\r     |██                              | 614 kB 21.9 MB/s eta 0:00:01\r     |██▏                             | 624 kB 21.9 MB/s eta 0:00:01\r     |██▏                             | 634 kB 21.9 MB/s eta 0:00:01\r     |██▏                             | 645 kB 21.9 MB/s eta 0:00:01\r     |██▎                             | 655 kB 21.9 MB/s eta 0:00:01\r     |██▎                             | 665 kB 21.9 MB/s eta 0:00:01\r     |██▎                             | 675 kB 21.9 MB/s eta 0:00:01\r     |██▍                             | 686 kB 21.9 MB/s eta 0:00:01\r     |██▍                             | 696 kB 21.9 MB/s eta 0:00:01\r     |██▍                             | 706 kB 21.9 MB/s eta 0:00:01\r     |██▌                             | 716 kB 21.9 MB/s eta 0:00:01\r     |██▌                             | 727 kB 21.9 MB/s eta 0:00:01\r     |██▌                             | 737 kB 21.9 MB/s eta 0:00:01\r     |██▋                             | 747 kB 21.9 MB/s eta 0:00:01\r     |██▋                             | 757 kB 21.9 MB/s eta 0:00:01\r     |██▋                             | 768 kB 21.9 MB/s eta 0:00:01\r     |██▊                             | 778 kB 21.9 MB/s eta 0:00:01\r     |██▊                             | 788 kB 21.9 MB/s eta 0:00:01\r     |██▊                             | 798 kB 21.9 MB/s eta 0:00:01\r     |██▊                             | 808 kB 21.9 MB/s eta 0:00:01\r     |██▉                             | 819 kB 21.9 MB/s eta 0:00:01\r     |██▉                             | 829 kB 21.9 MB/s eta 0:00:01\r     |██▉                             | 839 kB 21.9 MB/s eta 0:00:01\r     |███                             | 849 kB 21.9 MB/s eta 0:00:01\r     |███                             | 860 kB 21.9 MB/s eta 0:00:01\r     |███                             | 870 kB 21.9 MB/s eta 0:00:01\r     |███                             | 880 kB 21.9 MB/s eta 0:00:01\r     |███                             | 890 kB 21.9 MB/s eta 0:00:01\r     |███                             | 901 kB 21.9 MB/s eta 0:00:01\r     |███▏                            | 911 kB 21.9 MB/s eta 0:00:01\r     |███▏                            | 921 kB 21.9 MB/s eta 0:00:01\r     |███▏                            | 931 kB 21.9 MB/s eta 0:00:01\r     |███▎                            | 942 kB 21.9 MB/s eta 0:00:01\r     |███▎                            | 952 kB 21.9 MB/s eta 0:00:01\r     |███▎                            | 962 kB 21.9 MB/s eta 0:00:01\r     |███▍                            | 972 kB 21.9 MB/s eta 0:00:01\r     |███▍                            | 983 kB 21.9 MB/s eta 0:00:01\r     |███▍                            | 993 kB 21.9 MB/s eta 0:00:01\r     |███▍                            | 1.0 MB 21.9 MB/s eta 0:00:01\r     |███▌                            | 1.0 MB 21.9 MB/s eta 0:00:01\r     |███▌                            | 1.0 MB 21.9 MB/s eta 0:00:01\r     |███▌                            | 1.0 MB 21.9 MB/s eta 0:00:01\r     |███▋                            | 1.0 MB 21.9 MB/s eta 0:00:01\r     |███▋                            | 1.1 MB 21.9 MB/s eta 0:00:01\r     |███▋                            | 1.1 MB 21.9 MB/s eta 0:00:01\r     |███▊                            | 1.1 MB 21.9 MB/s eta 0:00:01\r     |███▊                            | 1.1 MB 21.9 MB/s eta 0:00:01\r     |███▊                            | 1.1 MB 21.9 MB/s eta 0:00:01\r     |███▉                            | 1.1 MB 21.9 MB/s eta 0:00:01\r     |███▉                            | 1.1 MB 21.9 MB/s eta 0:00:01\r     |███▉                            | 1.1 MB 21.9 MB/s eta 0:00:01\r     |████                            | 1.1 MB 21.9 MB/s eta 0:00:01\r     |████                            | 1.1 MB 21.9 MB/s eta 0:00:01\r     |████                            | 1.2 MB 21.9 MB/s eta 0:00:01\r     |████                            | 1.2 MB 21.9 MB/s eta 0:00:01\r     |████                            | 1.2 MB 21.9 MB/s eta 0:00:01\r     |████                            | 1.2 MB 21.9 MB/s eta 0:00:01\r     |████                            | 1.2 MB 21.9 MB/s eta 0:00:01\r     |████▏                           | 1.2 MB 21.9 MB/s eta 0:00:01\r     |████▏                           | 1.2 MB 21.9 MB/s eta 0:00:01\r     |████▏                           | 1.2 MB 21.9 MB/s eta 0:00:01\r     |████▎                           | 1.2 MB 21.9 MB/s eta 0:00:01\r     |████▎                           | 1.2 MB 21.9 MB/s eta 0:00:01\r     |████▎                           | 1.3 MB 21.9 MB/s eta 0:00:01\r     |████▍                           | 1.3 MB 21.9 MB/s eta 0:00:01\r     |████▍                           | 1.3 MB 21.9 MB/s eta 0:00:01\r     |████▍                           | 1.3 MB 21.9 MB/s eta 0:00:01\r     |████▌                           | 1.3 MB 21.9 MB/s eta 0:00:01\r     |████▌                           | 1.3 MB 21.9 MB/s eta 0:00:01\r     |████▌                           | 1.3 MB 21.9 MB/s eta 0:00:01\r     |████▋                           | 1.3 MB 21.9 MB/s eta 0:00:01\r     |████▋                           | 1.3 MB 21.9 MB/s eta 0:00:01\r     |████▋                           | 1.4 MB 21.9 MB/s eta 0:00:01\r     |████▊                           | 1.4 MB 21.9 MB/s eta 0:00:01\r     |████▊                           | 1.4 MB 21.9 MB/s eta 0:00:01\r     |████▊                           | 1.4 MB 21.9 MB/s eta 0:00:01\r     |████▊                           | 1.4 MB 21.9 MB/s eta 0:00:01\r     |████▉                           | 1.4 MB 21.9 MB/s eta 0:00:01\r     |████▉                           | 1.4 MB 21.9 MB/s eta 0:00:01\r     |████▉                           | 1.4 MB 21.9 MB/s eta 0:00:01\r     |█████                           | 1.4 MB 21.9 MB/s eta 0:00:01\r     |█████                           | 1.4 MB 21.9 MB/s eta 0:00:01\r     |█████                           | 1.5 MB 21.9 MB/s eta 0:00:01\r     |█████                           | 1.5 MB 21.9 MB/s eta 0:00:01\r     |█████                           | 1.5 MB 21.9 MB/s eta 0:00:01\r     |█████                           | 1.5 MB 21.9 MB/s eta 0:00:01\r     |█████▏                          | 1.5 MB 21.9 MB/s eta 0:00:01\r     |█████▏                          | 1.5 MB 21.9 MB/s eta 0:00:01\r     |█████▏                          | 1.5 MB 21.9 MB/s eta 0:00:01\r     |█████▎                          | 1.5 MB 21.9 MB/s eta 0:00:01\r     |█████▎                          | 1.5 MB 21.9 MB/s eta 0:00:01\r     |█████▎                          | 1.5 MB 21.9 MB/s eta 0:00:01\r     |█████▍                          | 1.6 MB 21.9 MB/s eta 0:00:01\r     |█████▍                          | 1.6 MB 21.9 MB/s eta 0:00:01\r     |█████▍                          | 1.6 MB 21.9 MB/s eta 0:00:01\r     |█████▍                          | 1.6 MB 21.9 MB/s eta 0:00:01\r     |█████▌                          | 1.6 MB 21.9 MB/s eta 0:00:01\r     |█████▌                          | 1.6 MB 21.9 MB/s eta 0:00:01\r     |█████▌                          | 1.6 MB 21.9 MB/s eta 0:00:01\r     |█████▋                          | 1.6 MB 21.9 MB/s eta 0:00:01\r     |█████▋                          | 1.6 MB 21.9 MB/s eta 0:00:01\r     |█████▋                          | 1.6 MB 21.9 MB/s eta 0:00:01\r     |█████▊                          | 1.7 MB 21.9 MB/s eta 0:00:01\r     |█████▊                          | 1.7 MB 21.9 MB/s eta 0:00:01\r     |█████▊                          | 1.7 MB 21.9 MB/s eta 0:00:01\r     |█████▉                          | 1.7 MB 21.9 MB/s eta 0:00:01\r     |█████▉                          | 1.7 MB 21.9 MB/s eta 0:00:01\r     |█████▉                          | 1.7 MB 21.9 MB/s eta 0:00:01\r     |██████                          | 1.7 MB 21.9 MB/s eta 0:00:01\r     |██████                          | 1.7 MB 21.9 MB/s eta 0:00:01\r     |██████                          | 1.7 MB 21.9 MB/s eta 0:00:01\r     |██████                          | 1.8 MB 21.9 MB/s eta 0:00:01\r     |██████                          | 1.8 MB 21.9 MB/s eta 0:00:01\r     |██████                          | 1.8 MB 21.9 MB/s eta 0:00:01\r     |██████                          | 1.8 MB 21.9 MB/s eta 0:00:01\r     |██████▏                         | 1.8 MB 21.9 MB/s eta 0:00:01\r     |██████▏                         | 1.8 MB 21.9 MB/s eta 0:00:01\r     |██████▏                         | 1.8 MB 21.9 MB/s eta 0:00:01\r     |██████▎                         | 1.8 MB 21.9 MB/s eta 0:00:01\r     |██████▎                         | 1.8 MB 21.9 MB/s eta 0:00:01\r     |██████▎                         | 1.8 MB 21.9 MB/s eta 0:00:01\r     |██████▍                         | 1.9 MB 21.9 MB/s eta 0:00:01\r     |██████▍                         | 1.9 MB 21.9 MB/s eta 0:00:01\r     |██████▍                         | 1.9 MB 21.9 MB/s eta 0:00:01\r     |██████▌                         | 1.9 MB 21.9 MB/s eta 0:00:01\r     |██████▌                         | 1.9 MB 21.9 MB/s eta 0:00:01\r     |██████▌                         | 1.9 MB 21.9 MB/s eta 0:00:01\r     |██████▋                         | 1.9 MB 21.9 MB/s eta 0:00:01\r     |██████▋                         | 1.9 MB 21.9 MB/s eta 0:00:01\r     |██████▋                         | 1.9 MB 21.9 MB/s eta 0:00:01\r     |██████▊                         | 1.9 MB 21.9 MB/s eta 0:00:01\r     |██████▊                         | 2.0 MB 21.9 MB/s eta 0:00:01\r     |██████▊                         | 2.0 MB 21.9 MB/s eta 0:00:01\r     |██████▊                         | 2.0 MB 21.9 MB/s eta 0:00:01\r     |██████▉                         | 2.0 MB 21.9 MB/s eta 0:00:01\r     |██████▉                         | 2.0 MB 21.9 MB/s eta 0:00:01\r     |██████▉                         | 2.0 MB 21.9 MB/s eta 0:00:01\r     |███████                         | 2.0 MB 21.9 MB/s eta 0:00:01\r     |███████                         | 2.0 MB 21.9 MB/s eta 0:00:01\r     |███████                         | 2.0 MB 21.9 MB/s eta 0:00:01\r     |███████                         | 2.0 MB 21.9 MB/s eta 0:00:01\r     |███████                         | 2.1 MB 21.9 MB/s eta 0:00:01\r     |███████                         | 2.1 MB 21.9 MB/s eta 0:00:01\r     |███████▏                        | 2.1 MB 21.9 MB/s eta 0:00:01\r     |███████▏                        | 2.1 MB 21.9 MB/s eta 0:00:01\r     |███████▏                        | 2.1 MB 21.9 MB/s eta 0:00:01\r     |███████▎                        | 2.1 MB 21.9 MB/s eta 0:00:01\r     |███████▎                        | 2.1 MB 21.9 MB/s eta 0:00:01\r     |███████▎                        | 2.1 MB 21.9 MB/s eta 0:00:01\r     |███████▍                        | 2.1 MB 21.9 MB/s eta 0:00:01\r     |███████▍                        | 2.2 MB 21.9 MB/s eta 0:00:01\r     |███████▍                        | 2.2 MB 21.9 MB/s eta 0:00:01\r     |███████▍                        | 2.2 MB 21.9 MB/s eta 0:00:01\r     |███████▌                        | 2.2 MB 21.9 MB/s eta 0:00:01\r     |███████▌                        | 2.2 MB 21.9 MB/s eta 0:00:01\r     |███████▌                        | 2.2 MB 21.9 MB/s eta 0:00:01\r     |███████▋                        | 2.2 MB 21.9 MB/s eta 0:00:01\r     |███████▋                        | 2.2 MB 21.9 MB/s eta 0:00:01\r     |███████▋                        | 2.2 MB 21.9 MB/s eta 0:00:01\r     |███████▊                        | 2.2 MB 21.9 MB/s eta 0:00:01\r     |███████▊                        | 2.3 MB 21.9 MB/s eta 0:00:01\r     |███████▊                        | 2.3 MB 21.9 MB/s eta 0:00:01\r     |███████▉                        | 2.3 MB 21.9 MB/s eta 0:00:01\r     |███████▉                        | 2.3 MB 21.9 MB/s eta 0:00:01\r     |███████▉                        | 2.3 MB 21.9 MB/s eta 0:00:01\r     |████████                        | 2.3 MB 21.9 MB/s eta 0:00:01\r     |████████                        | 2.3 MB 21.9 MB/s eta 0:00:01\r     |████████                        | 2.3 MB 21.9 MB/s eta 0:00:01\r     |████████                        | 2.3 MB 21.9 MB/s eta 0:00:01\r     |████████                        | 2.3 MB 21.9 MB/s eta 0:00:01\r     |████████                        | 2.4 MB 21.9 MB/s eta 0:00:01\r     |████████                        | 2.4 MB 21.9 MB/s eta 0:00:01\r     |████████▏                       | 2.4 MB 21.9 MB/s eta 0:00:01\r     |████████▏                       | 2.4 MB 21.9 MB/s eta 0:00:01\r     |████████▏                       | 2.4 MB 21.9 MB/s eta 0:00:01\r     |████████▎                       | 2.4 MB 21.9 MB/s eta 0:00:01\r     |████████▎                       | 2.4 MB 21.9 MB/s eta 0:00:01\r     |████████▎                       | 2.4 MB 21.9 MB/s eta 0:00:01\r     |████████▍                       | 2.4 MB 21.9 MB/s eta 0:00:01\r     |████████▍                       | 2.4 MB 21.9 MB/s eta 0:00:01\r     |████████▍                       | 2.5 MB 21.9 MB/s eta 0:00:01\r     |████████▌                       | 2.5 MB 21.9 MB/s eta 0:00:01\r     |████████▌                       | 2.5 MB 21.9 MB/s eta 0:00:01\r     |████████▌                       | 2.5 MB 21.9 MB/s eta 0:00:01\r     |████████▋                       | 2.5 MB 21.9 MB/s eta 0:00:01\r     |████████▋                       | 2.5 MB 21.9 MB/s eta 0:00:01\r     |████████▋                       | 2.5 MB 21.9 MB/s eta 0:00:01\r     |████████▊                       | 2.5 MB 21.9 MB/s eta 0:00:01\r     |████████▊                       | 2.5 MB 21.9 MB/s eta 0:00:01\r     |████████▊                       | 2.5 MB 21.9 MB/s eta 0:00:01\r     |████████▊                       | 2.6 MB 21.9 MB/s eta 0:00:01\r     |████████▉                       | 2.6 MB 21.9 MB/s eta 0:00:01\r     |████████▉                       | 2.6 MB 21.9 MB/s eta 0:00:01\r     |████████▉                       | 2.6 MB 21.9 MB/s eta 0:00:01\r     |█████████                       | 2.6 MB 21.9 MB/s eta 0:00:01\r     |█████████                       | 2.6 MB 21.9 MB/s eta 0:00:01\r     |█████████                       | 2.6 MB 21.9 MB/s eta 0:00:01\r     |█████████                       | 2.6 MB 21.9 MB/s eta 0:00:01\r     |█████████                       | 2.6 MB 21.9 MB/s eta 0:00:01\r     |█████████                       | 2.7 MB 21.9 MB/s eta 0:00:01\r     |█████████▏                      | 2.7 MB 21.9 MB/s eta 0:00:01\r     |█████████▏                      | 2.7 MB 21.9 MB/s eta 0:00:01\r     |█████████▏                      | 2.7 MB 21.9 MB/s eta 0:00:01\r     |█████████▎                      | 2.7 MB 21.9 MB/s eta 0:00:01\r     |█████████▎                      | 2.7 MB 21.9 MB/s eta 0:00:01\r     |█████████▎                      | 2.7 MB 21.9 MB/s eta 0:00:01\r     |█████████▍                      | 2.7 MB 21.9 MB/s eta 0:00:01\r     |█████████▍                      | 2.7 MB 21.9 MB/s eta 0:00:01\r     |█████████▍                      | 2.7 MB 21.9 MB/s eta 0:00:01\r     |█████████▍                      | 2.8 MB 21.9 MB/s eta 0:00:01\r     |█████████▌                      | 2.8 MB 21.9 MB/s eta 0:00:01\r     |█████████▌                      | 2.8 MB 21.9 MB/s eta 0:00:01\r     |█████████▌                      | 2.8 MB 21.9 MB/s eta 0:00:01\r     |█████████▋                      | 2.8 MB 21.9 MB/s eta 0:00:01\r     |█████████▋                      | 2.8 MB 21.9 MB/s eta 0:00:01\r     |█████████▋                      | 2.8 MB 21.9 MB/s eta 0:00:01\r     |█████████▊                      | 2.8 MB 21.9 MB/s eta 0:00:01\r     |█████████▊                      | 2.8 MB 21.9 MB/s eta 0:00:01\r     |█████████▊                      | 2.8 MB 21.9 MB/s eta 0:00:01\r     |█████████▉                      | 2.9 MB 21.9 MB/s eta 0:00:01\r     |█████████▉                      | 2.9 MB 21.9 MB/s eta 0:00:01\r     |█████████▉                      | 2.9 MB 21.9 MB/s eta 0:00:01\r     |██████████                      | 2.9 MB 21.9 MB/s eta 0:00:01\r     |██████████                      | 2.9 MB 21.9 MB/s eta 0:00:01\r     |██████████                      | 2.9 MB 21.9 MB/s eta 0:00:01\r     |██████████                      | 2.9 MB 21.9 MB/s eta 0:00:01\r     |██████████                      | 2.9 MB 21.9 MB/s eta 0:00:01\r     |██████████                      | 2.9 MB 21.9 MB/s eta 0:00:01\r     |██████████                      | 2.9 MB 21.9 MB/s eta 0:00:01\r     |██████████▏                     | 3.0 MB 21.9 MB/s eta 0:00:01\r     |██████████▏                     | 3.0 MB 21.9 MB/s eta 0:00:01\r     |██████████▏                     | 3.0 MB 21.9 MB/s eta 0:00:01\r     |██████████▎                     | 3.0 MB 21.9 MB/s eta 0:00:01\r     |██████████▎                     | 3.0 MB 21.9 MB/s eta 0:00:01\r     |██████████▎                     | 3.0 MB 21.9 MB/s eta 0:00:01\r     |██████████▍                     | 3.0 MB 21.9 MB/s eta 0:00:01\r     |██████████▍                     | 3.0 MB 21.9 MB/s eta 0:00:01\r     |██████████▍                     | 3.0 MB 21.9 MB/s eta 0:00:01\r     |██████████▌                     | 3.1 MB 21.9 MB/s eta 0:00:01\r     |██████████▌                     | 3.1 MB 21.9 MB/s eta 0:00:01\r     |██████████▌                     | 3.1 MB 21.9 MB/s eta 0:00:01\r     |██████████▋                     | 3.1 MB 21.9 MB/s eta 0:00:01\r     |██████████▋                     | 3.1 MB 21.9 MB/s eta 0:00:01\r     |██████████▋                     | 3.1 MB 21.9 MB/s eta 0:00:01\r     |██████████▊                     | 3.1 MB 21.9 MB/s eta 0:00:01\r     |██████████▊                     | 3.1 MB 21.9 MB/s eta 0:00:01\r     |██████████▊                     | 3.1 MB 21.9 MB/s eta 0:00:01\r     |██████████▊                     | 3.1 MB 21.9 MB/s eta 0:00:01\r     |██████████▉                     | 3.2 MB 21.9 MB/s eta 0:00:01\r     |██████████▉                     | 3.2 MB 21.9 MB/s eta 0:00:01\r     |██████████▉                     | 3.2 MB 21.9 MB/s eta 0:00:01\r     |███████████                     | 3.2 MB 21.9 MB/s eta 0:00:01\r     |███████████                     | 3.2 MB 21.9 MB/s eta 0:00:01\r     |███████████                     | 3.2 MB 21.9 MB/s eta 0:00:01\r     |███████████                     | 3.2 MB 21.9 MB/s eta 0:00:01\r     |███████████                     | 3.2 MB 21.9 MB/s eta 0:00:01\r     |███████████                     | 3.2 MB 21.9 MB/s eta 0:00:01\r     |███████████▏                    | 3.2 MB 21.9 MB/s eta 0:00:01\r     |███████████▏                    | 3.3 MB 21.9 MB/s eta 0:00:01\r     |███████████▏                    | 3.3 MB 21.9 MB/s eta 0:00:01\r     |███████████▎                    | 3.3 MB 21.9 MB/s eta 0:00:01\r     |███████████▎                    | 3.3 MB 21.9 MB/s eta 0:00:01\r     |███████████▎                    | 3.3 MB 21.9 MB/s eta 0:00:01\r     |███████████▍                    | 3.3 MB 21.9 MB/s eta 0:00:01\r     |███████████▍                    | 3.3 MB 21.9 MB/s eta 0:00:01\r     |███████████▍                    | 3.3 MB 21.9 MB/s eta 0:00:01\r     |███████████▍                    | 3.3 MB 21.9 MB/s eta 0:00:01\r     |███████████▌                    | 3.3 MB 21.9 MB/s eta 0:00:01\r     |███████████▌                    | 3.4 MB 21.9 MB/s eta 0:00:01\r     |███████████▌                    | 3.4 MB 21.9 MB/s eta 0:00:01\r     |███████████▋                    | 3.4 MB 21.9 MB/s eta 0:00:01\r     |███████████▋                    | 3.4 MB 21.9 MB/s eta 0:00:01\r     |███████████▋                    | 3.4 MB 21.9 MB/s eta 0:00:01\r     |███████████▊                    | 3.4 MB 21.9 MB/s eta 0:00:01\r     |███████████▊                    | 3.4 MB 21.9 MB/s eta 0:00:01\r     |███████████▊                    | 3.4 MB 21.9 MB/s eta 0:00:01\r     |███████████▉                    | 3.4 MB 21.9 MB/s eta 0:00:01\r     |███████████▉                    | 3.5 MB 21.9 MB/s eta 0:00:01\r     |███████████▉                    | 3.5 MB 21.9 MB/s eta 0:00:01\r     |████████████                    | 3.5 MB 21.9 MB/s eta 0:00:01\r     |████████████                    | 3.5 MB 21.9 MB/s eta 0:00:01\r     |████████████                    | 3.5 MB 21.9 MB/s eta 0:00:01\r     |████████████                    | 3.5 MB 21.9 MB/s eta 0:00:01\r     |████████████                    | 3.5 MB 21.9 MB/s eta 0:00:01\r     |████████████                    | 3.5 MB 21.9 MB/s eta 0:00:01\r     |████████████                    | 3.5 MB 21.9 MB/s eta 0:00:01\r     |████████████▏                   | 3.5 MB 21.9 MB/s eta 0:00:01\r     |████████████▏                   | 3.6 MB 21.9 MB/s eta 0:00:01\r     |████████████▏                   | 3.6 MB 21.9 MB/s eta 0:00:01\r     |████████████▎                   | 3.6 MB 21.9 MB/s eta 0:00:01\r     |████████████▎                   | 3.6 MB 21.9 MB/s eta 0:00:01\r     |████████████▎                   | 3.6 MB 21.9 MB/s eta 0:00:01\r     |████████████▍                   | 3.6 MB 21.9 MB/s eta 0:00:01\r     |████████████▍                   | 3.6 MB 21.9 MB/s eta 0:00:01\r     |████████████▍                   | 3.6 MB 21.9 MB/s eta 0:00:01\r     |████████████▌                   | 3.6 MB 21.9 MB/s eta 0:00:01\r     |████████████▌                   | 3.6 MB 21.9 MB/s eta 0:00:01\r     |████████████▌                   | 3.7 MB 21.9 MB/s eta 0:00:01\r     |████████████▋                   | 3.7 MB 21.9 MB/s eta 0:00:01\r     |████████████▋                   | 3.7 MB 21.9 MB/s eta 0:00:01\r     |████████████▋                   | 3.7 MB 21.9 MB/s eta 0:00:01\r     |████████████▊                   | 3.7 MB 21.9 MB/s eta 0:00:01\r     |████████████▊                   | 3.7 MB 21.9 MB/s eta 0:00:01\r     |████████████▊                   | 3.7 MB 21.9 MB/s eta 0:00:01\r     |████████████▊                   | 3.7 MB 21.9 MB/s eta 0:00:01\r     |████████████▉                   | 3.7 MB 21.9 MB/s eta 0:00:01\r     |████████████▉                   | 3.7 MB 21.9 MB/s eta 0:00:01\r     |████████████▉                   | 3.8 MB 21.9 MB/s eta 0:00:01\r     |█████████████                   | 3.8 MB 21.9 MB/s eta 0:00:01\r     |█████████████                   | 3.8 MB 21.9 MB/s eta 0:00:01\r     |█████████████                   | 3.8 MB 21.9 MB/s eta 0:00:01\r     |█████████████                   | 3.8 MB 21.9 MB/s eta 0:00:01\r     |█████████████                   | 3.8 MB 21.9 MB/s eta 0:00:01\r     |█████████████                   | 3.8 MB 21.9 MB/s eta 0:00:01\r     |█████████████▏                  | 3.8 MB 21.9 MB/s eta 0:00:01\r     |█████████████▏                  | 3.8 MB 21.9 MB/s eta 0:00:01\r     |█████████████▏                  | 3.9 MB 21.9 MB/s eta 0:00:01\r     |█████████████▎                  | 3.9 MB 21.9 MB/s eta 0:00:01\r     |█████████████▎                  | 3.9 MB 21.9 MB/s eta 0:00:01\r     |█████████████▎                  | 3.9 MB 21.9 MB/s eta 0:00:01\r     |█████████████▍                  | 3.9 MB 21.9 MB/s eta 0:00:01\r     |█████████████▍                  | 3.9 MB 21.9 MB/s eta 0:00:01\r     |█████████████▍                  | 3.9 MB 21.9 MB/s eta 0:00:01\r     |█████████████▍                  | 3.9 MB 21.9 MB/s eta 0:00:01\r     |█████████████▌                  | 3.9 MB 21.9 MB/s eta 0:00:01\r     |█████████████▌                  | 3.9 MB 21.9 MB/s eta 0:00:01\r     |█████████████▌                  | 4.0 MB 21.9 MB/s eta 0:00:01\r     |█████████████▋                  | 4.0 MB 21.9 MB/s eta 0:00:01\r     |█████████████▋                  | 4.0 MB 21.9 MB/s eta 0:00:01\r     |█████████████▋                  | 4.0 MB 21.9 MB/s eta 0:00:01\r     |█████████████▊                  | 4.0 MB 21.9 MB/s eta 0:00:01\r     |█████████████▊                  | 4.0 MB 21.9 MB/s eta 0:00:01\r     |█████████████▊                  | 4.0 MB 21.9 MB/s eta 0:00:01\r     |█████████████▉                  | 4.0 MB 21.9 MB/s eta 0:00:01\r     |█████████████▉                  | 4.0 MB 21.9 MB/s eta 0:00:01\r     |█████████████▉                  | 4.0 MB 21.9 MB/s eta 0:00:01\r     |██████████████                  | 4.1 MB 21.9 MB/s eta 0:00:01\r     |██████████████                  | 4.1 MB 21.9 MB/s eta 0:00:01\r     |██████████████                  | 4.1 MB 21.9 MB/s eta 0:00:01\r     |██████████████                  | 4.1 MB 21.9 MB/s eta 0:00:01\r     |██████████████                  | 4.1 MB 21.9 MB/s eta 0:00:01\r     |██████████████                  | 4.1 MB 21.9 MB/s eta 0:00:01\r     |██████████████                  | 4.1 MB 21.9 MB/s eta 0:00:01\r     |██████████████▏                 | 4.1 MB 21.9 MB/s eta 0:00:01\r     |██████████████▏                 | 4.1 MB 21.9 MB/s eta 0:00:01\r     |██████████████▏                 | 4.1 MB 21.9 MB/s eta 0:00:01\r     |██████████████▎                 | 4.2 MB 21.9 MB/s eta 0:00:01\r     |██████████████▎                 | 4.2 MB 21.9 MB/s eta 0:00:01\r     |██████████████▎                 | 4.2 MB 21.9 MB/s eta 0:00:01\r     |██████████████▍                 | 4.2 MB 21.9 MB/s eta 0:00:01\r     |██████████████▍                 | 4.2 MB 21.9 MB/s eta 0:00:01\r     |██████████████▍                 | 4.2 MB 21.9 MB/s eta 0:00:01\r     |██████████████▌                 | 4.2 MB 21.9 MB/s eta 0:00:01\r     |██████████████▌                 | 4.2 MB 21.9 MB/s eta 0:00:01\r     |██████████████▌                 | 4.2 MB 21.9 MB/s eta 0:00:01\r     |██████████████▋                 | 4.2 MB 21.9 MB/s eta 0:00:01\r     |██████████████▋                 | 4.3 MB 21.9 MB/s eta 0:00:01\r     |██████████████▋                 | 4.3 MB 21.9 MB/s eta 0:00:01\r     |██████████████▊                 | 4.3 MB 21.9 MB/s eta 0:00:01\r     |██████████████▊                 | 4.3 MB 21.9 MB/s eta 0:00:01\r     |██████████████▊                 | 4.3 MB 21.9 MB/s eta 0:00:01\r     |██████████████▊                 | 4.3 MB 21.9 MB/s eta 0:00:01\r     |██████████████▉                 | 4.3 MB 21.9 MB/s eta 0:00:01\r     |██████████████▉                 | 4.3 MB 21.9 MB/s eta 0:00:01\r     |██████████████▉                 | 4.3 MB 21.9 MB/s eta 0:00:01\r     |███████████████                 | 4.4 MB 21.9 MB/s eta 0:00:01\r     |███████████████                 | 4.4 MB 21.9 MB/s eta 0:00:01\r     |███████████████                 | 4.4 MB 21.9 MB/s eta 0:00:01\r     |███████████████                 | 4.4 MB 21.9 MB/s eta 0:00:01\r     |███████████████                 | 4.4 MB 21.9 MB/s eta 0:00:01\r     |███████████████                 | 4.4 MB 21.9 MB/s eta 0:00:01\r     |███████████████▏                | 4.4 MB 21.9 MB/s eta 0:00:01\r     |███████████████▏                | 4.4 MB 21.9 MB/s eta 0:00:01\r     |███████████████▏                | 4.4 MB 21.9 MB/s eta 0:00:01\r     |███████████████▎                | 4.4 MB 21.9 MB/s eta 0:00:01\r     |███████████████▎                | 4.5 MB 21.9 MB/s eta 0:00:01\r     |███████████████▎                | 4.5 MB 21.9 MB/s eta 0:00:01\r     |███████████████▍                | 4.5 MB 21.9 MB/s eta 0:00:01\r     |███████████████▍                | 4.5 MB 21.9 MB/s eta 0:00:01\r     |███████████████▍                | 4.5 MB 21.9 MB/s eta 0:00:01\r     |███████████████▍                | 4.5 MB 21.9 MB/s eta 0:00:01\r     |███████████████▌                | 4.5 MB 21.9 MB/s eta 0:00:01\r     |███████████████▌                | 4.5 MB 21.9 MB/s eta 0:00:01\r     |███████████████▌                | 4.5 MB 21.9 MB/s eta 0:00:01\r     |███████████████▋                | 4.5 MB 21.9 MB/s eta 0:00:01\r     |███████████████▋                | 4.6 MB 21.9 MB/s eta 0:00:01\r     |███████████████▋                | 4.6 MB 21.9 MB/s eta 0:00:01\r     |███████████████▊                | 4.6 MB 21.9 MB/s eta 0:00:01\r     |███████████████▊                | 4.6 MB 21.9 MB/s eta 0:00:01\r     |███████████████▊                | 4.6 MB 21.9 MB/s eta 0:00:01\r     |███████████████▉                | 4.6 MB 21.9 MB/s eta 0:00:01\r     |███████████████▉                | 4.6 MB 21.9 MB/s eta 0:00:01\r     |███████████████▉                | 4.6 MB 21.9 MB/s eta 0:00:01\r     |████████████████                | 4.6 MB 21.9 MB/s eta 0:00:01\r     |████████████████                | 4.6 MB 21.9 MB/s eta 0:00:01\r     |████████████████                | 4.7 MB 21.9 MB/s eta 0:00:01\r     |████████████████                | 4.7 MB 21.9 MB/s eta 0:00:01\r     |████████████████                | 4.7 MB 21.9 MB/s eta 0:00:01\r     |████████████████                | 4.7 MB 21.9 MB/s eta 0:00:01\r     |████████████████                | 4.7 MB 21.9 MB/s eta 0:00:01\r     |████████████████▏               | 4.7 MB 21.9 MB/s eta 0:00:01\r     |████████████████▏               | 4.7 MB 21.9 MB/s eta 0:00:01\r     |████████████████▏               | 4.7 MB 21.9 MB/s eta 0:00:01\r     |████████████████▎               | 4.7 MB 21.9 MB/s eta 0:00:01\r     |████████████████▎               | 4.8 MB 21.9 MB/s eta 0:00:01\r     |████████████████▎               | 4.8 MB 21.9 MB/s eta 0:00:01\r     |████████████████▍               | 4.8 MB 21.9 MB/s eta 0:00:01\r     |████████████████▍               | 4.8 MB 21.9 MB/s eta 0:00:01\r     |████████████████▍               | 4.8 MB 21.9 MB/s eta 0:00:01\r     |████████████████▌               | 4.8 MB 21.9 MB/s eta 0:00:01\r     |████████████████▌               | 4.8 MB 21.9 MB/s eta 0:00:01\r     |████████████████▌               | 4.8 MB 21.9 MB/s eta 0:00:01\r     |████████████████▋               | 4.8 MB 21.9 MB/s eta 0:00:01\r     |████████████████▋               | 4.8 MB 21.9 MB/s eta 0:00:01\r     |████████████████▋               | 4.9 MB 21.9 MB/s eta 0:00:01\r     |████████████████▊               | 4.9 MB 21.9 MB/s eta 0:00:01\r     |████████████████▊               | 4.9 MB 21.9 MB/s eta 0:00:01\r     |████████████████▊               | 4.9 MB 21.9 MB/s eta 0:00:01\r     |████████████████▊               | 4.9 MB 21.9 MB/s eta 0:00:01\r     |████████████████▉               | 4.9 MB 21.9 MB/s eta 0:00:01\r     |████████████████▉               | 4.9 MB 21.9 MB/s eta 0:00:01\r     |████████████████▉               | 4.9 MB 21.9 MB/s eta 0:00:01\r     |█████████████████               | 4.9 MB 21.9 MB/s eta 0:00:01\r     |█████████████████               | 4.9 MB 21.9 MB/s eta 0:00:01\r     |█████████████████               | 5.0 MB 21.9 MB/s eta 0:00:01\r     |█████████████████               | 5.0 MB 21.9 MB/s eta 0:00:01\r     |█████████████████               | 5.0 MB 21.9 MB/s eta 0:00:01\r     |█████████████████               | 5.0 MB 21.9 MB/s eta 0:00:01\r     |█████████████████▏              | 5.0 MB 21.9 MB/s eta 0:00:01\r     |█████████████████▏              | 5.0 MB 21.9 MB/s eta 0:00:01\r     |█████████████████▏              | 5.0 MB 21.9 MB/s eta 0:00:01\r     |█████████████████▎              | 5.0 MB 21.9 MB/s eta 0:00:01\r     |█████████████████▎              | 5.0 MB 21.9 MB/s eta 0:00:01\r     |█████████████████▎              | 5.0 MB 21.9 MB/s eta 0:00:01\r     |█████████████████▍              | 5.1 MB 21.9 MB/s eta 0:00:01\r     |█████████████████▍              | 5.1 MB 21.9 MB/s eta 0:00:01\r     |█████████████████▍              | 5.1 MB 21.9 MB/s eta 0:00:01\r     |█████████████████▍              | 5.1 MB 21.9 MB/s eta 0:00:01\r     |█████████████████▌              | 5.1 MB 21.9 MB/s eta 0:00:01\r     |█████████████████▌              | 5.1 MB 21.9 MB/s eta 0:00:01\r     |█████████████████▌              | 5.1 MB 21.9 MB/s eta 0:00:01\r     |█████████████████▋              | 5.1 MB 21.9 MB/s eta 0:00:01\r     |█████████████████▋              | 5.1 MB 21.9 MB/s eta 0:00:01\r     |█████████████████▋              | 5.2 MB 21.9 MB/s eta 0:00:01\r     |█████████████████▊              | 5.2 MB 21.9 MB/s eta 0:00:01\r     |█████████████████▊              | 5.2 MB 21.9 MB/s eta 0:00:01\r     |█████████████████▊              | 5.2 MB 21.9 MB/s eta 0:00:01\r     |█████████████████▉              | 5.2 MB 21.9 MB/s eta 0:00:01\r     |█████████████████▉              | 5.2 MB 21.9 MB/s eta 0:00:01\r     |█████████████████▉              | 5.2 MB 21.9 MB/s eta 0:00:01\r     |██████████████████              | 5.2 MB 21.9 MB/s eta 0:00:01\r     |██████████████████              | 5.2 MB 21.9 MB/s eta 0:00:01\r     |██████████████████              | 5.2 MB 21.9 MB/s eta 0:00:01\r     |██████████████████              | 5.3 MB 21.9 MB/s eta 0:00:01\r     |██████████████████              | 5.3 MB 21.9 MB/s eta 0:00:01\r     |██████████████████              | 5.3 MB 21.9 MB/s eta 0:00:01\r     |██████████████████              | 5.3 MB 21.9 MB/s eta 0:00:01\r     |██████████████████▏             | 5.3 MB 21.9 MB/s eta 0:00:01\r     |██████████████████▏             | 5.3 MB 21.9 MB/s eta 0:00:01\r     |██████████████████▏             | 5.3 MB 21.9 MB/s eta 0:00:01\r     |██████████████████▎             | 5.3 MB 21.9 MB/s eta 0:00:01\r     |██████████████████▎             | 5.3 MB 21.9 MB/s eta 0:00:01\r     |██████████████████▎             | 5.3 MB 21.9 MB/s eta 0:00:01\r     |██████████████████▍             | 5.4 MB 21.9 MB/s eta 0:00:01\r     |██████████████████▍             | 5.4 MB 21.9 MB/s eta 0:00:01\r     |██████████████████▍             | 5.4 MB 21.9 MB/s eta 0:00:01\r     |██████████████████▌             | 5.4 MB 21.9 MB/s eta 0:00:01\r     |██████████████████▌             | 5.4 MB 21.9 MB/s eta 0:00:01\r     |██████████████████▌             | 5.4 MB 21.9 MB/s eta 0:00:01\r     |██████████████████▋             | 5.4 MB 21.9 MB/s eta 0:00:01\r     |██████████████████▋             | 5.4 MB 21.9 MB/s eta 0:00:01\r     |██████████████████▋             | 5.4 MB 21.9 MB/s eta 0:00:01\r     |██████████████████▊             | 5.4 MB 21.9 MB/s eta 0:00:01\r     |██████████████████▊             | 5.5 MB 21.9 MB/s eta 0:00:01\r     |██████████████████▊             | 5.5 MB 21.9 MB/s eta 0:00:01\r     |██████████████████▊             | 5.5 MB 21.9 MB/s eta 0:00:01\r     |██████████████████▉             | 5.5 MB 21.9 MB/s eta 0:00:01\r     |██████████████████▉             | 5.5 MB 21.9 MB/s eta 0:00:01\r     |██████████████████▉             | 5.5 MB 21.9 MB/s eta 0:00:01\r     |███████████████████             | 5.5 MB 21.9 MB/s eta 0:00:01\r     |███████████████████             | 5.5 MB 21.9 MB/s eta 0:00:01\r     |███████████████████             | 5.5 MB 21.9 MB/s eta 0:00:01\r     |███████████████████             | 5.6 MB 21.9 MB/s eta 0:00:01\r     |███████████████████             | 5.6 MB 21.9 MB/s eta 0:00:01\r     |███████████████████             | 5.6 MB 21.9 MB/s eta 0:00:01\r     |███████████████████▏            | 5.6 MB 21.9 MB/s eta 0:00:01\r     |███████████████████▏            | 5.6 MB 21.9 MB/s eta 0:00:01\r     |███████████████████▏            | 5.6 MB 21.9 MB/s eta 0:00:01\r     |███████████████████▎            | 5.6 MB 21.9 MB/s eta 0:00:01\r     |███████████████████▎            | 5.6 MB 21.9 MB/s eta 0:00:01\r     |███████████████████▎            | 5.6 MB 21.9 MB/s eta 0:00:01\r     |███████████████████▍            | 5.6 MB 21.9 MB/s eta 0:00:01\r     |███████████████████▍            | 5.7 MB 21.9 MB/s eta 0:00:01\r     |███████████████████▍            | 5.7 MB 21.9 MB/s eta 0:00:01\r     |███████████████████▍            | 5.7 MB 21.9 MB/s eta 0:00:01\r     |███████████████████▌            | 5.7 MB 21.9 MB/s eta 0:00:01\r     |███████████████████▌            | 5.7 MB 21.9 MB/s eta 0:00:01\r     |███████████████████▌            | 5.7 MB 21.9 MB/s eta 0:00:01\r     |███████████████████▋            | 5.7 MB 21.9 MB/s eta 0:00:01\r     |███████████████████▋            | 5.7 MB 21.9 MB/s eta 0:00:01\r     |███████████████████▋            | 5.7 MB 21.9 MB/s eta 0:00:01\r     |███████████████████▊            | 5.7 MB 21.9 MB/s eta 0:00:01\r     |███████████████████▊            | 5.8 MB 21.9 MB/s eta 0:00:01\r     |███████████████████▊            | 5.8 MB 21.9 MB/s eta 0:00:01\r     |███████████████████▉            | 5.8 MB 21.9 MB/s eta 0:00:01\r     |███████████████████▉            | 5.8 MB 21.9 MB/s eta 0:00:01\r     |███████████████████▉            | 5.8 MB 21.9 MB/s eta 0:00:01\r     |████████████████████            | 5.8 MB 21.9 MB/s eta 0:00:01\r     |████████████████████            | 5.8 MB 21.9 MB/s eta 0:00:01\r     |████████████████████            | 5.8 MB 21.9 MB/s eta 0:00:01\r     |████████████████████            | 5.8 MB 21.9 MB/s eta 0:00:01\r     |████████████████████            | 5.8 MB 21.9 MB/s eta 0:00:01\r     |████████████████████            | 5.9 MB 21.9 MB/s eta 0:00:01\r     |████████████████████            | 5.9 MB 21.9 MB/s eta 0:00:01\r     |████████████████████▏           | 5.9 MB 21.9 MB/s eta 0:00:01\r     |████████████████████▏           | 5.9 MB 21.9 MB/s eta 0:00:01\r     |████████████████████▏           | 5.9 MB 21.9 MB/s eta 0:00:01\r     |████████████████████▎           | 5.9 MB 21.9 MB/s eta 0:00:01\r     |████████████████████▎           | 5.9 MB 21.9 MB/s eta 0:00:01\r     |████████████████████▎           | 5.9 MB 21.9 MB/s eta 0:00:01\r     |████████████████████▍           | 5.9 MB 21.9 MB/s eta 0:00:01\r     |████████████████████▍           | 5.9 MB 21.9 MB/s eta 0:00:01\r     |████████████████████▍           | 6.0 MB 21.9 MB/s eta 0:00:01\r     |████████████████████▌           | 6.0 MB 21.9 MB/s eta 0:00:01\r     |████████████████████▌           | 6.0 MB 21.9 MB/s eta 0:00:01\r     |████████████████████▌           | 6.0 MB 21.9 MB/s eta 0:00:01\r     |████████████████████▋           | 6.0 MB 21.9 MB/s eta 0:00:01\r     |████████████████████▋           | 6.0 MB 21.9 MB/s eta 0:00:01\r     |████████████████████▋           | 6.0 MB 21.9 MB/s eta 0:00:01\r     |████████████████████▊           | 6.0 MB 21.9 MB/s eta 0:00:01\r     |████████████████████▊           | 6.0 MB 21.9 MB/s eta 0:00:01\r     |████████████████████▊           | 6.1 MB 21.9 MB/s eta 0:00:01\r     |████████████████████▊           | 6.1 MB 21.9 MB/s eta 0:00:01\r     |████████████████████▉           | 6.1 MB 21.9 MB/s eta 0:00:01\r     |████████████████████▉           | 6.1 MB 21.9 MB/s eta 0:00:01\r     |████████████████████▉           | 6.1 MB 21.9 MB/s eta 0:00:01\r     |█████████████████████           | 6.1 MB 21.9 MB/s eta 0:00:01\r     |█████████████████████           | 6.1 MB 21.9 MB/s eta 0:00:01\r     |█████████████████████           | 6.1 MB 21.9 MB/s eta 0:00:01\r     |█████████████████████           | 6.1 MB 21.9 MB/s eta 0:00:01\r     |█████████████████████           | 6.1 MB 21.9 MB/s eta 0:00:01\r     |█████████████████████           | 6.2 MB 21.9 MB/s eta 0:00:01\r     |█████████████████████▏          | 6.2 MB 21.9 MB/s eta 0:00:01\r     |█████████████████████▏          | 6.2 MB 21.9 MB/s eta 0:00:01\r     |█████████████████████▏          | 6.2 MB 21.9 MB/s eta 0:00:01\r     |█████████████████████▎          | 6.2 MB 21.9 MB/s eta 0:00:01\r     |█████████████████████▎          | 6.2 MB 21.9 MB/s eta 0:00:01\r     |█████████████████████▎          | 6.2 MB 21.9 MB/s eta 0:00:01\r     |█████████████████████▍          | 6.2 MB 21.9 MB/s eta 0:00:01\r     |█████████████████████▍          | 6.2 MB 21.9 MB/s eta 0:00:01\r     |█████████████████████▍          | 6.2 MB 21.9 MB/s eta 0:00:01\r     |█████████████████████▍          | 6.3 MB 21.9 MB/s eta 0:00:01\r     |█████████████████████▌          | 6.3 MB 21.9 MB/s eta 0:00:01\r     |█████████████████████▌          | 6.3 MB 21.9 MB/s eta 0:00:01\r     |█████████████████████▌          | 6.3 MB 21.9 MB/s eta 0:00:01\r     |█████████████████████▋          | 6.3 MB 21.9 MB/s eta 0:00:01\r     |█████████████████████▋          | 6.3 MB 21.9 MB/s eta 0:00:01\r     |█████████████████████▋          | 6.3 MB 21.9 MB/s eta 0:00:01\r     |█████████████████████▊          | 6.3 MB 21.9 MB/s eta 0:00:01\r     |█████████████████████▊          | 6.3 MB 21.9 MB/s eta 0:00:01\r     |█████████████████████▊          | 6.3 MB 21.9 MB/s eta 0:00:01\r     |█████████████████████▉          | 6.4 MB 21.9 MB/s eta 0:00:01\r     |█████████████████████▉          | 6.4 MB 21.9 MB/s eta 0:00:01\r     |█████████████████████▉          | 6.4 MB 21.9 MB/s eta 0:00:01\r     |██████████████████████          | 6.4 MB 21.9 MB/s eta 0:00:01\r     |██████████████████████          | 6.4 MB 21.9 MB/s eta 0:00:01\r     |██████████████████████          | 6.4 MB 21.9 MB/s eta 0:00:01\r     |██████████████████████          | 6.4 MB 21.9 MB/s eta 0:00:01\r     |██████████████████████          | 6.4 MB 21.9 MB/s eta 0:00:01\r     |██████████████████████          | 6.4 MB 21.9 MB/s eta 0:00:01\r     |██████████████████████          | 6.5 MB 21.9 MB/s eta 0:00:01\r     |██████████████████████▏         | 6.5 MB 21.9 MB/s eta 0:00:01\r     |██████████████████████▏         | 6.5 MB 21.9 MB/s eta 0:00:01\r     |██████████████████████▏         | 6.5 MB 21.9 MB/s eta 0:00:01\r     |██████████████████████▎         | 6.5 MB 21.9 MB/s eta 0:00:01\r     |██████████████████████▎         | 6.5 MB 21.9 MB/s eta 0:00:01\r     |██████████████████████▎         | 6.5 MB 21.9 MB/s eta 0:00:01\r     |██████████████████████▍         | 6.5 MB 21.9 MB/s eta 0:00:01\r     |██████████████████████▍         | 6.5 MB 21.9 MB/s eta 0:00:01\r     |██████████████████████▍         | 6.5 MB 21.9 MB/s eta 0:00:01\r     |██████████████████████▌         | 6.6 MB 21.9 MB/s eta 0:00:01\r     |██████████████████████▌         | 6.6 MB 21.9 MB/s eta 0:00:01\r     |██████████████████████▌         | 6.6 MB 21.9 MB/s eta 0:00:01\r     |██████████████████████▋         | 6.6 MB 21.9 MB/s eta 0:00:01\r     |██████████████████████▋         | 6.6 MB 21.9 MB/s eta 0:00:01\r     |██████████████████████▋         | 6.6 MB 21.9 MB/s eta 0:00:01\r     |██████████████████████▊         | 6.6 MB 21.9 MB/s eta 0:00:01\r     |██████████████████████▊         | 6.6 MB 21.9 MB/s eta 0:00:01\r     |██████████████████████▊         | 6.6 MB 21.9 MB/s eta 0:00:01\r     |██████████████████████▊         | 6.6 MB 21.9 MB/s eta 0:00:01\r     |██████████████████████▉         | 6.7 MB 21.9 MB/s eta 0:00:01\r     |██████████████████████▉         | 6.7 MB 21.9 MB/s eta 0:00:01\r     |██████████████████████▉         | 6.7 MB 21.9 MB/s eta 0:00:01\r     |███████████████████████         | 6.7 MB 21.9 MB/s eta 0:00:01\r     |███████████████████████         | 6.7 MB 21.9 MB/s eta 0:00:01\r     |███████████████████████         | 6.7 MB 21.9 MB/s eta 0:00:01\r     |███████████████████████         | 6.7 MB 21.9 MB/s eta 0:00:01\r     |███████████████████████         | 6.7 MB 21.9 MB/s eta 0:00:01\r     |███████████████████████         | 6.7 MB 21.9 MB/s eta 0:00:01\r     |███████████████████████▏        | 6.7 MB 21.9 MB/s eta 0:00:01\r     |███████████████████████▏        | 6.8 MB 21.9 MB/s eta 0:00:01\r     |███████████████████████▏        | 6.8 MB 21.9 MB/s eta 0:00:01\r     |███████████████████████▎        | 6.8 MB 21.9 MB/s eta 0:00:01\r     |███████████████████████▎        | 6.8 MB 21.9 MB/s eta 0:00:01\r     |███████████████████████▎        | 6.8 MB 21.9 MB/s eta 0:00:01\r     |███████████████████████▍        | 6.8 MB 21.9 MB/s eta 0:00:01\r     |███████████████████████▍        | 6.8 MB 21.9 MB/s eta 0:00:01\r     |███████████████████████▍        | 6.8 MB 21.9 MB/s eta 0:00:01\r     |███████████████████████▍        | 6.8 MB 21.9 MB/s eta 0:00:01\r     |███████████████████████▌        | 6.9 MB 21.9 MB/s eta 0:00:01\r     |███████████████████████▌        | 6.9 MB 21.9 MB/s eta 0:00:01\r     |███████████████████████▌        | 6.9 MB 21.9 MB/s eta 0:00:01\r     |███████████████████████▋        | 6.9 MB 21.9 MB/s eta 0:00:01\r     |███████████████████████▋        | 6.9 MB 21.9 MB/s eta 0:00:01\r     |███████████████████████▋        | 6.9 MB 21.9 MB/s eta 0:00:01\r     |███████████████████████▊        | 6.9 MB 21.9 MB/s eta 0:00:01\r     |███████████████████████▊        | 6.9 MB 21.9 MB/s eta 0:00:01\r     |███████████████████████▊        | 6.9 MB 21.9 MB/s eta 0:00:01\r     |███████████████████████▉        | 6.9 MB 21.9 MB/s eta 0:00:01\r     |███████████████████████▉        | 7.0 MB 21.9 MB/s eta 0:00:01\r     |███████████████████████▉        | 7.0 MB 21.9 MB/s eta 0:00:01\r     |████████████████████████        | 7.0 MB 21.9 MB/s eta 0:00:01\r     |████████████████████████        | 7.0 MB 21.9 MB/s eta 0:00:01\r     |████████████████████████        | 7.0 MB 21.9 MB/s eta 0:00:01\r     |████████████████████████        | 7.0 MB 21.9 MB/s eta 0:00:01\r     |████████████████████████        | 7.0 MB 21.9 MB/s eta 0:00:01\r     |████████████████████████        | 7.0 MB 21.9 MB/s eta 0:00:01\r     |████████████████████████        | 7.0 MB 21.9 MB/s eta 0:00:01\r     |████████████████████████▏       | 7.0 MB 21.9 MB/s eta 0:00:01\r     |████████████████████████▏       | 7.1 MB 21.9 MB/s eta 0:00:01\r     |████████████████████████▏       | 7.1 MB 21.9 MB/s eta 0:00:01\r     |████████████████████████▎       | 7.1 MB 21.9 MB/s eta 0:00:01\r     |████████████████████████▎       | 7.1 MB 21.9 MB/s eta 0:00:01\r     |████████████████████████▎       | 7.1 MB 21.9 MB/s eta 0:00:01\r     |███████████\n*** WARNING: skipped 42053 bytes of output ***\n\nCollecting safetensors&gt;=0.4.1\r\n  Downloading safetensors-0.4.3-cp38-cp38-manylinux_2_17_x86_64.manylinux2014_x86_64.whl (1.2 MB)\r\n\r     |▎                               | 10 kB 30.1 MB/s eta 0:00:01\r     |▌                               | 20 kB 34.4 MB/s eta 0:00:01\r     |▉                               | 30 kB 42.4 MB/s eta 0:00:01\r     |█                               | 40 kB 46.1 MB/s eta 0:00:01\r     |█▍                              | 51 kB 49.4 MB/s eta 0:00:01\r     |█▋                              | 61 kB 51.7 MB/s eta 0:00:01\r     |██                              | 71 kB 53.7 MB/s eta 0:00:01\r     |██▏                             | 81 kB 55.6 MB/s eta 0:00:01\r     |██▌                             | 92 kB 58.4 MB/s eta 0:00:01\r     |██▊                             | 102 kB 59.3 MB/s eta 0:00:01\r     |███                             | 112 kB 59.3 MB/s eta 0:00:01\r     |███▎                            | 122 kB 59.3 MB/s eta 0:00:01\r     |███▌                            | 133 kB 59.3 MB/s eta 0:00:01\r     |███▉                            | 143 kB 59.3 MB/s eta 0:00:01\r     |████                            | 153 kB 59.3 MB/s eta 0:00:01\r     |████▍                           | 163 kB 59.3 MB/s eta 0:00:01\r     |████▋                           | 174 kB 59.3 MB/s eta 0:00:01\r     |█████                           | 184 kB 59.3 MB/s eta 0:00:01\r     |█████▏                          | 194 kB 59.3 MB/s eta 0:00:01\r     |█████▍                          | 204 kB 59.3 MB/s eta 0:00:01\r     |█████▊                          | 215 kB 59.3 MB/s eta 0:00:01\r     |██████                          | 225 kB 59.3 MB/s eta 0:00:01\r     |██████▎                         | 235 kB 59.3 MB/s eta 0:00:01\r     |██████▌                         | 245 kB 59.3 MB/s eta 0:00:01\r     |██████▉                         | 256 kB 59.3 MB/s eta 0:00:01\r     |███████                         | 266 kB 59.3 MB/s eta 0:00:01\r     |███████▍                        | 276 kB 59.3 MB/s eta 0:00:01\r     |███████▋                        | 286 kB 59.3 MB/s eta 0:00:01\r     |████████                        | 296 kB 59.3 MB/s eta 0:00:01\r     |████████▏                       | 307 kB 59.3 MB/s eta 0:00:01\r     |████████▍                       | 317 kB 59.3 MB/s eta 0:00:01\r     |████████▊                       | 327 kB 59.3 MB/s eta 0:00:01\r     |█████████                       | 337 kB 59.3 MB/s eta 0:00:01\r     |█████████▎                      | 348 kB 59.3 MB/s eta 0:00:01\r     |█████████▌                      | 358 kB 59.3 MB/s eta 0:00:01\r     |█████████▉                      | 368 kB 59.3 MB/s eta 0:00:01\r     |██████████                      | 378 kB 59.3 MB/s eta 0:00:01\r     |██████████▍                     | 389 kB 59.3 MB/s eta 0:00:01\r     |██████████▋                     | 399 kB 59.3 MB/s eta 0:00:01\r     |██████████▉                     | 409 kB 59.3 MB/s eta 0:00:01\r     |███████████▏                    | 419 kB 59.3 MB/s eta 0:00:01\r     |███████████▍                    | 430 kB 59.3 MB/s eta 0:00:01\r     |███████████▊                    | 440 kB 59.3 MB/s eta 0:00:01\r     |████████████                    | 450 kB 59.3 MB/s eta 0:00:01\r     |████████████▎                   | 460 kB 59.3 MB/s eta 0:00:01\r     |████████████▌                   | 471 kB 59.3 MB/s eta 0:00:01\r     |████████████▉                   | 481 kB 59.3 MB/s eta 0:00:01\r     |█████████████                   | 491 kB 59.3 MB/s eta 0:00:01\r     |█████████████▎                  | 501 kB 59.3 MB/s eta 0:00:01\r     |█████████████▋                  | 512 kB 59.3 MB/s eta 0:00:01\r     |█████████████▉                  | 522 kB 59.3 MB/s eta 0:00:01\r     |██████████████▏                 | 532 kB 59.3 MB/s eta 0:00:01\r     |██████████████▍                 | 542 kB 59.3 MB/s eta 0:00:01\r     |██████████████▊                 | 552 kB 59.3 MB/s eta 0:00:01\r     |███████████████                 | 563 kB 59.3 MB/s eta 0:00:01\r     |███████████████▎                | 573 kB 59.3 MB/s eta 0:00:01\r     |███████████████▌                | 583 kB 59.3 MB/s eta 0:00:01\r     |███████████████▉                | 593 kB 59.3 MB/s eta 0:00:01\r     |████████████████                | 604 kB 59.3 MB/s eta 0:00:01\r     |████████████████▎               | 614 kB 59.3 MB/s eta 0:00:01\r     |████████████████▋               | 624 kB 59.3 MB/s eta 0:00:01\r     |████████████████▉               | 634 kB 59.3 MB/s eta 0:00:01\r     |█████████████████▏              | 645 kB 59.3 MB/s eta 0:00:01\r     |█████████████████▍              | 655 kB 59.3 MB/s eta 0:00:01\r     |█████████████████▊              | 665 kB 59.3 MB/s eta 0:00:01\r     |██████████████████              | 675 kB 59.3 MB/s eta 0:00:01\r     |██████████████████▎             | 686 kB 59.3 MB/s eta 0:00:01\r     |██████████████████▌             | 696 kB 59.3 MB/s eta 0:00:01\r     |██████████████████▊             | 706 kB 59.3 MB/s eta 0:00:01\r     |███████████████████             | 716 kB 59.3 MB/s eta 0:00:01\r     |███████████████████▎            | 727 kB 59.3 MB/s eta 0:00:01\r     |███████████████████▋            | 737 kB 59.3 MB/s eta 0:00:01\r     |███████████████████▉            | 747 kB 59.3 MB/s eta 0:00:01\r     |████████████████████▏           | 757 kB 59.3 MB/s eta 0:00:01\r     |████████████████████▍           | 768 kB 59.3 MB/s eta 0:00:01\r     |████████████████████▊           | 778 kB 59.3 MB/s eta 0:00:01\r     |█████████████████████           | 788 kB 59.3 MB/s eta 0:00:01\r     |█████████████████████▏          | 798 kB 59.3 MB/s eta 0:00:01\r     |█████████████████████▌          | 808 kB 59.3 MB/s eta 0:00:01\r     |█████████████████████▊          | 819 kB 59.3 MB/s eta 0:00:01\r     |██████████████████████          | 829 kB 59.3 MB/s eta 0:00:01\r     |██████████████████████▎         | 839 kB 59.3 MB/s eta 0:00:01\r     |██████████████████████▋         | 849 kB 59.3 MB/s eta 0:00:01\r     |██████████████████████▉         | 860 kB 59.3 MB/s eta 0:00:01\r     |███████████████████████▏        | 870 kB 59.3 MB/s eta 0:00:01\r     |███████████████████████▍        | 880 kB 59.3 MB/s eta 0:00:01\r     |███████████████████████▊        | 890 kB 59.3 MB/s eta 0:00:01\r     |████████████████████████        | 901 kB 59.3 MB/s eta 0:00:01\r     |████████████████████████▏       | 911 kB 59.3 MB/s eta 0:00:01\r     |████████████████████████▌       | 921 kB 59.3 MB/s eta 0:00:01\r     |████████████████████████▊       | 931 kB 59.3 MB/s eta 0:00:01\r     |█████████████████████████       | 942 kB 59.3 MB/s eta 0:00:01\r     |█████████████████████████▎      | 952 kB 59.3 MB/s eta 0:00:01\r     |█████████████████████████▋      | 962 kB 59.3 MB/s eta 0:00:01\r     |█████████████████████████▉      | 972 kB 59.3 MB/s eta 0:00:01\r     |██████████████████████████▏     | 983 kB 59.3 MB/s eta 0:00:01\r     |██████████████████████████▍     | 993 kB 59.3 MB/s eta 0:00:01\r     |██████████████████████████▋     | 1.0 MB 59.3 MB/s eta 0:00:01\r     |███████████████████████████     | 1.0 MB 59.3 MB/s eta 0:00:01\r     |███████████████████████████▏    | 1.0 MB 59.3 MB/s eta 0:00:01\r     |███████████████████████████▌    | 1.0 MB 59.3 MB/s eta 0:00:01\r     |███████████████████████████▊    | 1.0 MB 59.3 MB/s eta 0:00:01\r     |████████████████████████████    | 1.1 MB 59.3 MB/s eta 0:00:01\r     |████████████████████████████▎   | 1.1 MB 59.3 MB/s eta 0:00:01\r     |████████████████████████████▋   | 1.1 MB 59.3 MB/s eta 0:00:01\r     |████████████████████████████▉   | 1.1 MB 59.3 MB/s eta 0:00:01\r     |█████████████████████████████▏  | 1.1 MB 59.3 MB/s eta 0:00:01\r     |█████████████████████████████▍  | 1.1 MB 59.3 MB/s eta 0:00:01\r     |█████████████████████████████▋  | 1.1 MB 59.3 MB/s eta 0:00:01\r     |██████████████████████████████  | 1.1 MB 59.3 MB/s eta 0:00:01\r     |██████████████████████████████▏ | 1.1 MB 59.3 MB/s eta 0:00:01\r     |██████████████████████████████▌ | 1.1 MB 59.3 MB/s eta 0:00:01\r     |██████████████████████████████▊ | 1.2 MB 59.3 MB/s eta 0:00:01\r     |███████████████████████████████ | 1.2 MB 59.3 MB/s eta 0:00:01\r     |███████████████████████████████▎| 1.2 MB 59.3 MB/s eta 0:00:01\r     |███████████████████████████████▋| 1.2 MB 59.3 MB/s eta 0:00:01\r     |███████████████████████████████▉| 1.2 MB 59.3 MB/s eta 0:00:01\r     |████████████████████████████████| 1.2 MB 59.3 MB/s \r\nRequirement already satisfied: filelock in /usr/local/lib/python3.8/dist-packages (from transformers) (3.0.12)\r\nCollecting huggingface-hub&lt;1.0,&gt;=0.23.2\r\n  Downloading huggingface_hub-0.23.5-py3-none-any.whl (402 kB)\r\n\r     |▉                               | 10 kB 37.8 MB/s eta 0:00:01\r     |█▋                              | 20 kB 45.9 MB/s eta 0:00:01\r     |██▍                             | 30 kB 55.8 MB/s eta 0:00:01\r     |███▎                            | 40 kB 61.0 MB/s eta 0:00:01\r     |████                            | 51 kB 55.6 MB/s eta 0:00:01\r     |████▉                           | 61 kB 59.7 MB/s eta 0:00:01\r     |█████▊                          | 71 kB 59.7 MB/s eta 0:00:01\r     |██████▌                         | 81 kB 61.4 MB/s eta 0:00:01\r     |███████▎                        | 92 kB 63.8 MB/s eta 0:00:01\r     |████████▏                       | 102 kB 65.9 MB/s eta 0:00:01\r     |█████████                       | 112 kB 65.9 MB/s eta 0:00:01\r     |█████████▊                      | 122 kB 65.9 MB/s eta 0:00:01\r     |██████████▋                     | 133 kB 65.9 MB/s eta 0:00:01\r     |███████████▍                    | 143 kB 65.9 MB/s eta 0:00:01\r     |████████████▏                   | 153 kB 65.9 MB/s eta 0:00:01\r     |█████████████                   | 163 kB 65.9 MB/s eta 0:00:01\r     |█████████████▉                  | 174 kB 65.9 MB/s eta 0:00:01\r     |██████████████▋                 | 184 kB 65.9 MB/s eta 0:00:01\r     |███████████████▌                | 194 kB 65.9 MB/s eta 0:00:01\r     |████████████████▎               | 204 kB 65.9 MB/s eta 0:00:01\r     |█████████████████               | 215 kB 65.9 MB/s eta 0:00:01\r     |██████████████████              | 225 kB 65.9 MB/s eta 0:00:01\r     |██████████████████▊             | 235 kB 65.9 MB/s eta 0:00:01\r     |███████████████████▌            | 245 kB 65.9 MB/s eta 0:00:01\r     |████████████████████▍           | 256 kB 65.9 MB/s eta 0:00:01\r     |█████████████████████▏          | 266 kB 65.9 MB/s eta 0:00:01\r     |██████████████████████          | 276 kB 65.9 MB/s eta 0:00:01\r     |██████████████████████▉         | 286 kB 65.9 MB/s eta 0:00:01\r     |███████████████████████▋        | 296 kB 65.9 MB/s eta 0:00:01\r     |████████████████████████▍       | 307 kB 65.9 MB/s eta 0:00:01\r     |█████████████████████████▏      | 317 kB 65.9 MB/s eta 0:00:01\r     |██████████████████████████      | 327 kB 65.9 MB/s eta 0:00:01\r     |██████████████████████████▉     | 337 kB 65.9 MB/s eta 0:00:01\r     |███████████████████████████▋    | 348 kB 65.9 MB/s eta 0:00:01\r     |████████████████████████████▌   | 358 kB 65.9 MB/s eta 0:00:01\r     |█████████████████████████████▎  | 368 kB 65.9 MB/s eta 0:00:01\r     |██████████████████████████████  | 378 kB 65.9 MB/s eta 0:00:01\r     |███████████████████████████████ | 389 kB 65.9 MB/s eta 0:00:01\r     |███████████████████████████████▊| 399 kB 65.9 MB/s eta 0:00:01\r     |████████████████████████████████| 402 kB 65.9 MB/s \r\nCollecting regex!=2019.12.17\r\n  Downloading regex-2024.5.15-cp38-cp38-manylinux_2_17_x86_64.manylinux2014_x86_64.whl (776 kB)\r\n\r     |▍                               | 10 kB 24.6 MB/s eta 0:00:01\r     |▉                               | 20 kB 35.1 MB/s eta 0:00:01\r     |█▎                              | 30 kB 39.8 MB/s eta 0:00:01\r     |█▊                              | 40 kB 42.1 MB/s eta 0:00:01\r     |██                              | 51 kB 41.6 MB/s eta 0:00:01\r     |██▌                             | 61 kB 44.5 MB/s eta 0:00:01\r     |███                             | 71 kB 46.3 MB/s eta 0:00:01\r     |███▍                            | 81 kB 49.9 MB/s eta 0:00:01\r     |███▉                            | 92 kB 52.3 MB/s eta 0:00:01\r     |████▏                           | 102 kB 54.7 MB/s eta 0:00:01\r     |████▋                           | 112 kB 54.7 MB/s eta 0:00:01\r     |█████                           | 122 kB 54.7 MB/s eta 0:00:01\r     |█████▌                          | 133 kB 54.7 MB/s eta 0:00:01\r     |██████                          | 143 kB 54.7 MB/s eta 0:00:01\r     |██████▎                         | 153 kB 54.7 MB/s eta 0:00:01\r     |██████▊                         | 163 kB 54.7 MB/s eta 0:00:01\r     |███████▏                        | 174 kB 54.7 MB/s eta 0:00:01\r     |███████▋                        | 184 kB 54.7 MB/s eta 0:00:01\r     |████████                        | 194 kB 54.7 MB/s eta 0:00:01\r     |████████▍                       | 204 kB 54.7 MB/s eta 0:00:01\r     |████████▉                       | 215 kB 54.7 MB/s eta 0:00:01\r     |█████████▎                      | 225 kB 54.7 MB/s eta 0:00:01\r     |█████████▊                      | 235 kB 54.7 MB/s eta 0:00:01\r     |██████████▏                     | 245 kB 54.7 MB/s eta 0:00:01\r     |██████████▌                     | 256 kB 54.7 MB/s eta 0:00:01\r     |███████████                     | 266 kB 54.7 MB/s eta 0:00:01\r     |███████████▍                    | 276 kB 54.7 MB/s eta 0:00:01\r     |███████████▉                    | 286 kB 54.7 MB/s eta 0:00:01\r     |████████████▎                   | 296 kB 54.7 MB/s eta 0:00:01\r     |████████████▋                   | 307 kB 54.7 MB/s eta 0:00:01\r     |█████████████                   | 317 kB 54.7 MB/s eta 0:00:01\r     |█████████████▌                  | 327 kB 54.7 MB/s eta 0:00:01\r     |██████████████                  | 337 kB 54.7 MB/s eta 0:00:01\r     |██████████████▍                 | 348 kB 54.7 MB/s eta 0:00:01\r     |██████████████▊                 | 358 kB 54.7 MB/s eta 0:00:01\r     |███████████████▏                | 368 kB 54.7 MB/s eta 0:00:01\r     |███████████████▋                | 378 kB 54.7 MB/s eta 0:00:01\r     |████████████████                | 389 kB 54.7 MB/s eta 0:00:01\r     |████████████████▌               | 399 kB 54.7 MB/s eta 0:00:01\r     |████████████████▉               | 409 kB 54.7 MB/s eta 0:00:01\r     |█████████████████▎              | 419 kB 54.7 MB/s eta 0:00:01\r     |█████████████████▊              | 430 kB 54.7 MB/s eta 0:00:01\r     |██████████████████▏             | 440 kB 54.7 MB/s eta 0:00:01\r     |██████████████████▋             | 450 kB 54.7 MB/s eta 0:00:01\r     |███████████████████             | 460 kB 54.7 MB/s eta 0:00:01\r     |███████████████████▍            | 471 kB 54.7 MB/s eta 0:00:01\r     |███████████████████▉            | 481 kB 54.7 MB/s eta 0:00:01\r     |████████████████████▎           | 491 kB 54.7 MB/s eta 0:00:01\r     |████████████████████▊           | 501 kB 54.7 MB/s eta 0:00:01\r     |█████████████████████           | 512 kB 54.7 MB/s eta 0:00:01\r     |█████████████████████▌          | 522 kB 54.7 MB/s eta 0:00:01\r     |██████████████████████          | 532 kB 54.7 MB/s eta 0:00:01\r     |██████████████████████▍         | 542 kB 54.7 MB/s eta 0:00:01\r     |██████████████████████▉         | 552 kB 54.7 MB/s eta 0:00:01\r     |███████████████████████▏        | 563 kB 54.7 MB/s eta 0:00:01\r     |███████████████████████▋        | 573 kB 54.7 MB/s eta 0:00:01\r     |████████████████████████        | 583 kB 54.7 MB/s eta 0:00:01\r     |████████████████████████▌       | 593 kB 54.7 MB/s eta 0:00:01\r     |█████████████████████████       | 604 kB 54.7 MB/s eta 0:00:01\r     |█████████████████████████▎      | 614 kB 54.7 MB/s eta 0:00:01\r     |█████████████████████████▊      | 624 kB 54.7 MB/s eta 0:00:01\r     |██████████████████████████▏     | 634 kB 54.7 MB/s eta 0:00:01\r     |██████████████████████████▋     | 645 kB 54.7 MB/s eta 0:00:01\r     |███████████████████████████     | 655 kB 54.7 MB/s eta 0:00:01\r     |███████████████████████████▍    | 665 kB 54.7 MB/s eta 0:00:01\r     |███████████████████████████▉    | 675 kB 54.7 MB/s eta 0:00:01\r     |████████████████████████████▎   | 686 kB 54.7 MB/s eta 0:00:01\r     |████████████████████████████▊   | 696 kB 54.7 MB/s eta 0:00:01\r     |█████████████████████████████▏  | 706 kB 54.7 MB/s eta 0:00:01\r     |█████████████████████████████▌  | 716 kB 54.7 MB/s eta 0:00:01\r     |██████████████████████████████  | 727 kB 54.7 MB/s eta 0:00:01\r     |██████████████████████████████▍ | 737 kB 54.7 MB/s eta 0:00:01\r     |██████████████████████████████▉ | 747 kB 54.7 MB/s eta 0:00:01\r     |███████████████████████████████▎| 757 kB 54.7 MB/s eta 0:00:01\r     |███████████████████████████████▋| 768 kB 54.7 MB/s eta 0:00:01\r     |████████████████████████████████| 776 kB 54.7 MB/s \r\nCollecting pyyaml&gt;=5.1\r\n  Downloading PyYAML-6.0.1-cp38-cp38-manylinux_2_17_x86_64.manylinux2014_x86_64.whl (736 kB)\r\n\r     |▌                               | 10 kB 30.5 MB/s eta 0:00:01\r     |█                               | 20 kB 37.9 MB/s eta 0:00:01\r     |█▍                              | 30 kB 44.0 MB/s eta 0:00:01\r     |█▉                              | 40 kB 47.0 MB/s eta 0:00:01\r     |██▎                             | 51 kB 50.0 MB/s eta 0:00:01\r     |██▊                             | 61 kB 53.7 MB/s eta 0:00:01\r     |███▏                            | 71 kB 56.3 MB/s eta 0:00:01\r     |███▋                            | 81 kB 59.4 MB/s eta 0:00:01\r     |████                            | 92 kB 60.9 MB/s eta 0:00:01\r     |████▌                           | 102 kB 62.4 MB/s eta 0:00:01\r     |█████                           | 112 kB 62.4 MB/s eta 0:00:01\r     |█████▍                          | 122 kB 62.4 MB/s eta 0:00:01\r     |█████▉                          | 133 kB 62.4 MB/s eta 0:00:01\r     |██████▎                         | 143 kB 62.4 MB/s eta 0:00:01\r     |██████▊                         | 153 kB 62.4 MB/s eta 0:00:01\r     |███████▏                        | 163 kB 62.4 MB/s eta 0:00:01\r     |███████▋                        | 174 kB 62.4 MB/s eta 0:00:01\r     |████████                        | 184 kB 62.4 MB/s eta 0:00:01\r     |████████▌                       | 194 kB 62.4 MB/s eta 0:00:01\r     |█████████                       | 204 kB 62.4 MB/s eta 0:00:01\r     |█████████▍                      | 215 kB 62.4 MB/s eta 0:00:01\r     |█████████▉                      | 225 kB 62.4 MB/s eta 0:00:01\r     |██████████▎                     | 235 kB 62.4 MB/s eta 0:00:01\r     |██████████▊                     | 245 kB 62.4 MB/s eta 0:00:01\r     |███████████▏                    | 256 kB 62.4 MB/s eta 0:00:01\r     |███████████▋                    | 266 kB 62.4 MB/s eta 0:00:01\r     |████████████                    | 276 kB 62.4 MB/s eta 0:00:01\r     |████████████▌                   | 286 kB 62.4 MB/s eta 0:00:01\r     |█████████████                   | 296 kB 62.4 MB/s eta 0:00:01\r     |█████████████▍                  | 307 kB 62.4 MB/s eta 0:00:01\r     |█████████████▉                  | 317 kB 62.4 MB/s eta 0:00:01\r     |██████████████▎                 | 327 kB 62.4 MB/s eta 0:00:01\r     |██████████████▊                 | 337 kB 62.4 MB/s eta 0:00:01\r     |███████████████▏                | 348 kB 62.4 MB/s eta 0:00:01\r     |███████████████▋                | 358 kB 62.4 MB/s eta 0:00:01\r     |████████████████                | 368 kB 62.4 MB/s eta 0:00:01\r     |████████████████▌               | 378 kB 62.4 MB/s eta 0:00:01\r     |█████████████████               | 389 kB 62.4 MB/s eta 0:00:01\r     |█████████████████▍              | 399 kB 62.4 MB/s eta 0:00:01\r     |█████████████████▉              | 409 kB 62.4 MB/s eta 0:00:01\r     |██████████████████▎             | 419 kB 62.4 MB/s eta 0:00:01\r     |██████████████████▊             | 430 kB 62.4 MB/s eta 0:00:01\r     |███████████████████▏            | 440 kB 62.4 MB/s eta 0:00:01\r     |███████████████████▋            | 450 kB 62.4 MB/s eta 0:00:01\r     |████████████████████            | 460 kB 62.4 MB/s eta 0:00:01\r     |████████████████████▌           | 471 kB 62.4 MB/s eta 0:00:01\r     |█████████████████████           | 481 kB 62.4 MB/s eta 0:00:01\r     |█████████████████████▍          | 491 kB 62.4 MB/s eta 0:00:01\r     |█████████████████████▉          | 501 kB 62.4 MB/s eta 0:00:01\r     |██████████████████████▎         | 512 kB 62.4 MB/s eta 0:00:01\r     |██████████████████████▊         | 522 kB 62.4 MB/s eta 0:00:01\r     |███████████████████████▏        | 532 kB 62.4 MB/s eta 0:00:01\r     |███████████████████████▋        | 542 kB 62.4 MB/s eta 0:00:01\r     |████████████████████████        | 552 kB 62.4 MB/s eta 0:00:01\r     |████████████████████████▌       | 563 kB 62.4 MB/s eta 0:00:01\r     |█████████████████████████       | 573 kB 62.4 MB/s eta 0:00:01\r     |█████████████████████████▍      | 583 kB 62.4 MB/s eta 0:00:01\r     |█████████████████████████▉      | 593 kB 62.4 MB/s eta 0:00:01\r     |██████████████████████████▎     | 604 kB 62.4 MB/s eta 0:00:01\r     |██████████████████████████▊     | 614 kB 62.4 MB/s eta 0:00:01\r     |███████████████████████████▏    | 624 kB 62.4 MB/s eta 0:00:01\r     |███████████████████████████▋    | 634 kB 62.4 MB/s eta 0:00:01\r     |████████████████████████████    | 645 kB 62.4 MB/s eta 0:00:01\r     |████████████████████████████▌   | 655 kB 62.4 MB/s eta 0:00:01\r     |█████████████████████████████   | 665 kB 62.4 MB/s eta 0:00:01\r     |█████████████████████████████▍  | 675 kB 62.4 MB/s eta 0:00:01\r     |█████████████████████████████▉  | 686 kB 62.4 MB/s eta 0:00:01\r     |██████████████████████████████▎ | 696 kB 62.4 MB/s eta 0:00:01\r     |██████████████████████████████▊ | 706 kB 62.4 MB/s eta 0:00:01\r     |███████████████████████████████▏| 716 kB 62.4 MB/s eta 0:00:01\r     |███████████████████████████████▋| 727 kB 62.4 MB/s eta 0:00:01\r     |████████████████████████████████| 736 kB 62.4 MB/s \r\nRequirement already satisfied: requests in /databricks/python3/lib/python3.8/site-packages (from transformers) (2.25.1)\r\nRequirement already satisfied: packaging&gt;=20.0 in /databricks/python3/lib/python3.8/site-packages (from transformers) (20.9)\r\nRequirement already satisfied: typing-extensions&gt;=3.7.4.3 in /databricks/python3/lib/python3.8/site-packages (from huggingface-hub&lt;1.0,&gt;=0.23.2-&gt;transformers) (4.12.2)\r\nRequirement already satisfied: fsspec&gt;=2023.5.0 in /databricks/python3/lib/python3.8/site-packages (from huggingface-hub&lt;1.0,&gt;=0.23.2-&gt;transformers) (2024.6.1)\r\nRequirement already satisfied: pyparsing&gt;=2.0.2 in /databricks/python3/lib/python3.8/site-packages (from packaging&gt;=20.0-&gt;transformers) (2.4.7)\r\nRequirement already satisfied: idna&lt;3,&gt;=2.5 in /databricks/python3/lib/python3.8/site-packages (from requests-&gt;transformers) (2.10)\r\nRequirement already satisfied: certifi&gt;=2017.4.17 in /databricks/python3/lib/python3.8/site-packages (from requests-&gt;transformers) (2020.12.5)\r\nRequirement already satisfied: urllib3&lt;1.27,&gt;=1.21.1 in /databricks/python3/lib/python3.8/site-packages (from requests-&gt;transformers) (1.25.11)\r\nRequirement already satisfied: chardet&lt;5,&gt;=3.0.2 in /databricks/python3/lib/python3.8/site-packages (from requests-&gt;transformers) (4.0.0)\r\nInstalling collected packages: tqdm, pyyaml, huggingface-hub, tokenizers, safetensors, regex, transformers\r\nSuccessfully installed huggingface-hub-0.23.5 pyyaml-6.0.1 regex-2024.5.15 safetensors-0.4.3 tokenizers-0.19.1 tqdm-4.66.4 transformers-4.42.4\r\n<span class=\"ansi-yellow-fg\">WARNING: You are using pip version 21.0.1; however, version 24.1.2 is available.\r\nYou should consider upgrading via the &#39;/databricks/python3/bin/python -m pip install --upgrade pip&#39; command.</span>\r\n<span class=\"ansi-yellow-fg\">WARNING: You are using pip version 21.0.1; however, version 24.1.2 is available.\r\nYou should consider upgrading via the &#39;/databricks/python3/bin/python -m pip install --upgrade pip&#39; command.</span>\r\n<span class=\"ansi-yellow-fg\">WARNING: You are using pip version 21.0.1; however, version 24.1.2 is available.\r\nYou should consider upgrading via the &#39;/databricks/python3/bin/python -m pip install --upgrade pip&#39; command.</span>\r\n</div>",
       "datasetInfos": [],
       "metadata": {},
       "removedWidgets": [],
       "type": "html"
      }
     },
     "output_type": "display_data"
    }
   ],
   "source": [
    "!pip install transformers\n",
    "!pip install datasets==2.18.0 --quiet\n",
    "!pip install evaluate==0.4.0 \\\n",
    "  rouge_score==0.1.2 \\\n",
    "    loralib==0.1.1 \\\n",
    "      peft==0.3.0 --quiet"
   ]
  },
  {
   "cell_type": "code",
   "execution_count": 0,
   "metadata": {
    "application/vnd.databricks.v1+cell": {
     "cellMetadata": {
      "byteLimit": 2048000,
      "rowLimit": 10000
     },
     "inputWidgets": {},
     "nuid": "bb8e0401-0956-4785-a5da-e553b1a6031a",
     "showTitle": false,
     "title": ""
    }
   },
   "outputs": [
    {
     "output_type": "display_data",
     "data": {
      "text/html": [
       "<style scoped>\n",
       "  .ansiout {\n",
       "    display: block;\n",
       "    unicode-bidi: embed;\n",
       "    white-space: pre-wrap;\n",
       "    word-wrap: break-word;\n",
       "    word-break: break-all;\n",
       "    font-family: \"Menlo\", \"Monaco\", \"Consolas\", \"Ubuntu Mono\", \"Source Code Pro\", monospace;\n",
       "    font-size: 13px;\n",
       "    color: #555;\n",
       "    margin-left: 4px;\n",
       "    line-height: 19px;\n",
       "  }\n",
       "</style>\n",
       "<div class=\"ansiout\">2.18.0\n",
       "</div>"
      ]
     },
     "metadata": {
      "application/vnd.databricks.v1+output": {
       "addedWidgets": {},
       "arguments": {},
       "data": "<div class=\"ansiout\">2.18.0\n</div>",
       "datasetInfos": [],
       "metadata": {},
       "removedWidgets": [],
       "type": "html"
      }
     },
     "output_type": "display_data"
    }
   ],
   "source": [
    "import datasets\n",
    "print(datasets.__version__)"
   ]
  },
  {
   "cell_type": "code",
   "execution_count": 0,
   "metadata": {
    "application/vnd.databricks.v1+cell": {
     "cellMetadata": {
      "byteLimit": 2048000,
      "rowLimit": 10000
     },
     "inputWidgets": {},
     "nuid": "a1a7ec47-b948-4451-a46e-ca9731c1bd2c",
     "showTitle": false,
     "title": ""
    }
   },
   "outputs": [
    {
     "output_type": "display_data",
     "data": {
      "text/html": [
       "<style scoped>\n",
       "  .ansiout {\n",
       "    display: block;\n",
       "    unicode-bidi: embed;\n",
       "    white-space: pre-wrap;\n",
       "    word-wrap: break-word;\n",
       "    word-break: break-all;\n",
       "    font-family: \"Menlo\", \"Monaco\", \"Consolas\", \"Ubuntu Mono\", \"Source Code Pro\", monospace;\n",
       "    font-size: 13px;\n",
       "    color: #555;\n",
       "    margin-left: 4px;\n",
       "    line-height: 19px;\n",
       "  }\n",
       "</style>\n",
       "<div class=\"ansiout\"></div>"
      ]
     },
     "metadata": {
      "application/vnd.databricks.v1+output": {
       "addedWidgets": {},
       "arguments": {},
       "data": "<div class=\"ansiout\"></div>",
       "datasetInfos": [],
       "metadata": {},
       "removedWidgets": [],
       "type": "html"
      }
     },
     "output_type": "display_data"
    }
   ],
   "source": [
    "from datasets import load_dataset\n",
    "from transformers import AutoModelForSeq2SeqLM, AutoTokenizer, GenerationConfig, TrainingArguments, Trainer\n",
    "import torch\n",
    "import time\n",
    "import evaluate\n",
    "import pandas as pd\n",
    "import numpy as np"
   ]
  },
  {
   "cell_type": "markdown",
   "metadata": {
    "application/vnd.databricks.v1+cell": {
     "cellMetadata": {},
     "inputWidgets": {},
     "nuid": "b95b65ab-12f7-4754-ab6b-1cfe2c7111fc",
     "showTitle": false,
     "title": ""
    }
   },
   "source": [
    "### 2. Improting required libraries, dataset of DialogueSum & Flan_t5 model"
   ]
  },
  {
   "cell_type": "code",
   "execution_count": 0,
   "metadata": {
    "application/vnd.databricks.v1+cell": {
     "cellMetadata": {
      "byteLimit": 2048000,
      "rowLimit": 10000
     },
     "inputWidgets": {},
     "nuid": "a6dfcfdf-0065-4cca-8c4d-a5058ca326a6",
     "showTitle": false,
     "title": ""
    }
   },
   "outputs": [
    {
     "output_type": "display_data",
     "data": {
      "text/html": [
       "<style scoped>\n",
       "  .ansiout {\n",
       "    display: block;\n",
       "    unicode-bidi: embed;\n",
       "    white-space: pre-wrap;\n",
       "    word-wrap: break-word;\n",
       "    word-break: break-all;\n",
       "    font-family: \"Menlo\", \"Monaco\", \"Consolas\", \"Ubuntu Mono\", \"Source Code Pro\", monospace;\n",
       "    font-size: 13px;\n",
       "    color: #555;\n",
       "    margin-left: 4px;\n",
       "    line-height: 19px;\n",
       "  }\n",
       "</style>\n",
       "<div class=\"ansiout\">Downloading readme:   0%|          | 0.00/4.65k [00:00&lt;?, ?B/s]\n",
       "\rDownloading data:   0%|          | 0.00/11.3M [00:00&lt;?, ?B/s]\rDownloading data:  93%|█████████▎| 10.5M/11.3M [00:00&lt;00:00, 47.0MB/s]\rDownloading data: 100%|██████████| 11.3M/11.3M [00:00&lt;00:00, 47.9MB/s]\n",
       "\rDownloading data:   0%|          | 0.00/442k [00:00&lt;?, ?B/s]\rDownloading data: 100%|██████████| 442k/442k [00:00&lt;00:00, 1.29MB/s]\rDownloading data: 100%|██████████| 442k/442k [00:00&lt;00:00, 1.29MB/s]\n",
       "\rDownloading data:   0%|          | 0.00/1.35M [00:00&lt;?, ?B/s]\rDownloading data: 100%|██████████| 1.35M/1.35M [00:00&lt;00:00, 7.31MB/s]\rDownloading data: 100%|██████████| 1.35M/1.35M [00:00&lt;00:00, 7.24MB/s]\n",
       "Generating train split: 0 examples [00:00, ? examples/s]\n",
       "Generating validation split: 0 examples [00:00, ? examples/s]\n",
       "Generating test split: 0 examples [00:00, ? examples/s]\n",
       "</div>"
      ]
     },
     "metadata": {
      "application/vnd.databricks.v1+output": {
       "addedWidgets": {},
       "arguments": {},
       "data": "<div class=\"ansiout\">Downloading readme:   0%|          | 0.00/4.65k [00:00&lt;?, ?B/s]\n\rDownloading data:   0%|          | 0.00/11.3M [00:00&lt;?, ?B/s]\rDownloading data:  93%|█████████▎| 10.5M/11.3M [00:00&lt;00:00, 47.0MB/s]\rDownloading data: 100%|██████████| 11.3M/11.3M [00:00&lt;00:00, 47.9MB/s]\n\rDownloading data:   0%|          | 0.00/442k [00:00&lt;?, ?B/s]\rDownloading data: 100%|██████████| 442k/442k [00:00&lt;00:00, 1.29MB/s]\rDownloading data: 100%|██████████| 442k/442k [00:00&lt;00:00, 1.29MB/s]\n\rDownloading data:   0%|          | 0.00/1.35M [00:00&lt;?, ?B/s]\rDownloading data: 100%|██████████| 1.35M/1.35M [00:00&lt;00:00, 7.31MB/s]\rDownloading data: 100%|██████████| 1.35M/1.35M [00:00&lt;00:00, 7.24MB/s]\nGenerating train split: 0 examples [00:00, ? examples/s]\nGenerating validation split: 0 examples [00:00, ? examples/s]\nGenerating test split: 0 examples [00:00, ? examples/s]\n</div>",
       "datasetInfos": [],
       "metadata": {},
       "removedWidgets": [],
       "type": "html"
      }
     },
     "output_type": "display_data"
    }
   ],
   "source": [
    "hugging_dataset = 'knkarthick/dialogsum'\n",
    "dataset = load_dataset(hugging_dataset)"
   ]
  },
  {
   "cell_type": "code",
   "execution_count": 0,
   "metadata": {
    "application/vnd.databricks.v1+cell": {
     "cellMetadata": {
      "byteLimit": 2048000,
      "rowLimit": 10000
     },
     "inputWidgets": {},
     "nuid": "e3d06bc5-1f4d-4dfd-89fc-d8e337e04c59",
     "showTitle": false,
     "title": ""
    }
   },
   "outputs": [
    {
     "output_type": "display_data",
     "data": {
      "text/html": [
       "<style scoped>\n",
       "  .ansiout {\n",
       "    display: block;\n",
       "    unicode-bidi: embed;\n",
       "    white-space: pre-wrap;\n",
       "    word-wrap: break-word;\n",
       "    word-break: break-all;\n",
       "    font-family: \"Menlo\", \"Monaco\", \"Consolas\", \"Ubuntu Mono\", \"Source Code Pro\", monospace;\n",
       "    font-size: 13px;\n",
       "    color: #555;\n",
       "    margin-left: 4px;\n",
       "    line-height: 19px;\n",
       "  }\n",
       "</style>\n",
       "<div class=\"ansiout\">___________________________________________________________________________________________________\n",
       "sample  1\n",
       "___________________________________________________________________________________________________\n",
       "Input dialogue:\n",
       "#Person1#: Yeah. Just pull on this strip. Then peel off the back.\n",
       "#Person2#: You might make a few enemies this way.\n",
       "#Person1#: If they don&#39;t think this is fun, they&#39;re not meant to be our friends.\n",
       "#Person2#: You mean your friends. I think it&#39;s cruel.\n",
       "#Person1#: Yeah. But it&#39;s fun. Look at those two ugly old ladies. . . or are they men?\n",
       "#Person2#: Hurry! Get a shot!. . . Hand it over!\n",
       "#Person1#: I knew you&#39;d come around. . .\n",
       "___________________________________________________________________________________________________\n",
       "human summary:\n",
       "#Person1# is about to make a prank. #Person2# thinks it&#39;s cruel at first but then joins.\n",
       "___________________________________________________________________________________________________\n",
       "\n",
       "___________________________________________________________________________________________________\n",
       "sample  2\n",
       "___________________________________________________________________________________________________\n",
       "Input dialogue:\n",
       "#Person1#: What do you think of this one? \n",
       "#Person2#: Eh, so so. \n",
       "#Person1#: And this one? Too flashy? \n",
       "#Person2#: Nah, not too flashy. \n",
       "#Person1#: Uhg! And this sweater from my aunt? Isn&#39;t it hideous? \n",
       "#Person2#: I guess. \n",
       "#Person1#: Are you even listening? I&#39;m trying to have a conversation with you. \n",
       "#Person2#: And I&#39;m trying to watch the game, but you&#39;re yapping on about your new clothes! \n",
       "#Person1#: Well I have to decide which gifts to keep and which to exchange for better ones when I go to the Boxing Day sales this afternoon! \n",
       "#Person2#: Well could you do me the favor of making this quick? It&#39;s the third quarter and you&#39;ve been blabbering on since the first! \n",
       "#Person1#: Oh, your precious game. You watch the same game every year, and each year your beloved hometown team loses by at least three goals! \n",
       "#Person2#: Oh no you didn&#39;t. You didn&#39;t just insult the Sals-bury Seals, did you? Why don&#39;t you just. just go and return all of those stupid clothes and not come back until the sales are over? \n",
       "#Person1#: I might just! Enjoy your stupid game! \n",
       "___________________________________________________________________________________________________\n",
       "human summary:\n",
       "#Person1# is showing the new clothes to #Person2#, but #Person2# is busy watching the games. They quarrel and get angry.\n",
       "___________________________________________________________________________________________________\n",
       "\n",
       "</div>"
      ]
     },
     "metadata": {
      "application/vnd.databricks.v1+output": {
       "addedWidgets": {},
       "arguments": {},
       "data": "<div class=\"ansiout\">___________________________________________________________________________________________________\nsample  1\n___________________________________________________________________________________________________\nInput dialogue:\n#Person1#: Yeah. Just pull on this strip. Then peel off the back.\n#Person2#: You might make a few enemies this way.\n#Person1#: If they don&#39;t think this is fun, they&#39;re not meant to be our friends.\n#Person2#: You mean your friends. I think it&#39;s cruel.\n#Person1#: Yeah. But it&#39;s fun. Look at those two ugly old ladies. . . or are they men?\n#Person2#: Hurry! Get a shot!. . . Hand it over!\n#Person1#: I knew you&#39;d come around. . .\n___________________________________________________________________________________________________\nhuman summary:\n#Person1# is about to make a prank. #Person2# thinks it&#39;s cruel at first but then joins.\n___________________________________________________________________________________________________\n\n___________________________________________________________________________________________________\nsample  2\n___________________________________________________________________________________________________\nInput dialogue:\n#Person1#: What do you think of this one? \n#Person2#: Eh, so so. \n#Person1#: And this one? Too flashy? \n#Person2#: Nah, not too flashy. \n#Person1#: Uhg! And this sweater from my aunt? Isn&#39;t it hideous? \n#Person2#: I guess. \n#Person1#: Are you even listening? I&#39;m trying to have a conversation with you. \n#Person2#: And I&#39;m trying to watch the game, but you&#39;re yapping on about your new clothes! \n#Person1#: Well I have to decide which gifts to keep and which to exchange for better ones when I go to the Boxing Day sales this afternoon! \n#Person2#: Well could you do me the favor of making this quick? It&#39;s the third quarter and you&#39;ve been blabbering on since the first! \n#Person1#: Oh, your precious game. You watch the same game every year, and each year your beloved hometown team loses by at least three goals! \n#Person2#: Oh no you didn&#39;t. You didn&#39;t just insult the Sals-bury Seals, did you? Why don&#39;t you just. just go and return all of those stupid clothes and not come back until the sales are over? \n#Person1#: I might just! Enjoy your stupid game! \n___________________________________________________________________________________________________\nhuman summary:\n#Person1# is showing the new clothes to #Person2#, but #Person2# is busy watching the games. They quarrel and get angry.\n___________________________________________________________________________________________________\n\n</div>",
       "datasetInfos": [],
       "metadata": {},
       "removedWidgets": [],
       "type": "html"
      }
     },
     "output_type": "display_data"
    }
   ],
   "source": [
    "### Reading sample of dialogues\n",
    "sample_indices = [50, 123]\n",
    "dash_line = '_'.join('' for x in range(100))\n",
    "for i, index in enumerate(sample_indices):\n",
    "  print(dash_line)\n",
    "  print('sample ', i+1)\n",
    "  print(dash_line)\n",
    "  print('Input dialogue:')\n",
    "  print(dataset['test'][index]['dialogue'])\n",
    "  print(dash_line)\n",
    "  print('human summary:')\n",
    "  print(dataset['test'][index]['summary'])\n",
    "  print(dash_line)\n",
    "  print()"
   ]
  },
  {
   "cell_type": "code",
   "execution_count": 0,
   "metadata": {
    "application/vnd.databricks.v1+cell": {
     "cellMetadata": {
      "byteLimit": 2048000,
      "rowLimit": 10000
     },
     "inputWidgets": {},
     "nuid": "498871e0-3178-41e6-9f9c-ccc746a2b5d0",
     "showTitle": false,
     "title": ""
    }
   },
   "outputs": [
    {
     "output_type": "display_data",
     "data": {
      "text/html": [
       "<style scoped>\n",
       "  .ansiout {\n",
       "    display: block;\n",
       "    unicode-bidi: embed;\n",
       "    white-space: pre-wrap;\n",
       "    word-wrap: break-word;\n",
       "    word-break: break-all;\n",
       "    font-family: \"Menlo\", \"Monaco\", \"Consolas\", \"Ubuntu Mono\", \"Source Code Pro\", monospace;\n",
       "    font-size: 13px;\n",
       "    color: #555;\n",
       "    margin-left: 4px;\n",
       "    line-height: 19px;\n",
       "  }\n",
       "</style>\n",
       "<div class=\"ansiout\">config.json:   0%|          | 0.00/1.40k [00:00&lt;?, ?B/s]\n",
       "model.safetensors:   0%|          | 0.00/990M [00:00&lt;?, ?B/s]\n",
       "generation_config.json:   0%|          | 0.00/147 [00:00&lt;?, ?B/s]\n",
       "tokenizer_config.json:   0%|          | 0.00/2.54k [00:00&lt;?, ?B/s]\n",
       "spiece.model:   0%|          | 0.00/792k [00:00&lt;?, ?B/s]\n",
       "tokenizer.json:   0%|          | 0.00/2.42M [00:00&lt;?, ?B/s]\n",
       "special_tokens_map.json:   0%|          | 0.00/2.20k [00:00&lt;?, ?B/s]\n",
       "</div>"
      ]
     },
     "metadata": {
      "application/vnd.databricks.v1+output": {
       "addedWidgets": {},
       "arguments": {},
       "data": "<div class=\"ansiout\">config.json:   0%|          | 0.00/1.40k [00:00&lt;?, ?B/s]\nmodel.safetensors:   0%|          | 0.00/990M [00:00&lt;?, ?B/s]\ngeneration_config.json:   0%|          | 0.00/147 [00:00&lt;?, ?B/s]\ntokenizer_config.json:   0%|          | 0.00/2.54k [00:00&lt;?, ?B/s]\nspiece.model:   0%|          | 0.00/792k [00:00&lt;?, ?B/s]\ntokenizer.json:   0%|          | 0.00/2.42M [00:00&lt;?, ?B/s]\nspecial_tokens_map.json:   0%|          | 0.00/2.20k [00:00&lt;?, ?B/s]\n</div>",
       "datasetInfos": [],
       "metadata": {},
       "removedWidgets": [],
       "type": "html"
      }
     },
     "output_type": "display_data"
    }
   ],
   "source": [
    "## Reading Flan T5 model\n",
    "model_name = 'google/flan-t5-base'\n",
    "model = AutoModelForSeq2SeqLM.from_pretrained(model_name, torch_dtype = torch.bfloat16)\n",
    "tokenizer = AutoTokenizer.from_pretrained(model_name) #, use_fast = True"
   ]
  },
  {
   "cell_type": "markdown",
   "metadata": {
    "application/vnd.databricks.v1+cell": {
     "cellMetadata": {},
     "inputWidgets": {},
     "nuid": "54fee1b7-de3f-4f28-88ab-bf4f52334ccc",
     "showTitle": false,
     "title": ""
    }
   },
   "source": [
    "######========================================================================================================================================\n",
    "### 3. Fine tuning the model to improve the performance\n",
    "#####3.1. Firstly, checking the model without any shot inference\n",
    "#####3.2. Secondly, full fine tuning the model, instruct fine tuning, with all trainable parameters which is more than 247m parameters\n",
    "#####3.3. Thirdly, fine tuning the model using PEFT which uses 3.5 m parameters (way less than instruct fine tuning)\n",
    "######========================================================================================================================================"
   ]
  },
  {
   "cell_type": "markdown",
   "metadata": {
    "application/vnd.databricks.v1+cell": {
     "cellMetadata": {},
     "inputWidgets": {},
     "nuid": "7d99388f-4850-415c-bf20-987baaf97f09",
     "showTitle": false,
     "title": ""
    }
   },
   "source": [
    "##### 3.1. Test the model with zero shot inference"
   ]
  },
  {
   "cell_type": "code",
   "execution_count": 0,
   "metadata": {
    "application/vnd.databricks.v1+cell": {
     "cellMetadata": {
      "byteLimit": 2048000,
      "rowLimit": 10000
     },
     "inputWidgets": {},
     "nuid": "48c76172-479a-4719-8f1a-c33942578ac0",
     "showTitle": false,
     "title": ""
    }
   },
   "outputs": [
    {
     "output_type": "display_data",
     "data": {
      "text/html": [
       "<style scoped>\n",
       "  .ansiout {\n",
       "    display: block;\n",
       "    unicode-bidi: embed;\n",
       "    white-space: pre-wrap;\n",
       "    word-wrap: break-word;\n",
       "    word-break: break-all;\n",
       "    font-family: \"Menlo\", \"Monaco\", \"Consolas\", \"Ubuntu Mono\", \"Source Code Pro\", monospace;\n",
       "    font-size: 13px;\n",
       "    color: #555;\n",
       "    margin-left: 4px;\n",
       "    line-height: 19px;\n",
       "  }\n",
       "</style>\n",
       "<div class=\"ansiout\">___________________________________________________________________________________________________\n",
       "Input prompt: \n",
       " \n",
       "Summarize the following conversation.\n",
       "#Person1#: What are you working on?\n",
       "#Person2#: I&#39;m figuring out my budget.\n",
       "#Person1#: What budget?\n",
       "#Person2#: I&#39;m making a shopping budget, so that I don&#39;t spend too much money.\n",
       "#Person1#: How much money can you spend?\n",
       "#Person2#: I can only spend $ 300 a month.\n",
       "#Person1#: Why only $ 300?\n",
       "#Person2#: I need to save the rest.\n",
       "#Person1#: For what?\n",
       "#Person2#: I need to pay my bills.\n",
       "#Person1#: Your budget is a good idea.\n",
       "#Person2#: I know. It&#39;s going to save me a lot of money, I hope.\n",
       "Summary :\n",
       "\n",
       "___________________________________________________________________________________________________\n",
       "Baseline human summary: \n",
       " #Person2# is making a shopping budget to save the rest of the money. #Person1# thinks it&#39;s a good idea.\n",
       "___________________________________________________________________________________________________\n",
       "Model generation - with Zero shot: \n",
       " #Person1#: I&#39;m figuring out my budget. #Person2#: I&#39;m making a shopping budget. #Person1#: I&#39;m saving $ 300 a month. #Person2\n",
       "</div>"
      ]
     },
     "metadata": {
      "application/vnd.databricks.v1+output": {
       "addedWidgets": {},
       "arguments": {},
       "data": "<div class=\"ansiout\">___________________________________________________________________________________________________\nInput prompt: \n \nSummarize the following conversation.\n#Person1#: What are you working on?\n#Person2#: I&#39;m figuring out my budget.\n#Person1#: What budget?\n#Person2#: I&#39;m making a shopping budget, so that I don&#39;t spend too much money.\n#Person1#: How much money can you spend?\n#Person2#: I can only spend $ 300 a month.\n#Person1#: Why only $ 300?\n#Person2#: I need to save the rest.\n#Person1#: For what?\n#Person2#: I need to pay my bills.\n#Person1#: Your budget is a good idea.\n#Person2#: I know. It&#39;s going to save me a lot of money, I hope.\nSummary :\n\n___________________________________________________________________________________________________\nBaseline human summary: \n #Person2# is making a shopping budget to save the rest of the money. #Person1# thinks it&#39;s a good idea.\n___________________________________________________________________________________________________\nModel generation - with Zero shot: \n #Person1#: I&#39;m figuring out my budget. #Person2#: I&#39;m making a shopping budget. #Person1#: I&#39;m saving $ 300 a month. #Person2\n</div>",
       "datasetInfos": [],
       "metadata": {},
       "removedWidgets": [],
       "type": "html"
      }
     },
     "output_type": "display_data"
    }
   ],
   "source": [
    "index = 222\n",
    "dialogue = dataset['test'][index]['dialogue']\n",
    "summary = dataset['test'][index]['summary']\n",
    "\n",
    "prompt = f\"\"\"\n",
    "Summarize the following conversation.\n",
    "{dialogue}\n",
    "Summary :\n",
    "\"\"\"\n",
    "\n",
    "dash_line = '_'.join('' for x in range(100))\n",
    "inputs = tokenizer(prompt, return_tensors='pt')\n",
    "output = tokenizer.decode(model.generate(inputs['input_ids'], max_new_tokens=50,)[0], skip_special_tokens=True)\n",
    "\n",
    "print(dash_line)\n",
    "print('Input prompt: \\n', prompt)\n",
    "print(dash_line)\n",
    "print('Baseline human summary: \\n', summary)\n",
    "print(dash_line)\n",
    "print('Model generation - with Zero shot: \\n', output)"
   ]
  },
  {
   "cell_type": "code",
   "execution_count": 0,
   "metadata": {
    "application/vnd.databricks.v1+cell": {
     "cellMetadata": {
      "byteLimit": 2048000,
      "rowLimit": 10000
     },
     "inputWidgets": {},
     "nuid": "c8550f3d-adc4-4173-9deb-06ef092ed506",
     "showTitle": false,
     "title": ""
    }
   },
   "outputs": [
    {
     "output_type": "display_data",
     "data": {
      "text/html": [
       "<style scoped>\n",
       "  .ansiout {\n",
       "    display: block;\n",
       "    unicode-bidi: embed;\n",
       "    white-space: pre-wrap;\n",
       "    word-wrap: break-word;\n",
       "    word-break: break-all;\n",
       "    font-family: \"Menlo\", \"Monaco\", \"Consolas\", \"Ubuntu Mono\", \"Source Code Pro\", monospace;\n",
       "    font-size: 13px;\n",
       "    color: #555;\n",
       "    margin-left: 4px;\n",
       "    line-height: 19px;\n",
       "  }\n",
       "</style>\n",
       "<div class=\"ansiout\">trianbale model parameters: 247577856\n",
       "all model params: 247577856\n",
       "percentage of trainable model parameters : 100.0 %\n",
       "</div>"
      ]
     },
     "metadata": {
      "application/vnd.databricks.v1+output": {
       "addedWidgets": {},
       "arguments": {},
       "data": "<div class=\"ansiout\">trianbale model parameters: 247577856\nall model params: 247577856\npercentage of trainable model parameters : 100.0 %\n</div>",
       "datasetInfos": [],
       "metadata": {},
       "removedWidgets": [],
       "type": "html"
      }
     },
     "output_type": "display_data"
    }
   ],
   "source": [
    "def print_number_of_trainable_model_parameters(model):\n",
    "  trainable_model_params = 0\n",
    "  all_model_params = 0\n",
    "  for _,param in model.named_parameters():\n",
    "    all_model_params += param.numel()\n",
    "    if param.requires_grad:\n",
    "      trainable_model_params += param.numel()\n",
    "  return f\"trianbale model parameters: {trainable_model_params}\\nall model params: {all_model_params}\\npercentage of trainable model parameters : {np.round(trainable_model_params/all_model_params*100,2)} %\"\n",
    "\n",
    "print(print_number_of_trainable_model_parameters(model))"
   ]
  },
  {
   "cell_type": "markdown",
   "metadata": {
    "application/vnd.databricks.v1+cell": {
     "cellMetadata": {},
     "inputWidgets": {},
     "nuid": "a7f81faa-fa06-42b4-82dd-d7abe80d1d06",
     "showTitle": false,
     "title": ""
    }
   },
   "source": [
    "##### 3.2. perform full fine tuning"
   ]
  },
  {
   "cell_type": "code",
   "execution_count": 0,
   "metadata": {
    "application/vnd.databricks.v1+cell": {
     "cellMetadata": {
      "byteLimit": 2048000,
      "rowLimit": 10000
     },
     "inputWidgets": {},
     "nuid": "41860f8b-67cc-4b5b-a48d-8380e980a3cf",
     "showTitle": false,
     "title": ""
    }
   },
   "outputs": [
    {
     "output_type": "display_data",
     "data": {
      "text/html": [
       "<style scoped>\n",
       "  .ansiout {\n",
       "    display: block;\n",
       "    unicode-bidi: embed;\n",
       "    white-space: pre-wrap;\n",
       "    word-wrap: break-word;\n",
       "    word-break: break-all;\n",
       "    font-family: \"Menlo\", \"Monaco\", \"Consolas\", \"Ubuntu Mono\", \"Source Code Pro\", monospace;\n",
       "    font-size: 13px;\n",
       "    color: #555;\n",
       "    margin-left: 4px;\n",
       "    line-height: 19px;\n",
       "  }\n",
       "</style>\n",
       "<div class=\"ansiout\">Map:   0%|          | 0/12460 [00:00&lt;?, ? examples/s]\n",
       "Map:   0%|          | 0/500 [00:00&lt;?, ? examples/s]\n",
       "Map:   0%|          | 0/1500 [00:00&lt;?, ? examples/s]\n",
       "</div>"
      ]
     },
     "metadata": {
      "application/vnd.databricks.v1+output": {
       "addedWidgets": {},
       "arguments": {},
       "data": "<div class=\"ansiout\">Map:   0%|          | 0/12460 [00:00&lt;?, ? examples/s]\nMap:   0%|          | 0/500 [00:00&lt;?, ? examples/s]\nMap:   0%|          | 0/1500 [00:00&lt;?, ? examples/s]\n</div>",
       "datasetInfos": [],
       "metadata": {},
       "removedWidgets": [],
       "type": "html"
      }
     },
     "output_type": "display_data"
    }
   ],
   "source": [
    "def tokenize_function(example):\n",
    "  start_prompt = 'Summarize the following conversation. \\n\\n'\n",
    "  end_prompt = '\\n\\nSummary: '\n",
    "  prompt = [start_prompt + dialogue + end_prompt for dialogue in example['dialogue']]\n",
    "  example['input_ids'] = tokenizer(prompt, padding='max_length', truncation = True, return_tensors = 'pt').input_ids\n",
    "  example['labels'] = tokenizer(example['summary'], padding='max_length', truncation = True, return_tensors = 'pt').input_ids\n",
    "  return example\n",
    "\n",
    "tokenized_datasets = dataset.map(tokenize_function, batched=True)\n",
    "tokenized_datasets = tokenized_datasets.remove_columns(['id', 'topic', 'dialogue', 'summary'])"
   ]
  },
  {
   "cell_type": "code",
   "execution_count": 0,
   "metadata": {
    "application/vnd.databricks.v1+cell": {
     "cellMetadata": {
      "byteLimit": 2048000,
      "rowLimit": 10000
     },
     "inputWidgets": {},
     "nuid": "10d302fa-33cc-42d9-a28c-c3a3c8602279",
     "showTitle": false,
     "title": ""
    }
   },
   "outputs": [
    {
     "output_type": "display_data",
     "data": {
      "text/html": [
       "<style scoped>\n",
       "  .ansiout {\n",
       "    display: block;\n",
       "    unicode-bidi: embed;\n",
       "    white-space: pre-wrap;\n",
       "    word-wrap: break-word;\n",
       "    word-break: break-all;\n",
       "    font-family: \"Menlo\", \"Monaco\", \"Consolas\", \"Ubuntu Mono\", \"Source Code Pro\", monospace;\n",
       "    font-size: 13px;\n",
       "    color: #555;\n",
       "    margin-left: 4px;\n",
       "    line-height: 19px;\n",
       "  }\n",
       "</style>\n",
       "<div class=\"ansiout\">Filter:   0%|          | 0/12460 [00:00&lt;?, ? examples/s]\n",
       "Filter:   0%|          | 0/500 [00:00&lt;?, ? examples/s]\n",
       "Filter:   0%|          | 0/1500 [00:00&lt;?, ? examples/s]\n",
       "</div>"
      ]
     },
     "metadata": {
      "application/vnd.databricks.v1+output": {
       "addedWidgets": {},
       "arguments": {},
       "data": "<div class=\"ansiout\">Filter:   0%|          | 0/12460 [00:00&lt;?, ? examples/s]\nFilter:   0%|          | 0/500 [00:00&lt;?, ? examples/s]\nFilter:   0%|          | 0/1500 [00:00&lt;?, ? examples/s]\n</div>",
       "datasetInfos": [],
       "metadata": {},
       "removedWidgets": [],
       "type": "html"
      }
     },
     "output_type": "display_data"
    }
   ],
   "source": [
    "### choosing subsample of dataset\n",
    "tokenized_datasets = tokenized_datasets.filter(lambda example, index: index % 100==0, with_indices=True)"
   ]
  },
  {
   "cell_type": "code",
   "execution_count": 0,
   "metadata": {
    "application/vnd.databricks.v1+cell": {
     "cellMetadata": {
      "byteLimit": 2048000,
      "rowLimit": 10000
     },
     "inputWidgets": {},
     "nuid": "d18110b8-2cc5-48b1-9df2-1f131c2e64cc",
     "showTitle": false,
     "title": ""
    }
   },
   "outputs": [
    {
     "output_type": "display_data",
     "data": {
      "text/html": [
       "<style scoped>\n",
       "  .ansiout {\n",
       "    display: block;\n",
       "    unicode-bidi: embed;\n",
       "    white-space: pre-wrap;\n",
       "    word-wrap: break-word;\n",
       "    word-break: break-all;\n",
       "    font-family: \"Menlo\", \"Monaco\", \"Consolas\", \"Ubuntu Mono\", \"Source Code Pro\", monospace;\n",
       "    font-size: 13px;\n",
       "    color: #555;\n",
       "    margin-left: 4px;\n",
       "    line-height: 19px;\n",
       "  }\n",
       "</style>\n",
       "<div class=\"ansiout\">Shapes of the datasets:\n",
       "Training: (125, 2)\n",
       "Validation: (5, 2)\n",
       "Test: (15, 2)\n",
       "DatasetDict({\n",
       "    train: Dataset({\n",
       "        features: [&#39;input_ids&#39;, &#39;labels&#39;],\n",
       "        num_rows: 125\n",
       "    })\n",
       "    validation: Dataset({\n",
       "        features: [&#39;input_ids&#39;, &#39;labels&#39;],\n",
       "        num_rows: 5\n",
       "    })\n",
       "    test: Dataset({\n",
       "        features: [&#39;input_ids&#39;, &#39;labels&#39;],\n",
       "        num_rows: 15\n",
       "    })\n",
       "})\n",
       "</div>"
      ]
     },
     "metadata": {
      "application/vnd.databricks.v1+output": {
       "addedWidgets": {},
       "arguments": {},
       "data": "<div class=\"ansiout\">Shapes of the datasets:\nTraining: (125, 2)\nValidation: (5, 2)\nTest: (15, 2)\nDatasetDict({\n    train: Dataset({\n        features: [&#39;input_ids&#39;, &#39;labels&#39;],\n        num_rows: 125\n    })\n    validation: Dataset({\n        features: [&#39;input_ids&#39;, &#39;labels&#39;],\n        num_rows: 5\n    })\n    test: Dataset({\n        features: [&#39;input_ids&#39;, &#39;labels&#39;],\n        num_rows: 15\n    })\n})\n</div>",
       "datasetInfos": [],
       "metadata": {},
       "removedWidgets": [],
       "type": "html"
      }
     },
     "output_type": "display_data"
    }
   ],
   "source": [
    "### shapes of three parts of the dataset\n",
    "print(f\"Shapes of the datasets:\")\n",
    "print(f\"Training: {tokenized_datasets['train'].shape}\")\n",
    "print(f\"Validation: {tokenized_datasets['validation'].shape}\")\n",
    "print(f\"Test: {tokenized_datasets['test'].shape}\")\n",
    "print(tokenized_datasets)"
   ]
  },
  {
   "cell_type": "code",
   "execution_count": 0,
   "metadata": {
    "application/vnd.databricks.v1+cell": {
     "cellMetadata": {
      "byteLimit": 2048000,
      "rowLimit": 10000
     },
     "inputWidgets": {},
     "nuid": "2609b394-35b4-4a11-b06e-1b4ca0d24a92",
     "showTitle": false,
     "title": ""
    }
   },
   "outputs": [
    {
     "output_type": "display_data",
     "data": {
      "text/html": [
       "<style scoped>\n",
       "  .ansiout {\n",
       "    display: block;\n",
       "    unicode-bidi: embed;\n",
       "    white-space: pre-wrap;\n",
       "    word-wrap: break-word;\n",
       "    word-break: break-all;\n",
       "    font-family: \"Menlo\", \"Monaco\", \"Consolas\", \"Ubuntu Mono\", \"Source Code Pro\", monospace;\n",
       "    font-size: 13px;\n",
       "    color: #555;\n",
       "    margin-left: 4px;\n",
       "    line-height: 19px;\n",
       "  }\n",
       "</style>\n",
       "<div class=\"ansiout\">max_steps is given, it will override any value given in num_train_epochs\n",
       "</div>"
      ]
     },
     "metadata": {
      "application/vnd.databricks.v1+output": {
       "addedWidgets": {},
       "arguments": {},
       "data": "<div class=\"ansiout\">max_steps is given, it will override any value given in num_train_epochs\n</div>",
       "datasetInfos": [],
       "metadata": {},
       "removedWidgets": [],
       "type": "html"
      }
     },
     "output_type": "display_data"
    }
   ],
   "source": [
    "### After training the model, it will turn into the instruct model which is fune tuned\n",
    "output_dir = 'XXX/instruct_dialogue-summary-training-'+str(int(time.time()))\n",
    "\n",
    "training_args = TrainingArguments(output_dir, learning_rate=1e-5, num_train_epochs=40, weight_decay=0.01, logging_steps=1, max_steps = 4)\n",
    "\n",
    "trainer = Trainer(model, args=training_args, train_dataset=tokenized_datasets['train'], eval_dataset=tokenized_datasets['validation'])"
   ]
  },
  {
   "cell_type": "code",
   "execution_count": 0,
   "metadata": {
    "application/vnd.databricks.v1+cell": {
     "cellMetadata": {
      "byteLimit": 2048000,
      "rowLimit": 10000
     },
     "inputWidgets": {},
     "nuid": "6e3f9de4-ba5b-42d9-8a46-16b16a3fb3cb",
     "showTitle": false,
     "title": ""
    }
   },
   "outputs": [
    {
     "output_type": "display_data",
     "data": {
      "text/html": [
       "<style scoped>\n",
       "  .ansiout {\n",
       "    display: block;\n",
       "    unicode-bidi: embed;\n",
       "    white-space: pre-wrap;\n",
       "    word-wrap: break-word;\n",
       "    word-break: break-all;\n",
       "    font-family: \"Menlo\", \"Monaco\", \"Consolas\", \"Ubuntu Mono\", \"Source Code Pro\", monospace;\n",
       "    font-size: 13px;\n",
       "    color: #555;\n",
       "    margin-left: 4px;\n",
       "    line-height: 19px;\n",
       "  }\n",
       "</style>\n",
       "<div class=\"ansiout\">&lt;IPython.core.display.HTML object&gt;\n",
       "&lt;IPython.core.display.HTML object&gt;\n",
       "&lt;IPython.core.display.HTML object&gt;\n",
       "&lt;IPython.core.display.HTML object&gt;\n",
       "&lt;IPython.core.display.HTML object&gt;\n",
       "</div>"
      ]
     },
     "metadata": {
      "application/vnd.databricks.v1+output": {
       "addedWidgets": {},
       "arguments": {},
       "data": "<div class=\"ansiout\">&lt;IPython.core.display.HTML object&gt;\n&lt;IPython.core.display.HTML object&gt;\n&lt;IPython.core.display.HTML object&gt;\n&lt;IPython.core.display.HTML object&gt;\n&lt;IPython.core.display.HTML object&gt;\n</div>",
       "datasetInfos": [],
       "metadata": {},
       "removedWidgets": [],
       "type": "html"
      }
     },
     "output_type": "display_data"
    }
   ],
   "source": [
    "trainer.train()\n",
    "trainer.save_model('YYY')"
   ]
  },
  {
   "cell_type": "markdown",
   "metadata": {
    "application/vnd.databricks.v1+cell": {
     "cellMetadata": {},
     "inputWidgets": {},
     "nuid": "5c103338-f559-4f5c-8561-b07cd3c96167",
     "showTitle": false,
     "title": ""
    }
   },
   "source": [
    "Info : Instruct model is the model which is trained above. If it is saved, it can be retrieved by below cell."
   ]
  },
  {
   "cell_type": "code",
   "execution_count": 0,
   "metadata": {
    "application/vnd.databricks.v1+cell": {
     "cellMetadata": {
      "byteLimit": 2048000,
      "rowLimit": 10000
     },
     "inputWidgets": {},
     "nuid": "a47aa7f3-1c7b-4c73-b839-94fba33ab608",
     "showTitle": false,
     "title": ""
    }
   },
   "outputs": [
    {
     "output_type": "display_data",
     "data": {
      "text/html": [
       "<style scoped>\n",
       "  .ansiout {\n",
       "    display: block;\n",
       "    unicode-bidi: embed;\n",
       "    white-space: pre-wrap;\n",
       "    word-wrap: break-word;\n",
       "    word-break: break-all;\n",
       "    font-family: \"Menlo\", \"Monaco\", \"Consolas\", \"Ubuntu Mono\", \"Source Code Pro\", monospace;\n",
       "    font-size: 13px;\n",
       "    color: #555;\n",
       "    margin-left: 4px;\n",
       "    line-height: 19px;\n",
       "  }\n",
       "</style>\n",
       "<div class=\"ansiout\"></div>"
      ]
     },
     "metadata": {
      "application/vnd.databricks.v1+output": {
       "addedWidgets": {},
       "arguments": {},
       "data": "<div class=\"ansiout\"></div>",
       "datasetInfos": [],
       "metadata": {},
       "removedWidgets": [],
       "type": "html"
      }
     },
     "output_type": "display_data"
    }
   ],
   "source": [
    "#from transformers import AutoModelForSequenceClassification, T5ForConditionalGeneration\n",
    "#instruct_model = T5ForConditionalGeneration.from_pretrained(\"YYY\")"
   ]
  },
  {
   "cell_type": "code",
   "execution_count": 0,
   "metadata": {
    "application/vnd.databricks.v1+cell": {
     "cellMetadata": {
      "byteLimit": 2048000,
      "rowLimit": 10000
     },
     "inputWidgets": {},
     "nuid": "a98f9c97-0f15-405e-b2fb-a780485809de",
     "showTitle": false,
     "title": ""
    }
   },
   "outputs": [
    {
     "output_type": "display_data",
     "data": {
      "text/html": [
       "<style scoped>\n",
       "  .ansiout {\n",
       "    display: block;\n",
       "    unicode-bidi: embed;\n",
       "    white-space: pre-wrap;\n",
       "    word-wrap: break-word;\n",
       "    word-break: break-all;\n",
       "    font-family: \"Menlo\", \"Monaco\", \"Consolas\", \"Ubuntu Mono\", \"Source Code Pro\", monospace;\n",
       "    font-size: 13px;\n",
       "    color: #555;\n",
       "    margin-left: 4px;\n",
       "    line-height: 19px;\n",
       "  }\n",
       "</style>\n",
       "<div class=\"ansiout\"></div>"
      ]
     },
     "metadata": {
      "application/vnd.databricks.v1+output": {
       "addedWidgets": {},
       "arguments": {},
       "data": "<div class=\"ansiout\"></div>",
       "datasetInfos": [],
       "metadata": {},
       "removedWidgets": [],
       "type": "html"
      }
     },
     "output_type": "display_data"
    }
   ],
   "source": [
    "### the original model is Flan-T5 without fine tuning\n",
    "original_model = AutoModelForSeq2SeqLM.from_pretrained(model_name, torch_dtype = torch.bfloat16)\n",
    "original_tokenizer = AutoTokenizer.from_pretrained(model_name)"
   ]
  },
  {
   "cell_type": "code",
   "execution_count": 0,
   "metadata": {
    "application/vnd.databricks.v1+cell": {
     "cellMetadata": {
      "byteLimit": 2048000,
      "rowLimit": 10000
     },
     "inputWidgets": {},
     "nuid": "2e277d8c-a301-41d0-86f7-6205a87b7aeb",
     "showTitle": false,
     "title": ""
    }
   },
   "outputs": [
    {
     "output_type": "display_data",
     "data": {
      "text/html": [
       "<style scoped>\n",
       "  .ansiout {\n",
       "    display: block;\n",
       "    unicode-bidi: embed;\n",
       "    white-space: pre-wrap;\n",
       "    word-wrap: break-word;\n",
       "    word-break: break-all;\n",
       "    font-family: \"Menlo\", \"Monaco\", \"Consolas\", \"Ubuntu Mono\", \"Source Code Pro\", monospace;\n",
       "    font-size: 13px;\n",
       "    color: #555;\n",
       "    margin-left: 4px;\n",
       "    line-height: 19px;\n",
       "  }\n",
       "</style>\n",
       "<div class=\"ansiout\">___________________________________________________________________________________________________\n",
       "Baseline Human Summary: #Person1# teaches #Person2# how to upgrade software and hardware in #Person2#&#39;s system.\n",
       "___________________________________________________________________________________________________\n",
       "Original model: #Person1#: I&#39;m thinking of upgrading my computer.\n",
       "___________________________________________________________________________________________________\n",
       "Instruct model: You can get a computer that&#39;s good for business.\n",
       "</div>"
      ]
     },
     "metadata": {
      "application/vnd.databricks.v1+output": {
       "addedWidgets": {},
       "arguments": {},
       "data": "<div class=\"ansiout\">___________________________________________________________________________________________________\nBaseline Human Summary: #Person1# teaches #Person2# how to upgrade software and hardware in #Person2#&#39;s system.\n___________________________________________________________________________________________________\nOriginal model: #Person1#: I&#39;m thinking of upgrading my computer.\n___________________________________________________________________________________________________\nInstruct model: You can get a computer that&#39;s good for business.\n</div>",
       "datasetInfos": [],
       "metadata": {},
       "removedWidgets": [],
       "type": "html"
      }
     },
     "output_type": "display_data"
    }
   ],
   "source": [
    "### Now comparing the original model and instruct model (fine tuned)\n",
    "index = 200\n",
    "dialogue = dataset['test'][index]['dialogue']\n",
    "human_baseline_summary = dataset['test'][index]['summary']\n",
    "\n",
    "prompt = f\"\"\"\n",
    "Summarize the following conversation.\n",
    "\n",
    "{dialogue}\n",
    "\n",
    "Summary:\n",
    "\"\"\"\n",
    "\n",
    "input_ids = tokenizer(prompt, return_tensors='pt').input_ids\n",
    "original_model_output = original_model.generate(input_ids = input_ids, generation_config = GenerationConfig(max_new_tokens=200, num_beams=1))\n",
    "original_model_text_output = tokenizer.decode(original_model_output[0], skip_special_tokens= True)\n",
    "\n",
    "instruct_model_output = model.generate(input_ids = input_ids, generation_config = GenerationConfig(max_new_tokens=200, num_beams=1))\n",
    "instruct_model_text_output = tokenizer.decode(instruct_model_output[0], skip_special_tokens= True)\n",
    "\n",
    "\n",
    "print(dash_line)\n",
    "print(f'Baseline Human Summary:',human_baseline_summary)\n",
    "print(dash_line)\n",
    "print(f'Original model:',original_model_text_output)\n",
    "print(dash_line)\n",
    "print(f'Instruct model:',instruct_model_text_output)"
   ]
  },
  {
   "cell_type": "code",
   "execution_count": 0,
   "metadata": {
    "application/vnd.databricks.v1+cell": {
     "cellMetadata": {
      "byteLimit": 2048000,
      "rowLimit": 10000
     },
     "inputWidgets": {},
     "nuid": "9f6d0b47-1fe9-4ee4-a318-f8d85f589859",
     "showTitle": false,
     "title": ""
    }
   },
   "outputs": [
    {
     "output_type": "display_data",
     "data": {
      "text/html": [
       "<style scoped>\n",
       "  .ansiout {\n",
       "    display: block;\n",
       "    unicode-bidi: embed;\n",
       "    white-space: pre-wrap;\n",
       "    word-wrap: break-word;\n",
       "    word-break: break-all;\n",
       "    font-family: \"Menlo\", \"Monaco\", \"Consolas\", \"Ubuntu Mono\", \"Source Code Pro\", monospace;\n",
       "    font-size: 13px;\n",
       "    color: #555;\n",
       "    margin-left: 4px;\n",
       "    line-height: 19px;\n",
       "  }\n",
       "</style>\n",
       "<div class=\"ansiout\">Downloading builder script:   0%|          | 0.00/6.27k [00:00&lt;?, ?B/s]\n",
       "Out[30]: </div>"
      ]
     },
     "metadata": {
      "application/vnd.databricks.v1+output": {
       "addedWidgets": {},
       "arguments": {},
       "data": "<div class=\"ansiout\">Downloading builder script:   0%|          | 0.00/6.27k [00:00&lt;?, ?B/s]\nOut[30]: </div>",
       "datasetInfos": [],
       "metadata": {},
       "removedWidgets": [],
       "type": "html"
      }
     },
     "output_type": "display_data"
    },
    {
     "output_type": "display_data",
     "data": {
      "text/html": [
       "<div>\n",
       "<style scoped>\n",
       "    .dataframe tbody tr th:only-of-type {\n",
       "        vertical-align: middle;\n",
       "    }\n",
       "\n",
       "    .dataframe tbody tr th {\n",
       "        vertical-align: top;\n",
       "    }\n",
       "\n",
       "    .dataframe thead th {\n",
       "        text-align: right;\n",
       "    }\n",
       "</style>\n",
       "<table border=\"1\" class=\"dataframe\">\n",
       "  <thead>\n",
       "    <tr style=\"text-align: right;\">\n",
       "      <th></th>\n",
       "      <th>human_baseline_summaries</th>\n",
       "      <th>original_model_summaries</th>\n",
       "      <th>instruct_model_summaries</th>\n",
       "    </tr>\n",
       "  </thead>\n",
       "  <tbody>\n",
       "    <tr>\n",
       "      <th>0</th>\n",
       "      <td>Ms. Dawson helps #Person1# to write a memo to ...</td>\n",
       "      <td>#Person1#: I need to take a dictation for you.</td>\n",
       "      <td>#Person1#: Ms. Dawson, I need to take a dictat...</td>\n",
       "    </tr>\n",
       "    <tr>\n",
       "      <th>1</th>\n",
       "      <td>In order to prevent employees from wasting tim...</td>\n",
       "      <td>#Person1#: I need to take a dictation for you.</td>\n",
       "      <td>The Office Communication Policy is now a memor...</td>\n",
       "    </tr>\n",
       "    <tr>\n",
       "      <th>2</th>\n",
       "      <td>Ms. Dawson takes a dictation for #Person1# abo...</td>\n",
       "      <td>#Person1#: I need to take a dictation for you.</td>\n",
       "      <td>#Person1: This is a new policy. #Person2: This...</td>\n",
       "    </tr>\n",
       "    <tr>\n",
       "      <th>3</th>\n",
       "      <td>#Person2# arrives late because of traffic jam....</td>\n",
       "      <td>The traffic jam at the Carrefour intersection ...</td>\n",
       "      <td>The traffic jam is bad for the environment.</td>\n",
       "    </tr>\n",
       "    <tr>\n",
       "      <th>4</th>\n",
       "      <td>#Person2# decides to follow #Person1#'s sugges...</td>\n",
       "      <td>The traffic jam at the Carrefour intersection ...</td>\n",
       "      <td>People are talking about how to avoid getting ...</td>\n",
       "    </tr>\n",
       "    <tr>\n",
       "      <th>5</th>\n",
       "      <td>#Person2# complains to #Person1# about the tra...</td>\n",
       "      <td>The traffic jam at the Carrefour intersection ...</td>\n",
       "      <td>#Person1: I'm glad to hear that you've finally...</td>\n",
       "    </tr>\n",
       "    <tr>\n",
       "      <th>6</th>\n",
       "      <td>#Person1# tells Kate that Masha and Hero get d...</td>\n",
       "      <td>Masha and Hero are getting divorced.</td>\n",
       "      <td>Masha and Hero are getting divorce.</td>\n",
       "    </tr>\n",
       "    <tr>\n",
       "      <th>7</th>\n",
       "      <td>#Person1# tells Kate that Masha and Hero are g...</td>\n",
       "      <td>Masha and Hero are getting divorced.</td>\n",
       "      <td>Masha and Hero are getting divorced.</td>\n",
       "    </tr>\n",
       "    <tr>\n",
       "      <th>8</th>\n",
       "      <td>#Person1# and Kate talk about the divorce betw...</td>\n",
       "      <td>Masha and Hero are getting divorced.</td>\n",
       "      <td>Masha and Hero are getting married.</td>\n",
       "    </tr>\n",
       "    <tr>\n",
       "      <th>9</th>\n",
       "      <td>#Person1# and Brian are at the birthday party ...</td>\n",
       "      <td>#Person1#: Happy birthday, Brian. #Person2#: T...</td>\n",
       "      <td>#Person1#: Happy Birthday, this is for you! #P...</td>\n",
       "    </tr>\n",
       "  </tbody>\n",
       "</table>\n",
       "</div>"
      ]
     },
     "metadata": {
      "application/vnd.databricks.v1+output": {
       "addedWidgets": {},
       "arguments": {},
       "data": "<div>\n<style scoped>\n    .dataframe tbody tr th:only-of-type {\n        vertical-align: middle;\n    }\n\n    .dataframe tbody tr th {\n        vertical-align: top;\n    }\n\n    .dataframe thead th {\n        text-align: right;\n    }\n</style>\n<table border=\"1\" class=\"dataframe\">\n  <thead>\n    <tr style=\"text-align: right;\">\n      <th></th>\n      <th>human_baseline_summaries</th>\n      <th>original_model_summaries</th>\n      <th>instruct_model_summaries</th>\n    </tr>\n  </thead>\n  <tbody>\n    <tr>\n      <th>0</th>\n      <td>Ms. Dawson helps #Person1# to write a memo to ...</td>\n      <td>#Person1#: I need to take a dictation for you.</td>\n      <td>#Person1#: Ms. Dawson, I need to take a dictat...</td>\n    </tr>\n    <tr>\n      <th>1</th>\n      <td>In order to prevent employees from wasting tim...</td>\n      <td>#Person1#: I need to take a dictation for you.</td>\n      <td>The Office Communication Policy is now a memor...</td>\n    </tr>\n    <tr>\n      <th>2</th>\n      <td>Ms. Dawson takes a dictation for #Person1# abo...</td>\n      <td>#Person1#: I need to take a dictation for you.</td>\n      <td>#Person1: This is a new policy. #Person2: This...</td>\n    </tr>\n    <tr>\n      <th>3</th>\n      <td>#Person2# arrives late because of traffic jam....</td>\n      <td>The traffic jam at the Carrefour intersection ...</td>\n      <td>The traffic jam is bad for the environment.</td>\n    </tr>\n    <tr>\n      <th>4</th>\n      <td>#Person2# decides to follow #Person1#'s sugges...</td>\n      <td>The traffic jam at the Carrefour intersection ...</td>\n      <td>People are talking about how to avoid getting ...</td>\n    </tr>\n    <tr>\n      <th>5</th>\n      <td>#Person2# complains to #Person1# about the tra...</td>\n      <td>The traffic jam at the Carrefour intersection ...</td>\n      <td>#Person1: I'm glad to hear that you've finally...</td>\n    </tr>\n    <tr>\n      <th>6</th>\n      <td>#Person1# tells Kate that Masha and Hero get d...</td>\n      <td>Masha and Hero are getting divorced.</td>\n      <td>Masha and Hero are getting divorce.</td>\n    </tr>\n    <tr>\n      <th>7</th>\n      <td>#Person1# tells Kate that Masha and Hero are g...</td>\n      <td>Masha and Hero are getting divorced.</td>\n      <td>Masha and Hero are getting divorced.</td>\n    </tr>\n    <tr>\n      <th>8</th>\n      <td>#Person1# and Kate talk about the divorce betw...</td>\n      <td>Masha and Hero are getting divorced.</td>\n      <td>Masha and Hero are getting married.</td>\n    </tr>\n    <tr>\n      <th>9</th>\n      <td>#Person1# and Brian are at the birthday party ...</td>\n      <td>#Person1#: Happy birthday, Brian. #Person2#: T...</td>\n      <td>#Person1#: Happy Birthday, this is for you! #P...</td>\n    </tr>\n  </tbody>\n</table>\n</div>",
       "datasetInfos": [],
       "metadata": {},
       "removedWidgets": [],
       "textData": null,
       "type": "htmlSandbox"
      }
     },
     "output_type": "display_data"
    }
   ],
   "source": [
    "##### Evaluate the instruct model Quantatively (with ROUGE metric)\n",
    "rouge = evaluate.load('rouge')\n",
    "\n",
    "dialogues = dataset['test'][0:10]['dialogue']\n",
    "human_baseline_summary = dataset['test'][0:10]['summary']\n",
    "\n",
    "original_model_summaries = []\n",
    "instruct_model_summaries = []\n",
    "\n",
    "for _,dialogue in enumerate(dialogues):\n",
    "  prompt = f\"\"\"\n",
    "  Summarize the following conversation.\n",
    "  \n",
    "  {dialogue}\n",
    "  \n",
    "  Summary:\n",
    "  \"\"\"\n",
    "\n",
    "  input_ids = tokenizer(prompt, return_tensors='pt').input_ids\n",
    "  original_model_output = original_model.generate(input_ids = input_ids, generation_config = GenerationConfig(max_new_tokens=200))\n",
    "  original_model_text_output = tokenizer.decode(original_model_output[0], skip_special_tokens= True)\n",
    "  original_model_summaries.append(original_model_text_output)\n",
    "\n",
    "  instruct_model_output = model.generate(input_ids = input_ids, generation_config = GenerationConfig(max_new_tokens=200))\n",
    "  instruct_model_text_output = tokenizer.decode(instruct_model_output[0], skip_special_tokens= True)\n",
    "  instruct_model_summaries.append(instruct_model_text_output)\n",
    "\n",
    "zipped_summaries = list(zip(human_baseline_summary, original_model_summaries, instruct_model_summaries))\n",
    "df = pd.DataFrame(zipped_summaries, columns=['human_baseline_summaries', 'original_model_summaries', 'instruct_model_summaries'])\n",
    "df"
   ]
  },
  {
   "cell_type": "code",
   "execution_count": 0,
   "metadata": {
    "application/vnd.databricks.v1+cell": {
     "cellMetadata": {
      "byteLimit": 2048000,
      "rowLimit": 10000
     },
     "inputWidgets": {},
     "nuid": "37122e8a-6855-49cb-9407-c9c87a63d634",
     "showTitle": false,
     "title": ""
    }
   },
   "outputs": [
    {
     "output_type": "display_data",
     "data": {
      "text/html": [
       "<style scoped>\n",
       "  .ansiout {\n",
       "    display: block;\n",
       "    unicode-bidi: embed;\n",
       "    white-space: pre-wrap;\n",
       "    word-wrap: break-word;\n",
       "    word-break: break-all;\n",
       "    font-family: \"Menlo\", \"Monaco\", \"Consolas\", \"Ubuntu Mono\", \"Source Code Pro\", monospace;\n",
       "    font-size: 13px;\n",
       "    color: #555;\n",
       "    margin-left: 4px;\n",
       "    line-height: 19px;\n",
       "  }\n",
       "</style>\n",
       "<div class=\"ansiout\">Original model: \n",
       "{&#39;rouge1&#39;: 0.2510566239316239, &#39;rouge2&#39;: 0.11535720375106562, &#39;rougeL&#39;: 0.229375, &#39;rougeLsum&#39;: 0.23316773504273502}\n",
       "Instruct model: \n",
       "{&#39;rouge1&#39;: 0.20609034454195743, &#39;rouge2&#39;: 0.09139130434782608, &#39;rougeL&#39;: 0.19206192851354142, &#39;rougeLsum&#39;: 0.19164656132398067}\n",
       "</div>"
      ]
     },
     "metadata": {
      "application/vnd.databricks.v1+output": {
       "addedWidgets": {},
       "arguments": {},
       "data": "<div class=\"ansiout\">Original model: \n{&#39;rouge1&#39;: 0.2510566239316239, &#39;rouge2&#39;: 0.11535720375106562, &#39;rougeL&#39;: 0.229375, &#39;rougeLsum&#39;: 0.23316773504273502}\nInstruct model: \n{&#39;rouge1&#39;: 0.20609034454195743, &#39;rouge2&#39;: 0.09139130434782608, &#39;rougeL&#39;: 0.19206192851354142, &#39;rougeLsum&#39;: 0.19164656132398067}\n</div>",
       "datasetInfos": [],
       "metadata": {},
       "removedWidgets": [],
       "type": "html"
      }
     },
     "output_type": "display_data"
    }
   ],
   "source": [
    "original_model_Results = rouge.compute(predictions= original_model_summaries, references = human_baseline_summary[0:len(original_model_summaries)],\n",
    "                                       use_aggregator = True, use_stemmer= True,)\n",
    "instruct_model_results = rouge.compute(predictions= instruct_model_summaries, references = human_baseline_summary[0:len(instruct_model_summaries)],\n",
    "                                       use_aggregator = True, use_stemmer= True,)\n",
    "\n",
    "print('Original model: ')\n",
    "print(original_model_Results)\n",
    "print('Instruct model: ')\n",
    "print(instruct_model_results)"
   ]
  },
  {
   "cell_type": "code",
   "execution_count": 0,
   "metadata": {
    "application/vnd.databricks.v1+cell": {
     "cellMetadata": {
      "byteLimit": 2048000,
      "rowLimit": 10000
     },
     "inputWidgets": {},
     "nuid": "559cf6dd-e6ff-4548-ae30-00d226e54e68",
     "showTitle": false,
     "title": ""
    }
   },
   "outputs": [
    {
     "output_type": "display_data",
     "data": {
      "text/html": [
       "<style scoped>\n",
       "  .ansiout {\n",
       "    display: block;\n",
       "    unicode-bidi: embed;\n",
       "    white-space: pre-wrap;\n",
       "    word-wrap: break-word;\n",
       "    word-break: break-all;\n",
       "    font-family: \"Menlo\", \"Monaco\", \"Consolas\", \"Ubuntu Mono\", \"Source Code Pro\", monospace;\n",
       "    font-size: 13px;\n",
       "    color: #555;\n",
       "    margin-left: 4px;\n",
       "    line-height: 19px;\n",
       "  }\n",
       "</style>\n",
       "<div class=\"ansiout\">Absolute percentage improvement of instruct model over Human baseline\n",
       "rouge1:-9.26%\n",
       "rouge2:-3.30%\n",
       "rougeL:-7.01%\n",
       "rougeLsum:-7.32%\n",
       "</div>"
      ]
     },
     "metadata": {
      "application/vnd.databricks.v1+output": {
       "addedWidgets": {},
       "arguments": {},
       "data": "<div class=\"ansiout\">Absolute percentage improvement of instruct model over Human baseline\nrouge1:-9.26%\nrouge2:-3.30%\nrougeL:-7.01%\nrougeLsum:-7.32%\n</div>",
       "datasetInfos": [],
       "metadata": {},
       "removedWidgets": [],
       "type": "html"
      }
     },
     "output_type": "display_data"
    }
   ],
   "source": [
    "print('Absolute percentage improvement of instruct model over Human baseline')\n",
    "improvement = (np.array(list(instruct_model_results.values()))) - np.array(list(original_model_Results.values()))\n",
    "for key, value in zip(instruct_model_results.keys(), improvement):\n",
    "  print(f'{key}:{value*100:.2f}%')"
   ]
  },
  {
   "cell_type": "markdown",
   "metadata": {
    "application/vnd.databricks.v1+cell": {
     "cellMetadata": {},
     "inputWidgets": {},
     "nuid": "b78d637f-0bb4-4083-974d-af04a525192b",
     "showTitle": false,
     "title": ""
    }
   },
   "source": [
    "##### Conclusion : The instruct model couldn't be improved that much in comparison with original model due to limited number of epochs & steps"
   ]
  },
  {
   "cell_type": "markdown",
   "metadata": {
    "application/vnd.databricks.v1+cell": {
     "cellMetadata": {},
     "inputWidgets": {},
     "nuid": "a7a6b4b7-23bd-4f9e-acb2-8dca320434c2",
     "showTitle": false,
     "title": ""
    }
   },
   "source": [
    "#####3.3. Perform Parameter Efficient Fine-Tuning (PEFT)"
   ]
  },
  {
   "cell_type": "code",
   "execution_count": 0,
   "metadata": {
    "application/vnd.databricks.v1+cell": {
     "cellMetadata": {
      "byteLimit": 2048000,
      "rowLimit": 10000
     },
     "inputWidgets": {},
     "nuid": "7aa7c106-72ee-4918-8cfb-de459c6bf064",
     "showTitle": false,
     "title": ""
    }
   },
   "outputs": [
    {
     "output_type": "display_data",
     "data": {
      "text/html": [
       "<style scoped>\n",
       "  .ansiout {\n",
       "    display: block;\n",
       "    unicode-bidi: embed;\n",
       "    white-space: pre-wrap;\n",
       "    word-wrap: break-word;\n",
       "    word-break: break-all;\n",
       "    font-family: \"Menlo\", \"Monaco\", \"Consolas\", \"Ubuntu Mono\", \"Source Code Pro\", monospace;\n",
       "    font-size: 13px;\n",
       "    color: #555;\n",
       "    margin-left: 4px;\n",
       "    line-height: 19px;\n",
       "  }\n",
       "</style>\n",
       "<div class=\"ansiout\"></div>"
      ]
     },
     "metadata": {
      "application/vnd.databricks.v1+output": {
       "addedWidgets": {},
       "arguments": {},
       "data": "<div class=\"ansiout\"></div>",
       "datasetInfos": [],
       "metadata": {},
       "removedWidgets": [],
       "type": "html"
      }
     },
     "output_type": "display_data"
    }
   ],
   "source": [
    "### setup the PEFT/LoRA model for fine-tuning with dimension of 32 for adapter to be trained\n",
    "from peft import LoraConfig, get_peft_model, TaskType\n",
    "lora_config = LoraConfig(r=32, lora_alpha=32, target_modules = [\"q\", \"v\"], lora_dropout= 0.05, bias=\"none\", task_type=TaskType.SEQ_2_SEQ_LM)"
   ]
  },
  {
   "cell_type": "code",
   "execution_count": 0,
   "metadata": {
    "application/vnd.databricks.v1+cell": {
     "cellMetadata": {
      "byteLimit": 2048000,
      "rowLimit": 10000
     },
     "inputWidgets": {},
     "nuid": "5138170c-9d93-44e3-b9d9-b06de6a9936a",
     "showTitle": false,
     "title": ""
    }
   },
   "outputs": [
    {
     "output_type": "display_data",
     "data": {
      "text/html": [
       "<style scoped>\n",
       "  .ansiout {\n",
       "    display: block;\n",
       "    unicode-bidi: embed;\n",
       "    white-space: pre-wrap;\n",
       "    word-wrap: break-word;\n",
       "    word-break: break-all;\n",
       "    font-family: \"Menlo\", \"Monaco\", \"Consolas\", \"Ubuntu Mono\", \"Source Code Pro\", monospace;\n",
       "    font-size: 13px;\n",
       "    color: #555;\n",
       "    margin-left: 4px;\n",
       "    line-height: 19px;\n",
       "  }\n",
       "</style>\n",
       "<div class=\"ansiout\">trianbale model parameters: 3538944\n",
       "all model params: 251116800\n",
       "percentage of trainable model parameters : 1.41 %\n",
       "</div>"
      ]
     },
     "metadata": {
      "application/vnd.databricks.v1+output": {
       "addedWidgets": {},
       "arguments": {},
       "data": "<div class=\"ansiout\">trianbale model parameters: 3538944\nall model params: 251116800\npercentage of trainable model parameters : 1.41 %\n</div>",
       "datasetInfos": [],
       "metadata": {},
       "removedWidgets": [],
       "type": "html"
      }
     },
     "output_type": "display_data"
    }
   ],
   "source": [
    "### percentage of trainable parameters are way less than instruct fine tuning\n",
    "peft_model = get_peft_model(original_model, lora_config)\n",
    "print(print_number_of_trainable_model_parameters(peft_model))"
   ]
  },
  {
   "cell_type": "code",
   "execution_count": 0,
   "metadata": {
    "application/vnd.databricks.v1+cell": {
     "cellMetadata": {
      "byteLimit": 2048000,
      "rowLimit": 10000
     },
     "inputWidgets": {},
     "nuid": "5d8a980d-42e8-4a3a-a5d3-aad2ae1f110f",
     "showTitle": false,
     "title": ""
    }
   },
   "outputs": [
    {
     "output_type": "display_data",
     "data": {
      "text/html": [
       "<style scoped>\n",
       "  .ansiout {\n",
       "    display: block;\n",
       "    unicode-bidi: embed;\n",
       "    white-space: pre-wrap;\n",
       "    word-wrap: break-word;\n",
       "    word-break: break-all;\n",
       "    font-family: \"Menlo\", \"Monaco\", \"Consolas\", \"Ubuntu Mono\", \"Source Code Pro\", monospace;\n",
       "    font-size: 13px;\n",
       "    color: #555;\n",
       "    margin-left: 4px;\n",
       "    line-height: 19px;\n",
       "  }\n",
       "</style>\n",
       "<div class=\"ansiout\">max_steps is given, it will override any value given in num_train_epochs\n",
       "</div>"
      ]
     },
     "metadata": {
      "application/vnd.databricks.v1+output": {
       "addedWidgets": {},
       "arguments": {},
       "data": "<div class=\"ansiout\">max_steps is given, it will override any value given in num_train_epochs\n</div>",
       "datasetInfos": [],
       "metadata": {},
       "removedWidgets": [],
       "type": "html"
      }
     },
     "output_type": "display_data"
    }
   ],
   "source": [
    "### Train PEFT Adapter\n",
    "output_dir = 'XXX/peft_dialogue-summary-training-'+str(int(time.time()))\n",
    "peft_training_args = TrainingArguments(output_dir, auto_find_batch_size=True, learning_rate=1e-3, num_train_epochs=5, logging_steps=1, max_steps = 1)\n",
    "peft_trainer = Trainer(peft_model, args=training_args, train_dataset=tokenized_datasets['train'])"
   ]
  },
  {
   "cell_type": "code",
   "execution_count": 0,
   "metadata": {
    "application/vnd.databricks.v1+cell": {
     "cellMetadata": {
      "byteLimit": 2048000,
      "rowLimit": 10000
     },
     "inputWidgets": {},
     "nuid": "2eb3a788-a187-44d2-a716-0f165ec9408b",
     "showTitle": false,
     "title": ""
    }
   },
   "outputs": [
    {
     "output_type": "display_data",
     "data": {
      "text/html": [
       "<style scoped>\n",
       "  .ansiout {\n",
       "    display: block;\n",
       "    unicode-bidi: embed;\n",
       "    white-space: pre-wrap;\n",
       "    word-wrap: break-word;\n",
       "    word-break: break-all;\n",
       "    font-family: \"Menlo\", \"Monaco\", \"Consolas\", \"Ubuntu Mono\", \"Source Code Pro\", monospace;\n",
       "    font-size: 13px;\n",
       "    color: #555;\n",
       "    margin-left: 4px;\n",
       "    line-height: 19px;\n",
       "  }\n",
       "</style>\n",
       "<div class=\"ansiout\">&lt;IPython.core.display.HTML object&gt;\n",
       "&lt;IPython.core.display.HTML object&gt;\n",
       "&lt;IPython.core.display.HTML object&gt;\n",
       "&lt;IPython.core.display.HTML object&gt;\n",
       "&lt;IPython.core.display.HTML object&gt;\n",
       "Out[35]: TrainOutput(global_step=4, training_loss=49.0625, metrics={&#39;train_runtime&#39;: 16979.1545, &#39;train_samples_per_second&#39;: 0.002, &#39;train_steps_per_second&#39;: 0.0, &#39;total_flos&#39;: 22260127629312.0, &#39;train_loss&#39;: 49.0625, &#39;epoch&#39;: 0.25})</div>"
      ]
     },
     "metadata": {
      "application/vnd.databricks.v1+output": {
       "addedWidgets": {},
       "arguments": {},
       "data": "<div class=\"ansiout\">&lt;IPython.core.display.HTML object&gt;\n&lt;IPython.core.display.HTML object&gt;\n&lt;IPython.core.display.HTML object&gt;\n&lt;IPython.core.display.HTML object&gt;\n&lt;IPython.core.display.HTML object&gt;\nOut[35]: TrainOutput(global_step=4, training_loss=49.0625, metrics={&#39;train_runtime&#39;: 16979.1545, &#39;train_samples_per_second&#39;: 0.002, &#39;train_steps_per_second&#39;: 0.0, &#39;total_flos&#39;: 22260127629312.0, &#39;train_loss&#39;: 49.0625, &#39;epoch&#39;: 0.25})</div>",
       "datasetInfos": [],
       "metadata": {},
       "removedWidgets": [],
       "type": "html"
      }
     },
     "output_type": "display_data"
    }
   ],
   "source": [
    "peft_trainer.train()\n",
    "eft_trainer.save_model('ZZZ')"
   ]
  },
  {
   "cell_type": "code",
   "execution_count": 0,
   "metadata": {
    "application/vnd.databricks.v1+cell": {
     "cellMetadata": {
      "byteLimit": 2048000,
      "rowLimit": 10000
     },
     "inputWidgets": {},
     "nuid": "7192b6a0-207a-4ce4-810a-76bfdb070a0d",
     "showTitle": false,
     "title": ""
    }
   },
   "outputs": [
    {
     "output_type": "display_data",
     "data": {
      "text/html": [
       "<style scoped>\n",
       "  .ansiout {\n",
       "    display: block;\n",
       "    unicode-bidi: embed;\n",
       "    white-space: pre-wrap;\n",
       "    word-wrap: break-word;\n",
       "    word-break: break-all;\n",
       "    font-family: \"Menlo\", \"Monaco\", \"Consolas\", \"Ubuntu Mono\", \"Source Code Pro\", monospace;\n",
       "    font-size: 13px;\n",
       "    color: #555;\n",
       "    margin-left: 4px;\n",
       "    line-height: 19px;\n",
       "  }\n",
       "</style>\n",
       "<div class=\"ansiout\"></div>"
      ]
     },
     "metadata": {
      "application/vnd.databricks.v1+output": {
       "addedWidgets": {},
       "arguments": {},
       "data": "<div class=\"ansiout\"></div>",
       "datasetInfos": [],
       "metadata": {},
       "removedWidgets": [],
       "type": "html"
      }
     },
     "output_type": "display_data"
    },
    {
     "output_type": "display_data",
     "data": {
      "text/html": [
       "<style scoped>\n",
       "  .ansiout {\n",
       "    display: block;\n",
       "    unicode-bidi: embed;\n",
       "    white-space: pre-wrap;\n",
       "    word-wrap: break-word;\n",
       "    word-break: break-all;\n",
       "    font-family: \"Menlo\", \"Monaco\", \"Consolas\", \"Ubuntu Mono\", \"Source Code Pro\", monospace;\n",
       "    font-size: 13px;\n",
       "    color: #555;\n",
       "    margin-left: 4px;\n",
       "    line-height: 19px;\n",
       "  }\n",
       "</style>\n",
       "<div class=\"ansiout\"><span class=\"ansi-red-fg\">---------------------------------------------------------------------------</span>\n",
       "<span class=\"ansi-red-fg\">ValueError</span>                                Traceback (most recent call last)\n",
       "<span class=\"ansi-green-fg\">&lt;command-3719877560911132&gt;</span> in <span class=\"ansi-cyan-fg\">&lt;module&gt;</span>\n",
       "<span class=\"ansi-green-fg\">----&gt; 1</span><span class=\"ansi-red-fg\"> </span>peft_model <span class=\"ansi-blue-fg\">=</span> T5ForConditionalGeneration<span class=\"ansi-blue-fg\">.</span>from_pretrained<span class=\"ansi-blue-fg\">(</span><span class=\"ansi-blue-fg\">&#34;dbfs/summarize/peft_model_plan_t5_2&#34;</span><span class=\"ansi-blue-fg\">)</span>\n",
       "\n",
       "<span class=\"ansi-green-fg\">/databricks/python/lib/python3.8/site-packages/transformers/modeling_utils.py</span> in <span class=\"ansi-cyan-fg\">from_pretrained</span><span class=\"ansi-blue-fg\">(cls, pretrained_model_name_or_path, config, cache_dir, ignore_mismatched_sizes, force_download, local_files_only, token, revision, use_safetensors, *model_args, **kwargs)</span>\n",
       "<span class=\"ansi-green-intense-fg ansi-bold\">   3909</span> \n",
       "<span class=\"ansi-green-intense-fg ansi-bold\">   3910</span>         <span class=\"ansi-green-fg\">if</span> _adapter_model_path <span class=\"ansi-green-fg\">is</span> <span class=\"ansi-green-fg\">not</span> <span class=\"ansi-green-fg\">None</span><span class=\"ansi-blue-fg\">:</span>\n",
       "<span class=\"ansi-green-fg\">-&gt; 3911</span><span class=\"ansi-red-fg\">             model.load_adapter(\n",
       "</span><span class=\"ansi-green-intense-fg ansi-bold\">   3912</span>                 _adapter_model_path<span class=\"ansi-blue-fg\">,</span>\n",
       "<span class=\"ansi-green-intense-fg ansi-bold\">   3913</span>                 adapter_name<span class=\"ansi-blue-fg\">=</span>adapter_name<span class=\"ansi-blue-fg\">,</span>\n",
       "\n",
       "<span class=\"ansi-green-fg\">/databricks/python/lib/python3.8/site-packages/transformers/integrations/peft.py</span> in <span class=\"ansi-cyan-fg\">load_adapter</span><span class=\"ansi-blue-fg\">(self, peft_model_id, adapter_name, revision, token, device_map, max_memory, offload_folder, offload_index, peft_config, adapter_state_dict, adapter_kwargs)</span>\n",
       "<span class=\"ansi-green-intense-fg ansi-bold\">    134</span>                 <span class=\"ansi-red-fg\">`</span>find_adapter_config_file<span class=\"ansi-red-fg\">`</span> method<span class=\"ansi-blue-fg\">.</span>\n",
       "<span class=\"ansi-green-intense-fg ansi-bold\">    135</span>         &#34;&#34;&#34;\n",
       "<span class=\"ansi-green-fg\">--&gt; 136</span><span class=\"ansi-red-fg\">         </span>check_peft_version<span class=\"ansi-blue-fg\">(</span>min_version<span class=\"ansi-blue-fg\">=</span>MIN_PEFT_VERSION<span class=\"ansi-blue-fg\">)</span>\n",
       "<span class=\"ansi-green-intense-fg ansi-bold\">    137</span> \n",
       "<span class=\"ansi-green-intense-fg ansi-bold\">    138</span>         adapter_name <span class=\"ansi-blue-fg\">=</span> adapter_name <span class=\"ansi-green-fg\">if</span> adapter_name <span class=\"ansi-green-fg\">is</span> <span class=\"ansi-green-fg\">not</span> <span class=\"ansi-green-fg\">None</span> <span class=\"ansi-green-fg\">else</span> <span class=\"ansi-blue-fg\">&#34;default&#34;</span>\n",
       "\n",
       "<span class=\"ansi-green-fg\">/databricks/python/lib/python3.8/site-packages/transformers/utils/peft_utils.py</span> in <span class=\"ansi-cyan-fg\">check_peft_version</span><span class=\"ansi-blue-fg\">(min_version)</span>\n",
       "<span class=\"ansi-green-intense-fg ansi-bold\">    120</span> \n",
       "<span class=\"ansi-green-intense-fg ansi-bold\">    121</span>     <span class=\"ansi-green-fg\">if</span> <span class=\"ansi-green-fg\">not</span> is_peft_version_compatible<span class=\"ansi-blue-fg\">:</span>\n",
       "<span class=\"ansi-green-fg\">--&gt; 122</span><span class=\"ansi-red-fg\">         raise ValueError(\n",
       "</span><span class=\"ansi-green-intense-fg ansi-bold\">    123</span>             <span class=\"ansi-blue-fg\">f&#34;The version of PEFT you are using is not compatible, please use a version that is greater&#34;</span>\n",
       "<span class=\"ansi-green-intense-fg ansi-bold\">    124</span>             <span class=\"ansi-blue-fg\">f&#34; than {min_version}&#34;</span>\n",
       "\n",
       "<span class=\"ansi-red-fg\">ValueError</span>: The version of PEFT you are using is not compatible, please use a version that is greater than 0.5.0</div>"
      ]
     },
     "metadata": {
      "application/vnd.databricks.v1+output": {
       "arguments": {},
       "data": "<div class=\"ansiout\"><span class=\"ansi-red-fg\">---------------------------------------------------------------------------</span>\n<span class=\"ansi-red-fg\">ValueError</span>                                Traceback (most recent call last)\n<span class=\"ansi-green-fg\">&lt;command-3719877560911132&gt;</span> in <span class=\"ansi-cyan-fg\">&lt;module&gt;</span>\n<span class=\"ansi-green-fg\">----&gt; 1</span><span class=\"ansi-red-fg\"> </span>peft_model <span class=\"ansi-blue-fg\">=</span> T5ForConditionalGeneration<span class=\"ansi-blue-fg\">.</span>from_pretrained<span class=\"ansi-blue-fg\">(</span><span class=\"ansi-blue-fg\">&#34;dbfs/summarize/peft_model_plan_t5_2&#34;</span><span class=\"ansi-blue-fg\">)</span>\n\n<span class=\"ansi-green-fg\">/databricks/python/lib/python3.8/site-packages/transformers/modeling_utils.py</span> in <span class=\"ansi-cyan-fg\">from_pretrained</span><span class=\"ansi-blue-fg\">(cls, pretrained_model_name_or_path, config, cache_dir, ignore_mismatched_sizes, force_download, local_files_only, token, revision, use_safetensors, *model_args, **kwargs)</span>\n<span class=\"ansi-green-intense-fg ansi-bold\">   3909</span> \n<span class=\"ansi-green-intense-fg ansi-bold\">   3910</span>         <span class=\"ansi-green-fg\">if</span> _adapter_model_path <span class=\"ansi-green-fg\">is</span> <span class=\"ansi-green-fg\">not</span> <span class=\"ansi-green-fg\">None</span><span class=\"ansi-blue-fg\">:</span>\n<span class=\"ansi-green-fg\">-&gt; 3911</span><span class=\"ansi-red-fg\">             model.load_adapter(\n</span><span class=\"ansi-green-intense-fg ansi-bold\">   3912</span>                 _adapter_model_path<span class=\"ansi-blue-fg\">,</span>\n<span class=\"ansi-green-intense-fg ansi-bold\">   3913</span>                 adapter_name<span class=\"ansi-blue-fg\">=</span>adapter_name<span class=\"ansi-blue-fg\">,</span>\n\n<span class=\"ansi-green-fg\">/databricks/python/lib/python3.8/site-packages/transformers/integrations/peft.py</span> in <span class=\"ansi-cyan-fg\">load_adapter</span><span class=\"ansi-blue-fg\">(self, peft_model_id, adapter_name, revision, token, device_map, max_memory, offload_folder, offload_index, peft_config, adapter_state_dict, adapter_kwargs)</span>\n<span class=\"ansi-green-intense-fg ansi-bold\">    134</span>                 <span class=\"ansi-red-fg\">`</span>find_adapter_config_file<span class=\"ansi-red-fg\">`</span> method<span class=\"ansi-blue-fg\">.</span>\n<span class=\"ansi-green-intense-fg ansi-bold\">    135</span>         &#34;&#34;&#34;\n<span class=\"ansi-green-fg\">--&gt; 136</span><span class=\"ansi-red-fg\">         </span>check_peft_version<span class=\"ansi-blue-fg\">(</span>min_version<span class=\"ansi-blue-fg\">=</span>MIN_PEFT_VERSION<span class=\"ansi-blue-fg\">)</span>\n<span class=\"ansi-green-intense-fg ansi-bold\">    137</span> \n<span class=\"ansi-green-intense-fg ansi-bold\">    138</span>         adapter_name <span class=\"ansi-blue-fg\">=</span> adapter_name <span class=\"ansi-green-fg\">if</span> adapter_name <span class=\"ansi-green-fg\">is</span> <span class=\"ansi-green-fg\">not</span> <span class=\"ansi-green-fg\">None</span> <span class=\"ansi-green-fg\">else</span> <span class=\"ansi-blue-fg\">&#34;default&#34;</span>\n\n<span class=\"ansi-green-fg\">/databricks/python/lib/python3.8/site-packages/transformers/utils/peft_utils.py</span> in <span class=\"ansi-cyan-fg\">check_peft_version</span><span class=\"ansi-blue-fg\">(min_version)</span>\n<span class=\"ansi-green-intense-fg ansi-bold\">    120</span> \n<span class=\"ansi-green-intense-fg ansi-bold\">    121</span>     <span class=\"ansi-green-fg\">if</span> <span class=\"ansi-green-fg\">not</span> is_peft_version_compatible<span class=\"ansi-blue-fg\">:</span>\n<span class=\"ansi-green-fg\">--&gt; 122</span><span class=\"ansi-red-fg\">         raise ValueError(\n</span><span class=\"ansi-green-intense-fg ansi-bold\">    123</span>             <span class=\"ansi-blue-fg\">f&#34;The version of PEFT you are using is not compatible, please use a version that is greater&#34;</span>\n<span class=\"ansi-green-intense-fg ansi-bold\">    124</span>             <span class=\"ansi-blue-fg\">f&#34; than {min_version}&#34;</span>\n\n<span class=\"ansi-red-fg\">ValueError</span>: The version of PEFT you are using is not compatible, please use a version that is greater than 0.5.0</div>",
       "errorSummary": "<span class=\"ansi-red-fg\">ValueError</span>: The version of PEFT you are using is not compatible, please use a version that is greater than 0.5.0",
       "errorTraceType": "html",
       "metadata": {},
       "type": "ipynbError"
      }
     },
     "output_type": "display_data"
    }
   ],
   "source": [
    "### Retrieving PEFT trained model in case of saving in top cell\n",
    "###peft_model = T5ForConditionalGeneration.from_pretrained(\"XXX\")"
   ]
  },
  {
   "cell_type": "code",
   "execution_count": 0,
   "metadata": {
    "application/vnd.databricks.v1+cell": {
     "cellMetadata": {
      "byteLimit": 2048000,
      "rowLimit": 10000
     },
     "inputWidgets": {},
     "nuid": "c91463cf-2668-4590-a302-42115b669afe",
     "showTitle": false,
     "title": ""
    }
   },
   "outputs": [
    {
     "output_type": "display_data",
     "data": {
      "text/html": [
       "<style scoped>\n",
       "  .ansiout {\n",
       "    display: block;\n",
       "    unicode-bidi: embed;\n",
       "    white-space: pre-wrap;\n",
       "    word-wrap: break-word;\n",
       "    word-break: break-all;\n",
       "    font-family: \"Menlo\", \"Monaco\", \"Consolas\", \"Ubuntu Mono\", \"Source Code Pro\", monospace;\n",
       "    font-size: 13px;\n",
       "    color: #555;\n",
       "    margin-left: 4px;\n",
       "    line-height: 19px;\n",
       "  }\n",
       "</style>\n",
       "<div class=\"ansiout\">___________________________________________________________________________________________________\n",
       "Baseline Human Summary: #Person1# teaches #Person2# how to upgrade software and hardware in #Person2#&#39;s system.\n",
       "___________________________________________________________________________________________________\n",
       "Original model: #Person1: I&#39;m thinking about upgrading your computer.\n",
       "___________________________________________________________________________________________________\n",
       "PEFT model: #Person1#: Have you considered upgrading your computer? #P Person2: Yes, I&#39;m not sure what exactly I would need. #Person1: You could also consider adding a painting program to your software. #Person2: I&#39;d like to make up my own flyers and banners for advertising. #Person1: I&#39;d like to make up my own flyers and banners for advertising. #Person2: No, I don&#39;t have a CD-ROM drive. #Person1#: You could also consider adding a CD-ROM drive.\n",
       "</div>"
      ]
     },
     "metadata": {
      "application/vnd.databricks.v1+output": {
       "addedWidgets": {},
       "arguments": {},
       "data": "<div class=\"ansiout\">___________________________________________________________________________________________________\nBaseline Human Summary: #Person1# teaches #Person2# how to upgrade software and hardware in #Person2#&#39;s system.\n___________________________________________________________________________________________________\nOriginal model: #Person1: I&#39;m thinking about upgrading your computer.\n___________________________________________________________________________________________________\nPEFT model: #Person1#: Have you considered upgrading your computer? #P Person2: Yes, I&#39;m not sure what exactly I would need. #Person1: You could also consider adding a painting program to your software. #Person2: I&#39;d like to make up my own flyers and banners for advertising. #Person1: I&#39;d like to make up my own flyers and banners for advertising. #Person2: No, I don&#39;t have a CD-ROM drive. #Person1#: You could also consider adding a CD-ROM drive.\n</div>",
       "datasetInfos": [],
       "metadata": {},
       "removedWidgets": [],
       "type": "html"
      }
     },
     "output_type": "display_data"
    }
   ],
   "source": [
    "### Now comparing the original model and PEFT model\n",
    "index = 200\n",
    "dialogue = dataset['test'][index]['dialogue']\n",
    "human_baseline_summary = dataset['test'][index]['summary']\n",
    "\n",
    "prompt = f\"\"\"\n",
    "Summarize the following conversation.\n",
    "\n",
    "{dialogue}\n",
    "\n",
    "Summary:\n",
    "\"\"\"\n",
    "\n",
    "input_ids = tokenizer(prompt, return_tensors='pt').input_ids\n",
    "original_model_output = original_model.generate(input_ids = input_ids, generation_config = GenerationConfig(max_new_tokens=200, num_beams=1))\n",
    "original_model_text_output = tokenizer.decode(original_model_output[0], skip_special_tokens= True)\n",
    "\n",
    "peft_model_output = peft_model.generate(input_ids = input_ids, generation_config = GenerationConfig(max_new_tokens=200, num_beams=1))\n",
    "peft_model_text_output = tokenizer.decode(peft_model_output[0], skip_special_tokens= True)\n",
    "\n",
    "\n",
    "print(dash_line)\n",
    "print(f'Baseline Human Summary:',human_baseline_summary)\n",
    "print(dash_line)\n",
    "print(f'Original model:',original_model_text_output)\n",
    "print(dash_line)\n",
    "print(f'PEFT model:',peft_model_text_output)"
   ]
  },
  {
   "cell_type": "code",
   "execution_count": 0,
   "metadata": {
    "application/vnd.databricks.v1+cell": {
     "cellMetadata": {
      "byteLimit": 2048000,
      "rowLimit": 10000
     },
     "inputWidgets": {},
     "nuid": "0d0c127f-9154-4e25-b193-6af7ec8b63ec",
     "showTitle": false,
     "title": ""
    }
   },
   "outputs": [
    {
     "output_type": "display_data",
     "data": {
      "text/html": [
       "<style scoped>\n",
       "  .ansiout {\n",
       "    display: block;\n",
       "    unicode-bidi: embed;\n",
       "    white-space: pre-wrap;\n",
       "    word-wrap: break-word;\n",
       "    word-break: break-all;\n",
       "    font-family: \"Menlo\", \"Monaco\", \"Consolas\", \"Ubuntu Mono\", \"Source Code Pro\", monospace;\n",
       "    font-size: 13px;\n",
       "    color: #555;\n",
       "    margin-left: 4px;\n",
       "    line-height: 19px;\n",
       "  }\n",
       "</style>\n",
       "<div class=\"ansiout\">Out[42]: </div>"
      ]
     },
     "metadata": {
      "application/vnd.databricks.v1+output": {
       "addedWidgets": {},
       "arguments": {},
       "data": "<div class=\"ansiout\">Out[42]: </div>",
       "datasetInfos": [],
       "metadata": {},
       "removedWidgets": [],
       "type": "html"
      }
     },
     "output_type": "display_data"
    },
    {
     "output_type": "display_data",
     "data": {
      "text/html": [
       "<div>\n",
       "<style scoped>\n",
       "    .dataframe tbody tr th:only-of-type {\n",
       "        vertical-align: middle;\n",
       "    }\n",
       "\n",
       "    .dataframe tbody tr th {\n",
       "        vertical-align: top;\n",
       "    }\n",
       "\n",
       "    .dataframe thead th {\n",
       "        text-align: right;\n",
       "    }\n",
       "</style>\n",
       "<table border=\"1\" class=\"dataframe\">\n",
       "  <thead>\n",
       "    <tr style=\"text-align: right;\">\n",
       "      <th></th>\n",
       "      <th>human_baseline_summaries</th>\n",
       "      <th>original_model_summaries</th>\n",
       "      <th>peft_model_summaries</th>\n",
       "    </tr>\n",
       "  </thead>\n",
       "  <tbody>\n",
       "    <tr>\n",
       "      <th>0</th>\n",
       "      <td>Ms. Dawson helps #Person1# to write a memo to ...</td>\n",
       "      <td>The memo is a memo to all employees.</td>\n",
       "      <td>Memo to all employees.</td>\n",
       "    </tr>\n",
       "    <tr>\n",
       "      <th>1</th>\n",
       "      <td>In order to prevent employees from wasting tim...</td>\n",
       "      <td>New memo issued to all employees today is due ...</td>\n",
       "      <td>Employees who use Instant Messaging will be pl...</td>\n",
       "    </tr>\n",
       "    <tr>\n",
       "      <th>2</th>\n",
       "      <td>Ms. Dawson takes a dictation for #Person1# abo...</td>\n",
       "      <td>Employees who use Instant Message will be subj...</td>\n",
       "      <td>This memo will be distributed to all employees...</td>\n",
       "    </tr>\n",
       "    <tr>\n",
       "      <th>3</th>\n",
       "      <td>#Person2# arrives late because of traffic jam....</td>\n",
       "      <td>The traffic jam in the city is bad for the env...</td>\n",
       "      <td>Taking public transport to work is a good option.</td>\n",
       "    </tr>\n",
       "    <tr>\n",
       "      <th>4</th>\n",
       "      <td>#Person2# decides to follow #Person1#'s sugges...</td>\n",
       "      <td>People are worried about their commute.</td>\n",
       "      <td>The public transport system is good for the en...</td>\n",
       "    </tr>\n",
       "    <tr>\n",
       "      <th>5</th>\n",
       "      <td>#Person2# complains to #Person1# about the tra...</td>\n",
       "      <td>The traffic is getting worse and worse.</td>\n",
       "      <td>#Person1: I'm here! #Person1: I'm finally here...</td>\n",
       "    </tr>\n",
       "    <tr>\n",
       "      <th>6</th>\n",
       "      <td>#Person1# tells Kate that Masha and Hero get d...</td>\n",
       "      <td>#Person1: Masha and Hero are getting divorced.</td>\n",
       "      <td>Masha and Hero are getting divorced.</td>\n",
       "    </tr>\n",
       "    <tr>\n",
       "      <th>7</th>\n",
       "      <td>#Person1# tells Kate that Masha and Hero are g...</td>\n",
       "      <td>Masha and Hero are getting divorced.</td>\n",
       "      <td>#Person1#: Masha and Hero are getting divorce....</td>\n",
       "    </tr>\n",
       "    <tr>\n",
       "      <th>8</th>\n",
       "      <td>#Person1# and Kate talk about the divorce betw...</td>\n",
       "      <td>Masha and Hero are getting divorced.</td>\n",
       "      <td>Masha and Hero are getting divorced.</td>\n",
       "    </tr>\n",
       "    <tr>\n",
       "      <th>9</th>\n",
       "      <td>#Person1# and Brian are at the birthday party ...</td>\n",
       "      <td>Brian's birthday is coming and he's a little t...</td>\n",
       "      <td>Brian's birthday is coming up.</td>\n",
       "    </tr>\n",
       "  </tbody>\n",
       "</table>\n",
       "</div>"
      ]
     },
     "metadata": {
      "application/vnd.databricks.v1+output": {
       "addedWidgets": {},
       "arguments": {},
       "data": "<div>\n<style scoped>\n    .dataframe tbody tr th:only-of-type {\n        vertical-align: middle;\n    }\n\n    .dataframe tbody tr th {\n        vertical-align: top;\n    }\n\n    .dataframe thead th {\n        text-align: right;\n    }\n</style>\n<table border=\"1\" class=\"dataframe\">\n  <thead>\n    <tr style=\"text-align: right;\">\n      <th></th>\n      <th>human_baseline_summaries</th>\n      <th>original_model_summaries</th>\n      <th>peft_model_summaries</th>\n    </tr>\n  </thead>\n  <tbody>\n    <tr>\n      <th>0</th>\n      <td>Ms. Dawson helps #Person1# to write a memo to ...</td>\n      <td>The memo is a memo to all employees.</td>\n      <td>Memo to all employees.</td>\n    </tr>\n    <tr>\n      <th>1</th>\n      <td>In order to prevent employees from wasting tim...</td>\n      <td>New memo issued to all employees today is due ...</td>\n      <td>Employees who use Instant Messaging will be pl...</td>\n    </tr>\n    <tr>\n      <th>2</th>\n      <td>Ms. Dawson takes a dictation for #Person1# abo...</td>\n      <td>Employees who use Instant Message will be subj...</td>\n      <td>This memo will be distributed to all employees...</td>\n    </tr>\n    <tr>\n      <th>3</th>\n      <td>#Person2# arrives late because of traffic jam....</td>\n      <td>The traffic jam in the city is bad for the env...</td>\n      <td>Taking public transport to work is a good option.</td>\n    </tr>\n    <tr>\n      <th>4</th>\n      <td>#Person2# decides to follow #Person1#'s sugges...</td>\n      <td>People are worried about their commute.</td>\n      <td>The public transport system is good for the en...</td>\n    </tr>\n    <tr>\n      <th>5</th>\n      <td>#Person2# complains to #Person1# about the tra...</td>\n      <td>The traffic is getting worse and worse.</td>\n      <td>#Person1: I'm here! #Person1: I'm finally here...</td>\n    </tr>\n    <tr>\n      <th>6</th>\n      <td>#Person1# tells Kate that Masha and Hero get d...</td>\n      <td>#Person1: Masha and Hero are getting divorced.</td>\n      <td>Masha and Hero are getting divorced.</td>\n    </tr>\n    <tr>\n      <th>7</th>\n      <td>#Person1# tells Kate that Masha and Hero are g...</td>\n      <td>Masha and Hero are getting divorced.</td>\n      <td>#Person1#: Masha and Hero are getting divorce....</td>\n    </tr>\n    <tr>\n      <th>8</th>\n      <td>#Person1# and Kate talk about the divorce betw...</td>\n      <td>Masha and Hero are getting divorced.</td>\n      <td>Masha and Hero are getting divorced.</td>\n    </tr>\n    <tr>\n      <th>9</th>\n      <td>#Person1# and Brian are at the birthday party ...</td>\n      <td>Brian's birthday is coming and he's a little t...</td>\n      <td>Brian's birthday is coming up.</td>\n    </tr>\n  </tbody>\n</table>\n</div>",
       "datasetInfos": [],
       "metadata": {},
       "removedWidgets": [],
       "textData": null,
       "type": "htmlSandbox"
      }
     },
     "output_type": "display_data"
    }
   ],
   "source": [
    "##### Evaluate the PEFT model Quantatively (with ROUGE metric)\n",
    "rouge = evaluate.load('rouge')\n",
    "\n",
    "dialogue = dataset['test'][0:10]['dialogue']\n",
    "human_baseline_summary = dataset['test'][0:10]['summary']\n",
    "\n",
    "original_model_summaries = []\n",
    "peft_model_summaries = []\n",
    "\n",
    "for _,dialogue in enumerate(dialogues):\n",
    "  prompt = f\"\"\"\n",
    "  Summarize the following conversation.\n",
    "  \n",
    "  {dialogue}\n",
    "  \n",
    "  Summary:\n",
    "  \"\"\"\n",
    "\n",
    "  input_ids = tokenizer(prompt, return_tensors='pt').input_ids\n",
    "  original_model_output = original_model.generate(input_ids = input_ids, generation_config = GenerationConfig(max_new_tokens=200))\n",
    "  original_model_text_output = tokenizer.decode(original_model_output[0], skip_special_tokens= True)\n",
    "  original_model_summaries.append(original_model_text_output)\n",
    "\n",
    "  peft_model_output = peft_model.generate(input_ids = input_ids, generation_config = GenerationConfig(max_new_tokens=200))\n",
    "  peft_model_text_output = tokenizer.decode(peft_model_output[0], skip_special_tokens= True)\n",
    "  peft_model_summaries.append(peft_model_text_output)\n",
    "\n",
    "zipped_summaries = list(zip(human_baseline_summary, original_model_summaries, peft_model_summaries))\n",
    "df = pd.DataFrame(zipped_summaries, columns=['human_baseline_summaries', 'original_model_summaries', 'peft_model_summaries'])\n",
    "df"
   ]
  },
  {
   "cell_type": "code",
   "execution_count": 0,
   "metadata": {
    "application/vnd.databricks.v1+cell": {
     "cellMetadata": {
      "byteLimit": 2048000,
      "rowLimit": 10000
     },
     "inputWidgets": {},
     "nuid": "94653123-6f1d-4525-a041-47c42bbdf500",
     "showTitle": false,
     "title": ""
    }
   },
   "outputs": [
    {
     "output_type": "display_data",
     "data": {
      "text/html": [
       "<style scoped>\n",
       "  .ansiout {\n",
       "    display: block;\n",
       "    unicode-bidi: embed;\n",
       "    white-space: pre-wrap;\n",
       "    word-wrap: break-word;\n",
       "    word-break: break-all;\n",
       "    font-family: \"Menlo\", \"Monaco\", \"Consolas\", \"Ubuntu Mono\", \"Source Code Pro\", monospace;\n",
       "    font-size: 13px;\n",
       "    color: #555;\n",
       "    margin-left: 4px;\n",
       "    line-height: 19px;\n",
       "  }\n",
       "</style>\n",
       "<div class=\"ansiout\">Original model: \n",
       "{&#39;rouge1&#39;: 0.2986568200823878, &#39;rouge2&#39;: 0.12442946838108129, &#39;rougeL&#39;: 0.2621560974925147, &#39;rougeLsum&#39;: 0.26489234272875994}\n",
       "PEFT model: \n",
       "{&#39;rouge1&#39;: 0.21421351543793274, &#39;rouge2&#39;: 0.07884470046812406, &#39;rougeL&#39;: 0.18811392297492527, &#39;rougeLsum&#39;: 0.18838077298577405}\n",
       "</div>"
      ]
     },
     "metadata": {
      "application/vnd.databricks.v1+output": {
       "addedWidgets": {},
       "arguments": {},
       "data": "<div class=\"ansiout\">Original model: \n{&#39;rouge1&#39;: 0.2986568200823878, &#39;rouge2&#39;: 0.12442946838108129, &#39;rougeL&#39;: 0.2621560974925147, &#39;rougeLsum&#39;: 0.26489234272875994}\nPEFT model: \n{&#39;rouge1&#39;: 0.21421351543793274, &#39;rouge2&#39;: 0.07884470046812406, &#39;rougeL&#39;: 0.18811392297492527, &#39;rougeLsum&#39;: 0.18838077298577405}\n</div>",
       "datasetInfos": [],
       "metadata": {},
       "removedWidgets": [],
       "type": "html"
      }
     },
     "output_type": "display_data"
    }
   ],
   "source": [
    "original_model_Results = rouge.compute(predictions= original_model_summaries, references = human_baseline_summary[0:len(original_model_summaries)],\n",
    "                                       use_aggregator = True, use_stemmer= True,)\n",
    "peft_model_results = rouge.compute(predictions= peft_model_summaries, references = human_baseline_summary[0:len(peft_model_summaries)],\n",
    "                                       use_aggregator = True, use_stemmer= True,)\n",
    "\n",
    "print('Original model: ')\n",
    "print(original_model_Results)\n",
    "print('PEFT model: ')\n",
    "print(peft_model_results)"
   ]
  },
  {
   "cell_type": "code",
   "execution_count": 0,
   "metadata": {
    "application/vnd.databricks.v1+cell": {
     "cellMetadata": {
      "byteLimit": 2048000,
      "rowLimit": 10000
     },
     "inputWidgets": {},
     "nuid": "b9f38712-bada-49a2-bf54-da96a97c27a8",
     "showTitle": false,
     "title": ""
    }
   },
   "outputs": [
    {
     "output_type": "display_data",
     "data": {
      "text/html": [
       "<style scoped>\n",
       "  .ansiout {\n",
       "    display: block;\n",
       "    unicode-bidi: embed;\n",
       "    white-space: pre-wrap;\n",
       "    word-wrap: break-word;\n",
       "    word-break: break-all;\n",
       "    font-family: \"Menlo\", \"Monaco\", \"Consolas\", \"Ubuntu Mono\", \"Source Code Pro\", monospace;\n",
       "    font-size: 13px;\n",
       "    color: #555;\n",
       "    margin-left: 4px;\n",
       "    line-height: 19px;\n",
       "  }\n",
       "</style>\n",
       "<div class=\"ansiout\">Absolute percentage improvement of PEFT model over Human baseline\n",
       "rouge1:-8.44%\n",
       "rouge2:-4.56%\n",
       "rougeL:-7.40%\n",
       "rougeLsum:-7.65%\n",
       "</div>"
      ]
     },
     "metadata": {
      "application/vnd.databricks.v1+output": {
       "addedWidgets": {},
       "arguments": {},
       "data": "<div class=\"ansiout\">Absolute percentage improvement of PEFT model over Human baseline\nrouge1:-8.44%\nrouge2:-4.56%\nrougeL:-7.40%\nrougeLsum:-7.65%\n</div>",
       "datasetInfos": [],
       "metadata": {},
       "removedWidgets": [],
       "type": "html"
      }
     },
     "output_type": "display_data"
    }
   ],
   "source": [
    "print('Absolute percentage improvement of PEFT model over Human baseline')\n",
    "improvement = (np.array(list(peft_model_results.values()))) - np.array(list(original_model_Results.values()))\n",
    "for key, value in zip(peft_model_results.keys(), improvement):\n",
    "  print(f'{key}:{value*100:.2f}%')"
   ]
  },
  {
   "cell_type": "code",
   "execution_count": 0,
   "metadata": {
    "application/vnd.databricks.v1+cell": {
     "cellMetadata": {
      "byteLimit": 2048000,
      "rowLimit": 10000
     },
     "inputWidgets": {},
     "nuid": "24d8bd74-7537-447f-bfbe-5cf93a265493",
     "showTitle": false,
     "title": ""
    }
   },
   "outputs": [
    {
     "output_type": "display_data",
     "data": {
      "text/html": [
       "<style scoped>\n",
       "  .ansiout {\n",
       "    display: block;\n",
       "    unicode-bidi: embed;\n",
       "    white-space: pre-wrap;\n",
       "    word-wrap: break-word;\n",
       "    word-break: break-all;\n",
       "    font-family: \"Menlo\", \"Monaco\", \"Consolas\", \"Ubuntu Mono\", \"Source Code Pro\", monospace;\n",
       "    font-size: 13px;\n",
       "    color: #555;\n",
       "    margin-left: 4px;\n",
       "    line-height: 19px;\n",
       "  }\n",
       "</style>\n",
       "<div class=\"ansiout\">Absolute percentage improvement of PEFT model over Instruct model\n",
       "rouge1:0.81%\n",
       "rouge2:-1.25%\n",
       "rougeL:-0.39%\n",
       "rougeLsum:-0.33%\n",
       "</div>"
      ]
     },
     "metadata": {
      "application/vnd.databricks.v1+output": {
       "addedWidgets": {},
       "arguments": {},
       "data": "<div class=\"ansiout\">Absolute percentage improvement of PEFT model over Instruct model\nrouge1:0.81%\nrouge2:-1.25%\nrougeL:-0.39%\nrougeLsum:-0.33%\n</div>",
       "datasetInfos": [],
       "metadata": {},
       "removedWidgets": [],
       "type": "html"
      }
     },
     "output_type": "display_data"
    }
   ],
   "source": [
    "print('Absolute percentage improvement of PEFT model over Instruct model')\n",
    "improvement = (np.array(list(peft_model_results.values()))) - np.array(list(instruct_model_results.values()))\n",
    "for key, value in zip(peft_model_results.keys(), improvement):\n",
    "  print(f'{key}:{value*100:.2f}%')"
   ]
  },
  {
   "cell_type": "markdown",
   "metadata": {
    "application/vnd.databricks.v1+cell": {
     "cellMetadata": {},
     "inputWidgets": {},
     "nuid": "19984ebd-3201-42a2-a607-a1a2f91d847b",
     "showTitle": false,
     "title": ""
    }
   },
   "source": [
    "#### Conclusion: PEFT model didn't work way better than instruct model which indicates that training full model tuning is not necessary. PEFT is working faster & less memory consuming incomparison to the instruct model"
   ]
  },
  {
   "cell_type": "code",
   "execution_count": 0,
   "metadata": {
    "application/vnd.databricks.v1+cell": {
     "cellMetadata": {},
     "inputWidgets": {},
     "nuid": "55e19b4e-347f-44b1-b72e-2e306b64a3b8",
     "showTitle": false,
     "title": ""
    }
   },
   "outputs": [],
   "source": []
  }
 ],
 "metadata": {
  "application/vnd.databricks.v1+notebook": {
   "dashboards": [],
   "environmentMetadata": null,
   "language": "python",
   "notebookMetadata": {
    "mostRecentlyExecutedCommandWithImplicitDF": {
     "commandId": 3405247761574283,
     "dataframes": [
      "_sqldf"
     ]
    },
    "pythonIndentUnit": 2
   },
   "notebookName": "Gen AI : Fine tune dialogue summarization",
   "widgets": {}
  }
 },
 "nbformat": 4,
 "nbformat_minor": 0
}
